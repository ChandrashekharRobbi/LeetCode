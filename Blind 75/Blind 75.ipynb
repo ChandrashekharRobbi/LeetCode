{
 "cells": [
  {
   "cell_type": "code",
   "execution_count": 1,
   "id": "e054bddd",
   "metadata": {},
   "outputs": [
    {
     "name": "stdout",
     "output_type": "stream",
     "text": [
      "This Function is Created by Chandrashekhar Robbi.\n",
      "Note this function is especially created for my leet code solving purposes \n",
      "It takes name of the problem and return leetcode link and it has features like create array which has markdown, comment and delete after executing and many more :)\n"
     ]
    }
   ],
   "source": [
    "%run leetcode_function.py\n",
    "z = LeetFunction()"
   ]
  },
  {
   "cell_type": "code",
   "execution_count": 5,
   "id": "fbca19da",
   "metadata": {},
   "outputs": [],
   "source": [
    "from typing import List,Optional\n",
    "import heapq\n",
    "import math\n",
    "class ListNode:\n",
    "    def __init__(self, val=0, next=None):\n",
    "        self.val = val\n",
    "        self.next = next"
   ]
  },
  {
   "cell_type": "markdown",
   "id": "25b69014",
   "metadata": {},
   "source": [
    "# Blind 75 \n",
    "\n",
    "#### Make the below link workable?? [Click Me](https://nbviewer.org/github/ChandrashekharRobbi/LeetCode-Using-Python/blob/main/Blind%2075/Blind%2075.ipynb?flush_cache=True)\n",
    "\n",
    "I will be solving blind 75 questions from [NeetCode Website](https://neetcode.io/practice)\n",
    "\n",
    "1. ✅ [Contains Duplicate](#Contains-Duplicate)           [<a href='https://leetcode.com/problems/contains-duplicate' style='color:black'>Link</a>]\n",
    "2. ✅ [Valid Anagram](#Valid-Anagram)           [<a href='https://leetcode.com/problems/valid-anagram' style='color:black'>Link</a>]\n",
    "3. ✅ [Two Sum](#Two-Sum)           [<a href='https://leetcode.com/problems/two-sum' style='color:black'>Link</a>]\n",
    "4. ✅ [Group Anagrams](#Group-Anagrams)           [<a href='https://leetcode.com/problems/group-anagrams' style='color:black'>Link</a>]\n",
    "5. ✅ [Top K Frequent Elements](#Top-K-Frequent-Elements)           [<a href='https://leetcode.com/problems/top-k-frequent-elements' style='color:black'>Link</a>]\n",
    "6. ✅ [Product of Array Except Self](#Product-of-Array-Except-Self)           [<a href='https://leetcode.com/problems/product-of-array-except-self' style='color:black'>Link</a>]\n",
    "7. ✅ [Longest Consecutive Sequence](#Longest-Consecutive-Sequence)           [<a href='https://leetcode.com/problems/longest-consecutive-sequence' style='color:black'>Link</a>]\n",
    "8. ✅ [Valid Palindrome](#Valid-Palindrome)           [<a href='https://leetcode.com/problems/valid-palindrome' style='color:black'>Link</a>]\n",
    "9. ✅ [3Sum](#3Sum)           [<a href='https://leetcode.com/problems/3sum' style='color:black'>Link</a>]\n",
    "10. ✅ [Container With Most Water](#Container-With-Most-Water)           [<a href='https://leetcode.com/problems/container-with-most-water' style='color:black'>Link</a>]\n",
    "1. ✅ [Best Time to Buy and Sell Stock](#Best-Time-to-Buy-and-Sell-Stock)           [<a href='https://leetcode.com/problems/best-time-to-buy-and-sell-stock' style='color:black'>Link</a>]\n",
    "1. ✅ [Longest Substring Without Repeating Characters](#Longest-Substring-Without-Repeating-Characters)           [<a href='https://leetcode.com/problems/longest-substring-without-repeating-characters' style='color:black'>Link</a>]\n",
    "1. ✅ [Longest Repeating Character Replacement](#Longest-Repeating-Character-Replacement)           [<a href='https://leetcode.com/problems/longest-repeating-character-replacement' style='color:black'>Link</a>]\n",
    "1. ✅ [Minimum Window Substring](#Minimum-Window-Substring)           [<a href='https://leetcode.com/problems/minimum-window-substring' style='color:black'>Link</a>]\n",
    "1. ✅ [Valid Parentheses](#Valid-Parentheses)           [<a href='https://leetcode.com/problems/valid-parentheses' style='color:black'>Link</a>]\n",
    "1. ✅ [ Find Minimum in Rotated Sorted Array](#Find-Minimum-in-Rotated-Sorted-Array)           [<a href='https://leetcode.com/problems/find-minimum-in-rotated-sorted-array' style='color:black'>Link</a>]\n",
    "1. ✅ [Search in Rotated Sorted Array](#Search-in-Rotated-Sorted-Array)           [<a href='https://leetcode.com/problems/search-in-rotated-sorted-array' style='color:black'>Link</a>]\n",
    "1. ✅ [Reverse Linked List](#Reverse-Linked-List)           [<a href='https://leetcode.com/problems/reverse-linked-list' style='color:black'>Link</a>]\n",
    "1. ✅ [Merge Two Sorted Lists](#Merge-Two-Sorted-Lists)           [<a href='https://leetcode.com/problems/merge-two-sorted-lists' style='color:black'>Link</a>]\n",
    "1. ✅ [Linked List Cycle](#Linked-List-Cycle)           [<a href='https://leetcode.com/problems/linked-list-cycle' style='color:black'>Link</a>]"
   ]
  },
  {
   "cell_type": "markdown",
   "id": "ce8c5270",
   "metadata": {},
   "source": [
    "## Contains Duplicate\n",
    "\n",
    " > <font color=\"green\"> Leetcode Link to Contains Duplicate [Link](https://leetcode.com/problems/contains-duplicate) <font/>\n",
    "\n",
    "* Approach 1: Using HashSet\n",
    "* Time Complexity $ O(n) $"
   ]
  },
  {
   "cell_type": "code",
   "execution_count": 3,
   "id": "228882b6",
   "metadata": {},
   "outputs": [],
   "source": [
    "def containsDuplicate1(nums):\n",
    "    mp = {}\n",
    "    for i in nums:\n",
    "        if i in mp:\n",
    "            mp[i] += 1\n",
    "        else:\n",
    "            mp[i] = 1\n",
    "    for i in nums:\n",
    "        if mp[i] > 1:\n",
    "            return True\n",
    "    return False\n",
    "            "
   ]
  },
  {
   "cell_type": "markdown",
   "id": "ef09833d",
   "metadata": {},
   "source": [
    "* Approach 2: Using Nested For Loops\n",
    "* Time Complexity  $𝑂(n ^ 2)$"
   ]
  },
  {
   "cell_type": "code",
   "execution_count": 4,
   "id": "b7502101",
   "metadata": {},
   "outputs": [],
   "source": [
    "def containsDuplicate2(nums):\n",
    "    n = len(nums)\n",
    "    for i in range(n):\n",
    "        for j in range(i + 1, n):\n",
    "            if nums[i] == nums[j]:\n",
    "                return True\n",
    "    return False"
   ]
  },
  {
   "cell_type": "markdown",
   "id": "b569d3d2",
   "metadata": {},
   "source": [
    "* Approach 3: Using set()\n",
    "* Time Complexity  $𝑂(n)$"
   ]
  },
  {
   "cell_type": "code",
   "execution_count": 5,
   "id": "061e24bf",
   "metadata": {},
   "outputs": [],
   "source": [
    "class Solution:\n",
    "    def containsDuplicate3(self, nums) -> bool:\n",
    "        # set up an hashmap\n",
    "        seen = set()\n",
    "        for i in nums:\n",
    "            if i in seen:\n",
    "                return True\n",
    "            seen.add(i)\n",
    "        return False"
   ]
  },
  {
   "cell_type": "markdown",
   "id": "78aa5559",
   "metadata": {},
   "source": [
    "* Approach 4: Using sorting\n",
    "* Time Complexity  $𝑂(n logn)$"
   ]
  },
  {
   "cell_type": "code",
   "execution_count": 6,
   "id": "79273eb7",
   "metadata": {},
   "outputs": [],
   "source": [
    "def containsDuplicate4(self, nums) -> bool:\n",
    "    # set up an sorting\n",
    "    nums.sort()\n",
    "    for i in range(len(nums)-1):\n",
    "        if nums[i] == nums[i + 1]:\n",
    "            return True\n",
    "    return False"
   ]
  },
  {
   "cell_type": "markdown",
   "id": "3d7e3e49",
   "metadata": {},
   "source": [
    "## Valid Anagram\n",
    "\n",
    " > <font color=\"green\"> Leetcode Link to Valid Anagram [Link](https://leetcode.com/problems/valid-anagram) <font/>\n",
    "\n",
    "* Approach 1: HashMap\n",
    "* Time Complexity $ O(n) $"
   ]
  },
  {
   "cell_type": "code",
   "execution_count": 7,
   "id": "b811eff4",
   "metadata": {},
   "outputs": [],
   "source": [
    "class Solution:\n",
    "    def isAnagram1(self, s: str, t: str) -> bool:\n",
    "        # approach 1 using hashmap\n",
    "        if len(s) != len(t):\n",
    "            return False\n",
    "        mp1 = {}\n",
    "        mp2 = {}\n",
    "        for i in s:\n",
    "            if i in mp1:\n",
    "                mp1[i] += 1\n",
    "            else:\n",
    "                mp1[i] = 1\n",
    "        \n",
    "        for i in t:\n",
    "            if i in mp2:\n",
    "                mp2[i] += 1\n",
    "            else:\n",
    "                mp2[i] = 1\n",
    "        if mp1 == mp2:\n",
    "            return True\n",
    "        else:\n",
    "            return False\n",
    "        "
   ]
  },
  {
   "cell_type": "markdown",
   "id": "754facde",
   "metadata": {},
   "source": [
    "* Approach 2: Using Hashmap Slightly improved than previous\n",
    "* Time Complexity $ O(n) $"
   ]
  },
  {
   "cell_type": "code",
   "execution_count": 8,
   "id": "61b19d9e",
   "metadata": {},
   "outputs": [],
   "source": [
    "class Solution:\n",
    "    def isAnagram2(self, s: str, t: str) -> bool:\n",
    "        # approach 1 using hashmap\n",
    "        if len(s) != len(t):\n",
    "            return False\n",
    "        mp1 = {}\n",
    "        for i in s:\n",
    "            if i in mp1:\n",
    "                mp1[i] += 1\n",
    "            else:\n",
    "                mp1[i] = 1\n",
    "        for num in t:\n",
    "            if num in mp1:\n",
    "                mp1[num] -= 1\n",
    "                if mp1[num] < 0:\n",
    "                    return False\n",
    "            else:\n",
    "                return False\n",
    "        return True"
   ]
  },
  {
   "cell_type": "markdown",
   "id": "3d09ee3d",
   "metadata": {},
   "source": [
    "* Approach 3: Using Sorting\n",
    "* Time Complexity $ O(nlogn) $"
   ]
  },
  {
   "cell_type": "code",
   "execution_count": 9,
   "id": "2500ec3c",
   "metadata": {},
   "outputs": [],
   "source": [
    "def isAnagram3(s, t):\n",
    "    return sorted(s) == sorted(t)"
   ]
  },
  {
   "cell_type": "markdown",
   "id": "b8b5217f",
   "metadata": {},
   "source": [
    "## Two Sum\n",
    "\n",
    "> <font color=\"green\"> Leetcode Link to Two Sum [Link](https://leetcode.com/problems/two-sum) <font/>\n",
    "\n",
    "* Approach 1:Using Nested For loops\n",
    "* Time Complexity $ O(n ^ 2) $"
   ]
  },
  {
   "cell_type": "code",
   "execution_count": 10,
   "id": "cffb7986",
   "metadata": {},
   "outputs": [],
   "source": [
    "class Solution:\n",
    "    def twoSum(self, nums: List[int], target: int) -> List[int]:\n",
    "        # approach 1 nested for loops\n",
    "        ans = []\n",
    "        for i in range(len(nums)):\n",
    "            for j in range(i + 1, len(nums)):\n",
    "                if target - nums[j] == nums[i]:\n",
    "                    ans.append(i)\n",
    "                    ans.append(j)\n",
    "        return ans"
   ]
  },
  {
   "cell_type": "markdown",
   "id": "7565fd23",
   "metadata": {},
   "source": [
    "* Approach 2:Using Partial Hashmaps\n",
    "* Time Complexity $ O(n) $"
   ]
  },
  {
   "cell_type": "code",
   "execution_count": 11,
   "id": "b002869b",
   "metadata": {},
   "outputs": [],
   "source": [
    "class Solution:\n",
    "    def twoSum(self, nums: List[int], target: int) -> List[int]:\n",
    "        # approach 2 using partial hashmap\n",
    "        num_hash = {}\n",
    "        for i, num in enumerate(nums):\n",
    "            compliment = target - num\n",
    "            if compliment in num_hash:\n",
    "                return [num_hash[compliment], i]\n",
    "            num_hash[num] = i\n",
    "\n"
   ]
  },
  {
   "cell_type": "markdown",
   "id": "0363e586",
   "metadata": {},
   "source": [
    "## Group Anagrams\n",
    "\n",
    " > <font color=\"green\"> Leetcode Link to Group Anagrams [Link](https://leetcode.com/problems/group-anagrams) <font/>\n",
    "\n",
    "* Approach 1 : Using HashMap (using nested for loops\n",
    "* Time Complexity $ O(m * n log(n)) $"
   ]
  },
  {
   "cell_type": "code",
   "execution_count": 12,
   "id": "719192ac",
   "metadata": {},
   "outputs": [],
   "source": [
    "class Solution:\n",
    "    def groupAnagrams(self, strs: List[str]) -> List[List[str]]:\n",
    "        anagrams = defaultdict(list)\n",
    "        for s in strs:\n",
    "            sorted_s = \"\".join(sorted(s))\n",
    "            anagrams[sorted_s].append(s)\n",
    "        return anagrams.values()"
   ]
  },
  {
   "cell_type": "markdown",
   "id": "4809b30e",
   "metadata": {},
   "source": [
    "* Approach 2:Using HashMap(using ASCII values)\n",
    "* Time Complexity $ O(m * n) $"
   ]
  },
  {
   "cell_type": "code",
   "execution_count": 13,
   "id": "16183f06",
   "metadata": {},
   "outputs": [],
   "source": [
    "class Solution:\n",
    "    def groupAnagrams(self, strs: List[str]) -> List[List[str]]:\n",
    "        anagrams = defaultdict(list)\n",
    "        for s in strs:\n",
    "            count = [0] * 26\n",
    "            # increment the value in counter for each character\n",
    "            for c in s:\n",
    "                count[ord(c) - ord(\"a\")] += 1\n",
    "            # list cannot be keys\n",
    "            anagrams[tuple(count)].append(s)\n",
    "        return anagrams.values()"
   ]
  },
  {
   "cell_type": "markdown",
   "id": "1904b8ff",
   "metadata": {},
   "source": [
    "## Top K Frequent Elements\n",
    "\n",
    " > <font color=\"green\"> Leetcode Link to Top K Frequent Elements [Link](https://leetcode.com/problems/top-k-frequent-elements) <font/>\n",
    "\n",
    "* Approach 1: Using HashMap and Sorting\n",
    "* Time Complexity $ O(n logn) $"
   ]
  },
  {
   "cell_type": "code",
   "execution_count": 14,
   "id": "73159f72",
   "metadata": {},
   "outputs": [],
   "source": [
    "class Solution:\n",
    "    def topKFrequent(self, nums: List[int], k: int) -> List[int]:\n",
    "        # lets try with hashmap\n",
    "        frequency = defaultdict(int)\n",
    "        for i in nums:\n",
    "            frequency[i] += 1\n",
    "        print(frequency)\n",
    "        sorted_list = list(dict(sorted(frequency.items(), key=lambda item:item[1],reverse=True)).keys())\n",
    "        return sorted_list[:k]"
   ]
  },
  {
   "cell_type": "markdown",
   "id": "2f58b263",
   "metadata": {},
   "source": [
    "* Approach 2: Using Heapq Library\n",
    "* Time Complexity $ O(klogn) $"
   ]
  },
  {
   "cell_type": "code",
   "execution_count": 15,
   "id": "10c450af",
   "metadata": {},
   "outputs": [],
   "source": [
    "class Solution:\n",
    "    def topKFrequent(self, nums:List[int], k:int) -> List[int]:\n",
    "        # lets try with heap\n",
    "        # set the counter \n",
    "        freq = defaultdict(int)\n",
    "        for num in nums:\n",
    "            freq[num] += 1\n",
    "        heap = [(-count, num) for num, count in freq.items()] # - to make it as max heap\n",
    "        heapq.heapify(heap)\n",
    "        ans = [heapq.heappop(heap)[1] for _ in range(k)] # we only want values and not the count\n",
    "        return ans"
   ]
  },
  {
   "cell_type": "markdown",
   "id": "dd8a6107",
   "metadata": {},
   "source": [
    "* Approach 3: Using frequency as a key and number as the values\n",
    "* Time Complexity $ O(n) $"
   ]
  },
  {
   "cell_type": "code",
   "execution_count": 16,
   "id": "7b44d4b9",
   "metadata": {},
   "outputs": [],
   "source": [
    "class Solution:\n",
    "    def topKFrequent(self, nums:List[int],k:int) -> List[int]:\n",
    "        # lets try with effiecient time complexity\n",
    "        count = defaultdict(int)\n",
    "        freq = [[] for _ in range(len(nums) + 1)]\n",
    "        for num in nums:\n",
    "            count[num] += 1\n",
    "        for count, num in count.items():\n",
    "            freq[count].append(num)\n",
    "        res = []\n",
    "        for i in range(len(freq) - 1, 0, -1):\n",
    "            for n in freq[i]:\n",
    "                res.append(n)\n",
    "            if len(res) == k:\n",
    "                return res          "
   ]
  },
  {
   "cell_type": "markdown",
   "id": "d59d2c98",
   "metadata": {},
   "source": [
    "## Product of Array Except Self\n",
    "\n",
    " > <font color=\"green\"> Leetcode Link to Product of Array Except Self [Link](https://leetcode.com/problems/product-of-array-except-self) <font/>\n",
    "\n",
    "* Approach 1:Using Nested For loops\n",
    "* Time Complexity $ O(N ^ 2) $"
   ]
  },
  {
   "cell_type": "code",
   "execution_count": 17,
   "id": "b8f478d0",
   "metadata": {},
   "outputs": [],
   "source": [
    "class Solution:\n",
    "    def productExceptSelf(self, nums: List[int]) -> List[int]:\n",
    "        count = 0\n",
    "        ans = []\n",
    "        while count < len(nums):\n",
    "            maxnum = 1\n",
    "            for i in range(len(nums)):\n",
    "                if i != count:\n",
    "                    maxnum *= nums[i]\n",
    "            ans.append(maxnum)\n",
    "            count += 1\n",
    "        return ans"
   ]
  },
  {
   "cell_type": "markdown",
   "id": "fb279124",
   "metadata": {},
   "source": [
    "* Approach 2: Using Prefix and Postfix algorithm\n",
    "* Time Complexity $ O(n) $"
   ]
  },
  {
   "cell_type": "code",
   "execution_count": 18,
   "id": "00fc8235",
   "metadata": {},
   "outputs": [],
   "source": [
    "class Solution:\n",
    "    def productExceptSelf(self, nums: List[int]) -> List[int]:\n",
    "        # make the res array with default value as 1\n",
    "        res = [1] * len(nums) # it would be more faster as compared to below\n",
    "        # res = [1 for _ in range(len(nums))]\n",
    "        ## start the prefix --->\n",
    "        prefix = 1\n",
    "        for i in range(len(nums)): # start --> end\n",
    "            res[i] = prefix # first we assign the prefix value to the res\n",
    "            prefix *= nums[i]\n",
    "        ## start the postfix <------\n",
    "        postfix = 1\n",
    "        for i in range(len(nums) - 1, -1, -1): # end ----> start\n",
    "            res[i] *= postfix # now, we are updating the value to the res\n",
    "            postfix *= nums[i]\n",
    "        return res"
   ]
  },
  {
   "cell_type": "markdown",
   "id": "598ab3ba",
   "metadata": {},
   "source": [
    "## Longest Consecutive Sequence\n",
    "\n",
    " > <font color=\"green\"> Leetcode Link to Longest Consecutive Sequence [Link](https://leetcode.com/problems/longest-consecutive-sequence) <font/>\n",
    "\n",
    "* Approach 1: Using the HashMap <font color='red'>(Time Limit Exceeded)</font>\n",
    "\n",
    "* Time Complexity $ O(n^2) $"
   ]
  },
  {
   "cell_type": "code",
   "execution_count": 19,
   "id": "35740326",
   "metadata": {},
   "outputs": [],
   "source": [
    "class Solution:\n",
    "    def longestConsecutive(self, nums: List[int]) -> int:\n",
    "        if not nums: return 0\n",
    "        nums.sort() # O(nlogn)\n",
    "        val = {}\n",
    "        i = 0\n",
    "        j = 0\n",
    "        for _ in range(len(nums)): # O(n)\n",
    "            if nums[j] not in val.values(): # O(n^2)\n",
    "                val[i] = nums[j]\n",
    "                i += 1\n",
    "            j += 1\n",
    "        ans = []\n",
    "        value = 1\n",
    "        for i in range(len(val)-1):\n",
    "            if val[i] + 1 == val[i+ 1]:# O(n)\n",
    "                value += 1\n",
    "            else:\n",
    "                ans.append(value)\n",
    "                value = 1\n",
    "        ans.append(value)\n",
    "        return max(ans)"
   ]
  },
  {
   "cell_type": "markdown",
   "id": "bc19556b",
   "metadata": {},
   "source": [
    "* Approach 2: UsingHashSet\n",
    "* Time Complexity $ O(n) $"
   ]
  },
  {
   "cell_type": "code",
   "execution_count": 20,
   "id": "b8eb208b",
   "metadata": {},
   "outputs": [],
   "source": [
    "class Solution:\n",
    "    def longestConsecutive(self, nums: List[int]) -> int:\n",
    "        # base case\n",
    "        if not nums: return 0\n",
    "        # Handle Duplicate value by converting into hashset\n",
    "        num_set = set(nums)\n",
    "        # flag register for the longest consequence count\n",
    "        longest_conse = 0\n",
    "        \n",
    "        for curr in num_set:\n",
    "            if curr - 1 not in num_set: # previous value not in num_set then start by taking the reference of it\n",
    "                curr_num = curr\n",
    "                curr_conse = 1\n",
    "                \n",
    "                # while loop to count the number\n",
    "                while curr_num + 1 in num_set:\n",
    "                    curr_num += 1\n",
    "                    curr_conse += 1\n",
    "                longest_conse = max(longest_conse, curr_conse)\n",
    "        return longest_conse"
   ]
  },
  {
   "cell_type": "markdown",
   "id": "889f4631",
   "metadata": {},
   "source": [
    "* Approach 3: A slightly Efficient then previous one (same hashSet)\n",
    "* Time Complexity $ O(n) $"
   ]
  },
  {
   "cell_type": "code",
   "execution_count": 21,
   "id": "c3420976",
   "metadata": {},
   "outputs": [],
   "source": [
    "class Solution:\n",
    "    def longestConsecutive(self, nums: List[int]) -> int:\n",
    "        # Handle Duplicate value by converting into hashset\n",
    "        num_set = set(nums)\n",
    "        # flag register for the longest consequence count\n",
    "        longest_conse = 0\n",
    "        \n",
    "        for curr in num_set:\n",
    "            if curr - 1 not in num_set: # previous value not in num_set then start by taking the reference of it\n",
    "                curr_conse = 0\n",
    "                \n",
    "                # while loop to count the number\n",
    "                while curr + curr_conse in num_set:\n",
    "                    curr_conse += 1\n",
    "                longest_conse = max(longest_conse, curr_conse)\n",
    "        return longest_conse"
   ]
  },
  {
   "cell_type": "markdown",
   "id": "bc516f59",
   "metadata": {},
   "source": [
    "## Valid Palindrome\n",
    "\n",
    "* Approach 1: Using For and While loop\n",
    "* Time Complexity $ O(n) $\n",
    "* Space Complexity : $O(n) $"
   ]
  },
  {
   "cell_type": "code",
   "execution_count": 22,
   "id": "0ba90cf3",
   "metadata": {},
   "outputs": [],
   "source": [
    "class Solution:\n",
    "    def isPalindrome(self, s: str) -> bool:\n",
    "        s_val = []\n",
    "        for i in list(s.lower()):\n",
    "            if i.isalpha() or i.isdigit(): # O(n) --> O(n^2)\n",
    "                s_val.append(i)\n",
    "        s_val = \"\".join(s_val) #O(n)\n",
    "        # i got the string\n",
    "        i = 0\n",
    "        j = len(s_val) - 1\n",
    "        while i < j: #O(n//2)\n",
    "            if s_val[i] != s_val[j]:\n",
    "                return False\n",
    "            print(i,j)\n",
    "            i += 1\n",
    "            j -= 1\n",
    "        return True"
   ]
  },
  {
   "cell_type": "markdown",
   "id": "4e7907ba",
   "metadata": {},
   "source": [
    "* Approach 2: Using Inplace Algorithm to make it effieceint in terms of space\n",
    "* Time Complexity $ O(n) $\n",
    "* Space Complexity: $ O(1) $"
   ]
  },
  {
   "cell_type": "code",
   "execution_count": 23,
   "id": "a8f7062b",
   "metadata": {},
   "outputs": [],
   "source": [
    "class Solution:\n",
    "    def isPalindrome(self, s: str) -> bool:\n",
    "        i = 0\n",
    "        j = len(s) - 1\n",
    "        while i < j:\n",
    "            while i < j and not s[i].isalnum():\n",
    "                i += 1\n",
    "            while i < j and not s[j].isalnum():\n",
    "                j -= 1\n",
    "            if s[i].lower() != s[j].lower():\n",
    "                return False\n",
    "            i += 1\n",
    "            j -= 1\n",
    "        return True\n",
    "    # if we have to implement alphanumerical()\n",
    "    def alphanumerical(c):\n",
    "        retun (\n",
    "          ord(\"A\") <= ord(c) <= ord(\"Z\")\n",
    "        or ord(\"a\") <= ord(c) <= ord(\"z\")\n",
    "        or ord(\"0\") <= ord(c) <= ord(\"9\")\n",
    "        )"
   ]
  },
  {
   "cell_type": "markdown",
   "id": "b7ae7e54",
   "metadata": {},
   "source": [
    "## 3Sum\n",
    "\n",
    " > <font color=\"green\"> Leetcode Link to 3Sum [Link](https://leetcode.com/problems/3sum) <font/>\n",
    "\n",
    "* Approach 1: USing Triple For Loop <font color='red'>(Time Limit Exceeded)</font>\n",
    "* Time Complexity $ O(N^3 ) $"
   ]
  },
  {
   "cell_type": "code",
   "execution_count": 24,
   "id": "6d02f511",
   "metadata": {},
   "outputs": [],
   "source": [
    "class Solution:\n",
    "    def threeSum(self, nums: List[int]) -> List[List[int]]:\n",
    "        if len(nums) == 3:\n",
    "            if nums[0] + nums[1] + nums[2] == 0:\n",
    "                return [nums]\n",
    "            else:\n",
    "                return []\n",
    "        ans = []\n",
    "        n = len(nums)\n",
    "        for i in range(n):\n",
    "            temp = []\n",
    "            for j in range(i+1, n):\n",
    "                for k in range(j+1,n):\n",
    "                    if nums[i] + nums[j] + nums[k] == 0 and sorted([nums[i],nums[j], nums[k]]) not in ans:                      \n",
    "                        ans.append(sorted([nums[i],nums[j],nums[k]]))\n",
    "        \n",
    "        return list(ans)"
   ]
  },
  {
   "cell_type": "markdown",
   "id": "191e48d8",
   "metadata": {},
   "source": [
    "* Approach 2: Sorting the array and using two pointer method\n",
    "* Time Complexity $ O(N^2) $"
   ]
  },
  {
   "cell_type": "code",
   "execution_count": 25,
   "id": "a29970fd",
   "metadata": {},
   "outputs": [],
   "source": [
    "class Solution:\n",
    "    def threeSum(self, nums: List[int]) -> List[List[int]]:\n",
    "        ans = []\n",
    "        # sort the array\n",
    "        nums.sort()\n",
    "        for i in range(len(nums)):\n",
    "            if i > 0 and nums[i] == nums[i-1]:\n",
    "                continue\n",
    "            # two pointer method\n",
    "            l, r = i + 1, len(nums) - 1\n",
    "            while l < r:\n",
    "                length = nums[i] + nums[l] + nums[r]\n",
    "                if length < 0:\n",
    "                    l += 1\n",
    "                elif length > 0:\n",
    "                    r -= 1\n",
    "                else:\n",
    "                    ans.append([nums[i],nums[l],nums[r]])\n",
    "                    l += 1\n",
    "                    while nums[l] == nums[l-1] and l < r:\n",
    "                        l += 1\n",
    "                    r -= 1\n",
    "                    while nums[r] == nums[r+1] and l<r:\n",
    "                        r -= 1\n",
    "        return ans"
   ]
  },
  {
   "cell_type": "markdown",
   "id": "1fe64efe",
   "metadata": {},
   "source": [
    "## Container With Most Water\n",
    "\n",
    " > <font color=\"green\"> Leetcode Link to Container With Most Water [Link](https://leetcode.com/problems/container-with-most-water) <font/>\n",
    "\n",
    "* Approach 1:Using Nested For Loops\n",
    "* Time Complexity $ O(N^2) $\n",
    "* Space Complexity $ O(N) $"
   ]
  },
  {
   "cell_type": "code",
   "execution_count": 26,
   "id": "6dcff04a",
   "metadata": {},
   "outputs": [],
   "source": [
    "class Solution:\n",
    "    def maxArea(self, height: List[int]) -> int:\n",
    "        water = defaultdict(int)\n",
    "        for i in range(len(height)):\n",
    "            count = 0\n",
    "            for j in range(i+1, len(height)):\n",
    "                count += 1\n",
    "                water[min(height[i],height[j]) * count] = 1\n",
    "        return max(water.keys())"
   ]
  },
  {
   "cell_type": "markdown",
   "id": "af01f62c",
   "metadata": {},
   "source": [
    "* Approach 2: A slightly improved version from above <font color='red'>(Time Limit Exceeded)</font>\n",
    "* Time Complexity $ O(N^2) $\n",
    "* Space Complexity $ O(1) $"
   ]
  },
  {
   "cell_type": "code",
   "execution_count": 27,
   "id": "51b1ab6e",
   "metadata": {},
   "outputs": [],
   "source": [
    "class Solution:\n",
    "    def maxArea(self, height: List[int]) -> int:\n",
    "        res = 0\n",
    "        for i in range(len(height)):\n",
    "            for j in range(i+1, len(height)):\n",
    "                area = min(height[i],height[j]) * (j - i)\n",
    "                res = max(area, res)\n",
    "        return res"
   ]
  },
  {
   "cell_type": "markdown",
   "id": "9e665d2a",
   "metadata": {},
   "source": [
    "* Approach 3:Using 2 pointer method\n",
    "* Time Complexity $ O(N) $\n",
    "* Space Complexity $ O(1) $"
   ]
  },
  {
   "cell_type": "code",
   "execution_count": 28,
   "id": "5fddb636",
   "metadata": {},
   "outputs": [],
   "source": [
    "class Solution:\n",
    "    def maxArea(self, height: List[int]) -> int:\n",
    "        res = 0\n",
    "        l, r = 0, len(height) - 1\n",
    "        while l < r:\n",
    "            area = min(height[l],height[r]) * (r - l)\n",
    "            res = max(area, res)\n",
    "            if height[l] < height[r]:\n",
    "                l += 1\n",
    "            else:\n",
    "                r -= 1\n",
    "        return res"
   ]
  },
  {
   "cell_type": "markdown",
   "id": "ac860189",
   "metadata": {},
   "source": [
    "## Best Time to Buy and Sell Stock\n",
    "\n",
    " > <font color=\"green\"> Leetcode Link to Best Time to Buy and Sell Stock [Link](https://leetcode.com/problems/best-time-to-buy-and-sell-stock) <font/>\n",
    "\n",
    "* Approach 1:Using 2 pointer technique\n",
    "* Time Complexity $ O(N) $\n",
    "* Space Complexity $ O(1) $"
   ]
  },
  {
   "cell_type": "code",
   "execution_count": 29,
   "id": "71d462e6",
   "metadata": {},
   "outputs": [],
   "source": [
    "class Solution:\n",
    "    def maxProfit(self, prices: List[int]) -> int:\n",
    "        maxP = 0\n",
    "        l, r = 0, 1 \n",
    "        while r < len(prices):\n",
    "            if prices[l] < prices[r]:\n",
    "                maxP = max(maxP, prices[r] - prices[l])\n",
    "            else:\n",
    "                l = r\n",
    "            r += 1\n",
    "        return maxP"
   ]
  },
  {
   "cell_type": "markdown",
   "id": "fe9516c0",
   "metadata": {},
   "source": [
    "## Longest Substring Without Repeating Characters\n",
    "\n",
    " > <font color=\"green\"> Leetcode Link to Longest Substring Without Repeating Characters [Link](https://leetcode.com/problems/longest-substring-without-repeating-characters) <font/>\n",
    "\n",
    "* Approach 1: By using Sliding Window Technique\n",
    "* Time Complexity $ O(n) $\n",
    "* Space Complexity $ O(1) $"
   ]
  },
  {
   "cell_type": "code",
   "execution_count": 30,
   "id": "fa3b7b8a",
   "metadata": {},
   "outputs": [],
   "source": [
    "class Solution:\n",
    "    def longestSubstring(s):\n",
    "        char = set()\n",
    "        l = 0\n",
    "        res = 0\n",
    "        for r in range(len(s)):\n",
    "            while s[r] in char:\n",
    "                char.remove(s[l])\n",
    "                l += 1\n",
    "            char.add(s[r])\n",
    "            res = max(res, r - l + 1) # sliding window length\n",
    "        return res"
   ]
  },
  {
   "cell_type": "markdown",
   "id": "fc38efac",
   "metadata": {},
   "source": [
    "## Longest Repeating Character Replacement\n",
    "\n",
    " > <font color=\"green\"> Leetcode Link to Longest Repeating Character Replacement [Link](https://leetcode.com/problems/longest-repeating-character-replacement) <font/>\n",
    "\n",
    "* Approach 1:Naive approach | <font color=\"red\"> Time Limit Exceeded </font>\n",
    "* Time Complexity $ O(N^2) $\n",
    "* Space Complexity $ O(N) $\n",
    "\n",
    "\n",
    "It will not work on all cases \n",
    "if we take example as\n",
    "> s = [\"ABBB\"] \n",
    "* this algo will give 3\n",
    "* but the right answer was 4"
   ]
  },
  {
   "cell_type": "code",
   "execution_count": 31,
   "id": "925ed90e",
   "metadata": {},
   "outputs": [],
   "source": [
    "class Solution:\n",
    "    def characterReplacement(self, s: str, k: int) -> int:\n",
    "        arr = []\n",
    "        i = 0\n",
    "        j = i + 1\n",
    "        counter = 1\n",
    "        kth = k\n",
    "        while i < len(s):\n",
    "            for q in range(i+1, len(s)):\n",
    "                if s[i] != s[q]:\n",
    "                    if k == 0:\n",
    "                        break\n",
    "                    else:\n",
    "                        k -= 1\n",
    "                        counter += 1\n",
    "                else:\n",
    "                    counter += 1\n",
    "            arr.append(counter)  \n",
    "            counter = 1\n",
    "            i += 1\n",
    "            k = kth\n",
    "            # print(arr)\n",
    "        return max(arr)"
   ]
  },
  {
   "cell_type": "markdown",
   "id": "d70765d3",
   "metadata": {},
   "source": [
    "* Approach 2:A slightly efficient approach\n",
    "* Time Complexity $ O(N) $\n",
    "* Space Complexity $ O(N) $"
   ]
  },
  {
   "cell_type": "code",
   "execution_count": 32,
   "id": "f5464b2e",
   "metadata": {},
   "outputs": [],
   "source": [
    "class Solution:\n",
    "    def characterReplacement(self, s: str, k: int) -> int:\n",
    "        count = defaultdict(int)\n",
    "        res = 0\n",
    "        l = 0\n",
    "        for r in range(len(s)):\n",
    "            count[s[r]] += 1\n",
    "            # if my (window length) - (frequent elements) > k then decrement the left value \n",
    "            while (r - l + 1) - max(count.values()) > k:\n",
    "                count[s[l]] -= 1\n",
    "                l += 1\n",
    "            res = max(res, (r - l + 1))\n",
    "        return res"
   ]
  },
  {
   "cell_type": "markdown",
   "id": "3d8d5ee7",
   "metadata": {},
   "source": [
    "* Approach 3: A slightly effiecient in terms of speed from above solution\n",
    "* Time Complexity $ O(N) $\n",
    "* Space Complexity $ O(N) $"
   ]
  },
  {
   "cell_type": "code",
   "execution_count": 33,
   "id": "f2f1bc4e",
   "metadata": {},
   "outputs": [],
   "source": [
    "class Solution:\n",
    "    def characterReplacement(self, s: str, k: int) -> int:\n",
    "        count = defaultdict(int)\n",
    "        res, l = 0, 0\n",
    "        maxf = 0\n",
    "        for r in range(len(s)):\n",
    "            count[s[r]] += 1\n",
    "            maxf = max(maxf, count[s[r]])\n",
    "            while (r - l + 1) - maxf > k: # in the previous count.values() takes more time.\n",
    "                count[s[l]] -= 1\n",
    "                l += 1\n",
    "            res = max(res, (r - l + 1))\n",
    "        return res"
   ]
  },
  {
   "cell_type": "markdown",
   "id": "aa27f59a",
   "metadata": {},
   "source": [
    "## Minimum Window Substring\n",
    "\n",
    " > <font color=\"green\"> Leetcode Link to Minimum Window Substring [Link](https://leetcode.com/problems/minimum-window-substring) <font/>\n",
    "* Approach 1: Naive approach | <font color=\"red\">Not all test cases passed<font/>\n",
    "* Time Complexity $ O(N^2) $\n",
    "* Space Complexity $ O(N) $"
   ]
  },
  {
   "cell_type": "code",
   "execution_count": 35,
   "id": "7c5c54b0",
   "metadata": {},
   "outputs": [],
   "source": [
    "class Solution:\n",
    "    def minWindow(self, s: str, t: str) -> str:\n",
    "        if len(s) < len(t):\n",
    "            return \"\"\n",
    "        # elif len(s) == len(t): return t\n",
    "        hash_t = defaultdict(int)\n",
    "        for num in t:\n",
    "            hash_t[num] += 1\n",
    "        hash_s = defaultdict(int)\n",
    "        for num in t:\n",
    "            hash_s[num] = 0\n",
    "        l = 0\n",
    "        r = 0\n",
    "        backup = hash_s.copy()\n",
    "        ans = {}\n",
    "        print(hash_s)\n",
    "        while r < len(s):\n",
    "            print(l, r)\n",
    "            if s[r] in hash_t.keys():\n",
    "                hash_s[s[r]]  += 1\n",
    "            elif hash_t == hash_s:\n",
    "                while s[l] not in hash_t.keys():\n",
    "                    l += 1\n",
    "                ans[r-l] = s[l:r]\n",
    "                l = r + 1\n",
    "                hash_s = backup\n",
    "                continue\n",
    "            r += 1\n",
    "        if hash_t == hash_s:\n",
    "            while s[l] not in hash_t:\n",
    "                l += 1\n",
    "            ans[r-l] = s[l:r]\n",
    "        print(ans)\n",
    "        return ans[min(ans.keys())] if ans else \"\"\n",
    "             "
   ]
  },
  {
   "cell_type": "markdown",
   "id": "c7fe7fd3",
   "metadata": {},
   "source": [
    "* Approach 2: Using a slidining Window Algorithhm\n",
    "* Time Complexity $ O(N) $\n",
    "* Space Complexity $ O(N) $"
   ]
  },
  {
   "cell_type": "code",
   "execution_count": 38,
   "id": "a57b2844",
   "metadata": {},
   "outputs": [],
   "source": [
    "class Solution:\n",
    "    def minWindow(self, s: str, t: str) -> str:\n",
    "        if t == \"\": return \"\"\n",
    "        countT, window, res, resLen = defaultdict(int), defaultdict(int), [-1,-1], float(\"infinity\")\n",
    "        for num in t:\n",
    "            countT[num] += 1\n",
    "        have, need = 0, len(countT)\n",
    "        l = 0\n",
    "        for r in range(len(s)):\n",
    "            c = s[r]\n",
    "            window[s[r]] += 1\n",
    "            if c in countT and window[s[r]] == countT[s[r]]:\n",
    "                have += 1\n",
    "            while have == need:\n",
    "                # window size \n",
    "                if (r - l + 1) < resLen:\n",
    "                    res = [l, r]\n",
    "                    resLen = (r - l + 1)\n",
    "                c = s[l]\n",
    "                window[c] -= 1\n",
    "                if c in countT and window[c] < countT[c]:\n",
    "                    have -= 1\n",
    "                l += 1\n",
    "        l, r = res\n",
    "        return s[l:r + 1] if resLen != float(\"infinity\") else \"\""
   ]
  },
  {
   "cell_type": "markdown",
   "id": "198e1e7a",
   "metadata": {},
   "source": [
    "## Valid Parentheses\n",
    "\n",
    " > <font color=\"green\"> Leetcode Link to Valid Parentheses [Link](https://leetcode.com/problems/valid-parentheses) <font/>\n",
    "\n",
    "* Approach 1: Using Stack Data Structure\n",
    "* Time Complexity $ O(N) $\n",
    "* Space Complexity $ O(\\frac{N}{2}) $"
   ]
  },
  {
   "cell_type": "code",
   "execution_count": 42,
   "id": "74b6e2ea",
   "metadata": {},
   "outputs": [],
   "source": [
    "def isMatching(a, b):\n",
    "    if (a == '(' and b == ')') or (a == '{' and b == '}') or (a == '[' and b == ']'):\n",
    "        return True\n",
    "    else:\n",
    "        return False\n",
    "def validParentesis(arr):\n",
    "    stack = []\n",
    "    for i in arr:\n",
    "        if i in ['[', '{', '(']:\n",
    "            stack.append(i)\n",
    "        else:\n",
    "            # if stack is empty return False\n",
    "            if not stack: return False\n",
    "            else:\n",
    "                if isMatching(stack[-1] , i) == True:stack.pop()\n",
    "                else:return False\n",
    "    return False if stack else True"
   ]
  },
  {
   "cell_type": "markdown",
   "id": "3bd2e55f",
   "metadata": {},
   "source": [
    "##  Find Minimum in Rotated Sorted Array\n",
    "\n",
    " > <font color=\"green\"> Leetcode Link to Find Minimum in Rotated Sorted Array [Link](https://leetcode.com/problems/find-minimum-in-rotated-sorted-array) <font/>\n",
    "\n",
    "* Approach 1:Simple min()\n",
    "* Time Complexity $ O(n) $ # but needed O(log n)\n",
    "* Space Complexity $ O(1) $"
   ]
  },
  {
   "cell_type": "code",
   "execution_count": 44,
   "id": "ec2208c4",
   "metadata": {},
   "outputs": [],
   "source": [
    "class Solution:\n",
    "    def findMin(self, nums: List[int]) -> int:\n",
    "        return min(nums)"
   ]
  },
  {
   "cell_type": "markdown",
   "id": "544016e6",
   "metadata": {},
   "source": [
    "* Approach 2:USing Binary Search\n",
    "* Time Complexity $ O(log n) $\n",
    "* Space Complexity $ O(1) $"
   ]
  },
  {
   "cell_type": "code",
   "execution_count": 46,
   "id": "690cfe6e",
   "metadata": {},
   "outputs": [],
   "source": [
    "class Solution:\n",
    "    def findMin(self, nums: List[int]) -> int:\n",
    "        # variables\n",
    "        low , high, res = 0, len(nums) - 1, nums[0]\n",
    "        while low <= high:\n",
    "            # check for the base case\n",
    "            if nums[low] < nums[high]:\n",
    "                res = min(res, nums[low])\n",
    "                break\n",
    "            mid = (low + high) // 2\n",
    "            res = min(res, mid)\n",
    "            # if mid is greater than low then check for right portion\n",
    "            if nums[mid] >= nums[low]:\n",
    "                low = mid + 1\n",
    "            else:\n",
    "                high = mid - 1\n",
    "        return res"
   ]
  },
  {
   "cell_type": "markdown",
   "id": "3248a22b",
   "metadata": {},
   "source": [
    "## Search in Rotated Sorted Array\n",
    "\n",
    " > <font color=\"green\"> Leetcode Link to Search in Rotated Sorted Array [Link](https://leetcode.com/problems/search-in-rotated-sorted-array) <font/>\n",
    "\n",
    "* Approach 1:Using Naive approach\n",
    "* Time Complexity $ O(N) $ | <font color=\"red\">But it should be in O(logn) <font/>\n",
    "* Space Complexity $ O(1) $"
   ]
  },
  {
   "cell_type": "code",
   "execution_count": 7,
   "id": "6fa6daf8",
   "metadata": {},
   "outputs": [],
   "source": [
    "class Solution:\n",
    "    def search(self, nums: List[int], target: int) -> int:\n",
    "        for i in nums:\n",
    "            if i == target:\n",
    "                return nums.index(target)\n",
    "        return -1"
   ]
  },
  {
   "cell_type": "markdown",
   "id": "8e03c894",
   "metadata": {},
   "source": [
    "* Approach 2: Using Binary Search \n",
    "* Time Complexity $ O(log N) $\n",
    "* Space Complexity $ O(1) $"
   ]
  },
  {
   "cell_type": "code",
   "execution_count": 9,
   "id": "cfa7b2a9",
   "metadata": {},
   "outputs": [],
   "source": [
    "class Solution:\n",
    "    def search(self, nums: List[int], target: int) -> int:\n",
    "        low , high = 0, len(nums) - 1\n",
    "        while low <= high:\n",
    "            mid = (low + high) // 2\n",
    "            if nums[mid] == target: return mid\n",
    "            # checks for left portion\n",
    "            if nums[low] <= nums[mid]:\n",
    "                if nums[mid] < target or nums[low] > target:\n",
    "                    low = mid + 1\n",
    "                else:\n",
    "                    high = mid - 1\n",
    "            # checks for right portion\n",
    "            else:\n",
    "                if nums[mid] > target or nums[high] < target:\n",
    "                    high = mid - 1\n",
    "                else:\n",
    "                    low = mid + 1\n",
    "        return -1"
   ]
  },
  {
   "cell_type": "markdown",
   "id": "7f32c496",
   "metadata": {},
   "source": [
    "## Reverse Linked List \n",
    " > <font color=\"green\">Leetcode Link to Reverse Linked List [Link](https://leetcode.com/problems/reverse-linked-list) <font/>\n",
    "\n",
    "* Approach 1: Using Pointers\n",
    "* Time Complexity $ O(n) $\n",
    "* Space Complexity $ O(1) $"
   ]
  },
  {
   "cell_type": "code",
   "execution_count": 6,
   "id": "9863f300",
   "metadata": {},
   "outputs": [],
   "source": [
    "# Definition for singly-linked list.\n",
    "# class ListNode:\n",
    "#     def __init__(self, val=0, next=None):\n",
    "#         self.val = val\n",
    "#         self.next = next\n",
    "class Solution:\n",
    "    def reverseList(self, head: Optional[ListNode]) -> Optional[ListNode]:\n",
    "        if not head: return head\n",
    "        curr = head\n",
    "        prev = None\n",
    "        while curr:\n",
    "            nxt = curr.next\n",
    "            curr.next = prev\n",
    "            prev = curr\n",
    "            curr = nxt\n",
    "        return prev"
   ]
  },
  {
   "cell_type": "markdown",
   "id": "876c3b3b",
   "metadata": {},
   "source": [
    "## Merge Two Sorted Lists \n",
    " > <font color=\"green\">Leetcode Link to Merge Two Sorted Lists [Link](https://leetcode.com/problems/merge-two-sorted-lists) <font/>\n",
    "\n",
    "* Approach 1: Used two diferent while loop and if one is less then list1 update else list2\n",
    "* Time Complexity $ O(n) $\n",
    "* Space Complexity $ O(1) $"
   ]
  },
  {
   "cell_type": "code",
   "execution_count": 8,
   "id": "d95b4608",
   "metadata": {},
   "outputs": [],
   "source": [
    "# Definition for singly-linked list.\n",
    "# class ListNode:\n",
    "#     def __init__(self, val=0, next=None):\n",
    "#         self.val = val\n",
    "#         self.next = next\n",
    "class Solution:\n",
    "    def mergeTwoLists(self, list1: Optional[ListNode], list2: Optional[ListNode]) -> Optional[ListNode]:\n",
    "        curr = dummy = ListNode()\n",
    "        while list1 and list2:\n",
    "            if list1.val < list2.val:\n",
    "                curr.next = list1\n",
    "                curr = curr.next\n",
    "                list1 = list1.next\n",
    "            else:\n",
    "                curr.next = list2\n",
    "                curr = curr.next\n",
    "                list2 = list2.next\n",
    "        if list1 or list2:\n",
    "            curr.next = list1 if list1 else list2\n",
    "        return dummy.next"
   ]
  },
  {
   "cell_type": "markdown",
   "id": "18d491ec",
   "metadata": {},
   "source": [
    "* Approach:\n",
    "* Time Complexity $ O() $\n",
    "* Space Complexity $ O() $"
   ]
  },
  {
   "cell_type": "markdown",
   "id": "192e842b",
   "metadata": {},
   "source": [
    "## Linked List Cycle \n",
    " > <font color=\"green\">Leetcode Link to Linked List Cycle [Link](https://leetcode.com/problems/linked-list-cycle) <font/>\n",
    "\n",
    "* Approach 1: Using Pointers\n",
    "* Time Complexity $ O(N) $\n",
    "* Space Complexity $ O(1) $"
   ]
  },
  {
   "cell_type": "code",
   "execution_count": 7,
   "id": "388ae0a8",
   "metadata": {},
   "outputs": [],
   "source": [
    "# Definition for singly-linked list.\n",
    "# class ListNode:\n",
    "#     def __init__(self, x):\n",
    "#         self.val = x\n",
    "#         self.next = None\n",
    "\n",
    "class Solution:\n",
    "    def hasCycle(self, head: Optional[ListNode]) -> bool:\n",
    "        if head == None or head.next == None: return False\n",
    "        slow = head\n",
    "        fast = head\n",
    "        while fast and fast.next:\n",
    "            slow = slow.next\n",
    "            fast = fast.next.next\n",
    "            if slow == fast: return True\n",
    "        return False"
   ]
  },
  {
   "cell_type": "markdown",
   "id": "45084373",
   "metadata": {},
   "source": [
    "* Approach:\n",
    "* Time Complexity $ O() $\n",
    "* Space Complexity $ O() $"
   ]
  },
  {
   "cell_type": "markdown",
   "id": "6c90934a",
   "metadata": {},
   "source": [
    "* Approach:\n",
    "* Time Complexity $ O() $\n",
    "* Space Complexity $ O() $"
   ]
  },
  {
   "cell_type": "markdown",
   "id": "d2d3e678",
   "metadata": {},
   "source": [
    "* Approach:\n",
    "* Time Complexity $ O() $\n",
    "* Space Complexity $ O() $"
   ]
  },
  {
   "cell_type": "markdown",
   "id": "b861156d",
   "metadata": {},
   "source": [
    "* Approach:\n",
    "* Time Complexity $ O() $\n",
    "* Space Complexity $ O() $"
   ]
  },
  {
   "cell_type": "markdown",
   "id": "8478cda8",
   "metadata": {},
   "source": [
    "* Approach:\n",
    "* Time Complexity $ O() $\n",
    "* Space Complexity $ O() $"
   ]
  },
  {
   "cell_type": "markdown",
   "id": "8150c962",
   "metadata": {},
   "source": [
    "* Approach:\n",
    "* Time Complexity $ O() $\n",
    "* Space Complexity $ O() $"
   ]
  },
  {
   "cell_type": "markdown",
   "id": "bfe534f8",
   "metadata": {},
   "source": [
    "* Approach:\n",
    "* Time Complexity $ O() $\n",
    "* Space Complexity $ O() $"
   ]
  },
  {
   "cell_type": "markdown",
   "id": "8123639d",
   "metadata": {},
   "source": [
    "* Approach:\n",
    "* Time Complexity $ O() $\n",
    "* Space Complexity $ O() $"
   ]
  },
  {
   "cell_type": "markdown",
   "id": "d3c5d8f9",
   "metadata": {},
   "source": [
    "* Approach:\n",
    "* Time Complexity $ O() $\n",
    "* Space Complexity $ O() $"
   ]
  },
  {
   "cell_type": "markdown",
   "id": "234c110b",
   "metadata": {},
   "source": [
    "* Approach:\n",
    "* Time Complexity $ O() $\n",
    "* Space Complexity $ O() $"
   ]
  },
  {
   "cell_type": "markdown",
   "id": "5a9635cc",
   "metadata": {},
   "source": [
    "* Approach:\n",
    "* Time Complexity $ O() $\n",
    "* Space Complexity $ O() $"
   ]
  },
  {
   "cell_type": "markdown",
   "id": "14b16a17",
   "metadata": {},
   "source": [
    "* Approach:\n",
    "* Time Complexity $ O() $\n",
    "* Space Complexity $ O() $"
   ]
  },
  {
   "cell_type": "markdown",
   "id": "d15cc546",
   "metadata": {},
   "source": [
    "* Approach:\n",
    "* Time Complexity $ O() $\n",
    "* Space Complexity $ O() $"
   ]
  },
  {
   "cell_type": "markdown",
   "id": "cc962784",
   "metadata": {},
   "source": [
    "* Approach:\n",
    "* Time Complexity $ O() $\n",
    "* Space Complexity $ O() $"
   ]
  },
  {
   "cell_type": "markdown",
   "id": "20a018bc",
   "metadata": {},
   "source": [
    "* Approach:\n",
    "* Time Complexity $ O() $\n",
    "* Space Complexity $ O() $"
   ]
  },
  {
   "cell_type": "markdown",
   "id": "76c5636f",
   "metadata": {},
   "source": [
    "* Approach:\n",
    "* Time Complexity $ O() $\n",
    "* Space Complexity $ O() $"
   ]
  },
  {
   "cell_type": "markdown",
   "id": "f9e6f121",
   "metadata": {},
   "source": [
    "* Approach:\n",
    "* Time Complexity $ O() $\n",
    "* Space Complexity $ O() $"
   ]
  },
  {
   "cell_type": "markdown",
   "id": "608b14b6",
   "metadata": {},
   "source": [
    "* Approach:\n",
    "* Time Complexity $ O() $\n",
    "* Space Complexity $ O() $"
   ]
  },
  {
   "cell_type": "markdown",
   "id": "c1ea480e",
   "metadata": {},
   "source": [
    "* Approach:\n",
    "* Time Complexity $ O() $\n",
    "* Space Complexity $ O() $"
   ]
  }
 ],
 "metadata": {
  "kernelspec": {
   "display_name": "Python 3 (ipykernel)",
   "language": "python",
   "name": "python3"
  },
  "language_info": {
   "codemirror_mode": {
    "name": "ipython",
    "version": 3
   },
   "file_extension": ".py",
   "mimetype": "text/x-python",
   "name": "python",
   "nbconvert_exporter": "python",
   "pygments_lexer": "ipython3",
   "version": "3.10.10"
  }
 },
 "nbformat": 4,
 "nbformat_minor": 5
}
