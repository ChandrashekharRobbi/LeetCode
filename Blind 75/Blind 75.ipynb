{
 "cells": [
  {
   "cell_type": "code",
   "execution_count": 22,
   "id": "3b20267c",
   "metadata": {},
   "outputs": [
    {
     "name": "stdout",
     "output_type": "stream",
     "text": [
      "This Function is Created by Chandrashekhar Robbi.\n",
      "Note this function is especially created for my leet code solving purposes \n",
      "It takes name of the problem and return leetcode link and it has features like create array which has markdown, comment and delete after executing and many more :)\n"
     ]
    }
   ],
   "source": [
    "%run leetcode_function.py\n",
    "z = LeetFunction()"
   ]
  },
  {
   "cell_type": "code",
   "execution_count": 23,
   "id": "fbca19da",
   "metadata": {},
   "outputs": [],
   "source": [
    "from typing import List\n",
    "import heapq\n",
    "import math"
   ]
  },
  {
   "cell_type": "markdown",
   "id": "25b69014",
   "metadata": {},
   "source": [
    "# Blind 75 \n",
    "\n",
    "#### Make the below link workable?? [Click Me](https://nbviewer.org/github/ChandrashekharRobbi/LeetCode-Using-Python/blob/main/Blind%2075/Blind%2075.ipynb?flush_cache=True)\n",
    "\n",
    "I will be solving blind 75 questions from [NeetCode Website](https://neetcode.io/practice)\n",
    "\n",
    "1. ✅ [Contains Duplicate](#Contains-Duplicate)           [<a href='https://leetcode.com/problems/contains-duplicate' style='color:black'>Link</a>]\n",
    "2. ✅ [Valid Anagram](#Valid-Anagram)           [<a href='https://leetcode.com/problems/valid-anagram' style='color:black'>Link</a>]\n",
    "3. ✅ [Two Sum](#Two-Sum)           [<a href='https://leetcode.com/problems/two-sum' style='color:black'>Link</a>]\n",
    "4. ✅ [Group Anagrams](#Group-Anagrams)           [<a href='https://leetcode.com/problems/group-anagrams' style='color:black'>Link</a>]\n",
    "5. ✅ [Top K Frequent Elements](#Top-K-Frequent-Elements)           [<a href='https://leetcode.com/problems/top-k-frequent-elements' style='color:black'>Link</a>]\n",
    "6. ✅ [Product of Array Except Self](#Product-of-Array-Except-Self)           [<a href='https://leetcode.com/problems/product-of-array-except-self' style='color:black'>Link</a>]\n",
    "7. ✅ [Longest Consecutive Sequence](#Longest-Consecutive-Sequence)           [<a href='https://leetcode.com/problems/longest-consecutive-sequence' style='color:black'>Link</a>]"
   ]
  },
  {
   "cell_type": "markdown",
   "id": "ce8c5270",
   "metadata": {},
   "source": [
    "## Contains Duplicate\n",
    "\n",
    "* Approach 1: Using HashSet\n",
    "* Time Complexity $ O(n) $"
   ]
  },
  {
   "cell_type": "code",
   "execution_count": 24,
   "id": "228882b6",
   "metadata": {},
   "outputs": [],
   "source": [
    "def containsDuplicate1(nums):\n",
    "    mp = {}\n",
    "    for i in nums:\n",
    "        if i in mp:\n",
    "            mp[i] += 1\n",
    "        else:\n",
    "            mp[i] = 1\n",
    "    for i in nums:\n",
    "        if mp[i] > 1:\n",
    "            return True\n",
    "    return False\n",
    "            "
   ]
  },
  {
   "cell_type": "markdown",
   "id": "ef09833d",
   "metadata": {},
   "source": [
    "* Approach 2: Using Nested For Loops\n",
    "* Time Complexity  $𝑂(n ^ 2)$"
   ]
  },
  {
   "cell_type": "code",
   "execution_count": 25,
   "id": "b7502101",
   "metadata": {},
   "outputs": [],
   "source": [
    "def containsDuplicate2(nums):\n",
    "    n = len(nums)\n",
    "    for i in range(n):\n",
    "        for j in range(i + 1, n):\n",
    "            if nums[i] == nums[j]:\n",
    "                return True\n",
    "    return False"
   ]
  },
  {
   "cell_type": "markdown",
   "id": "b569d3d2",
   "metadata": {},
   "source": [
    "* Approach 3: Using set()\n",
    "* Time Complexity  $𝑂(n)$"
   ]
  },
  {
   "cell_type": "code",
   "execution_count": 26,
   "id": "061e24bf",
   "metadata": {},
   "outputs": [],
   "source": [
    "class Solution:\n",
    "    def containsDuplicate3(self, nums) -> bool:\n",
    "        # set up an hashmap\n",
    "        seen = set()\n",
    "        for i in nums:\n",
    "            if i in seen:\n",
    "                return True\n",
    "            seen.add(i)\n",
    "        return False"
   ]
  },
  {
   "cell_type": "markdown",
   "id": "78aa5559",
   "metadata": {},
   "source": [
    "* Approach 4: Using sorting\n",
    "* Time Complexity  $𝑂(n logn)$"
   ]
  },
  {
   "cell_type": "code",
   "execution_count": 27,
   "id": "79273eb7",
   "metadata": {},
   "outputs": [],
   "source": [
    "def containsDuplicate4(self, nums) -> bool:\n",
    "    # set up an sorting\n",
    "    nums.sort()\n",
    "    for i in range(len(nums)-1):\n",
    "        if nums[i] == nums[i + 1]:\n",
    "            return True\n",
    "    return False"
   ]
  },
  {
   "cell_type": "markdown",
   "id": "3d7e3e49",
   "metadata": {},
   "source": [
    "## Valid Anagram\n",
    "\n",
    "* Approach 1: HashMap\n",
    "* Time Complexity $ O(n) $"
   ]
  },
  {
   "cell_type": "code",
   "execution_count": 28,
   "id": "b811eff4",
   "metadata": {},
   "outputs": [],
   "source": [
    "class Solution:\n",
    "    def isAnagram1(self, s: str, t: str) -> bool:\n",
    "        # approach 1 using hashmap\n",
    "        if len(s) != len(t):\n",
    "            return False\n",
    "        mp1 = {}\n",
    "        mp2 = {}\n",
    "        for i in s:\n",
    "            if i in mp1:\n",
    "                mp1[i] += 1\n",
    "            else:\n",
    "                mp1[i] = 1\n",
    "        \n",
    "        for i in t:\n",
    "            if i in mp2:\n",
    "                mp2[i] += 1\n",
    "            else:\n",
    "                mp2[i] = 1\n",
    "        if mp1 == mp2:\n",
    "            return True\n",
    "        else:\n",
    "            return False\n",
    "        "
   ]
  },
  {
   "cell_type": "markdown",
   "id": "754facde",
   "metadata": {},
   "source": [
    "* Approach 2: Using Hashmap Slightly improved than previous\n",
    "* Time Complexity $ O(n) $"
   ]
  },
  {
   "cell_type": "code",
   "execution_count": 29,
   "id": "61b19d9e",
   "metadata": {},
   "outputs": [],
   "source": [
    "class Solution:\n",
    "    def isAnagram2(self, s: str, t: str) -> bool:\n",
    "        # approach 1 using hashmap\n",
    "        if len(s) != len(t):\n",
    "            return False\n",
    "        mp1 = {}\n",
    "        for i in s:\n",
    "            if i in mp1:\n",
    "                mp1[i] += 1\n",
    "            else:\n",
    "                mp1[i] = 1\n",
    "        for num in t:\n",
    "            if num in mp1:\n",
    "                mp1[num] -= 1\n",
    "                if mp1[num] < 0:\n",
    "                    return False\n",
    "            else:\n",
    "                return False\n",
    "        return True"
   ]
  },
  {
   "cell_type": "markdown",
   "id": "3d09ee3d",
   "metadata": {},
   "source": [
    "* Approach 3: Using Sorting\n",
    "* Time Complexity $ O(nlogn) $"
   ]
  },
  {
   "cell_type": "code",
   "execution_count": 30,
   "id": "2500ec3c",
   "metadata": {},
   "outputs": [],
   "source": [
    "def isAnagram3(s, t):\n",
    "    return sorted(s) == sorted(t)"
   ]
  },
  {
   "cell_type": "markdown",
   "id": "b8b5217f",
   "metadata": {},
   "source": [
    "## Two Sum\n",
    "\n",
    "* Approach 1:Using Nested For loops\n",
    "* Time Complexity $ O(n ^ 2) $"
   ]
  },
  {
   "cell_type": "code",
   "execution_count": 31,
   "id": "cffb7986",
   "metadata": {},
   "outputs": [],
   "source": [
    "class Solution:\n",
    "    def twoSum(self, nums: List[int], target: int) -> List[int]:\n",
    "        # approach 1 nested for loops\n",
    "        ans = []\n",
    "        for i in range(len(nums)):\n",
    "            for j in range(i + 1, len(nums)):\n",
    "                if target - nums[j] == nums[i]:\n",
    "                    ans.append(i)\n",
    "                    ans.append(j)\n",
    "        return ans"
   ]
  },
  {
   "cell_type": "markdown",
   "id": "7565fd23",
   "metadata": {},
   "source": [
    "* Approach 2:Using Partial Hashmaps\n",
    "* Time Complexity $ O(n) $"
   ]
  },
  {
   "cell_type": "code",
   "execution_count": 32,
   "id": "b002869b",
   "metadata": {},
   "outputs": [],
   "source": [
    "class Solution:\n",
    "    def twoSum(self, nums: List[int], target: int) -> List[int]:\n",
    "        # approach 2 using partial hashmap\n",
    "        num_hash = {}\n",
    "        for i, num in enumerate(nums):\n",
    "            compliment = target - num\n",
    "            if compliment in num_hash:\n",
    "                return [num_hash[compliment], i]\n",
    "            num_hash[num] = i\n",
    "\n"
   ]
  },
  {
   "cell_type": "markdown",
   "id": "0363e586",
   "metadata": {},
   "source": [
    "## Group Anagrams\n",
    "\n",
    "* Approach 1 : Using HashMap (using nested for loops\n",
    "* Time Complexity $ O(m * n log(n)) $"
   ]
  },
  {
   "cell_type": "code",
   "execution_count": 33,
   "id": "719192ac",
   "metadata": {},
   "outputs": [],
   "source": [
    "class Solution:\n",
    "    def groupAnagrams(self, strs: List[str]) -> List[List[str]]:\n",
    "        anagrams = defaultdict(list)\n",
    "        for s in strs:\n",
    "            sorted_s = \"\".join(sorted(s))\n",
    "            anagrams[sorted_s].append(s)\n",
    "        return anagrams.values()"
   ]
  },
  {
   "cell_type": "markdown",
   "id": "4809b30e",
   "metadata": {},
   "source": [
    "* Approach 2:Using HashMap(using ASCII values)\n",
    "* Time Complexity $ O(m * n) $"
   ]
  },
  {
   "cell_type": "code",
   "execution_count": 34,
   "id": "16183f06",
   "metadata": {},
   "outputs": [],
   "source": [
    "class Solution:\n",
    "    def groupAnagrams(self, strs: List[str]) -> List[List[str]]:\n",
    "        anagrams = defaultdict(list)\n",
    "        for s in strs:\n",
    "            count = [0] * 26\n",
    "            # increment the value in counter for each character\n",
    "            for c in s:\n",
    "                count[ord(c) - ord(\"a\")] += 1\n",
    "            # list cannot be keys\n",
    "            anagrams[tuple(count)].append(s)\n",
    "        return anagrams.values()"
   ]
  },
  {
   "cell_type": "markdown",
   "id": "1904b8ff",
   "metadata": {},
   "source": [
    "## Top K Frequent Elements\n",
    "\n",
    "* Approach 1: Using HashMap and Sorting\n",
    "* Time Complexity $ O(n logn) $"
   ]
  },
  {
   "cell_type": "code",
   "execution_count": 35,
   "id": "73159f72",
   "metadata": {},
   "outputs": [],
   "source": [
    "class Solution:\n",
    "    def topKFrequent(self, nums: List[int], k: int) -> List[int]:\n",
    "        # lets try with hashmap\n",
    "        frequency = defaultdict(int)\n",
    "        for i in nums:\n",
    "            frequency[i] += 1\n",
    "        print(frequency)\n",
    "        sorted_list = list(dict(sorted(frequency.items(), key=lambda item:item[1],reverse=True)).keys())\n",
    "        return sorted_list[:k]"
   ]
  },
  {
   "cell_type": "markdown",
   "id": "2f58b263",
   "metadata": {},
   "source": [
    "* Approach 2: Using Heapq Library\n",
    "* Time Complexity $ O(klogn) $"
   ]
  },
  {
   "cell_type": "code",
   "execution_count": 36,
   "id": "10c450af",
   "metadata": {},
   "outputs": [],
   "source": [
    "class Solution:\n",
    "    def topKFrequent(self, nums:List[int], k:int) -> List[int]:\n",
    "        # lets try with heap\n",
    "        # set the counter \n",
    "        freq = defaultdict(int)\n",
    "        for num in nums:\n",
    "            freq[num] += 1\n",
    "        heap = [(-count, num) for num, count in freq.items()] # - to make it as max heap\n",
    "        heapq.heapify(heap)\n",
    "        ans = [heapq.heappop(heap)[1] for _ in range(k)] # we only want values and not the count\n",
    "        return ans"
   ]
  },
  {
   "cell_type": "markdown",
   "id": "dd8a6107",
   "metadata": {},
   "source": [
    "* Approach 3: Using frequency as a key and number as the values\n",
    "* Time Complexity $ O(n) $"
   ]
  },
  {
   "cell_type": "code",
   "execution_count": 37,
   "id": "7b44d4b9",
   "metadata": {},
   "outputs": [],
   "source": [
    "class Solution:\n",
    "    def topKFrequent(self, nums:List[int],k:int) -> List[int]:\n",
    "        # lets try with effiecient time complexity\n",
    "        count = defaultdict(int)\n",
    "        freq = [[] for _ in range(len(nums) + 1)]\n",
    "        for num in nums:\n",
    "            count[num] += 1\n",
    "        for count, num in count.items():\n",
    "            freq[count].append(num)\n",
    "        res = []\n",
    "        for i in range(len(freq) - 1, 0, -1):\n",
    "            for n in freq[i]:\n",
    "                res.append(n)\n",
    "            if len(res) == k:\n",
    "                return res          "
   ]
  },
  {
   "cell_type": "markdown",
   "id": "d59d2c98",
   "metadata": {},
   "source": [
    "## Product of Array Except Self\n",
    "\n",
    "* Approach 1:Using Nested For loops\n",
    "* Time Complexity $ O(N ^ 2) $"
   ]
  },
  {
   "cell_type": "code",
   "execution_count": 38,
   "id": "b8f478d0",
   "metadata": {},
   "outputs": [],
   "source": [
    "class Solution:\n",
    "    def productExceptSelf(self, nums: List[int]) -> List[int]:\n",
    "        count = 0\n",
    "        ans = []\n",
    "        while count < len(nums):\n",
    "            maxnum = 1\n",
    "            for i in range(len(nums)):\n",
    "                if i != count:\n",
    "                    maxnum *= nums[i]\n",
    "            ans.append(maxnum)\n",
    "            count += 1\n",
    "        return ans"
   ]
  },
  {
   "cell_type": "markdown",
   "id": "fb279124",
   "metadata": {},
   "source": [
    "* Approach 2: Using Prefix and Postfix algorithm\n",
    "* Time Complexity $ O(n) $"
   ]
  },
  {
   "cell_type": "code",
   "execution_count": 39,
   "id": "00fc8235",
   "metadata": {},
   "outputs": [],
   "source": [
    "class Solution:\n",
    "    def productExceptSelf(self, nums: List[int]) -> List[int]:\n",
    "        # make the res array with default value as 1\n",
    "        res = [1] * len(nums) # it would be more faster as compared to below\n",
    "        # res = [1 for _ in range(len(nums))]\n",
    "        ## start the prefix --->\n",
    "        prefix = 1\n",
    "        for i in range(len(nums)): # start --> end\n",
    "            res[i] = prefix # first we assign the prefix value to the res\n",
    "            prefix *= nums[i]\n",
    "        ## start the postfix <------\n",
    "        postfix = 1\n",
    "        for i in range(len(nums) - 1, -1, -1): # end ----> start\n",
    "            res[i] *= postfix # now, we are updating the value to the res\n",
    "            postfix *= nums[i]\n",
    "        return res"
   ]
  },
  {
   "cell_type": "markdown",
   "id": "598ab3ba",
   "metadata": {},
   "source": [
    "## Longest Consecutive Sequence\n",
    "\n",
    "* Approach 1: Using the HashMap <font color='red'>(Time Limit Exceeded)</font>\n",
    "\n",
    "* Time Complexity $ O(n^2) $"
   ]
  },
  {
   "cell_type": "code",
   "execution_count": 40,
   "id": "35740326",
   "metadata": {},
   "outputs": [],
   "source": [
    "class Solution:\n",
    "    def longestConsecutive(self, nums: List[int]) -> int:\n",
    "        if not nums: return 0\n",
    "        nums.sort() # O(nlogn)\n",
    "        val = {}\n",
    "        i = 0\n",
    "        j = 0\n",
    "        for _ in range(len(nums)): # O(n)\n",
    "            if nums[j] not in val.values(): # O(n^2)\n",
    "                val[i] = nums[j]\n",
    "                i += 1\n",
    "            j += 1\n",
    "        ans = []\n",
    "        value = 1\n",
    "        for i in range(len(val)-1):\n",
    "            if val[i] + 1 == val[i+ 1]:# O(n)\n",
    "                value += 1\n",
    "            else:\n",
    "                ans.append(value)\n",
    "                value = 1\n",
    "        ans.append(value)\n",
    "        return max(ans)"
   ]
  },
  {
   "cell_type": "markdown",
   "id": "bc19556b",
   "metadata": {},
   "source": [
    "* Approach 2: UsingHashSet\n",
    "* Time Complexity $ O(n) $"
   ]
  },
  {
   "cell_type": "code",
   "execution_count": 41,
   "id": "b8eb208b",
   "metadata": {},
   "outputs": [],
   "source": [
    "class Solution:\n",
    "    def longestConsecutive(self, nums: List[int]) -> int:\n",
    "        # base case\n",
    "        if not nums: return 0\n",
    "        # Handle Duplicate value by converting into hashset\n",
    "        num_set = set(nums)\n",
    "        # flag register for the longest consequence count\n",
    "        longest_conse = 0\n",
    "        \n",
    "        for curr in num_set:\n",
    "            if curr - 1 not in num_set: # previous value not in num_set then start by taking the reference of it\n",
    "                curr_num = curr\n",
    "                curr_conse = 1\n",
    "                \n",
    "                # while loop to count the number\n",
    "                while curr_num + 1 in num_set:\n",
    "                    curr_num += 1\n",
    "                    curr_conse += 1\n",
    "                longest_conse = max(longest_conse, curr_conse)\n",
    "        return longest_conse"
   ]
  },
  {
   "cell_type": "markdown",
   "id": "889f4631",
   "metadata": {},
   "source": [
    "* Approach 3: A slightly Efficient then previous one (same hashSet)\n",
    "* Time Complexity $ O(n) $"
   ]
  },
  {
   "cell_type": "code",
   "execution_count": 42,
   "id": "c3420976",
   "metadata": {},
   "outputs": [],
   "source": [
    "class Solution:\n",
    "    def longestConsecutive(self, nums: List[int]) -> int:\n",
    "        # Handle Duplicate value by converting into hashset\n",
    "        num_set = set(nums)\n",
    "        # flag register for the longest consequence count\n",
    "        longest_conse = 0\n",
    "        \n",
    "        for curr in num_set:\n",
    "            if curr - 1 not in num_set: # previous value not in num_set then start by taking the reference of it\n",
    "                curr_conse = 0\n",
    "                \n",
    "                # while loop to count the number\n",
    "                while curr + curr_conse in num_set:\n",
    "                    curr_conse += 1\n",
    "                longest_conse = max(longest_conse, curr_conse)\n",
    "        return longest_conse"
   ]
  },
  {
   "cell_type": "code",
   "execution_count": 44,
   "id": "691e2aef",
   "metadata": {},
   "outputs": [
    {
     "data": {
      "application/javascript": [
       "\n",
       "            IPython.notebook.to_markdown();\n",
       "        "
      ],
      "text/plain": [
       "<IPython.core.display.Javascript object>"
      ]
     },
     "metadata": {},
     "output_type": "display_data"
    },
    {
     "name": "stdout",
     "output_type": "stream",
     "text": [
      "Successfully added to the comment list\n",
      "Here is the link https://leetcode.com/problems/valid-palindrome\n",
      "All the best Chandrashekhar\n"
     ]
    }
   ],
   "source": [
    "z.new(\"Valid Palindrome\")"
   ]
  },
  {
   "cell_type": "markdown",
   "id": "9cd44b46",
   "metadata": {},
   "source": [
    "## Valid Palindrome\n",
    "\n",
    "* Approach 1: Using For and While loop\n",
    "* Time Complexity $ O(n) $\n",
    "* Space Complexity : $O(n) $"
   ]
  },
  {
   "cell_type": "code",
   "execution_count": 45,
   "id": "88753696",
   "metadata": {},
   "outputs": [],
   "source": [
    "class Solution:\n",
    "    def isPalindrome(self, s: str) -> bool:\n",
    "        s_val = []\n",
    "        for i in list(s.lower()):\n",
    "            if i.isalpha() or i.isdigit(): # O(n) --> O(n^2)\n",
    "                s_val.append(i)\n",
    "        s_val = \"\".join(s_val) #O(n)\n",
    "        # i got the string\n",
    "        i = 0\n",
    "        j = len(s_val) - 1\n",
    "        while i < j: #O(n//2)\n",
    "            if s_val[i] != s_val[j]:\n",
    "                return False\n",
    "            print(i,j)\n",
    "            i += 1\n",
    "            j -= 1\n",
    "        return True"
   ]
  },
  {
   "cell_type": "markdown",
   "id": "4e7907ba",
   "metadata": {},
   "source": [
    "* Approach:\n",
    "* Time Complexity $ O() $"
   ]
  },
  {
   "cell_type": "code",
   "execution_count": null,
   "id": "a8f7062b",
   "metadata": {},
   "outputs": [],
   "source": []
  },
  {
   "cell_type": "markdown",
   "id": "191e48d8",
   "metadata": {},
   "source": [
    "* Approach:\n",
    "* Time Complexity $ O() $"
   ]
  },
  {
   "cell_type": "code",
   "execution_count": null,
   "id": "9ffc451d",
   "metadata": {},
   "outputs": [],
   "source": []
  },
  {
   "cell_type": "markdown",
   "id": "af01f62c",
   "metadata": {},
   "source": [
    "* Approach:\n",
    "* Time Complexity $ O() $"
   ]
  },
  {
   "cell_type": "code",
   "execution_count": null,
   "id": "51b1ab6e",
   "metadata": {},
   "outputs": [],
   "source": []
  },
  {
   "cell_type": "markdown",
   "id": "9e665d2a",
   "metadata": {},
   "source": [
    "* Approach:\n",
    "* Time Complexity $ O() $"
   ]
  },
  {
   "cell_type": "code",
   "execution_count": null,
   "id": "5fddb636",
   "metadata": {},
   "outputs": [],
   "source": []
  },
  {
   "cell_type": "markdown",
   "id": "d70765d3",
   "metadata": {},
   "source": [
    "* Approach:\n",
    "* Time Complexity $ O() $"
   ]
  },
  {
   "cell_type": "code",
   "execution_count": 43,
   "id": "1e6cca7b",
   "metadata": {},
   "outputs": [],
   "source": [
    "def test1():\n",
    "    pass"
   ]
  },
  {
   "cell_type": "markdown",
   "id": "852fd430",
   "metadata": {},
   "source": [
    "* Approach:\n",
    "* Time Complexity $ O() $"
   ]
  },
  {
   "cell_type": "code",
   "execution_count": null,
   "id": "de6c339a",
   "metadata": {},
   "outputs": [],
   "source": []
  },
  {
   "cell_type": "markdown",
   "id": "54827b41",
   "metadata": {},
   "source": [
    "* Approach:\n",
    "* Time Complexity $ O() $"
   ]
  },
  {
   "cell_type": "code",
   "execution_count": null,
   "id": "4149bea1",
   "metadata": {},
   "outputs": [],
   "source": []
  },
  {
   "cell_type": "markdown",
   "id": "2135e6d0",
   "metadata": {},
   "source": [
    "* Approach:\n",
    "* Time Complexity $ O() $"
   ]
  },
  {
   "cell_type": "code",
   "execution_count": null,
   "id": "e386dc7f",
   "metadata": {},
   "outputs": [],
   "source": []
  },
  {
   "cell_type": "markdown",
   "id": "1131696c",
   "metadata": {},
   "source": [
    "* Approach:\n",
    "* Time Complexity $ O() $"
   ]
  },
  {
   "cell_type": "code",
   "execution_count": null,
   "id": "8ec4a120",
   "metadata": {},
   "outputs": [],
   "source": []
  },
  {
   "cell_type": "markdown",
   "id": "6597e6d1",
   "metadata": {},
   "source": [
    "* Approach:\n",
    "* Time Complexity $ O() $"
   ]
  },
  {
   "cell_type": "code",
   "execution_count": null,
   "id": "79ce8ff5",
   "metadata": {},
   "outputs": [],
   "source": []
  },
  {
   "cell_type": "markdown",
   "id": "933ab131",
   "metadata": {},
   "source": [
    "* Approach:\n",
    "* Time Complexity $ O() $"
   ]
  },
  {
   "cell_type": "code",
   "execution_count": null,
   "id": "3b5ea14a",
   "metadata": {},
   "outputs": [],
   "source": []
  },
  {
   "cell_type": "markdown",
   "id": "210f58be",
   "metadata": {},
   "source": [
    "* Approach:\n",
    "* Time Complexity $ O() $"
   ]
  },
  {
   "cell_type": "code",
   "execution_count": null,
   "id": "5d8133d3",
   "metadata": {},
   "outputs": [],
   "source": []
  },
  {
   "cell_type": "markdown",
   "id": "e10c34fd",
   "metadata": {},
   "source": [
    "* Approach:\n",
    "* Time Complexity $ O() $"
   ]
  },
  {
   "cell_type": "code",
   "execution_count": null,
   "id": "e7801b3c",
   "metadata": {},
   "outputs": [],
   "source": []
  },
  {
   "cell_type": "markdown",
   "id": "8d438a9a",
   "metadata": {},
   "source": [
    "* Approach:\n",
    "* Time Complexity $ O() $"
   ]
  },
  {
   "cell_type": "code",
   "execution_count": null,
   "id": "690710a7",
   "metadata": {},
   "outputs": [],
   "source": []
  },
  {
   "cell_type": "markdown",
   "id": "cc2f43ea",
   "metadata": {},
   "source": [
    "* Approach:\n",
    "* Time Complexity $ O() $"
   ]
  },
  {
   "cell_type": "code",
   "execution_count": null,
   "id": "f0b0a442",
   "metadata": {},
   "outputs": [],
   "source": []
  },
  {
   "cell_type": "markdown",
   "id": "bb70d3b1",
   "metadata": {},
   "source": [
    "* Approach:\n",
    "* Time Complexity $ O() $"
   ]
  },
  {
   "cell_type": "code",
   "execution_count": null,
   "id": "5e310efb",
   "metadata": {},
   "outputs": [],
   "source": []
  },
  {
   "cell_type": "markdown",
   "id": "d8a80890",
   "metadata": {},
   "source": [
    "* Approach:\n",
    "* Time Complexity $ O() $"
   ]
  },
  {
   "cell_type": "code",
   "execution_count": null,
   "id": "9056fbd1",
   "metadata": {},
   "outputs": [],
   "source": []
  },
  {
   "cell_type": "markdown",
   "id": "4f004d8d",
   "metadata": {},
   "source": [
    "* Approach:\n",
    "* Time Complexity $ O() $"
   ]
  },
  {
   "cell_type": "code",
   "execution_count": null,
   "id": "d0f0479d",
   "metadata": {},
   "outputs": [],
   "source": []
  },
  {
   "cell_type": "markdown",
   "id": "0d36d14b",
   "metadata": {},
   "source": [
    "* Approach:\n",
    "* Time Complexity $ O() $"
   ]
  },
  {
   "cell_type": "code",
   "execution_count": null,
   "id": "be64d7a9",
   "metadata": {},
   "outputs": [],
   "source": []
  },
  {
   "cell_type": "markdown",
   "id": "c3be046f",
   "metadata": {},
   "source": [
    "* Approach:\n",
    "* Time Complexity $ O() $"
   ]
  },
  {
   "cell_type": "code",
   "execution_count": null,
   "id": "c0c4ae72",
   "metadata": {},
   "outputs": [],
   "source": []
  },
  {
   "cell_type": "markdown",
   "id": "ee1fd422",
   "metadata": {},
   "source": [
    "* Approach:\n",
    "* Time Complexity $ O() $"
   ]
  },
  {
   "cell_type": "code",
   "execution_count": null,
   "id": "eb6da37f",
   "metadata": {},
   "outputs": [],
   "source": []
  },
  {
   "cell_type": "markdown",
   "id": "9e715dfe",
   "metadata": {},
   "source": [
    "* Approach:\n",
    "* Time Complexity $ O() $"
   ]
  },
  {
   "cell_type": "code",
   "execution_count": null,
   "id": "297305bd",
   "metadata": {},
   "outputs": [],
   "source": []
  },
  {
   "cell_type": "markdown",
   "id": "0b2d456b",
   "metadata": {},
   "source": [
    "* Approach:\n",
    "* Time Complexity $ O() $"
   ]
  },
  {
   "cell_type": "code",
   "execution_count": null,
   "id": "60cea283",
   "metadata": {},
   "outputs": [],
   "source": []
  },
  {
   "cell_type": "markdown",
   "id": "d22b4209",
   "metadata": {},
   "source": [
    "* Approach:\n",
    "* Time Complexity $ O() $"
   ]
  },
  {
   "cell_type": "code",
   "execution_count": null,
   "id": "274b9a71",
   "metadata": {},
   "outputs": [],
   "source": []
  },
  {
   "cell_type": "markdown",
   "id": "3f0ed3e9",
   "metadata": {},
   "source": [
    "* Approach:\n",
    "* Time Complexity $ O() $"
   ]
  },
  {
   "cell_type": "code",
   "execution_count": null,
   "id": "a0e32628",
   "metadata": {},
   "outputs": [],
   "source": []
  },
  {
   "cell_type": "markdown",
   "id": "d3a8aec1",
   "metadata": {},
   "source": [
    "* Approach:\n",
    "* Time Complexity $ O() $"
   ]
  },
  {
   "cell_type": "code",
   "execution_count": null,
   "id": "59ce0a47",
   "metadata": {},
   "outputs": [],
   "source": []
  },
  {
   "cell_type": "markdown",
   "id": "8783c42d",
   "metadata": {},
   "source": [
    "* Approach:\n",
    "* Time Complexity $ O() $"
   ]
  },
  {
   "cell_type": "code",
   "execution_count": null,
   "id": "599ea641",
   "metadata": {},
   "outputs": [],
   "source": []
  },
  {
   "cell_type": "markdown",
   "id": "fe827a15",
   "metadata": {},
   "source": [
    "* Approach:\n",
    "* Time Complexity $ O() $"
   ]
  },
  {
   "cell_type": "code",
   "execution_count": null,
   "id": "9c35de1c",
   "metadata": {},
   "outputs": [],
   "source": []
  },
  {
   "cell_type": "markdown",
   "id": "85d4c778",
   "metadata": {},
   "source": [
    "* Approach:\n",
    "* Time Complexity $ O() $"
   ]
  },
  {
   "cell_type": "code",
   "execution_count": null,
   "id": "8ea6920a",
   "metadata": {},
   "outputs": [],
   "source": []
  },
  {
   "cell_type": "markdown",
   "id": "32c514d7",
   "metadata": {},
   "source": [
    "* Approach:\n",
    "* Time Complexity $ O() $"
   ]
  },
  {
   "cell_type": "code",
   "execution_count": null,
   "id": "dbd12921",
   "metadata": {},
   "outputs": [],
   "source": []
  },
  {
   "cell_type": "markdown",
   "id": "88ad458f",
   "metadata": {},
   "source": [
    "* Approach:\n",
    "* Time Complexity $ O() $"
   ]
  },
  {
   "cell_type": "code",
   "execution_count": null,
   "id": "6d6f81dc",
   "metadata": {},
   "outputs": [],
   "source": []
  },
  {
   "cell_type": "markdown",
   "id": "048c0e3f",
   "metadata": {},
   "source": [
    "* Approach:\n",
    "* Time Complexity $ O() $"
   ]
  },
  {
   "cell_type": "code",
   "execution_count": null,
   "id": "e825f4ad",
   "metadata": {},
   "outputs": [],
   "source": []
  },
  {
   "cell_type": "markdown",
   "id": "9cd8e814",
   "metadata": {},
   "source": [
    "* Approach:\n",
    "* Time Complexity $ O() $"
   ]
  },
  {
   "cell_type": "code",
   "execution_count": null,
   "id": "3cf45763",
   "metadata": {},
   "outputs": [],
   "source": []
  }
 ],
 "metadata": {
  "kernelspec": {
   "display_name": "Python 3 (ipykernel)",
   "language": "python",
   "name": "python3"
  },
  "language_info": {
   "codemirror_mode": {
    "name": "ipython",
    "version": 3
   },
   "file_extension": ".py",
   "mimetype": "text/x-python",
   "name": "python",
   "nbconvert_exporter": "python",
   "pygments_lexer": "ipython3",
   "version": "3.10.10"
  }
 },
 "nbformat": 4,
 "nbformat_minor": 5
}
