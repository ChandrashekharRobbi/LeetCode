{
 "cells": [
  {
   "cell_type": "code",
   "execution_count": 8,
   "id": "05a7ffe3",
   "metadata": {},
   "outputs": [
    {
     "name": "stdout",
     "output_type": "stream",
     "text": [
      "This Function is Created by Chandrashekhar Robbi.\n",
      "Note this function is especially created for my leet code solving purposes \n",
      "It takes name of the problem and return leetcode link and it has features like create array which has markdown, comment and delete after executing and many more :)\n"
     ]
    }
   ],
   "source": [
    "%run leetcode_function.py\n",
    "z = LeetFunction(\"leetcode.com\")"
   ]
  },
  {
   "cell_type": "markdown",
   "id": "3a8e4b4f",
   "metadata": {},
   "source": [
    "# Blind 75 \n",
    "\n",
    "I will be solving blind 75 questions from [NeetCode Website](https://neetcode.io/practice)\n",
    "\n",
    "* ✅ [Contains Duplicate](#Contains-Duplicate)           [<a href='https://leetcode.com/problems/contains-duplicate' style='color:black'>Link</a>]"
   ]
  },
  {
   "cell_type": "code",
   "execution_count": 9,
   "id": "a492d425",
   "metadata": {},
   "outputs": [
    {
     "data": {
      "application/javascript": [
       "\n",
       "            IPython.notebook.to_markdown();\n",
       "        "
      ],
      "text/plain": [
       "<IPython.core.display.Javascript object>"
      ]
     },
     "metadata": {},
     "output_type": "display_data"
    },
    {
     "name": "stdout",
     "output_type": "stream",
     "text": [
      "Successfully added to the comment list\n",
      "Here is the link https://leetcode.com/problems/contains-duplicate\n",
      "All the best Chandrashekhar\n"
     ]
    }
   ],
   "source": [
    "z.new(\"Contains Duplicate\")"
   ]
  },
  {
   "cell_type": "markdown",
   "id": "ec64b931",
   "metadata": {},
   "source": [
    "## Contains Duplicate\n",
    "\n",
    "* Approach 1: Using HashSet\n",
    "* Time Complexity $ O(n) $"
   ]
  },
  {
   "cell_type": "code",
   "execution_count": 21,
   "id": "6bd90753",
   "metadata": {},
   "outputs": [],
   "source": [
    "def containsDuplicate1(nums):\n",
    "    mp = {}\n",
    "    for i in nums:\n",
    "        if i in mp:\n",
    "            mp[i] += 1\n",
    "        else:\n",
    "            mp[i] = 1\n",
    "    for i in nums:\n",
    "        if mp[i] > 1:\n",
    "            return True\n",
    "    return False\n",
    "            "
   ]
  },
  {
   "cell_type": "markdown",
   "id": "7fa5f068",
   "metadata": {},
   "source": [
    "* Approach 2: Using Nested For Loops\n",
    "* Time Complexity  $𝑂(1)$"
   ]
  },
  {
   "cell_type": "code",
   "execution_count": 23,
   "id": "f327c415",
   "metadata": {},
   "outputs": [],
   "source": [
    "def containsDuplicate2(nums):\n",
    "    n = len(nums)\n",
    "    for i in range(n):\n",
    "        for j in range(i + 1, n):\n",
    "            if nums[i] == nums[j]:\n",
    "                return True\n",
    "    return False"
   ]
  },
  {
   "cell_type": "markdown",
   "id": "acae06d6",
   "metadata": {},
   "source": [
    "* Approach 3: Using set()\n",
    "* Time Complexity  $𝑂(1)$"
   ]
  },
  {
   "cell_type": "code",
   "execution_count": 25,
   "id": "5dbe4011",
   "metadata": {},
   "outputs": [],
   "source": [
    "def containsDuplicate(self, nums) -> bool:\n",
    "    # set up an sorting\n",
    "    nums.sort()\n",
    "    for i in range(len(nums)-1):\n",
    "        if nums[i] == nums[i + 1]:\n",
    "            return True\n",
    "    return False"
   ]
  },
  {
   "cell_type": "code",
   "execution_count": null,
   "id": "f66e7cae",
   "metadata": {},
   "outputs": [],
   "source": []
  }
 ],
 "metadata": {
  "kernelspec": {
   "display_name": "Python 3 (ipykernel)",
   "language": "python",
   "name": "python3"
  },
  "language_info": {
   "codemirror_mode": {
    "name": "ipython",
    "version": 3
   },
   "file_extension": ".py",
   "mimetype": "text/x-python",
   "name": "python",
   "nbconvert_exporter": "python",
   "pygments_lexer": "ipython3",
   "version": "3.10.10"
  }
 },
 "nbformat": 4,
 "nbformat_minor": 5
}
