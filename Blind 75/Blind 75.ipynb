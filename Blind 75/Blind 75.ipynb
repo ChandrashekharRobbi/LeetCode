{
 "cells": [
  {
   "cell_type": "code",
   "execution_count": 8,
   "id": "51318941",
   "metadata": {},
   "outputs": [
    {
     "name": "stdout",
     "output_type": "stream",
     "text": [
      "This Function is Created by Chandrashekhar Robbi.\n",
      "Note this function is especially created for my leet code solving purposes \n",
      "It takes name of the problem and return leetcode link and it has features like create array which has markdown, comment and delete after executing and many more :)\n"
     ]
    }
   ],
   "source": [
    "%run leetcode_function.py\n",
    "z = LeetFunction(\"leetcode.com\")"
   ]
  },
  {
   "cell_type": "code",
   "execution_count": 46,
   "id": "b473fa83",
   "metadata": {},
   "outputs": [],
   "source": [
    "from typing import List"
   ]
  },
  {
   "cell_type": "markdown",
   "id": "4570633f",
   "metadata": {},
   "source": [
    "# Blind 75 \n",
    "\n",
    "I will be solving blind 75 questions from [NeetCode Website](https://neetcode.io/practice)\n",
    "\n",
    "1. ✅ [Contains Duplicate](#Contains-Duplicate)           [<a href='https://leetcode.com/problems/contains-duplicate' style='color:black'>Link</a>]\n",
    "2. ✅ [Valid Anagram](#Valid-Anagram)           [<a href='https://leetcode.com/problems/valid-anagram' style='color:black'>Link</a>]\n",
    "3. ✅ [Two Sum](#Two-Sum)           [<a href='https://leetcode.com/problems/two-sum' style='color:black'>Link</a>]"
   ]
  },
  {
   "cell_type": "markdown",
   "id": "f6e301ce",
   "metadata": {},
   "source": [
    "## Contains Duplicate\n",
    "\n",
    "* Approach 1: Using HashSet\n",
    "* Time Complexity $ O(n) $"
   ]
  },
  {
   "cell_type": "code",
   "execution_count": 21,
   "id": "96ea6760",
   "metadata": {},
   "outputs": [],
   "source": [
    "def containsDuplicate1(nums):\n",
    "    mp = {}\n",
    "    for i in nums:\n",
    "        if i in mp:\n",
    "            mp[i] += 1\n",
    "        else:\n",
    "            mp[i] = 1\n",
    "    for i in nums:\n",
    "        if mp[i] > 1:\n",
    "            return True\n",
    "    return False\n",
    "            "
   ]
  },
  {
   "cell_type": "markdown",
   "id": "7277b619",
   "metadata": {},
   "source": [
    "* Approach 2: Using Nested For Loops\n",
    "* Time Complexity  $𝑂(n ^ 2)$"
   ]
  },
  {
   "cell_type": "code",
   "execution_count": 23,
   "id": "bd936b5f",
   "metadata": {},
   "outputs": [],
   "source": [
    "def containsDuplicate2(nums):\n",
    "    n = len(nums)\n",
    "    for i in range(n):\n",
    "        for j in range(i + 1, n):\n",
    "            if nums[i] == nums[j]:\n",
    "                return True\n",
    "    return False"
   ]
  },
  {
   "cell_type": "markdown",
   "id": "d212466c",
   "metadata": {},
   "source": [
    "* Approach 3: Using set()\n",
    "* Time Complexity  $𝑂(n)$"
   ]
  },
  {
   "cell_type": "code",
   "execution_count": 30,
   "id": "b400d162",
   "metadata": {},
   "outputs": [],
   "source": [
    "class Solution:\n",
    "    def containsDuplicate3(self, nums) -> bool:\n",
    "        # set up an hashmap\n",
    "        seen = set()\n",
    "        for i in nums:\n",
    "            if i in seen:\n",
    "                return True\n",
    "            seen.add(i)\n",
    "        return False"
   ]
  },
  {
   "cell_type": "markdown",
   "id": "9c8332e4",
   "metadata": {},
   "source": [
    "* Approach 4: Using sorting\n",
    "* Time Complexity  $𝑂(n logn)$"
   ]
  },
  {
   "cell_type": "code",
   "execution_count": 31,
   "id": "5ce2174d",
   "metadata": {},
   "outputs": [],
   "source": [
    "def containsDuplicate4(self, nums) -> bool:\n",
    "    # set up an sorting\n",
    "    nums.sort()\n",
    "    for i in range(len(nums)-1):\n",
    "        if nums[i] == nums[i + 1]:\n",
    "            return True\n",
    "    return False"
   ]
  },
  {
   "cell_type": "markdown",
   "id": "ec85c01c",
   "metadata": {},
   "source": [
    "## Valid Anagram\n",
    "\n",
    "* Approach 1: HashMap\n",
    "* Time Complexity $ O(n) $"
   ]
  },
  {
   "cell_type": "code",
   "execution_count": 36,
   "id": "1c6fe542",
   "metadata": {},
   "outputs": [],
   "source": [
    "class Solution:\n",
    "    def isAnagram1(self, s: str, t: str) -> bool:\n",
    "        # approach 1 using hashmap\n",
    "        if len(s) != len(t):\n",
    "            return False\n",
    "        mp1 = {}\n",
    "        mp2 = {}\n",
    "        for i in s:\n",
    "            if i in mp1:\n",
    "                mp1[i] += 1\n",
    "            else:\n",
    "                mp1[i] = 1\n",
    "        \n",
    "        for i in t:\n",
    "            if i in mp2:\n",
    "                mp2[i] += 1\n",
    "            else:\n",
    "                mp2[i] = 1\n",
    "        if mp1 == mp2:\n",
    "            return True\n",
    "        else:\n",
    "            return False\n",
    "        "
   ]
  },
  {
   "cell_type": "markdown",
   "id": "780872ce",
   "metadata": {},
   "source": [
    "* Approach 2: Using Hashmap Slightly improved than previous\n",
    "* Time Complexity $ O(n) $"
   ]
  },
  {
   "cell_type": "code",
   "execution_count": 38,
   "id": "f5b244ae",
   "metadata": {},
   "outputs": [],
   "source": [
    "class Solution:\n",
    "    def isAnagram2(self, s: str, t: str) -> bool:\n",
    "        # approach 1 using hashmap\n",
    "        if len(s) != len(t):\n",
    "            return False\n",
    "        mp1 = {}\n",
    "        for i in s:\n",
    "            if i in mp1:\n",
    "                mp1[i] += 1\n",
    "            else:\n",
    "                mp1[i] = 1\n",
    "        for num in t:\n",
    "            if num in mp1:\n",
    "                mp1[num] -= 1\n",
    "                if mp1[num] < 0:\n",
    "                    return False\n",
    "            else:\n",
    "                return False\n",
    "        return True"
   ]
  },
  {
   "cell_type": "markdown",
   "id": "40a92669",
   "metadata": {},
   "source": [
    "* Approach 3: Using Sorting\n",
    "* Time Complexity $ O(nlogn) $"
   ]
  },
  {
   "cell_type": "code",
   "execution_count": 39,
   "id": "a9399089",
   "metadata": {},
   "outputs": [],
   "source": [
    "def isAnagram3(s, t):\n",
    "    return sorted(s) == sorted(t)"
   ]
  },
  {
   "cell_type": "markdown",
   "id": "c22ab98c",
   "metadata": {},
   "source": [
    "## Two Sum\n",
    "\n",
    "* Approach 1:Using Nested For loops\n",
    "* Time Complexity $ O(n ^ 2) $"
   ]
  },
  {
   "cell_type": "code",
   "execution_count": 47,
   "id": "4957ccfe",
   "metadata": {},
   "outputs": [],
   "source": [
    "class Solution:\n",
    "    def twoSum(self, nums: List[int], target: int) -> List[int]:\n",
    "        # approach 1 nested for loops\n",
    "        ans = []\n",
    "        for i in range(len(nums)):\n",
    "            for j in range(i + 1, len(nums)):\n",
    "                if target - nums[j] == nums[i]:\n",
    "                    ans.append(i)\n",
    "                    ans.append(j)\n",
    "        return ans"
   ]
  },
  {
   "cell_type": "markdown",
   "id": "7347bdc4",
   "metadata": {},
   "source": [
    "* Approach 2:Using Partial Hashmaps\n",
    "* Time Complexity $ O(n) $"
   ]
  },
  {
   "cell_type": "code",
   "execution_count": 49,
   "id": "8ffc6265",
   "metadata": {},
   "outputs": [],
   "source": [
    "class Solution:\n",
    "    def twoSum(self, nums: List[int], target: int) -> List[int]:\n",
    "        # approach 2 using partial hashmap\n",
    "        num_hash = {}\n",
    "        for i, num in enumerate(nums):\n",
    "            compliment = target - num\n",
    "            if compliment in num_hash:\n",
    "                return [num_hash[compliment], i]\n",
    "            num_hash[num] = i\n",
    "\n"
   ]
  },
  {
   "cell_type": "code",
   "execution_count": 51,
   "id": "d25af9a3",
   "metadata": {},
   "outputs": [
    {
     "data": {
      "application/javascript": [
       "\n",
       "            IPython.notebook.to_markdown();\n",
       "        "
      ],
      "text/plain": [
       "<IPython.core.display.Javascript object>"
      ]
     },
     "metadata": {},
     "output_type": "display_data"
    },
    {
     "name": "stdout",
     "output_type": "stream",
     "text": [
      "Successfully added to the comment list\n",
      "Here is the link https://leetcode.com/problems/group-anagrams\n",
      "All the best Chandrashekhar\n"
     ]
    }
   ],
   "source": [
    "z.new(\"Group Anagrams\")"
   ]
  },
  {
   "cell_type": "markdown",
   "id": "f6f48653",
   "metadata": {},
   "source": [
    "## Group Anagrams\n",
    "\n",
    "* Approach 1 : Using HashMap (using nested for loops\n",
    "* Time Complexity $ O(m * n log(n)) $"
   ]
  },
  {
   "cell_type": "code",
   "execution_count": 53,
   "id": "95b12350",
   "metadata": {},
   "outputs": [],
   "source": [
    "class Solution:\n",
    "    def groupAnagrams(self, strs: List[str]) -> List[List[str]]:\n",
    "        anagrams = defaultdict(list)\n",
    "        for s in strs:\n",
    "            sorted_s = \"\".join(sorted(s))\n",
    "            anagrams[sorted_s].append(s)\n",
    "        return anagrams.values()"
   ]
  },
  {
   "cell_type": "markdown",
   "id": "76179abe",
   "metadata": {},
   "source": [
    "* Approach 2:Using HashMap(using ASCII values)\n",
    "* Time Complexity $ O(m * n) $"
   ]
  },
  {
   "cell_type": "markdown",
   "id": "a8c2b21b",
   "metadata": {},
   "source": [
    "* Approach:\n",
    "* Time Complexity $ O() $"
   ]
  },
  {
   "cell_type": "markdown",
   "id": "f936bd33",
   "metadata": {},
   "source": [
    "* Approach:\n",
    "* Time Complexity $ O() $"
   ]
  },
  {
   "cell_type": "markdown",
   "id": "127ce851",
   "metadata": {},
   "source": [
    "* Approach:\n",
    "* Time Complexity $ O() $"
   ]
  },
  {
   "cell_type": "markdown",
   "id": "56935830",
   "metadata": {},
   "source": [
    "* Approach:\n",
    "* Time Complexity $ O() $"
   ]
  },
  {
   "cell_type": "markdown",
   "id": "cdd209c0",
   "metadata": {},
   "source": [
    "* Approach:\n",
    "* Time Complexity $ O() $"
   ]
  },
  {
   "cell_type": "markdown",
   "id": "4e1be4c6",
   "metadata": {},
   "source": [
    "* Approach:\n",
    "* Time Complexity $ O() $"
   ]
  },
  {
   "cell_type": "markdown",
   "id": "f00ad8d8",
   "metadata": {},
   "source": [
    "* Approach:\n",
    "* Time Complexity $ O() $"
   ]
  },
  {
   "cell_type": "code",
   "execution_count": null,
   "id": "f22cf107",
   "metadata": {},
   "outputs": [],
   "source": []
  }
 ],
 "metadata": {
  "kernelspec": {
   "display_name": "Python 3 (ipykernel)",
   "language": "python",
   "name": "python3"
  },
  "language_info": {
   "codemirror_mode": {
    "name": "ipython",
    "version": 3
   },
   "file_extension": ".py",
   "mimetype": "text/x-python",
   "name": "python",
   "nbconvert_exporter": "python",
   "pygments_lexer": "ipython3",
   "version": "3.10.10"
  }
 },
 "nbformat": 4,
 "nbformat_minor": 5
}
