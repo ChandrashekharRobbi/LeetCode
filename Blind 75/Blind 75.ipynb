{
 "cells": [
  {
   "cell_type": "code",
   "execution_count": 8,
   "id": "024866ed",
   "metadata": {},
   "outputs": [
    {
     "name": "stdout",
     "output_type": "stream",
     "text": [
      "This Function is Created by Chandrashekhar Robbi.\n",
      "Note this function is especially created for my leet code solving purposes \n",
      "It takes name of the problem and return leetcode link and it has features like create array which has markdown, comment and delete after executing and many more :)\n"
     ]
    }
   ],
   "source": [
    "%run leetcode_function.py\n",
    "z = LeetFunction(\"leetcode.com\")"
   ]
  },
  {
   "cell_type": "code",
   "execution_count": 46,
   "id": "4d495084",
   "metadata": {},
   "outputs": [],
   "source": [
    "from typing import List"
   ]
  },
  {
   "cell_type": "markdown",
   "id": "40f52afe",
   "metadata": {},
   "source": [
    "# Blind 75 \n",
    "\n",
    "I will be solving blind 75 questions from [NeetCode Website](https://neetcode.io/practice)\n",
    "\n",
    "1. ✅ [Contains Duplicate](#Contains-Duplicate)           [<a href='https://leetcode.com/problems/contains-duplicate' style='color:black'>Link</a>]\n",
    "2. ✅ [Valid Anagram](#Valid-Anagram)           [<a href='https://leetcode.com/problems/valid-anagram' style='color:black'>Link</a>]\n",
    "3. ✅ [Two Sum](#Two-Sum)           [<a href='https://leetcode.com/problems/two-sum' style='color:black'>Link</a>]"
   ]
  },
  {
   "cell_type": "code",
   "execution_count": 9,
   "id": "ba3eafb9",
   "metadata": {},
   "outputs": [
    {
     "data": {
      "application/javascript": [
       "\n",
       "            IPython.notebook.to_markdown();\n",
       "        "
      ],
      "text/plain": [
       "<IPython.core.display.Javascript object>"
      ]
     },
     "metadata": {},
     "output_type": "display_data"
    },
    {
     "name": "stdout",
     "output_type": "stream",
     "text": [
      "Successfully added to the comment list\n",
      "Here is the link https://leetcode.com/problems/contains-duplicate\n",
      "All the best Chandrashekhar\n"
     ]
    }
   ],
   "source": [
    "z.new(\"Contains Duplicate\")"
   ]
  },
  {
   "cell_type": "markdown",
   "id": "4b2ff5dc",
   "metadata": {},
   "source": [
    "## Contains Duplicate\n",
    "\n",
    "* Approach 1: Using HashSet\n",
    "* Time Complexity $ O(n) $"
   ]
  },
  {
   "cell_type": "code",
   "execution_count": 21,
   "id": "203d094a",
   "metadata": {},
   "outputs": [],
   "source": [
    "def containsDuplicate1(nums):\n",
    "    mp = {}\n",
    "    for i in nums:\n",
    "        if i in mp:\n",
    "            mp[i] += 1\n",
    "        else:\n",
    "            mp[i] = 1\n",
    "    for i in nums:\n",
    "        if mp[i] > 1:\n",
    "            return True\n",
    "    return False\n",
    "            "
   ]
  },
  {
   "cell_type": "markdown",
   "id": "7109b68c",
   "metadata": {},
   "source": [
    "* Approach 2: Using Nested For Loops\n",
    "* Time Complexity  $𝑂(n ^ 2)$"
   ]
  },
  {
   "cell_type": "code",
   "execution_count": 23,
   "id": "aa176f94",
   "metadata": {},
   "outputs": [],
   "source": [
    "def containsDuplicate2(nums):\n",
    "    n = len(nums)\n",
    "    for i in range(n):\n",
    "        for j in range(i + 1, n):\n",
    "            if nums[i] == nums[j]:\n",
    "                return True\n",
    "    return False"
   ]
  },
  {
   "cell_type": "markdown",
   "id": "10493083",
   "metadata": {},
   "source": [
    "* Approach 3: Using set()\n",
    "* Time Complexity  $𝑂(n)$"
   ]
  },
  {
   "cell_type": "code",
   "execution_count": 30,
   "id": "b9f1d09e",
   "metadata": {},
   "outputs": [],
   "source": [
    "class Solution:\n",
    "    def containsDuplicate3(self, nums) -> bool:\n",
    "        # set up an hashmap\n",
    "        seen = set()\n",
    "        for i in nums:\n",
    "            if i in seen:\n",
    "                return True\n",
    "            seen.add(i)\n",
    "        return False"
   ]
  },
  {
   "cell_type": "markdown",
   "id": "9b38898a",
   "metadata": {},
   "source": [
    "* Approach 4: Using sorting\n",
    "* Time Complexity  $𝑂(n logn)$"
   ]
  },
  {
   "cell_type": "code",
   "execution_count": 31,
   "id": "7e3f8387",
   "metadata": {},
   "outputs": [],
   "source": [
    "def containsDuplicate4(self, nums) -> bool:\n",
    "    # set up an sorting\n",
    "    nums.sort()\n",
    "    for i in range(len(nums)-1):\n",
    "        if nums[i] == nums[i + 1]:\n",
    "            return True\n",
    "    return False"
   ]
  },
  {
   "cell_type": "code",
   "execution_count": 33,
   "id": "40631b2c",
   "metadata": {},
   "outputs": [
    {
     "data": {
      "application/javascript": [
       "\n",
       "            IPython.notebook.to_markdown();\n",
       "        "
      ],
      "text/plain": [
       "<IPython.core.display.Javascript object>"
      ]
     },
     "metadata": {},
     "output_type": "display_data"
    },
    {
     "name": "stdout",
     "output_type": "stream",
     "text": [
      "Successfully added to the comment list\n",
      "Here is the link https://leetcode.com/problems/valid-anagram\n",
      "All the best Chandrashekhar\n"
     ]
    }
   ],
   "source": [
    "z.new(\"Valid Anagram\")"
   ]
  },
  {
   "cell_type": "markdown",
   "id": "6c471105",
   "metadata": {},
   "source": [
    "## Valid Anagram\n",
    "\n",
    "* Approach 1: HashMap\n",
    "* Time Complexity $ O(n) $"
   ]
  },
  {
   "cell_type": "code",
   "execution_count": 36,
   "id": "3f132821",
   "metadata": {},
   "outputs": [],
   "source": [
    "class Solution:\n",
    "    def isAnagram1(self, s: str, t: str) -> bool:\n",
    "        # approach 1 using hashmap\n",
    "        if len(s) != len(t):\n",
    "            return False\n",
    "        mp1 = {}\n",
    "        mp2 = {}\n",
    "        for i in s:\n",
    "            if i in mp1:\n",
    "                mp1[i] += 1\n",
    "            else:\n",
    "                mp1[i] = 1\n",
    "        \n",
    "        for i in t:\n",
    "            if i in mp2:\n",
    "                mp2[i] += 1\n",
    "            else:\n",
    "                mp2[i] = 1\n",
    "        if mp1 == mp2:\n",
    "            return True\n",
    "        else:\n",
    "            return False\n",
    "        "
   ]
  },
  {
   "cell_type": "markdown",
   "id": "d046b6c3",
   "metadata": {},
   "source": [
    "* Approach 2: Using Hashmap Slightly improved than previous\n",
    "* Time Complexity $ O(n) $"
   ]
  },
  {
   "cell_type": "code",
   "execution_count": 38,
   "id": "11e0fd6b",
   "metadata": {},
   "outputs": [],
   "source": [
    "class Solution:\n",
    "    def isAnagram2(self, s: str, t: str) -> bool:\n",
    "        # approach 1 using hashmap\n",
    "        if len(s) != len(t):\n",
    "            return False\n",
    "        mp1 = {}\n",
    "        for i in s:\n",
    "            if i in mp1:\n",
    "                mp1[i] += 1\n",
    "            else:\n",
    "                mp1[i] = 1\n",
    "        for num in t:\n",
    "            if num in mp1:\n",
    "                mp1[num] -= 1\n",
    "                if mp1[num] < 0:\n",
    "                    return False\n",
    "            else:\n",
    "                return False\n",
    "        return True"
   ]
  },
  {
   "cell_type": "markdown",
   "id": "ab8b4ffb",
   "metadata": {},
   "source": [
    "* Approach 3: Using Sorting\n",
    "* Time Complexity $ O(nlogn) $"
   ]
  },
  {
   "cell_type": "code",
   "execution_count": 39,
   "id": "41aebd68",
   "metadata": {},
   "outputs": [],
   "source": [
    "def isAnagram3(s, t):\n",
    "    return sorted(s) == sorted(t)"
   ]
  },
  {
   "cell_type": "code",
   "execution_count": 40,
   "id": "9c39b281",
   "metadata": {},
   "outputs": [
    {
     "data": {
      "application/javascript": [
       "\n",
       "            IPython.notebook.to_markdown();\n",
       "        "
      ],
      "text/plain": [
       "<IPython.core.display.Javascript object>"
      ]
     },
     "metadata": {},
     "output_type": "display_data"
    },
    {
     "name": "stdout",
     "output_type": "stream",
     "text": [
      "Successfully added to the comment list\n",
      "Here is the link https://leetcode.com/problems/two-sum\n",
      "All the best Chandrashekhar\n"
     ]
    }
   ],
   "source": [
    "z.new(\"Two Sum\")"
   ]
  },
  {
   "cell_type": "markdown",
   "id": "3dd78192",
   "metadata": {},
   "source": [
    "## Two Sum\n",
    "\n",
    "* Approach:\n",
    "* Time Complexity $ O() $"
   ]
  },
  {
   "cell_type": "code",
   "execution_count": 43,
   "id": "f34abe68",
   "metadata": {},
   "outputs": [],
   "source": []
  },
  {
   "cell_type": "code",
   "execution_count": 44,
   "id": "d32915f2",
   "metadata": {},
   "outputs": [],
   "source": [
    "class Solution:\n",
    "    def twoSum(self, nums: List[int], target: int) -> List[int]:\n",
    "        # approach 1 nested for loops\n",
    "        ans = []\n",
    "        for i in range(len(nums)):\n",
    "            for j in range(i + 1, len(nums)):\n",
    "                if target - nums[j] == nums[i]:\n",
    "                    ans.append(i)\n",
    "                    ans.append(j)\n",
    "        return ans\n"
   ]
  },
  {
   "cell_type": "code",
   "execution_count": null,
   "id": "075256ff",
   "metadata": {},
   "outputs": [],
   "source": []
  },
  {
   "cell_type": "markdown",
   "id": "4a8f90ad",
   "metadata": {},
   "source": [
    "* Approach:\n",
    "* Time Complexity $ O() $"
   ]
  },
  {
   "cell_type": "markdown",
   "id": "6b3aa938",
   "metadata": {},
   "source": [
    "* Approach:\n",
    "* Time Complexity $ O() $"
   ]
  },
  {
   "cell_type": "markdown",
   "id": "2509430d",
   "metadata": {},
   "source": [
    "* Approach:\n",
    "* Time Complexity $ O() $"
   ]
  },
  {
   "cell_type": "code",
   "execution_count": null,
   "id": "1195e434",
   "metadata": {},
   "outputs": [],
   "source": []
  }
 ],
 "metadata": {
  "kernelspec": {
   "display_name": "Python 3 (ipykernel)",
   "language": "python",
   "name": "python3"
  },
  "language_info": {
   "codemirror_mode": {
    "name": "ipython",
    "version": 3
   },
   "file_extension": ".py",
   "mimetype": "text/x-python",
   "name": "python",
   "nbconvert_exporter": "python",
   "pygments_lexer": "ipython3",
   "version": "3.10.10"
  }
 },
 "nbformat": 4,
 "nbformat_minor": 5
}
