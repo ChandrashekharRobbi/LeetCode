{
 "cells": [
  {
   "cell_type": "markdown",
   "id": "33882730",
   "metadata": {},
   "source": [
    "# Extra Questions which are not in sheets\n",
    "\n"
   ]
  },
  {
   "cell_type": "code",
   "execution_count": 1,
   "id": "d4af5bb1",
   "metadata": {},
   "outputs": [],
   "source": [
    "%run leetcode_function.py"
   ]
  },
  {
   "cell_type": "code",
   "execution_count": 3,
   "id": "9c1619b7",
   "metadata": {},
   "outputs": [
    {
     "name": "stdout",
     "output_type": "stream",
     "text": [
      "This Function is Created by Chandrashekhar Robbi.\n",
      "Note this function is especially created for my leet code solving purposes \n",
      "It takes name of the problem and return leetcode link and it has features like create array which has markdown, comment and delete after executing and many more :)\n"
     ]
    }
   ],
   "source": [
    "z = LeetFunction(\"leetcode.com\")"
   ]
  },
  {
   "cell_type": "code",
   "execution_count": 4,
   "id": "441ad5fd",
   "metadata": {},
   "outputs": [
    {
     "data": {
      "application/javascript": [
       "\n",
       "            IPython.notebook.to_markdown();\n",
       "        "
      ],
      "text/plain": [
       "<IPython.core.display.Javascript object>"
      ]
     },
     "metadata": {},
     "output_type": "display_data"
    },
    {
     "name": "stdout",
     "output_type": "stream",
     "text": [
      "Successfully added to the comment list\n",
      "Here is the link https://leetcode.com/problems/spiral-matrix\n",
      "All the best Chandrashekhar\n"
     ]
    }
   ],
   "source": [
    "z.new(\"54. Spiral Matrix\")"
   ]
  },
  {
   "cell_type": "markdown",
   "id": "8445b810",
   "metadata": {},
   "source": [
    "## 54. Spiral Matrix\n",
    "\n",
    "* Approach: Use four pointers to\n",
    "* Time Complexity $ O() $"
   ]
  }
 ],
 "metadata": {
  "kernelspec": {
   "display_name": "Python 3 (ipykernel)",
   "language": "python",
   "name": "python3"
  },
  "language_info": {
   "codemirror_mode": {
    "name": "ipython",
    "version": 3
   },
   "file_extension": ".py",
   "mimetype": "text/x-python",
   "name": "python",
   "nbconvert_exporter": "python",
   "pygments_lexer": "ipython3",
   "version": "3.10.10"
  }
 },
 "nbformat": 4,
 "nbformat_minor": 5
}
