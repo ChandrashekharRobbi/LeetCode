{
 "cells": [
  {
   "cell_type": "markdown",
   "id": "6d6dae21",
   "metadata": {},
   "source": [
    "# Extra Questions which are not in sheets\n",
    "\n",
    "* ✅ [54. Spiral Matrix](#54.-Spiral-Matrix)           [<a href='https://leetcode.com/problems/spiral-matrix' style='color:black'>Link</a>]\n",
    "* ✅ [2215. Find the Difference of Two Arrays](#2215.-Find-the-Difference-of-Two-Arrays)           [<a href='https://leetcode.com/problems/find-the-difference-of-two-arrays' style='color:black'>Link</a>]"
   ]
  },
  {
   "cell_type": "code",
   "execution_count": 1,
   "id": "9e323a2b",
   "metadata": {},
   "outputs": [],
   "source": [
    "%run leetcode_function.py"
   ]
  },
  {
   "cell_type": "code",
   "execution_count": 3,
   "id": "d7bae41d",
   "metadata": {},
   "outputs": [
    {
     "name": "stdout",
     "output_type": "stream",
     "text": [
      "This Function is Created by Chandrashekhar Robbi.\n",
      "Note this function is especially created for my leet code solving purposes \n",
      "It takes name of the problem and return leetcode link and it has features like create array which has markdown, comment and delete after executing and many more :)\n"
     ]
    }
   ],
   "source": [
    "z = LeetFunction(\"leetcode.com\")"
   ]
  },
  {
   "cell_type": "code",
   "execution_count": 4,
   "id": "02873b6c",
   "metadata": {},
   "outputs": [
    {
     "data": {
      "application/javascript": [
       "\n",
       "            IPython.notebook.to_markdown();\n",
       "        "
      ],
      "text/plain": [
       "<IPython.core.display.Javascript object>"
      ]
     },
     "metadata": {},
     "output_type": "display_data"
    },
    {
     "name": "stdout",
     "output_type": "stream",
     "text": [
      "Successfully added to the comment list\n",
      "Here is the link https://leetcode.com/problems/spiral-matrix\n",
      "All the best Chandrashekhar\n"
     ]
    }
   ],
   "source": [
    "z.new(\"54. Spiral Matrix\")"
   ]
  },
  {
   "cell_type": "markdown",
   "id": "83b5b78f",
   "metadata": {},
   "source": [
    "## 54. Spiral Matrix\n",
    "\n",
    "* Approach: Use four pointers to manage the spiral values and based on the condition we increment and decrement the values\n",
    "* Time Complexity $ O(r * c) $"
   ]
  },
  {
   "cell_type": "code",
   "execution_count": 6,
   "id": "9bf8dfcc",
   "metadata": {},
   "outputs": [],
   "source": [
    "class Solution:\n",
    "    def spiralOrder(self, matrix):\n",
    "        r = len(matrix)\n",
    "        c = len(matrix[0])\n",
    "        top = 0\n",
    "        right = c - 1\n",
    "        left = 0\n",
    "        bottom = r - 1\n",
    "        res = []\n",
    "        while top <= bottom and left <= right:\n",
    "            # top\n",
    "            for i in range(left, right + 1):\n",
    "                res.append(matrix[top][i])\n",
    "            top += 1\n",
    "            # right\n",
    "            for i in range(top, bottom + 1):\n",
    "                res.append(matrix[i][right])\n",
    "            right -= 1\n",
    "            # bottom \n",
    "            if top <= bottom:\n",
    "                for i in range(right, left - 1, -1):\n",
    "                    res.append(matrix[bottom][i])\n",
    "            bottom -= 1\n",
    "            # left\n",
    "            if left <= right:\n",
    "                for i in range(bottom, top - 1, -1):\n",
    "                    res.append(matrix[i][left])\n",
    "            left += 1\n",
    "        return res"
   ]
  },
  {
   "cell_type": "code",
   "execution_count": 11,
   "id": "c9757b96",
   "metadata": {},
   "outputs": [
    {
     "data": {
      "application/javascript": [
       "\n",
       "            IPython.notebook.to_markdown();\n",
       "        "
      ],
      "text/plain": [
       "<IPython.core.display.Javascript object>"
      ]
     },
     "metadata": {},
     "output_type": "display_data"
    },
    {
     "name": "stdout",
     "output_type": "stream",
     "text": [
      "Successfully added to the comment list\n",
      "Here is the link https://leetcode.com/problems/find-the-difference-of-two-arrays\n",
      "All the best Chandrashekhar\n"
     ]
    }
   ],
   "source": [
    "z.new(\"2215. Find the Difference of Two Arrays\")"
   ]
  },
  {
   "cell_type": "markdown",
   "id": "ec4c5979",
   "metadata": {},
   "source": [
    "## 2215. Find the Difference of Two Arrays\n",
    "\n",
    "* Approach:\n",
    "* Time Complexity $ O() $"
   ]
  },
  {
   "cell_type": "code",
   "execution_count": null,
   "id": "c2a508cd",
   "metadata": {},
   "outputs": [],
   "source": [
    "class Solution:\n",
    "    def findDifference(self, nums1: List[int], nums2: List[int]) -> List[List[int]]:\n",
    "        temp = []\n",
    "        answer = []\n",
    "        for i in set(nums1):\n",
    "            if i not in nums2:\n",
    "                temp.append(i)\n",
    "        answer.append(temp)\n",
    "        temp = []\n",
    "        for j in set(nums2):\n",
    "            if j not in nums1:\n",
    "                temp.append(j)\n",
    "        answer.append(temp)\n",
    "        return answer"
   ]
  }
 ],
 "metadata": {
  "kernelspec": {
   "display_name": "Python 3 (ipykernel)",
   "language": "python",
   "name": "python3"
  },
  "language_info": {
   "codemirror_mode": {
    "name": "ipython",
    "version": 3
   },
   "file_extension": ".py",
   "mimetype": "text/x-python",
   "name": "python",
   "nbconvert_exporter": "python",
   "pygments_lexer": "ipython3",
   "version": "3.10.10"
  }
 },
 "nbformat": 4,
 "nbformat_minor": 5
}
