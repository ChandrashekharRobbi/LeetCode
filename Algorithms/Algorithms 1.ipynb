{
 "cells": [
  {
   "cell_type": "code",
   "execution_count": 1,
   "id": "ceb9a07b",
   "metadata": {},
   "outputs": [],
   "source": [
    "url = \"https://docs.google.com/spreadsheets/d/159i0H_ho_n2vefVKShvPUppcKYO8puFreSY5TMjiz60/edit?usp=sharing\""
   ]
  },
  {
   "cell_type": "code",
   "execution_count": 2,
   "id": "a101670a",
   "metadata": {},
   "outputs": [
    {
     "name": "stdout",
     "output_type": "stream",
     "text": [
      "This Function is Created by Chandrashekhar Robbi.\n",
      "Note this function is especially created for my leet code solving purposes \n",
      "It takes name of the problem and return leetcode link and it has features like create array which has markdown, comment and delete after executing and many more :)\n"
     ]
    }
   ],
   "source": [
    "%run ../leetcode_function.py\n",
    "z = LeetFunction(url)"
   ]
  },
  {
   "cell_type": "markdown",
   "id": "09f64343",
   "metadata": {},
   "source": [
    "# Algorithms 1\n",
    "\n",
    "**Problems**\n",
    "\n",
    "* ✅ [704. Binary Search](#704.-Binary-Search)           [<a href='https://leetcode.com/problems/binary-search' style='color:black'>Link</a>]\n",
    "* ✅ [278. First Bad Version](#278.-First-Bad-Version)           [<a href='https://leetcode.com/problems/first-bad-version' style='color:black'>Link</a>]\n",
    "* ✅ [35. Search Insert Position](#35.-Search-Insert-Position)           [<a href='https://leetcode.com/problems/search-insert-position' style='color:black'>Link</a>]"
   ]
  },
  {
   "cell_type": "markdown",
   "id": "370eea1d",
   "metadata": {},
   "source": [
    "## 704. Binary Search\n",
    "\n",
    "* Approach: Solved using 2 methods\n",
    "    * simply check for the target variable in `nums` and return the index if exists\n",
    "    * Used Binary Search \n",
    "* Time Complexity \n",
    "    * $ O(N) $\n",
    "    * $ O(log(N)) $"
   ]
  },
  {
   "cell_type": "code",
   "execution_count": 13,
   "id": "bea49faa",
   "metadata": {},
   "outputs": [],
   "source": [
    "class Solution:\n",
    "    def search(self, nums: list[int], target: int) -> int:\n",
    "        if target in nums:\n",
    "            return nums.index(target)\n",
    "        else:\n",
    "            return -1"
   ]
  },
  {
   "cell_type": "code",
   "execution_count": 14,
   "id": "886c22a6",
   "metadata": {},
   "outputs": [],
   "source": [
    "# another solution\n",
    "def search(self, nums: list[int], target: int) -> int:\n",
    "    if len(nums) == 1:\n",
    "        if nums[0] == target:\n",
    "            return 0\n",
    "        else:\n",
    "            return -1\n",
    "    l = 0\n",
    "    h = len(nums) - 1\n",
    "    while l<=h:\n",
    "        mid = (l + h) // 2\n",
    "        if nums[mid] == target:\n",
    "            return mid\n",
    "        if nums[mid] < target:\n",
    "            l = mid + 1\n",
    "        if nums[mid] > target:\n",
    "            h = mid - 1\n",
    "    return -1"
   ]
  },
  {
   "cell_type": "markdown",
   "id": "420ebff0",
   "metadata": {},
   "source": [
    "## 278. First Bad Version\n",
    "\n",
    "* Approach: Used Binary Search if `isBadVersion(value)` == `True` then check for the lower half value `else` check upper half value\n",
    "* Time Complexity $ O(Log(N) $"
   ]
  },
  {
   "cell_type": "code",
   "execution_count": 16,
   "id": "d006737c",
   "metadata": {},
   "outputs": [],
   "source": [
    "# The isBadVersion API is already defined for you.\n",
    "# def isBadVersion(version: int) -> bool:\n",
    "\n",
    "class Solution:\n",
    "    def firstBadVersion(self, n: int) -> int:\n",
    "        l,h = 1,n\n",
    "        while l<=h:\n",
    "            mid = (l + h) // 2\n",
    "            res = isBadVersion(mid)\n",
    "            if res:\n",
    "                h = mid - 1\n",
    "            else:\n",
    "                l = mid + 1\n",
    "        return l\n"
   ]
  },
  {
   "cell_type": "markdown",
   "id": "6f91471e",
   "metadata": {},
   "source": [
    "## 35. Search Insert Position\n",
    "\n",
    "* Approach: Used Binary Search to find the position to insert\n",
    "* Time Complexity $ O(Log(N)) $"
   ]
  },
  {
   "cell_type": "code",
   "execution_count": 18,
   "id": "3bd4a8d6",
   "metadata": {},
   "outputs": [],
   "source": [
    "class Solution:\n",
    "    def searchInsert(self, nums: list[int], target: int) -> int:\n",
    "        l , h = 0 , len(nums) - 1\n",
    "        while l <= h:\n",
    "            mid = (l + h) // 2\n",
    "            if nums[mid] == target:\n",
    "                return mid\n",
    "            if nums[mid] < target:\n",
    "                l = mid + 1\n",
    "            else:\n",
    "                nums[mid] > target\n",
    "                h = mid - 1\n",
    "        return l"
   ]
  },
  {
   "cell_type": "code",
   "execution_count": 20,
   "id": "e9049d96",
   "metadata": {},
   "outputs": [
    {
     "data": {
      "application/javascript": [
       "\n",
       "            IPython.notebook.to_markdown();\n",
       "        "
      ],
      "text/plain": [
       "<IPython.core.display.Javascript object>"
      ]
     },
     "metadata": {},
     "output_type": "display_data"
    },
    {
     "name": "stdout",
     "output_type": "stream",
     "text": [
      "Successfully added to the comment list\n",
      "Here is the link https://leetcode.com/problems/squares-of-a-sorted-array\n",
      "All the best Chandrashekhar\n"
     ]
    }
   ],
   "source": [
    "z.new(\"977. Squares of a Sorted Array\")"
   ]
  },
  {
   "cell_type": "markdown",
   "id": "d3277746",
   "metadata": {},
   "source": [
    "## 977. Squares of a Sorted Array\n",
    "\n",
    "* Approach: USed Two pointers to get left and right values append the largest element and reverse the array at the end\n",
    "* Time Complexity $ O(N) $"
   ]
  },
  {
   "cell_type": "code",
   "execution_count": 22,
   "id": "82155241",
   "metadata": {},
   "outputs": [],
   "source": [
    "class Solution:\n",
    "    def sortedSquares(self, nums: list[int]) -> list[int]:\n",
    "        # check if the nums array contains negative value \n",
    "        if nums[0] > 0:\n",
    "            for i in range(len(nums)):\n",
    "                nums[i] = nums[i] * nums[i]\n",
    "            return nums\n",
    "        else:\n",
    "            # if it contains negative values the use 2 pointers \n",
    "            # left and right and append the largest element\n",
    "            # reverse at the last and return it\n",
    "            arr = []\n",
    "            l = 0\n",
    "            r = len(nums) - 1\n",
    "            while l<=r:\n",
    "                left_sq = nums[l] * nums[l]\n",
    "                right_sq = nums[r] * nums[r]\n",
    "                if left_sq > right_sq:\n",
    "                    arr.append(left_sq)\n",
    "                    l += 1\n",
    "                else:\n",
    "                    arr.append(right_sq)\n",
    "                    r -= 1\n",
    "            return arr[::-1]"
   ]
  },
  {
   "cell_type": "code",
   "execution_count": 23,
   "id": "6cfaa4a4",
   "metadata": {},
   "outputs": [
    {
     "data": {
      "application/javascript": [
       "\n",
       "            IPython.notebook.to_markdown();\n",
       "        "
      ],
      "text/plain": [
       "<IPython.core.display.Javascript object>"
      ]
     },
     "metadata": {},
     "output_type": "display_data"
    },
    {
     "name": "stdout",
     "output_type": "stream",
     "text": [
      "Successfully added to the comment list\n",
      "Here is the link https://leetcode.com/problems/rotate-array\n",
      "All the best Chandrashekhar\n"
     ]
    }
   ],
   "source": [
    "z.new(\"189. Rotate Array\")"
   ]
  },
  {
   "cell_type": "markdown",
   "id": "e615c7ee",
   "metadata": {},
   "source": [
    "## 189. Rotate Array\n",
    "\n",
    "* Approach:Solved using 2 Approach\n",
    "    1. Simply used a for loop to iterate `k` times and store the last element and insert at 0 index\n",
    "* Time Complexity $ O() $"
   ]
  },
  {
   "cell_type": "code",
   "execution_count": 24,
   "id": "0957e1f9",
   "metadata": {},
   "outputs": [],
   "source": [
    "class Solution:\n",
    "    def rotate(self, nums: list[int], k: int) -> None:\n",
    "        \"\"\"\n",
    "        Do not return anything, modify nums in-place instead.\n",
    "        \"\"\"\n",
    "        for i in range(k):\n",
    "            val = nums.pop()\n",
    "            nums.insert(0, val)"
   ]
  },
  {
   "cell_type": "code",
   "execution_count": 25,
   "id": "cf3d5154",
   "metadata": {},
   "outputs": [],
   "source": [
    "class Solution:\n",
    "    def rotate(self, nums: list[int], k: int) -> None:\n",
    "        \"\"\"\n",
    "        Do not return anything, modify nums in-place instead.\n",
    "        \"\"\"\n",
    "        m = len(nums)\n",
    "        k = k % m\n",
    "        y = []\n",
    "        y.extend(nums[m - k:])\n",
    "        y.extend(nums[:m - k])\n",
    "        nums.clear()\n",
    "        nums.extend(y) "
   ]
  },
  {
   "cell_type": "code",
   "execution_count": null,
   "id": "05abf2d2",
   "metadata": {},
   "outputs": [],
   "source": []
  }
 ],
 "metadata": {
  "kernelspec": {
   "display_name": "Python 3 (ipykernel)",
   "language": "python",
   "name": "python3"
  },
  "language_info": {
   "codemirror_mode": {
    "name": "ipython",
    "version": 3
   },
   "file_extension": ".py",
   "mimetype": "text/x-python",
   "name": "python",
   "nbconvert_exporter": "python",
   "pygments_lexer": "ipython3",
   "version": "3.10.9"
  }
 },
 "nbformat": 4,
 "nbformat_minor": 5
}
