{
 "cells": [
  {
   "cell_type": "code",
   "execution_count": 1,
   "id": "c53f1b2f",
   "metadata": {},
   "outputs": [],
   "source": [
    "url = \"https://docs.google.com/spreadsheets/d/159i0H_ho_n2vefVKShvPUppcKYO8puFreSY5TMjiz60/edit?usp=sharing\""
   ]
  },
  {
   "cell_type": "code",
   "execution_count": 2,
   "id": "a101670a",
   "metadata": {},
   "outputs": [
    {
     "name": "stdout",
     "output_type": "stream",
     "text": [
      "This Function is Created by Chandrashekhar Robbi.\n",
      "Note this function is especially created for my leet code solving purposes \n",
      "It takes name of the problem and return leetcode link and it has features like create array which has markdown, comment and delete after executing and many more :)\n"
     ]
    }
   ],
   "source": [
    "%run ../leetcode_function.py\n",
    "z = LeetFunction(url)"
   ]
  },
  {
   "cell_type": "markdown",
   "id": "09f64343",
   "metadata": {},
   "source": [
    "# Algorithms 1\n",
    "\n",
    "**Problems**\n",
    "\n",
    "* ✅ [704. Binary Search](#704.-Binary-Search)           [<a href='https://leetcode.com/problems/binary-search' style='color:black'>Link</a>]\n",
    "* ✅ [278. First Bad Version](#278.-First-Bad-Version)           [<a href='https://leetcode.com/problems/first-bad-version' style='color:black'>Link</a>]\n",
    "* ✅ [35. Search Insert Position](#35.-Search-Insert-Position)           [<a href='https://leetcode.com/problems/search-insert-position' style='color:black'>Link</a>]\n",
    "* ✅ [977. Squares of a Sorted Array](#977.-Squares-of-a-Sorted-Array)           [<a href='https://leetcode.com/problems/squares-of-a-sorted-array' style='color:black'>Link</a>]\n",
    "* ✅ [189. Rotate Array](#189.-Rotate-Array)           [<a href='https://leetcode.com/problems/rotate-array' style='color:black'>Link</a>]\n",
    "* ✅ [283. Move Zeroes](#283.-Move-Zeroes)           [<a href='https://leetcode.com/problems/move-zeroes' style='color:black'>Link</a>]\n",
    "* ✅ [167. Two Sum II - Input Array Is Sorted](#167.-Two-Sum-II---Input-Array-Is-Sorted)           [<a href='https://leetcode.com/problems/two-sum-ii---input-array-is-sorted' style='color:black'>Link</a>]\n",
    "* ✅ [344. Reverse String](#344.-Reverse-String)           [<a href='https://leetcode.com/problems/reverse-string' style='color:black'>Link</a>]\n",
    "* ✅ [557. Reverse Words in a String III](#557.-Reverse-Words-in-a-String-III)           [<a href='https://leetcode.com/problems/reverse-words-in-a-string-iii' style='color:black'>Link</a>]\n",
    "* ✅ [876. Middle of the Linked List](#876.-Middle-of-the-Linked-List)           [<a href='https://leetcode.com/problems/middle-of-the-linked-list' style='color:black'>Link</a>]\n",
    "* ✅ [19. Remove Nth Node From End of List](#19.-Remove-Nth-Node-From-End-of-List)           [<a href='https://leetcode.com/problems/remove-nth-node-from-end-of-list' style='color:black'>Link</a>]\n",
    "* ✅ [3. Longest Substring Without Repeating Characters](#3.-Longest-Substring-Without-Repeating-Characters)           [<a href='https://leetcode.com/problems/longest-substring-without-repeating-characters' style='color:black'>Link</a>]"
   ]
  },
  {
   "cell_type": "markdown",
   "id": "370eea1d",
   "metadata": {},
   "source": [
    "## 704. Binary Search\n",
    "\n",
    "* Approach: Solved using 2 methods\n",
    "    * simply check for the target variable in `nums` and return the index if exists\n",
    "    * Used Binary Search \n",
    "* Time Complexity \n",
    "    * $ O(N) $\n",
    "    * $ O(log(N)) $"
   ]
  },
  {
   "cell_type": "code",
   "execution_count": 3,
   "id": "bea49faa",
   "metadata": {},
   "outputs": [],
   "source": [
    "class Solution:\n",
    "    def search(self, nums: list[int], target: int) -> int:\n",
    "        if target in nums:\n",
    "            return nums.index(target)\n",
    "        else:\n",
    "            return -1"
   ]
  },
  {
   "cell_type": "code",
   "execution_count": 4,
   "id": "886c22a6",
   "metadata": {},
   "outputs": [],
   "source": [
    "# another solution\n",
    "def search(self, nums: list[int], target: int) -> int:\n",
    "    if len(nums) == 1:\n",
    "        if nums[0] == target:\n",
    "            return 0\n",
    "        else:\n",
    "            return -1\n",
    "    l = 0\n",
    "    h = len(nums) - 1\n",
    "    while l<=h:\n",
    "        mid = (l + h) // 2\n",
    "        if nums[mid] == target:\n",
    "            return mid\n",
    "        if nums[mid] < target:\n",
    "            l = mid + 1\n",
    "        if nums[mid] > target:\n",
    "            h = mid - 1\n",
    "    return -1"
   ]
  },
  {
   "cell_type": "markdown",
   "id": "420ebff0",
   "metadata": {},
   "source": [
    "## 278. First Bad Version\n",
    "\n",
    "* Approach: Used Binary Search if `isBadVersion(value)` == `True` then check for the lower half value `else` check upper half value\n",
    "* Time Complexity $ O(Log(N) $"
   ]
  },
  {
   "cell_type": "code",
   "execution_count": 5,
   "id": "d006737c",
   "metadata": {},
   "outputs": [],
   "source": [
    "# The isBadVersion API is already defined for you.\n",
    "# def isBadVersion(version: int) -> bool:\n",
    "\n",
    "class Solution:\n",
    "    def firstBadVersion(self, n: int) -> int:\n",
    "        l,h = 1,n\n",
    "        while l<=h:\n",
    "            mid = (l + h) // 2\n",
    "            res = isBadVersion(mid)\n",
    "            if res:\n",
    "                h = mid - 1\n",
    "            else:\n",
    "                l = mid + 1\n",
    "        return l\n"
   ]
  },
  {
   "cell_type": "markdown",
   "id": "6f91471e",
   "metadata": {},
   "source": [
    "## 35. Search Insert Position\n",
    "\n",
    "* Approach: Used Binary Search to find the position to insert\n",
    "* Time Complexity $ O(Log(N)) $"
   ]
  },
  {
   "cell_type": "code",
   "execution_count": 6,
   "id": "3bd4a8d6",
   "metadata": {},
   "outputs": [],
   "source": [
    "class Solution:\n",
    "    def searchInsert(self, nums: list[int], target: int) -> int:\n",
    "        l , h = 0 , len(nums) - 1\n",
    "        while l <= h:\n",
    "            mid = (l + h) // 2\n",
    "            if nums[mid] == target:\n",
    "                return mid\n",
    "            if nums[mid] < target:\n",
    "                l = mid + 1\n",
    "            else:\n",
    "                nums[mid] > target\n",
    "                h = mid - 1\n",
    "        return l"
   ]
  },
  {
   "cell_type": "markdown",
   "id": "224e8408",
   "metadata": {},
   "source": [
    "## 977. Squares of a Sorted Array\n",
    "\n",
    "* Approach: USed Two pointers to get left and right values append the largest element and reverse the array at the end\n",
    "* Time Complexity $ O(N) $"
   ]
  },
  {
   "cell_type": "code",
   "execution_count": 7,
   "id": "03301a5a",
   "metadata": {},
   "outputs": [],
   "source": [
    "class Solution:\n",
    "    def sortedSquares(self, nums: list[int]) -> list[int]:\n",
    "        # check if the nums array contains negative value \n",
    "        if nums[0] > 0:\n",
    "            for i in range(len(nums)):\n",
    "                nums[i] = nums[i] * nums[i]\n",
    "            return nums\n",
    "        else:\n",
    "            # if it contains negative values the use 2 pointers \n",
    "            # left and right and append the largest element\n",
    "            # reverse at the last and return it\n",
    "            arr = []\n",
    "            l = 0\n",
    "            r = len(nums) - 1\n",
    "            while l<=r:\n",
    "                left_sq = nums[l] * nums[l]\n",
    "                right_sq = nums[r] * nums[r]\n",
    "                if left_sq > right_sq:\n",
    "                    arr.append(left_sq)\n",
    "                    l += 1\n",
    "                else:\n",
    "                    arr.append(right_sq)\n",
    "                    r -= 1\n",
    "            return arr[::-1]"
   ]
  },
  {
   "cell_type": "markdown",
   "id": "84bea92b",
   "metadata": {},
   "source": [
    "## 189. Rotate Array\n",
    "\n",
    "* Approach:Solved using 2 Approach\n",
    "    1. Simply used a for loop to iterate `k` times and store the last element and insert at 0 index\n",
    "    2. Take mod of the k and then use slicing operation to get the values used in `extend` to extend the array such that it will be happening in-place.\n",
    "* Time Complexity \n",
    "    1. $ O(N) $\n",
    "    2. $ O(1) $"
   ]
  },
  {
   "cell_type": "code",
   "execution_count": 8,
   "id": "b86a83f5",
   "metadata": {},
   "outputs": [],
   "source": [
    "class Solution:\n",
    "    def rotate(self, nums: list[int], k: int) -> None:\n",
    "        \"\"\"\n",
    "        Do not return anything, modify nums in-place instead.\n",
    "        \"\"\"\n",
    "        for i in range(k):\n",
    "            val = nums.pop()\n",
    "            nums.insert(0, val)"
   ]
  },
  {
   "cell_type": "code",
   "execution_count": 9,
   "id": "abf21ce8",
   "metadata": {},
   "outputs": [],
   "source": [
    "class Solution:\n",
    "    def rotate(self, nums: list[int], k: int) -> None:\n",
    "        \"\"\"\n",
    "        Do not return anything, modify nums in-place instead.\n",
    "        \"\"\"\n",
    "        m = len(nums)\n",
    "        k = k % m\n",
    "        y = []\n",
    "        y.extend(nums[m - k:])\n",
    "        y.extend(nums[:m - k])\n",
    "        nums.clear()\n",
    "        nums.extend(y) "
   ]
  },
  {
   "cell_type": "markdown",
   "id": "576573c6",
   "metadata": {},
   "source": [
    "## 283. Move Zeroes\n",
    "\n",
    "* Approach: used the snowball approach, collecting zero as we moved across the array.\n",
    "* Time Complexity $ O(N) $"
   ]
  },
  {
   "cell_type": "markdown",
   "id": "2d3b26b2",
   "metadata": {},
   "source": [
    "<img src=\"img/snowball.png\" />"
   ]
  },
  {
   "cell_type": "code",
   "execution_count": 10,
   "id": "0751818e",
   "metadata": {},
   "outputs": [],
   "source": [
    "class Solution:\n",
    "    def moveZeroes(self, nums: list[int]) -> None:\n",
    "        \"\"\"\n",
    "        Do not return anything, modify nums in-place instead.\n",
    "        \"\"\" \n",
    "        snowball = 0\n",
    "        for i in range(len(nums)):\n",
    "            if nums[i] == 0:\n",
    "                snowball += 1\n",
    "            else:\n",
    "                if snowball > 0:\n",
    "                    val = nums[i]\n",
    "                    nums[i] = 0\n",
    "                    nums[i-snowball] = val"
   ]
  },
  {
   "cell_type": "markdown",
   "id": "2135a0c8",
   "metadata": {},
   "source": [
    "## 167. Two Sum II - Input Array Is Sorted\n",
    "\n",
    "* Approach: Used Two pointers to solve it: there are cases. \n",
    "    1. If we get the target, we return the index by adding 1 (1-indexing). \n",
    "    2. If the addition is greater than target, we decrease the j value, and vice versa for i.\n",
    "* Time Complexity $ O(N) $"
   ]
  },
  {
   "cell_type": "code",
   "execution_count": 11,
   "id": "374e75d2",
   "metadata": {},
   "outputs": [],
   "source": [
    "class Solution:\n",
    "    def twoSum(self, numbers: list[int], target: int) -> list[int]:\n",
    "        l , r = 0, len(numbers) - 1\n",
    "        while l < r:\n",
    "            val = numbers[l] + numbers[r]\n",
    "            if (val == target):\n",
    "                return [l+1, r+1]\n",
    "            # if the addition is greater than target then we decrease j\n",
    "            elif (val > target):\n",
    "                r -= 1\n",
    "            # if the addition is less than target then we increase i\n",
    "            else:\n",
    "                l += 1"
   ]
  },
  {
   "cell_type": "markdown",
   "id": "cfdb60f1",
   "metadata": {},
   "source": [
    "## 344. Reverse String\n",
    "\n",
    "* Approach: Simply used Two pointers to get the value and swap them\n",
    "* Time Complexity $ O(N/2) $"
   ]
  },
  {
   "cell_type": "code",
   "execution_count": 12,
   "id": "b787f81b",
   "metadata": {},
   "outputs": [],
   "source": [
    "class Solution:\n",
    "    def reverseString(self, s: list[str]) -> None:\n",
    "        \"\"\"\n",
    "        Do not return anything, modify s in-place instead.\n",
    "        \"\"\"\n",
    "        i, j = 0, len(s) - 1\n",
    "        while i < j:\n",
    "            s[i], s[j] = s[j] , s[i]\n",
    "            j -= 1\n",
    "            i += 1"
   ]
  },
  {
   "cell_type": "markdown",
   "id": "4ce2b40f",
   "metadata": {},
   "source": [
    "## 557. Reverse Words in a String III\n",
    "\n",
    "* Approach:\n",
    "    1. Simply used the normal naive approach to solve \n",
    "* Time Complexity \n",
    "    1. $ O(N) $"
   ]
  },
  {
   "cell_type": "code",
   "execution_count": 13,
   "id": "4ee4f39f",
   "metadata": {},
   "outputs": [],
   "source": [
    "class Solution:\n",
    "    def reverseWords(self, s: str) -> str:\n",
    "        res = []\n",
    "        for i in s.split():\n",
    "            res.append(i[::-1])\n",
    "        return \" \".join(res)"
   ]
  },
  {
   "cell_type": "markdown",
   "id": "85c71fa2",
   "metadata": {},
   "source": [
    "## 876. Middle of the Linked List\n",
    "\n",
    "* Approach: simply used 2 pointers one which goes by 1 step and another goes by 2 steps and we return the slow pointer\n",
    "* Time Complexity $ O(N) $"
   ]
  },
  {
   "cell_type": "code",
   "execution_count": 14,
   "id": "ee42fd96",
   "metadata": {},
   "outputs": [],
   "source": [
    "class Solution:\n",
    "    def middleNode(self, head):\n",
    "        slow = head\n",
    "        fast = head\n",
    "        while fast and fast.next:\n",
    "            slow = slow.next\n",
    "            fast = fast.next.next\n",
    "        return slow "
   ]
  },
  {
   "cell_type": "markdown",
   "id": "10a3806c",
   "metadata": {},
   "source": [
    "## 19. Remove Nth Node From End of List\n",
    "\n",
    "* Approach: First for loop we go to the list by n times and then we started while loop for getting into the previous node which has to be deleted and at last we change the next pointer of slow \n",
    "* Time Complexity $ O(N) $"
   ]
  },
  {
   "cell_type": "code",
   "execution_count": 15,
   "id": "f39358b5",
   "metadata": {},
   "outputs": [],
   "source": [
    "class Solution:\n",
    "    def removeNthFromEnd(self, head, n: int):\n",
    "        slow, fast = head, head\n",
    "        for _ in range(n):\n",
    "            fast = fast.next\n",
    "            if not fast:\n",
    "                return head.next\n",
    "        while fast.next:\n",
    "            fast = fast.next\n",
    "            slow = slow.next\n",
    "        slow.next = slow.next.next\n",
    "        return head"
   ]
  },
  {
   "cell_type": "markdown",
   "id": "f77e0cb5",
   "metadata": {},
   "source": [
    "## 3. Longest Substring Without Repeating Characters\n",
    "\n",
    "* Approach: Used Sliding window algorithm \n",
    "* Time Complexity $ O(N) $"
   ]
  },
  {
   "cell_type": "code",
   "execution_count": 16,
   "id": "e975d7b5",
   "metadata": {},
   "outputs": [],
   "source": [
    "class Solution:\n",
    "    def lengthOfLongestSubstring(self, s: str) -> int:\n",
    "        #create the set such that it can store the values\n",
    "        char = set()\n",
    "        # left pointer for sliding window\n",
    "        l = 0\n",
    "        # res value initialize\n",
    "        res = 0\n",
    "        # iterate through right pointer\n",
    "        for r in range(len(s)):\n",
    "            # if the right most value in window is already present in the set\n",
    "            # then remove from the left window till the duplicate value \n",
    "            # removes from the char set\n",
    "            while s[r] in char:\n",
    "                # removes the left value from charset\n",
    "                char.remove(s[l])\n",
    "                # increment the left pointer\n",
    "                l += 1\n",
    "            # add the right most value to the char set\n",
    "            char.add(s[r])\n",
    "            # get the maximum window size by comparing res and window size\n",
    "            res = max(res, r - l + 1)\n",
    "        # return the result\n",
    "        return res"
   ]
  },
  {
   "cell_type": "code",
   "execution_count": 17,
   "id": "c27d3425",
   "metadata": {},
   "outputs": [
    {
     "data": {
      "application/javascript": [
       "\n",
       "            IPython.notebook.to_markdown();\n",
       "        "
      ],
      "text/plain": [
       "<IPython.core.display.Javascript object>"
      ]
     },
     "metadata": {},
     "output_type": "display_data"
    },
    {
     "name": "stdout",
     "output_type": "stream",
     "text": [
      "Successfully added to the comment list\n",
      "Here is the link https://leetcode.com/problems/single-number\n",
      "All the best Chandrashekhar\n"
     ]
    }
   ],
   "source": [
    "z.new(\"136. Single Number\")"
   ]
  },
  {
   "cell_type": "markdown",
   "id": "c4b36d46",
   "metadata": {},
   "source": [
    "## 136. Single Number\n",
    "\n",
    "* Approach: USed XOR operation to solve the problem\n",
    "* Time Complexity $ O(N) $"
   ]
  },
  {
   "cell_type": "code",
   "execution_count": 18,
   "id": "5ea6fd3b",
   "metadata": {},
   "outputs": [],
   "source": [
    "class Solution:\n",
    "    def singleNumber(self, nums) -> int:\n",
    "        res = 0\n",
    "        for i in nums:\n",
    "            res = res ^ i\n",
    "        return res"
   ]
  },
  {
   "cell_type": "code",
   "execution_count": 19,
   "id": "3e6d127c",
   "metadata": {},
   "outputs": [
    {
     "data": {
      "application/javascript": [
       "\n",
       "            IPython.notebook.to_markdown();\n",
       "        "
      ],
      "text/plain": [
       "<IPython.core.display.Javascript object>"
      ]
     },
     "metadata": {},
     "output_type": "display_data"
    },
    {
     "name": "stdout",
     "output_type": "stream",
     "text": [
      "Successfully added to the comment list\n",
      "Here is the link https://leetcode.com/problems/number-of-1-bits\n",
      "All the best Chandrashekhar\n"
     ]
    }
   ],
   "source": [
    "z.new(\"191. Number of 1 Bits\")"
   ]
  },
  {
   "cell_type": "markdown",
   "id": "6c677bf1",
   "metadata": {},
   "source": [
    "## 191. Number of 1 Bits\n",
    "\n",
    "* Approach: simply done `and` operation between n and n-1 \n",
    "* Time Complexity $ O(N) $"
   ]
  },
  {
   "cell_type": "code",
   "execution_count": 20,
   "id": "41884a57",
   "metadata": {},
   "outputs": [],
   "source": [
    "class Solution:\n",
    "    def hammingWeight(self, n: int) -> int:\n",
    "        res = 0\n",
    "        while n:\n",
    "            n = n & (n - 1)\n",
    "            res += 1\n",
    "        return res"
   ]
  },
  {
   "cell_type": "code",
   "execution_count": 21,
   "id": "97b14fb9",
   "metadata": {},
   "outputs": [
    {
     "data": {
      "application/javascript": [
       "\n",
       "            IPython.notebook.to_markdown();\n",
       "        "
      ],
      "text/plain": [
       "<IPython.core.display.Javascript object>"
      ]
     },
     "metadata": {},
     "output_type": "display_data"
    },
    {
     "name": "stdout",
     "output_type": "stream",
     "text": [
      "Successfully added to the comment list\n",
      "Here is the link https://leetcode.com/problems/power-of-two\n",
      "All the best Chandrashekhar\n"
     ]
    }
   ],
   "source": [
    "z.new(\"231. Power of Two\")"
   ]
  },
  {
   "cell_type": "markdown",
   "id": "d487513d",
   "metadata": {},
   "source": [
    "## 231. Power of Two\n",
    "\n",
    "* Approach: Simply done and opertion between n and ( n- 1) and also checked the n is greater than 0 or not\n",
    "* Time Complexity $ O(N) $"
   ]
  },
  {
   "cell_type": "code",
   "execution_count": 22,
   "id": "65152ea0",
   "metadata": {},
   "outputs": [],
   "source": [
    "class Solution:\n",
    "    def isPowerOfTwo(self, n: int) -> bool:\n",
    "        # n should be positive\n",
    "        # n & (n - 1) removes the 1 value as\n",
    "        # power of 2 contains only 1 in there binary value\n",
    "        # so if we do AND operation with prev number we get 0 if the number is\n",
    "        # power of 2\n",
    "        return n and not(n & (n - 1))"
   ]
  },
  {
   "cell_type": "code",
   "execution_count": 23,
   "id": "7143a1cc",
   "metadata": {},
   "outputs": [
    {
     "data": {
      "application/javascript": [
       "\n",
       "            IPython.notebook.to_markdown();\n",
       "        "
      ],
      "text/plain": [
       "<IPython.core.display.Javascript object>"
      ]
     },
     "metadata": {},
     "output_type": "display_data"
    },
    {
     "name": "stdout",
     "output_type": "stream",
     "text": [
      "Successfully added to the comment list\n",
      "Here is the link https://leetcode.com/problems/reverse-bits\n",
      "All the best Chandrashekhar\n"
     ]
    }
   ],
   "source": [
    "z.new(\"190. Reverse Bits\")"
   ]
  },
  {
   "cell_type": "markdown",
   "id": "019aab3a",
   "metadata": {},
   "source": [
    "## 190. Reverse Bits\n",
    "\n",
    "* Approach: Used Left shift, right shift operation to get the value\n",
    "* Time Complexity $ O(1) $"
   ]
  },
  {
   "cell_type": "code",
   "execution_count": 24,
   "id": "d8dd20d9",
   "metadata": {},
   "outputs": [],
   "source": [
    "class Solution:\n",
    "    def reverseBits(self, n: int) -> int:\n",
    "        res = 0\n",
    "        for i in range(32):\n",
    "            # get the bits value of n\n",
    "            bit = (n >> i) & 1\n",
    "            # change the res \n",
    "            # used or operation becuase we only have to \n",
    "            # change one bit and remaining keep same\n",
    "            # so or operation does the same thing\n",
    "            res = res | (bit << (31 - i))\n",
    "        return res"
   ]
  },
  {
   "cell_type": "code",
   "execution_count": 25,
   "id": "158e2be4",
   "metadata": {},
   "outputs": [
    {
     "data": {
      "application/javascript": [
       "\n",
       "            IPython.notebook.to_markdown();\n",
       "        "
      ],
      "text/plain": [
       "<IPython.core.display.Javascript object>"
      ]
     },
     "metadata": {},
     "output_type": "display_data"
    },
    {
     "name": "stdout",
     "output_type": "stream",
     "text": [
      "Successfully added to the comment list\n",
      "Here is the link https://leetcode.com/problems/triangle\n",
      "All the best Chandrashekhar\n"
     ]
    }
   ],
   "source": [
    "z.new(\"120. Triangle\")"
   ]
  },
  {
   "cell_type": "markdown",
   "id": "66466358",
   "metadata": {},
   "source": [
    "## 120. Triangle\n",
    "\n",
    "* Approach: Used simple bottom up approach to solve\n",
    "* Time Complexity $ O(N) $"
   ]
  },
  {
   "cell_type": "code",
   "execution_count": 26,
   "id": "da42a540",
   "metadata": {},
   "outputs": [],
   "source": [
    "class Solution:\n",
    "    def minimumTotal(self, triangle: list[list[int]]) -> int:\n",
    "        n = len(triangle)\n",
    "        \n",
    "        # Start from the second last row of the triangle\n",
    "        for i in range(n - 2, -1, -1):\n",
    "            # Compute the minimum path sum for each element in the row\n",
    "            for j in range(len(triangle[i])):\n",
    "                triangle[i][j] += min(triangle[i+1][j], triangle[i+1][j+1])\n",
    "        \n",
    "        # The minimum path sum is the first element of the triangle\n",
    "        return triangle[0][0]"
   ]
  },
  {
   "cell_type": "code",
   "execution_count": 27,
   "id": "ffcb1e94",
   "metadata": {},
   "outputs": [
    {
     "data": {
      "application/javascript": [
       "\n",
       "            IPython.notebook.to_markdown();\n",
       "        "
      ],
      "text/plain": [
       "<IPython.core.display.Javascript object>"
      ]
     },
     "metadata": {},
     "output_type": "display_data"
    },
    {
     "name": "stdout",
     "output_type": "stream",
     "text": [
      "Successfully added to the comment list\n",
      "Here is the link https://leetcode.com/problems/merge-two-sorted-lists\n",
      "All the best Chandrashekhar\n"
     ]
    }
   ],
   "source": [
    "z.new(\"21. Merge Two Sorted Lists\")"
   ]
  },
  {
   "cell_type": "markdown",
   "id": "30fae965",
   "metadata": {},
   "source": [
    "## 21. Merge Two Sorted Lists\n",
    "\n",
    "* Approach: Use advantage of sorted lists compare the values if less then merge it if not then add from list2\n",
    "* Time Complexity $ O(N) $"
   ]
  },
  {
   "cell_type": "code",
   "execution_count": 28,
   "id": "8d414e28",
   "metadata": {},
   "outputs": [],
   "source": [
    "# Definition for singly-linked list.\n",
    "# class ListNode:\n",
    "#     def __init__(self, val=0, next=None):\n",
    "#         self.val = val\n",
    "#         self.next = next\n",
    "class Solution:\n",
    "    def mergeTwoLists(self, list1, list2):\n",
    "        curr = dummy = ListNode()\n",
    "        while list1 and list2:\n",
    "            if list1.val < list2.val:\n",
    "                curr.next = list1\n",
    "                curr = curr.next\n",
    "                list1 = list1.next\n",
    "            else:\n",
    "                curr.next = list2\n",
    "                curr= curr.next\n",
    "                list2 = list2.next\n",
    "\n",
    "        if list1 or list2:\n",
    "            curr.next = list1 if list1 else list2\n",
    "\n",
    "        return dummy.next"
   ]
  },
  {
   "cell_type": "code",
   "execution_count": null,
   "id": "4177ce4b",
   "metadata": {},
   "outputs": [],
   "source": []
  }
 ],
 "metadata": {
  "kernelspec": {
   "display_name": "Python 3 (ipykernel)",
   "language": "python",
   "name": "python3"
  },
  "language_info": {
   "codemirror_mode": {
    "name": "ipython",
    "version": 3
   },
   "file_extension": ".py",
   "mimetype": "text/x-python",
   "name": "python",
   "nbconvert_exporter": "python",
   "pygments_lexer": "ipython3",
   "version": "3.10.10"
  }
 },
 "nbformat": 4,
 "nbformat_minor": 5
}
