{
 "cells": [
  {
   "cell_type": "code",
   "execution_count": 1,
   "id": "ceb9a07b",
   "metadata": {},
   "outputs": [],
   "source": [
    "url = \"https://docs.google.com/spreadsheets/d/159i0H_ho_n2vefVKShvPUppcKYO8puFreSY5TMjiz60/edit?usp=sharing\""
   ]
  },
  {
   "cell_type": "code",
   "execution_count": 2,
   "id": "a101670a",
   "metadata": {},
   "outputs": [
    {
     "name": "stdout",
     "output_type": "stream",
     "text": [
      "This Function is Created by Chandrashekhar Robbi.\n",
      "Note this function is especially created for my leet code solving purposes \n",
      "It takes name of the problem and return leetcode link and it has features like create array which has markdown, comment and delete after executing and many more :)\n"
     ]
    }
   ],
   "source": [
    "%run ../leetcode_function.py\n",
    "z = LeetFunction(url)"
   ]
  },
  {
   "cell_type": "markdown",
   "id": "09f64343",
   "metadata": {},
   "source": [
    "# Algorithms 1\n",
    "\n",
    "**Problems**\n",
    "\n",
    "* ✅ [704. Binary Search](#704.-Binary-Search)           [<a href='https://leetcode.com/problems/binary-search' style='color:black'>Link</a>]\n",
    "* ✅ [278. First Bad Version](#278.-First-Bad-Version)           [<a href='https://leetcode.com/problems/first-bad-version' style='color:black'>Link</a>]\n",
    "* ✅ [35. Search Insert Position](#35.-Search-Insert-Position)           [<a href='https://leetcode.com/problems/search-insert-position' style='color:black'>Link</a>]"
   ]
  },
  {
   "cell_type": "markdown",
   "id": "370eea1d",
   "metadata": {},
   "source": [
    "## 704. Binary Search\n",
    "\n",
    "* Approach: Solved using 2 methods\n",
    "    * simply check for the target variable in `nums` and return the index if exists\n",
    "    * Used Binary Search \n",
    "* Time Complexity \n",
    "    * $ O(N) $\n",
    "    * $ O(log(N)) $"
   ]
  },
  {
   "cell_type": "code",
   "execution_count": 13,
   "id": "bea49faa",
   "metadata": {},
   "outputs": [],
   "source": [
    "class Solution:\n",
    "    def search(self, nums: list[int], target: int) -> int:\n",
    "        if target in nums:\n",
    "            return nums.index(target)\n",
    "        else:\n",
    "            return -1"
   ]
  },
  {
   "cell_type": "code",
   "execution_count": 14,
   "id": "886c22a6",
   "metadata": {},
   "outputs": [],
   "source": [
    "# another solution\n",
    "def search(self, nums: list[int], target: int) -> int:\n",
    "    if len(nums) == 1:\n",
    "        if nums[0] == target:\n",
    "            return 0\n",
    "        else:\n",
    "            return -1\n",
    "    l = 0\n",
    "    h = len(nums) - 1\n",
    "    while l<=h:\n",
    "        mid = (l + h) // 2\n",
    "        if nums[mid] == target:\n",
    "            return mid\n",
    "        if nums[mid] < target:\n",
    "            l = mid + 1\n",
    "        if nums[mid] > target:\n",
    "            h = mid - 1\n",
    "    return -1"
   ]
  },
  {
   "cell_type": "markdown",
   "id": "420ebff0",
   "metadata": {},
   "source": [
    "## 278. First Bad Version\n",
    "\n",
    "* Approach: Used Binary Search if `isBadVersion(value)` == `True` then check for the lower half value `else` check upper half value\n",
    "* Time Complexity $ O(Log(N) $"
   ]
  },
  {
   "cell_type": "code",
   "execution_count": 16,
   "id": "d006737c",
   "metadata": {},
   "outputs": [],
   "source": [
    "# The isBadVersion API is already defined for you.\n",
    "# def isBadVersion(version: int) -> bool:\n",
    "\n",
    "class Solution:\n",
    "    def firstBadVersion(self, n: int) -> int:\n",
    "        l,h = 1,n\n",
    "        while l<=h:\n",
    "            mid = (l + h) // 2\n",
    "            res = isBadVersion(mid)\n",
    "            if res:\n",
    "                h = mid - 1\n",
    "            else:\n",
    "                l = mid + 1\n",
    "        return l\n"
   ]
  },
  {
   "cell_type": "markdown",
   "id": "6f91471e",
   "metadata": {},
   "source": [
    "## 35. Search Insert Position\n",
    "\n",
    "* Approach: Used Binary Search to find the position to insert\n",
    "* Time Complexity $ O(Log(N)) $"
   ]
  },
  {
   "cell_type": "code",
   "execution_count": 18,
   "id": "3bd4a8d6",
   "metadata": {},
   "outputs": [],
   "source": [
    "class Solution:\n",
    "    def searchInsert(self, nums: list[int], target: int) -> int:\n",
    "        l , h = 0 , len(nums) - 1\n",
    "        while l <= h:\n",
    "            mid = (l + h) // 2\n",
    "            if nums[mid] == target:\n",
    "                return mid\n",
    "            if nums[mid] < target:\n",
    "                l = mid + 1\n",
    "            else:\n",
    "                nums[mid] > target\n",
    "                h = mid - 1\n",
    "        return l"
   ]
  },
  {
   "cell_type": "markdown",
   "id": "229a5d42",
   "metadata": {},
   "source": []
  },
  {
   "cell_type": "code",
   "execution_count": null,
   "id": "d0def5ff",
   "metadata": {},
   "outputs": [],
   "source": []
  }
 ],
 "metadata": {
  "kernelspec": {
   "display_name": "Python 3 (ipykernel)",
   "language": "python",
   "name": "python3"
  },
  "language_info": {
   "codemirror_mode": {
    "name": "ipython",
    "version": 3
   },
   "file_extension": ".py",
   "mimetype": "text/x-python",
   "name": "python",
   "nbconvert_exporter": "python",
   "pygments_lexer": "ipython3",
   "version": "3.10.9"
  }
 },
 "nbformat": 4,
 "nbformat_minor": 5
}
