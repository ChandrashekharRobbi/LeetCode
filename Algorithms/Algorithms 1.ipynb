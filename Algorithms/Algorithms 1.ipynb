{
 "cells": [
  {
   "cell_type": "code",
   "execution_count": 1,
   "id": "9a83998f",
   "metadata": {},
   "outputs": [],
   "source": [
    "url = \"https://docs.google.com/spreadsheets/d/159i0H_ho_n2vefVKShvPUppcKYO8puFreSY5TMjiz60/edit?usp=sharing\""
   ]
  },
  {
   "cell_type": "code",
   "execution_count": 2,
   "id": "a101670a",
   "metadata": {},
   "outputs": [
    {
     "name": "stdout",
     "output_type": "stream",
     "text": [
      "This Function is Created by Chandrashekhar Robbi.\n",
      "Note this function is especially created for my leet code solving purposes \n",
      "It takes name of the problem and return leetcode link and it has features like create array which has markdown, comment and delete after executing and many more :)\n"
     ]
    }
   ],
   "source": [
    "%run ../leetcode_function.py\n",
    "z = LeetFunction(url)"
   ]
  },
  {
   "cell_type": "markdown",
   "id": "09f64343",
   "metadata": {},
   "source": [
    "# Algorithms 1\n",
    "\n",
    "**Problems**\n",
    "\n",
    "* ✅ [704. Binary Search](#704.-Binary-Search)           [<a href='https://leetcode.com/problems/binary-search' style='color:black'>Link</a>]\n",
    "* ✅ [278. First Bad Version](#278.-First-Bad-Version)           [<a href='https://leetcode.com/problems/first-bad-version' style='color:black'>Link</a>]\n",
    "* ✅ [35. Search Insert Position](#35.-Search-Insert-Position)           [<a href='https://leetcode.com/problems/search-insert-position' style='color:black'>Link</a>]\n",
    "* ✅ [977. Squares of a Sorted Array](#977.-Squares-of-a-Sorted-Array)           [<a href='https://leetcode.com/problems/squares-of-a-sorted-array' style='color:black'>Link</a>]\n",
    "* ✅ [189. Rotate Array](#189.-Rotate-Array)           [<a href='https://leetcode.com/problems/rotate-array' style='color:black'>Link</a>]\n",
    "* ✅ [283. Move Zeroes](#283.-Move-Zeroes)           [<a href='https://leetcode.com/problems/move-zeroes' style='color:black'>Link</a>]\n",
    "* ✅ [167. Two Sum II - Input Array Is Sorted](#167.-Two-Sum-II---Input-Array-Is-Sorted)           [<a href='https://leetcode.com/problems/two-sum-ii---input-array-is-sorted' style='color:black'>Link</a>]\n",
    "* ✅ [344. Reverse String](#344.-Reverse-String)           [<a href='https://leetcode.com/problems/reverse-string' style='color:black'>Link</a>]\n",
    "* ✅ [557. Reverse Words in a String III](#557.-Reverse-Words-in-a-String-III)           [<a href='https://leetcode.com/problems/reverse-words-in-a-string-iii' style='color:black'>Link</a>]\n",
    "* ✅ [876. Middle of the Linked List](#876.-Middle-of-the-Linked-List)           [<a href='https://leetcode.com/problems/middle-of-the-linked-list' style='color:black'>Link</a>]\n",
    "* ✅ [19. Remove Nth Node From End of List](#19.-Remove-Nth-Node-From-End-of-List)           [<a href='https://leetcode.com/problems/remove-nth-node-from-end-of-list' style='color:black'>Link</a>]\n",
    "* ✅ [3. Longest Substring Without Repeating Characters](#3.-Longest-Substring-Without-Repeating-Characters)           [<a href='https://leetcode.com/problems/longest-substring-without-repeating-characters' style='color:black'>Link</a>]\n",
    "* ✅ [136. Single Number](#136.-Single-Number)           [<a href='https://leetcode.com/problems/single-number' style='color:black'>Link</a>]\n",
    "* ✅ [191. Number of 1 Bits](#191.-Number-of-1-Bits)           [<a href='https://leetcode.com/problems/number-of-1-bits' style='color:black'>Link</a>]\n",
    "* ✅ [231. Power of Two](#231.-Power-of-Two)           [<a href='https://leetcode.com/problems/power-of-two' style='color:black'>Link</a>]\n",
    "* ✅ [190. Reverse Bits](#190.-Reverse-Bits)           [<a href='https://leetcode.com/problems/reverse-bits' style='color:black'>Link</a>]\n",
    "* ✅ [120. Triangle](#120.-Triangle)           [<a href='https://leetcode.com/problems/triangle' style='color:black'>Link</a>]\n",
    "* ✅ [21. Merge Two Sorted Lists](#21.-Merge-Two-Sorted-Lists)           [<a href='https://leetcode.com/problems/merge-two-sorted-lists' style='color:black'>Link</a>]\n",
    "* ✅ [206. Reverse Linked List](#206.-Reverse-Linked-List)           [<a href='https://leetcode.com/problems/reverse-linked-list' style='color:black'>Link</a>]\n",
    "* ✅ [198. House Robber](#198.-House-Robber)           [<a href='https://leetcode.com/problems/house-robber' style='color:black'>Link</a>]"
   ]
  },
  {
   "cell_type": "markdown",
   "id": "370eea1d",
   "metadata": {},
   "source": [
    "## 704. Binary Search\n",
    "\n",
    "* Approach: Solved using 2 methods\n",
    "    * simply check for the target variable in `nums` and return the index if exists\n",
    "    * Used Binary Search \n",
    "* Time Complexity \n",
    "    * $ O(N) $\n",
    "    * $ O(log(N)) $"
   ]
  },
  {
   "cell_type": "code",
   "execution_count": 3,
   "id": "bea49faa",
   "metadata": {},
   "outputs": [],
   "source": [
    "class Solution:\n",
    "    def search(self, nums: list[int], target: int) -> int:\n",
    "        if target in nums:\n",
    "            return nums.index(target)\n",
    "        else:\n",
    "            return -1"
   ]
  },
  {
   "cell_type": "code",
   "execution_count": 4,
   "id": "886c22a6",
   "metadata": {},
   "outputs": [],
   "source": [
    "# another solution\n",
    "def search(self, nums: list[int], target: int) -> int:\n",
    "    if len(nums) == 1:\n",
    "        if nums[0] == target:\n",
    "            return 0\n",
    "        else:\n",
    "            return -1\n",
    "    l = 0\n",
    "    h = len(nums) - 1\n",
    "    while l<=h:\n",
    "        mid = (l + h) // 2\n",
    "        if nums[mid] == target:\n",
    "            return mid\n",
    "        if nums[mid] < target:\n",
    "            l = mid + 1\n",
    "        if nums[mid] > target:\n",
    "            h = mid - 1\n",
    "    return -1"
   ]
  },
  {
   "cell_type": "markdown",
   "id": "420ebff0",
   "metadata": {},
   "source": [
    "## 278. First Bad Version\n",
    "\n",
    "* Approach: Used Binary Search if `isBadVersion(value)` == `True` then check for the lower half value `else` check upper half value\n",
    "* Time Complexity $ O(Log(N) $"
   ]
  },
  {
   "cell_type": "code",
   "execution_count": 5,
   "id": "d006737c",
   "metadata": {},
   "outputs": [],
   "source": [
    "# The isBadVersion API is already defined for you.\n",
    "# def isBadVersion(version: int) -> bool:\n",
    "\n",
    "class Solution:\n",
    "    def firstBadVersion(self, n: int) -> int:\n",
    "        l,h = 1,n\n",
    "        while l<=h:\n",
    "            mid = (l + h) // 2\n",
    "            res = isBadVersion(mid)\n",
    "            if res:\n",
    "                h = mid - 1\n",
    "            else:\n",
    "                l = mid + 1\n",
    "        return l\n"
   ]
  },
  {
   "cell_type": "markdown",
   "id": "6f91471e",
   "metadata": {},
   "source": [
    "## 35. Search Insert Position\n",
    "\n",
    "* Approach: Used Binary Search to find the position to insert\n",
    "* Time Complexity $ O(Log(N)) $"
   ]
  },
  {
   "cell_type": "code",
   "execution_count": 6,
   "id": "3bd4a8d6",
   "metadata": {},
   "outputs": [],
   "source": [
    "class Solution:\n",
    "    def searchInsert(self, nums: list[int], target: int) -> int:\n",
    "        l , h = 0 , len(nums) - 1\n",
    "        while l <= h:\n",
    "            mid = (l + h) // 2\n",
    "            if nums[mid] == target:\n",
    "                return mid\n",
    "            if nums[mid] < target:\n",
    "                l = mid + 1\n",
    "            else:\n",
    "                nums[mid] > target\n",
    "                h = mid - 1\n",
    "        return l"
   ]
  },
  {
   "cell_type": "markdown",
   "id": "224e8408",
   "metadata": {},
   "source": [
    "## 977. Squares of a Sorted Array\n",
    "\n",
    "* Approach: USed Two pointers to get left and right values append the largest element and reverse the array at the end\n",
    "* Time Complexity $ O(N) $"
   ]
  },
  {
   "cell_type": "code",
   "execution_count": 7,
   "id": "03301a5a",
   "metadata": {},
   "outputs": [],
   "source": [
    "class Solution:\n",
    "    def sortedSquares(self, nums: list[int]) -> list[int]:\n",
    "        # check if the nums array contains negative value \n",
    "        if nums[0] > 0:\n",
    "            for i in range(len(nums)):\n",
    "                nums[i] = nums[i] * nums[i]\n",
    "            return nums\n",
    "        else:\n",
    "            # if it contains negative values the use 2 pointers \n",
    "            # left and right and append the largest element\n",
    "            # reverse at the last and return it\n",
    "            arr = []\n",
    "            l = 0\n",
    "            r = len(nums) - 1\n",
    "            while l<=r:\n",
    "                left_sq = nums[l] * nums[l]\n",
    "                right_sq = nums[r] * nums[r]\n",
    "                if left_sq > right_sq:\n",
    "                    arr.append(left_sq)\n",
    "                    l += 1\n",
    "                else:\n",
    "                    arr.append(right_sq)\n",
    "                    r -= 1\n",
    "            return arr[::-1]"
   ]
  },
  {
   "cell_type": "markdown",
   "id": "84bea92b",
   "metadata": {},
   "source": [
    "## 189. Rotate Array\n",
    "\n",
    "* Approach:Solved using 2 Approach\n",
    "    1. Simply used a for loop to iterate `k` times and store the last element and insert at 0 index\n",
    "    2. Take mod of the k and then use slicing operation to get the values used in `extend` to extend the array such that it will be happening in-place.\n",
    "* Time Complexity \n",
    "    1. $ O(N) $\n",
    "    2. $ O(1) $"
   ]
  },
  {
   "cell_type": "code",
   "execution_count": 8,
   "id": "b86a83f5",
   "metadata": {},
   "outputs": [],
   "source": [
    "class Solution:\n",
    "    def rotate(self, nums: list[int], k: int) -> None:\n",
    "        \"\"\"\n",
    "        Do not return anything, modify nums in-place instead.\n",
    "        \"\"\"\n",
    "        for i in range(k):\n",
    "            val = nums.pop()\n",
    "            nums.insert(0, val)"
   ]
  },
  {
   "cell_type": "code",
   "execution_count": 9,
   "id": "abf21ce8",
   "metadata": {},
   "outputs": [],
   "source": [
    "class Solution:\n",
    "    def rotate(self, nums: list[int], k: int) -> None:\n",
    "        \"\"\"\n",
    "        Do not return anything, modify nums in-place instead.\n",
    "        \"\"\"\n",
    "        m = len(nums)\n",
    "        k = k % m\n",
    "        y = []\n",
    "        y.extend(nums[m - k:])\n",
    "        y.extend(nums[:m - k])\n",
    "        nums.clear()\n",
    "        nums.extend(y) "
   ]
  },
  {
   "cell_type": "markdown",
   "id": "576573c6",
   "metadata": {},
   "source": [
    "## 283. Move Zeroes\n",
    "\n",
    "* Approach: used the snowball approach, collecting zero as we moved across the array.\n",
    "* Time Complexity $ O(N) $"
   ]
  },
  {
   "cell_type": "markdown",
   "id": "2d3b26b2",
   "metadata": {},
   "source": [
    "<img src=\"img/snowball.png\" />"
   ]
  },
  {
   "cell_type": "code",
   "execution_count": 10,
   "id": "0751818e",
   "metadata": {},
   "outputs": [],
   "source": [
    "class Solution:\n",
    "    def moveZeroes(self, nums: list[int]) -> None:\n",
    "        \"\"\"\n",
    "        Do not return anything, modify nums in-place instead.\n",
    "        \"\"\" \n",
    "        snowball = 0\n",
    "        for i in range(len(nums)):\n",
    "            if nums[i] == 0:\n",
    "                snowball += 1\n",
    "            else:\n",
    "                if snowball > 0:\n",
    "                    val = nums[i]\n",
    "                    nums[i] = 0\n",
    "                    nums[i-snowball] = val"
   ]
  },
  {
   "cell_type": "markdown",
   "id": "2135a0c8",
   "metadata": {},
   "source": [
    "## 167. Two Sum II - Input Array Is Sorted\n",
    "\n",
    "* Approach: Used Two pointers to solve it: there are cases. \n",
    "    1. If we get the target, we return the index by adding 1 (1-indexing). \n",
    "    2. If the addition is greater than target, we decrease the j value, and vice versa for i.\n",
    "* Time Complexity $ O(N) $"
   ]
  },
  {
   "cell_type": "code",
   "execution_count": 11,
   "id": "374e75d2",
   "metadata": {},
   "outputs": [],
   "source": [
    "class Solution:\n",
    "    def twoSum(self, numbers: list[int], target: int) -> list[int]:\n",
    "        l , r = 0, len(numbers) - 1\n",
    "        while l < r:\n",
    "            val = numbers[l] + numbers[r]\n",
    "            if (val == target):\n",
    "                return [l+1, r+1]\n",
    "            # if the addition is greater than target then we decrease j\n",
    "            elif (val > target):\n",
    "                r -= 1\n",
    "            # if the addition is less than target then we increase i\n",
    "            else:\n",
    "                l += 1"
   ]
  },
  {
   "cell_type": "markdown",
   "id": "cfdb60f1",
   "metadata": {},
   "source": [
    "## 344. Reverse String\n",
    "\n",
    "* Approach: Simply used Two pointers to get the value and swap them\n",
    "* Time Complexity $ O(N/2) $"
   ]
  },
  {
   "cell_type": "code",
   "execution_count": 12,
   "id": "b787f81b",
   "metadata": {},
   "outputs": [],
   "source": [
    "class Solution:\n",
    "    def reverseString(self, s: list[str]) -> None:\n",
    "        \"\"\"\n",
    "        Do not return anything, modify s in-place instead.\n",
    "        \"\"\"\n",
    "        i, j = 0, len(s) - 1\n",
    "        while i < j:\n",
    "            s[i], s[j] = s[j] , s[i]\n",
    "            j -= 1\n",
    "            i += 1"
   ]
  },
  {
   "cell_type": "markdown",
   "id": "4ce2b40f",
   "metadata": {},
   "source": [
    "## 557. Reverse Words in a String III\n",
    "\n",
    "* Approach:\n",
    "    1. Simply used the normal naive approach to solve \n",
    "* Time Complexity \n",
    "    1. $ O(N) $"
   ]
  },
  {
   "cell_type": "code",
   "execution_count": 13,
   "id": "4ee4f39f",
   "metadata": {},
   "outputs": [],
   "source": [
    "class Solution:\n",
    "    def reverseWords(self, s: str) -> str:\n",
    "        res = []\n",
    "        for i in s.split():\n",
    "            res.append(i[::-1])\n",
    "        return \" \".join(res)"
   ]
  },
  {
   "cell_type": "markdown",
   "id": "85c71fa2",
   "metadata": {},
   "source": [
    "## 876. Middle of the Linked List\n",
    "\n",
    "* Approach: simply used 2 pointers one which goes by 1 step and another goes by 2 steps and we return the slow pointer\n",
    "* Time Complexity $ O(N) $"
   ]
  },
  {
   "cell_type": "code",
   "execution_count": 14,
   "id": "ee42fd96",
   "metadata": {},
   "outputs": [],
   "source": [
    "class Solution:\n",
    "    def middleNode(self, head):\n",
    "        slow = head\n",
    "        fast = head\n",
    "        while fast and fast.next:\n",
    "            slow = slow.next\n",
    "            fast = fast.next.next\n",
    "        return slow "
   ]
  },
  {
   "cell_type": "markdown",
   "id": "10a3806c",
   "metadata": {},
   "source": [
    "## 19. Remove Nth Node From End of List\n",
    "\n",
    "* Approach: First for loop we go to the list by n times and then we started while loop for getting into the previous node which has to be deleted and at last we change the next pointer of slow \n",
    "* Time Complexity $ O(N) $"
   ]
  },
  {
   "cell_type": "code",
   "execution_count": 15,
   "id": "f39358b5",
   "metadata": {},
   "outputs": [],
   "source": [
    "class Solution:\n",
    "    def removeNthFromEnd(self, head, n: int):\n",
    "        slow, fast = head, head\n",
    "        for _ in range(n):\n",
    "            fast = fast.next\n",
    "            if not fast:\n",
    "                return head.next\n",
    "        while fast.next:\n",
    "            fast = fast.next\n",
    "            slow = slow.next\n",
    "        slow.next = slow.next.next\n",
    "        return head"
   ]
  },
  {
   "cell_type": "markdown",
   "id": "f77e0cb5",
   "metadata": {},
   "source": [
    "## 3. Longest Substring Without Repeating Characters\n",
    "\n",
    "* Approach: Used Sliding window algorithm \n",
    "* Time Complexity $ O(N) $"
   ]
  },
  {
   "cell_type": "code",
   "execution_count": 16,
   "id": "e975d7b5",
   "metadata": {},
   "outputs": [],
   "source": [
    "class Solution:\n",
    "    def lengthOfLongestSubstring(self, s: str) -> int:\n",
    "        #create the set such that it can store the values\n",
    "        char = set()\n",
    "        # left pointer for sliding window\n",
    "        l = 0\n",
    "        # res value initialize\n",
    "        res = 0\n",
    "        # iterate through right pointer\n",
    "        for r in range(len(s)):\n",
    "            # if the right most value in window is already present in the set\n",
    "            # then remove from the left window till the duplicate value \n",
    "            # removes from the char set\n",
    "            while s[r] in char:\n",
    "                # removes the left value from charset\n",
    "                char.remove(s[l])\n",
    "                # increment the left pointer\n",
    "                l += 1\n",
    "            # add the right most value to the char set\n",
    "            char.add(s[r])\n",
    "            # get the maximum window size by comparing res and window size\n",
    "            res = max(res, r - l + 1)\n",
    "        # return the result\n",
    "        return res"
   ]
  },
  {
   "cell_type": "markdown",
   "id": "c4b36d46",
   "metadata": {},
   "source": [
    "## 136. Single Number\n",
    "\n",
    "* Approach: USed XOR operation to solve the problem\n",
    "* Time Complexity $ O(N) $"
   ]
  },
  {
   "cell_type": "code",
   "execution_count": 17,
   "id": "5ea6fd3b",
   "metadata": {},
   "outputs": [],
   "source": [
    "class Solution:\n",
    "    def singleNumber(self, nums) -> int:\n",
    "        res = 0\n",
    "        for i in nums:\n",
    "            res = res ^ i\n",
    "        return res"
   ]
  },
  {
   "cell_type": "markdown",
   "id": "6c677bf1",
   "metadata": {},
   "source": [
    "## 191. Number of 1 Bits\n",
    "\n",
    "* Approach: simply done `and` operation between n and n-1 \n",
    "* Time Complexity $ O(N) $"
   ]
  },
  {
   "cell_type": "code",
   "execution_count": 18,
   "id": "41884a57",
   "metadata": {},
   "outputs": [],
   "source": [
    "class Solution:\n",
    "    def hammingWeight(self, n: int) -> int:\n",
    "        res = 0\n",
    "        while n:\n",
    "            n = n & (n - 1)\n",
    "            res += 1\n",
    "        return res"
   ]
  },
  {
   "cell_type": "markdown",
   "id": "d487513d",
   "metadata": {},
   "source": [
    "## 231. Power of Two\n",
    "\n",
    "* Approach: Simply done and opertion between n and ( n- 1) and also checked the n is greater than 0 or not\n",
    "* Time Complexity $ O(N) $"
   ]
  },
  {
   "cell_type": "code",
   "execution_count": 19,
   "id": "65152ea0",
   "metadata": {},
   "outputs": [],
   "source": [
    "class Solution:\n",
    "    def isPowerOfTwo(self, n: int) -> bool:\n",
    "        # n should be positive\n",
    "        # n & (n - 1) removes the 1 value as\n",
    "        # power of 2 contains only 1 in there binary value\n",
    "        # so if we do AND operation with prev number we get 0 if the number is\n",
    "        # power of 2\n",
    "        return n and not(n & (n - 1))"
   ]
  },
  {
   "cell_type": "markdown",
   "id": "ff6e9b96",
   "metadata": {},
   "source": [
    "## 190. Reverse Bits\n",
    "\n",
    "* Approach: Used Left shift, right shift operation to get the value\n",
    "* Time Complexity $ O(1) $"
   ]
  },
  {
   "cell_type": "code",
   "execution_count": 20,
   "id": "ce0ad15c",
   "metadata": {},
   "outputs": [],
   "source": [
    "class Solution:\n",
    "    def reverseBits(self, n: int) -> int:\n",
    "        res = 0\n",
    "        for i in range(32):\n",
    "            # get the bits value of n\n",
    "            bit = (n >> i) & 1\n",
    "            # change the res \n",
    "            # used or operation becuase we only have to \n",
    "            # change one bit and remaining keep same\n",
    "            # so or operation does the same thing\n",
    "            res = res | (bit << (31 - i))\n",
    "        return res"
   ]
  },
  {
   "cell_type": "markdown",
   "id": "0db3b628",
   "metadata": {},
   "source": [
    "## 120. Triangle\n",
    "\n",
    "* Approach: Used simple bottom up approach to solve\n",
    "* Time Complexity $ O(N) $"
   ]
  },
  {
   "cell_type": "code",
   "execution_count": 21,
   "id": "bc36f296",
   "metadata": {},
   "outputs": [],
   "source": [
    "class Solution:\n",
    "    def minimumTotal(self, triangle: list[list[int]]) -> int:\n",
    "        n = len(triangle)\n",
    "        \n",
    "        # Start from the second last row of the triangle\n",
    "        for i in range(n - 2, -1, -1):\n",
    "            # Compute the minimum path sum for each element in the row\n",
    "            for j in range(len(triangle[i])):\n",
    "                triangle[i][j] += min(triangle[i+1][j], triangle[i+1][j+1])\n",
    "        \n",
    "        # The minimum path sum is the first element of the triangle\n",
    "        return triangle[0][0]"
   ]
  },
  {
   "cell_type": "markdown",
   "id": "b132b6a8",
   "metadata": {},
   "source": [
    "## 21. Merge Two Sorted Lists\n",
    "\n",
    "* Approach: Use advantage of sorted lists compare the values if less then merge it if not then add from list2\n",
    "* Time Complexity $ O(N) $"
   ]
  },
  {
   "cell_type": "code",
   "execution_count": 22,
   "id": "b95b8f64",
   "metadata": {},
   "outputs": [],
   "source": [
    "# Definition for singly-linked list.\n",
    "# class ListNode:\n",
    "#     def __init__(self, val=0, next=None):\n",
    "#         self.val = val\n",
    "#         self.next = next\n",
    "class Solution:\n",
    "    def mergeTwoLists(self, list1, list2):\n",
    "        curr = dummy = ListNode()\n",
    "        while list1 and list2:\n",
    "            if list1.val < list2.val:\n",
    "                curr.next = list1\n",
    "                curr = curr.next\n",
    "                list1 = list1.next\n",
    "            else:\n",
    "                curr.next = list2\n",
    "                curr= curr.next\n",
    "                list2 = list2.next\n",
    "\n",
    "        if list1 or list2:\n",
    "            curr.next = list1 if list1 else list2\n",
    "\n",
    "        return dummy.next"
   ]
  },
  {
   "cell_type": "markdown",
   "id": "e4fb2c77",
   "metadata": {},
   "source": [
    "## 206. Reverse Linked List\n",
    "\n",
    "* Approach: Solved by using two pointers method\n",
    "* Time Complexity $ O(N) $"
   ]
  },
  {
   "cell_type": "code",
   "execution_count": 23,
   "id": "28a9f1ca",
   "metadata": {},
   "outputs": [],
   "source": [
    "# Definition for singly-linked list.\n",
    "# class ListNode:\n",
    "#     def __init__(self, val=0, next=None):\n",
    "#         self.val = val\n",
    "#         self.next = next\n",
    "class Solution:\n",
    "    def reverseList(self, head):\n",
    "        curr = head\n",
    "        prev = None\n",
    "        while curr != None:\n",
    "            nxt = curr.next\n",
    "            curr.next = prev\n",
    "            prev = curr\n",
    "            curr = nxt\n",
    "        return prev"
   ]
  },
  {
   "cell_type": "markdown",
   "id": "6a11652f",
   "metadata": {},
   "source": [
    "## 198. House Robber\n",
    "\n",
    "* Approach: Used the Dynamic Programming to solve the problem the main line in the code is\n",
    "    ```python\n",
    "    max(dp[i - 2] + nums[i] , dp[i - 1])\n",
    "    ```\n",
    "    * `dp[i - 2] + nums[i]` : will say that we have selected the house and check the value of before\n",
    "    \n",
    "    \n",
    "    * `dp[i - 1]` : will say that you have not selected the house but have to calculate the value\n",
    "\n",
    "* Time Complexity $ O(N) $"
   ]
  },
  {
   "cell_type": "code",
   "execution_count": 24,
   "id": "4eb5316c",
   "metadata": {},
   "outputs": [],
   "source": [
    "class Solution:\n",
    "    def rob(self, nums: list[int]) -> int:\n",
    "        # if single value then return itself\n",
    "        if len(nums) < 2:\n",
    "            return nums[0]\n",
    "        # intialize array to store the loot value\n",
    "        dp = [0] * len(nums)\n",
    "        # print(dp)\n",
    "\n",
    "        # add the first 2 value into dp\n",
    "        dp[0] = nums[0]\n",
    "        dp[1] = max(nums[0], nums[1])\n",
    "\n",
    "        # get the values now\n",
    "        for i in range(2, len(nums)):\n",
    "            # dp[i - 2] : will tell the value of previous one leaving one house\n",
    "            # nums[i] : current value which we have to calculate\n",
    "            # dp[i - 1] : value of previous house\n",
    "            dp[i] = max(dp[i - 2] + nums[i] , dp[i - 1])\n",
    "            # dp.append(val)\n",
    "        return dp[-1]                                "
   ]
  },
  {
   "cell_type": "code",
   "execution_count": 25,
   "id": "1de0e208",
   "metadata": {},
   "outputs": [
    {
     "data": {
      "application/javascript": [
       "\n",
       "            IPython.notebook.to_markdown();\n",
       "        "
      ],
      "text/plain": [
       "<IPython.core.display.Javascript object>"
      ]
     },
     "metadata": {},
     "output_type": "display_data"
    },
    {
     "name": "stdout",
     "output_type": "stream",
     "text": [
      "Successfully added to the comment list\n",
      "Here is the link https://leetcode.com/problems/flood-fill\n",
      "All the best Chandrashekhar\n"
     ]
    }
   ],
   "source": [
    "z.new(\"733. Flood Fill\")"
   ]
  },
  {
   "cell_type": "markdown",
   "id": "64d4ab82",
   "metadata": {},
   "source": [
    "## 733. Flood Fill\n",
    "\n",
    "* Approach: Used DFS by calling 4 directionally recursively we have to keep in mind that only source value has to change and we apply according the condition and also we have to check for the bounding boxes such that the value should not go outside the matrix and if in recursion the source value and current value is not same then simply returns\n",
    "* Time Complexity $ O(m * n) $"
   ]
  },
  {
   "cell_type": "code",
   "execution_count": 26,
   "id": "d05077cb",
   "metadata": {},
   "outputs": [],
   "source": [
    "class Solution:\n",
    "    def floodFill(self, image: list[list[int]], sr: int, sc: int, color: int) -> list[list[int]]:\n",
    "        # change the value of mat[sr][sc] \n",
    "        # sr : source row\n",
    "        # sc : source column\n",
    "\n",
    "        def dfs(image, sr, sc, source, color, rows, cols):\n",
    "            # check the condition for the bounding boxex\n",
    "            if (sr < 0 or sr >= rows or sc < 0 or sc >= cols):\n",
    "                return\n",
    "            # if the source is not equal to current then just return it\n",
    "            elif (image[sr][sc] != source):\n",
    "                return\n",
    "            # change the color\n",
    "            image[sr][sc] = color\n",
    "\n",
    "            # 4 Directionally recursive call\n",
    "            dfs(image, sr - 1, sc, source, color, rows, cols) # Top\n",
    "            dfs(image, sr + 1, sc, source, color, rows, cols) # Bottom\n",
    "            dfs(image, sr, sc - 1, source, color, rows, cols) # Left\n",
    "            dfs(image, sr, sc + 1, source, color, rows, cols) # Right\n",
    "\n",
    "        # store the source value\n",
    "        source = image[sr][sc]\n",
    "        # if source is equal to color then return same image\n",
    "        if color == source:\n",
    "            return image\n",
    "        rows = len(image)\n",
    "        cols = len(image[0])\n",
    "        # call dfs\n",
    "        dfs(image, sr, sc, source, color, rows, cols)\n",
    "        return image"
   ]
  },
  {
   "cell_type": "code",
   "execution_count": 27,
   "id": "785b817a",
   "metadata": {},
   "outputs": [
    {
     "data": {
      "application/javascript": [
       "\n",
       "            IPython.notebook.to_markdown();\n",
       "        "
      ],
      "text/plain": [
       "<IPython.core.display.Javascript object>"
      ]
     },
     "metadata": {},
     "output_type": "display_data"
    },
    {
     "name": "stdout",
     "output_type": "stream",
     "text": [
      "Successfully added to the comment list\n",
      "Here is the link https://leetcode.com/problems/merge-two-binary-trees\n",
      "All the best Chandrashekhar\n"
     ]
    }
   ],
   "source": [
    "z.new(\"617. Merge Two Binary Trees\")"
   ]
  },
  {
   "cell_type": "markdown",
   "id": "ec14c262",
   "metadata": {},
   "source": [
    "## 617. Merge Two Binary Trees\n",
    "\n",
    "* Approach:\n",
    "* Time Complexity $ O() $"
   ]
  },
  {
   "cell_type": "code",
   "execution_count": 28,
   "id": "d10083bb",
   "metadata": {},
   "outputs": [],
   "source": [
    "# Definition for a binary tree node.\n",
    "# class TreeNode:\n",
    "#     def __init__(self, val=0, left=None, right=None):\n",
    "#         self.val = val\n",
    "#         self.left = left\n",
    "#         self.right = right\n",
    "class Solution:\n",
    "    def mergeTrees(self, root1, root2):\n",
    "        # base case if both are None then return None\n",
    "        if not root1 and not root2:\n",
    "            return None\n",
    "        \n",
    "        # if the root1 is not None then return its value else 0\n",
    "        val_r1 = root1.val if root1 else 0\n",
    "\n",
    "        # if the root2 is not None then return its value else 0\n",
    "        val_r2 = root2.val if root2 else 0\n",
    "\n",
    "        # add the values to new binary tree\n",
    "        root = TreeNode(val_r1 + val_r2)\n",
    "\n",
    "        # now get the left and right value by using recursion\n",
    "\n",
    "        # There is chances that root1.left will be None \n",
    "        # to avoid that we handle the condition that if the root1 is True\n",
    "        # i.e it contains value if not then return None \n",
    "        # we have to do this in both left and right condition\n",
    "        root.left = self.mergeTrees(root1.left if root1 else None, root2.left if root2 else None)\n",
    "        root.right = self.mergeTrees(root1.right if root1 else None, root2.right if root2 else None)\n",
    "\n",
    "        # last but not the least return root\n",
    "        return root"
   ]
  },
  {
   "cell_type": "code",
   "execution_count": 29,
   "id": "746125dd",
   "metadata": {},
   "outputs": [
    {
     "data": {
      "application/javascript": [
       "\n",
       "            IPython.notebook.to_markdown();\n",
       "        "
      ],
      "text/plain": [
       "<IPython.core.display.Javascript object>"
      ]
     },
     "metadata": {},
     "output_type": "display_data"
    },
    {
     "name": "stdout",
     "output_type": "stream",
     "text": [
      "Successfully added to the comment list\n",
      "Here is the link https://leetcode.com/problems/climbing-stairs\n",
      "All the best Chandrashekhar\n"
     ]
    }
   ],
   "source": [
    "z.new(\"70. Climbing Stairs\")"
   ]
  },
  {
   "cell_type": "markdown",
   "id": "c8c25344",
   "metadata": {},
   "source": [
    "## 70. Climbing Stairs\n",
    "\n",
    "* Approach:\n",
    "    1. Used Recursion\n",
    "    2. Used DP Memoization ( Top Down )\n",
    "    3. Used DP Tabulization ( Bottom Up )\n",
    "* Time Complexity \n",
    "    1. $ O(2 ^  N) $\n",
    "    2. $ O(2 * N) $\n",
    "    3. $ O(2 * N) $"
   ]
  },
  {
   "cell_type": "code",
   "execution_count": 30,
   "id": "14642e96",
   "metadata": {},
   "outputs": [],
   "source": [
    "# recursion\n",
    "class Solution:\n",
    "    def climbStairs(self, n: int) -> int:\n",
    "        # the problem is similar to fibbonacci series with a slight difference in base case\n",
    "        if n <= 1:\n",
    "            return 1 # minimum is 1 step\n",
    "        return self.climbStairs(n - 1) + self.climbStairs(n - 2)"
   ]
  },
  {
   "cell_type": "code",
   "execution_count": 31,
   "id": "4ca62314",
   "metadata": {},
   "outputs": [],
   "source": [
    "# Top Down Approach\n",
    "class Solution:\n",
    "    def climbStairs(self, n: int) -> int:\n",
    "        # the problem is similar to fibbonacci series with a slight difference in base case\n",
    "        def findWays(n, cache):\n",
    "            if n <= 1:\n",
    "                return 1 # minimum is 1 step\n",
    "            # check if we already done work on the current number\n",
    "            if n in cache:\n",
    "                # if yes then return the value\n",
    "                return cache[n]\n",
    "            # store the new value into the cache which can be used further\n",
    "            cache[n] = findWays(n - 1, cache) + findWays(n - 2, cache)\n",
    "            # atlast return the cache value\n",
    "            return cache[n]\n",
    "        # initialze the cache we will be using hashing \n",
    "        # But we can also use array\n",
    "        cache = {}\n",
    "        # return by calling the helper function\n",
    "        return findWays(n , cache)"
   ]
  },
  {
   "cell_type": "code",
   "execution_count": 32,
   "id": "e9c85bf9",
   "metadata": {},
   "outputs": [],
   "source": [
    "# Bottom Up Approach\n",
    "# True Dp\n",
    "class Solution:\n",
    "    def climbStairs(self, n: int) -> int:\n",
    "        # the problem is similar to fibbonacci series with a slight difference in base case\n",
    "        if n < 2:\n",
    "            return 1\n",
    "        dp = [1, 1]\n",
    "        i = 2\n",
    "        while i <= n:\n",
    "            temp = dp[1]\n",
    "            dp[1] = dp[0] + dp[1]\n",
    "            dp[0] = temp\n",
    "            i += 1\n",
    "        return dp[1]\n",
    "        "
   ]
  },
  {
   "cell_type": "code",
   "execution_count": null,
   "id": "b9fb23db",
   "metadata": {},
   "outputs": [],
   "source": []
  },
  {
   "cell_type": "markdown",
   "id": "8fdbf5be",
   "metadata": {},
   "source": []
  }
 ],
 "metadata": {
  "kernelspec": {
   "display_name": "Python 3 (ipykernel)",
   "language": "python",
   "name": "python3"
  },
  "language_info": {
   "codemirror_mode": {
    "name": "ipython",
    "version": 3
   },
   "file_extension": ".py",
   "mimetype": "text/x-python",
   "name": "python",
   "nbconvert_exporter": "python",
   "pygments_lexer": "ipython3",
   "version": "3.10.10"
  }
 },
 "nbformat": 4,
 "nbformat_minor": 5
}
