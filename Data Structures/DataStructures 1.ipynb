{
 "cells": [
  {
   "cell_type": "code",
   "execution_count": 41,
   "id": "d88f9bce",
   "metadata": {},
   "outputs": [],
   "source": [
    "url = \"https://docs.google.com/spreadsheets/d/1mmrEpl82epOBfeSdbCnOkd0P3yGEEFF-x110dkSNZhI/edit?usp=sharing\""
   ]
  },
  {
   "cell_type": "code",
   "execution_count": 42,
   "id": "9911ca28",
   "metadata": {},
   "outputs": [
    {
     "name": "stdout",
     "output_type": "stream",
     "text": [
      "This Function is Created by Chandrashekhar Robbi\n",
      "Note this function is especially created for my leet code solving purposes \n",
      "It takes name of the problem and return leetcode link and it has features like create array which has markdown, comment and delete after executing and many more :)\n"
     ]
    }
   ],
   "source": [
    "%run ../leetcode_function.py\n",
    "z = LeetFunction(url)"
   ]
  },
  {
   "cell_type": "markdown",
   "id": "2e3e5824",
   "metadata": {},
   "source": [
    "# LeetCode Problems \n",
    "\n",
    "### Data Structures 1\n",
    "\n",
    "* ✅ [217.Contains Duplicate](#217.Contains-Duplicate)           [<a href='https://leetcode.com/problems/contains-duplicate' style='color:black'>Link</a>]\n",
    "* ✅ [53. Maximum Subarray](#53.-Maximum-Subarray)           [<a href='https://leetcode.com/problems/maximum-subarray' style='color:black'>Link</a>]\n",
    "* ✅ [1. Two Sum](#1.-Two-Sum)           [<a href='https://leetcode.com/problems/two-sum' style='color:black'>Link</a>]\n",
    "* ✅ [88. Merge Sorted Array](#88.-Merge-Sorted-Array)           [<a href='https://leetcode.com/problems/merge-sorted-array' style='color:black'>Link</a>]\n",
    "* ✅ [350. Intersection of Two Arrays II](#350.-Intersection-of-Two-Arrays-II)           [<a href='https://leetcode.com/problems/intersection-of-two-arrays-ii' style='color:black'>Link</a>]\n",
    "* ✅ [121. Best Time to Buy and Sell Stock](#121.-Best-Time-to-Buy-and-Sell-Stock)           [<a href='https://leetcode.com/problems/best-time-to-buy-and-sell-stock' style='color:black'>Link</a>]\n",
    "* ✅ [566. Reshape the Matrix](#566.-Reshape-the-Matrix)           [<a href='https://leetcode.com/problems/reshape-the-matrix' style='color:black'>Link</a>]\n",
    "* ✅ [566. Reshape the Matrix](#566.-Reshape-the-Matrix)           [<a href='https://leetcode.com/problems/reshape-the-matrix' style='color:black'>Link</a>]\n",
    "* ✅ [118. Pascal's Triangle](#118.-Pascal's-Triangle)           [<a href='https://leetcode.com/problems/pascals-triangle' style='color:black'>Link</a>]\n",
    "* ✅ [383. Ransom Note](#383.-Ransom-Note)           [<a href='https://leetcode.com/problems/ransom-note' style='color:black'>Link</a>]\n",
    "* ✅ [387. First Unique Character in a String](#387.-First-Unique-Character-in-a-String)           [<a href='https://leetcode.com/problems/first-unique-character-in-a-string' style='color:black'>Link</a>]\n",
    "* ✅ [74. Search a 2D Matrix](#74.-Search-a-2D-Matrix)           [<a href='https://leetcode.com/problems/search-a-2d-matrix' style='color:black'>Link</a>]\n",
    "* ✅ [242. Valid Anagram](#242.-Valid-Anagram)           [<a href='https://leetcode.com/problems/valid-anagram' style='color:black'>Link</a>]\n",
    "* ✅ [141. Linked List Cycle](#141.-Linked-List-Cycle)           [<a href='https://leetcode.com/problems/linked-list-cycle' style='color:black'>Link</a>]\n",
    "* ✅ [21. Merge Two Sorted Lists](#21.-Merge-Two-Sorted-Lists)           [<a href='https://leetcode.com/problems/merge-two-sorted-lists' style='color:black'>Link</a>]\n",
    "* ✅ [206. Reverse Linked List](#206.-Reverse-Linked-List)           [<a href='https://leetcode.com/problems/reverse-linked-list' style='color:black'>Link</a>]\n",
    "* ✅ [83. Remove Duplicates from Sorted List](#83.-Remove-Duplicates-from-Sorted-List)           [<a href='https://leetcode.com/problems/remove-duplicates-from-sorted-list' style='color:black'>Link</a>]\n",
    "* ✅ [203. Remove Linked List Elements](#203.-Remove-Linked-List-Elements)           [<a href='https://leetcode.com/problems/remove-linked-list-elements' style='color:black'>Link</a>]\n",
    "* ✅ [232. Implement Queue using Stacks](#232.-Implement-Queue-using-Stacks)           [<a href='https://leetcode.com/problems/implement-queue-using-stacks' style='color:black'>Link</a>]"
   ]
  },
  {
   "cell_type": "markdown",
   "id": "c9005635",
   "metadata": {},
   "source": [
    "> Refering this sheet : https://docs.google.com/spreadsheets/d/1mmrEpl82epOBfeSdbCnOkd0P3yGEEFF-x110dkSNZhI/edit?usp=sharing"
   ]
  },
  {
   "cell_type": "markdown",
   "id": "f841e425",
   "metadata": {},
   "source": [
    "## 217.Contains Duplicate\n",
    "\n",
    "* Approach : Used Hashing\n",
    "* Time Complexity : $ O(N + N) $ = O(N)"
   ]
  },
  {
   "cell_type": "code",
   "execution_count": 43,
   "id": "c529d132",
   "metadata": {},
   "outputs": [],
   "source": [
    "class Solution:\n",
    "    def containsDuplicate(self, nums: list[int]) -> bool:\n",
    "        hash = {}\n",
    "        for i in nums:\n",
    "            if i not in hash:\n",
    "                hash[i] = 1\n",
    "            else:\n",
    "                hash[i] += 1\n",
    "        for i in nums:\n",
    "            if hash[i] > 1:\n",
    "                return True\n",
    "        return False"
   ]
  },
  {
   "cell_type": "markdown",
   "id": "1c8fa602",
   "metadata": {},
   "source": [
    "## 53. Maximum Subarray\n",
    "\n",
    "* Approach : Used two variables as a reference and iterate it by handling negative values\n",
    "* TIme Complexity : $ O(N) $ "
   ]
  },
  {
   "cell_type": "code",
   "execution_count": 44,
   "id": "8167f409",
   "metadata": {},
   "outputs": [],
   "source": [
    "class Solution:\n",
    "    def maxSubArray(self, nums: list[int]) -> int:\n",
    "        maximum = nums[0]\n",
    "        currmax = 0\n",
    "        for i in nums:\n",
    "            if currmax < 0:\n",
    "                currmax = 0\n",
    "            currmax += i\n",
    "            maximum = max(maximum, currmax)\n",
    "        return maximum"
   ]
  },
  {
   "cell_type": "markdown",
   "id": "4b0bea4b",
   "metadata": {},
   "source": [
    "## 1. Two Sum\n",
    "\n",
    "* Approach : simply iterate through every element by using 2 for loops but the second loop starts with `i + 1`\n",
    "* Time Complexity : $ O(N^2) $"
   ]
  },
  {
   "cell_type": "code",
   "execution_count": 45,
   "id": "ecbee6f5",
   "metadata": {},
   "outputs": [],
   "source": [
    "class Solution:\n",
    "    def twoSum(self, nums: list[int], target: int) -> list[int]:\n",
    "        sum = []\n",
    "        for i in range(len(nums)):\n",
    "            for j in range(i+1, len(nums)):\n",
    "                if nums[i] + nums[j] == target:\n",
    "                    sum.append(i)\n",
    "                    sum.append(j)\n",
    "                    return sum"
   ]
  },
  {
   "cell_type": "markdown",
   "id": "5d304819",
   "metadata": {},
   "source": [
    "## 88. Merge Sorted Array\n",
    "\n",
    "* Approach : add elements in the reverse order such that it will be eassy to add the nums2 in nums1\n",
    "* Time Complextity : $ O(m * n)  $"
   ]
  },
  {
   "cell_type": "code",
   "execution_count": 46,
   "id": "82296420",
   "metadata": {},
   "outputs": [],
   "source": [
    "class Solution:\n",
    "    def merge(self, nums1: list[int], m: int, nums2: list[int], n: int) -> None:\n",
    "        \"\"\"\n",
    "        Do not return anything, modify nums1 in-place instead.\n",
    "        \"\"\"\n",
    "        last = m + n -1 # it takes the last element of nums1\n",
    "        while m > 0 and n > 0:\n",
    "            if nums1[m - 1] > nums2[n - 1]:\n",
    "                nums1[last] = nums1[m - 1]\n",
    "                m -= 1\n",
    "            else:\n",
    "                nums1[last] = nums2[n - 1]\n",
    "                n -= 1\n",
    "            last -= 1\n",
    "        while n > 0:\n",
    "            nums1[last] = nums2[n - 1]\n",
    "            last , n = last - 1, n - 1"
   ]
  },
  {
   "cell_type": "markdown",
   "id": "c8813a50",
   "metadata": {},
   "source": [
    "## 350. Intersection of Two Arrays II\n",
    "\n",
    "* Approach : i have used `hashing` for storing the count of repeating values and then by using `array` append the repeating values\n",
    "* Time Complexity : $ O(a + b) $"
   ]
  },
  {
   "cell_type": "code",
   "execution_count": 47,
   "id": "6bc49ff8",
   "metadata": {},
   "outputs": [],
   "source": [
    "class Solution:\n",
    "    def intersect(self, nums1: list[int], nums2: list[int]) -> list[int]:\n",
    "        hash = {}\n",
    "        for i in nums1:\n",
    "            if i not in hash:\n",
    "                hash[i] = 1\n",
    "            else:\n",
    "                hash[i] += 1\n",
    "        \n",
    "        arr = []\n",
    "        for i in nums2:\n",
    "            if i in hash:\n",
    "                hash[i] -= 1\n",
    "                if hash[i] >= 0:\n",
    "                    arr.append(i)\n",
    "\n",
    "        return arr"
   ]
  },
  {
   "cell_type": "markdown",
   "id": "7780a389",
   "metadata": {},
   "source": [
    "## 121. Best Time to Buy and Sell Stock\n",
    "\n",
    "* Approach : if the `l < r` then we take profit and compare with previous profit if not then we increase the pointer\n",
    "* Time Complexity : $ O(N) $"
   ]
  },
  {
   "cell_type": "code",
   "execution_count": 48,
   "id": "bed644a0",
   "metadata": {},
   "outputs": [],
   "source": [
    "class Solution:\n",
    "    def maxProfit(self, prices: list[int]) -> int:\n",
    "        # l is for left(buying)\n",
    "        # r is for right(selling)\n",
    "        l , r = 0 , 1\n",
    "        maxP = 0\n",
    "        while r < len(prices):\n",
    "            if prices[l] < prices[r]:\n",
    "                profit = prices[r] - prices[l]\n",
    "                maxP = max(maxP, profit)\n",
    "            else:\n",
    "                l = r\n",
    "            r += 1\n",
    "        return maxP"
   ]
  },
  {
   "cell_type": "markdown",
   "id": "aa3f21f7",
   "metadata": {},
   "source": [
    "## 566. Reshape the Matrix\n",
    "\n",
    "Approach : used simple 2 for loops\n",
    "1 is for row\n",
    "2 is for putting values in every column\n",
    "\n",
    "Time Complexity : $ O(N^2) $"
   ]
  },
  {
   "cell_type": "code",
   "execution_count": 49,
   "id": "c5af6f1a",
   "metadata": {},
   "outputs": [],
   "source": [
    "class Solution:\n",
    "    def matrixReshape(self, mat: list[list[int]], r: int, c: int) -> list[list[int]]:\n",
    "        # get the m x n value from the matrix\n",
    "        m = len(mat)\n",
    "        n = len(mat[0])\n",
    "        # if the m x n and r x c is not equal then we return the matrix\n",
    "        if m * n != r * c:\n",
    "            return mat\n",
    "\n",
    "        # initialize the available varibales\n",
    "        row = []\n",
    "        col = 0\n",
    "        res = []\n",
    "\n",
    "        # two for loops one is for rows and another to iterate every column\n",
    "        for i in range(len(mat)):\n",
    "            for j in range(len(mat[0])):\n",
    "                # append the values in first row\n",
    "                row.append(mat[i][j])\n",
    "                # we have to iterate the every column\n",
    "                col += 1\n",
    "                # if the column is equal to the c given then we reset all the values\n",
    "                if col == c:\n",
    "                    # append the first row in the res\n",
    "                    res.append(row)\n",
    "                    # reset the row and col\n",
    "                    row = []\n",
    "                    col = 0\n",
    "        return res\n",
    "\n",
    "        "
   ]
  },
  {
   "cell_type": "markdown",
   "id": "c9527761",
   "metadata": {},
   "source": [
    "## 118. Pascal's Triangle\n",
    "\n",
    "* Approach : added temp array with [0] append on prev row on end as well as front\n",
    "* Time Complexity : $ O(N^2) $"
   ]
  },
  {
   "cell_type": "code",
   "execution_count": 50,
   "id": "cb5abc38",
   "metadata": {},
   "outputs": [],
   "source": [
    "class Solution:\n",
    "    def generate(self, numRows: int) -> list[list[int]]:\n",
    "        # we have to take base case as \n",
    "        res = [[1]]\n",
    "        # we have to take numRows - 1 bcz we have already return one case above\n",
    "        for i in range(numRows - 1):\n",
    "            # temporary array to store the previous value by\n",
    "            # appending 0 at end as well as start\n",
    "            temp = [0] + res[-1] + [0]\n",
    "            # initialize row variable\n",
    "            row = []\n",
    "            # we have to run 2nd loop +1 value of previous row\n",
    "            for j in range(len(res[-1]) + 1):\n",
    "                # add the value above it from temp array\n",
    "                row.append(temp[j] + temp[j + 1])\n",
    "            # append every row in res \n",
    "            res.append(row)\n",
    "        return res"
   ]
  },
  {
   "cell_type": "markdown",
   "id": "a2856f50",
   "metadata": {},
   "source": [
    "## 383. Ransom Note\n",
    "\n",
    "* Approach : Used hashing for storing the all values and another for loop to check the `RansomNote`\n",
    "* Time Complexity : $ O(M + N) $"
   ]
  },
  {
   "cell_type": "code",
   "execution_count": 51,
   "id": "73456ff1",
   "metadata": {},
   "outputs": [],
   "source": [
    "class Solution:\n",
    "    def canConstruct(self, ransomNote: str, magazine: str) -> bool:\n",
    "        # used hashing to store the values \n",
    "        hashing = {}\n",
    "        # loop for inserting value in hashtable\n",
    "        for i in magazine:\n",
    "            if i not in hashing:\n",
    "                hashing[i] = 1\n",
    "            else:\n",
    "                hashing[i] += 1\n",
    "\n",
    "        # flag variable initialization\n",
    "        ransom = False\n",
    "\n",
    "        # loop for finding and reducing one number if it is present \n",
    "        # and if not then changing the value to False \n",
    "        # and break the loop\n",
    "        for i in ransomNote:\n",
    "            if i in hashing and hashing[i] > 0:\n",
    "                hashing[i] -= 1\n",
    "                ransom = True\n",
    "            else:\n",
    "                ransom = False\n",
    "                break\n",
    "        return ransom\n",
    "\n",
    "        # as two loop both having differnt input so \n",
    "        # T.C : O(M + R)"
   ]
  },
  {
   "cell_type": "markdown",
   "id": "1d7f56ee",
   "metadata": {},
   "source": [
    "## 387. First Unique Character in a String\n",
    "\n",
    "* Approach : Used Hashing for storing all the values and then check the one having only one counter \n",
    "* Time Complexity : $ O(N + N) $ = $ O(2N) $"
   ]
  },
  {
   "cell_type": "code",
   "execution_count": 52,
   "id": "7a2997a5",
   "metadata": {},
   "outputs": [],
   "source": [
    "class Solution:\n",
    "    def firstUniqChar(self, s: str) -> int:\n",
    "        count = {}\n",
    "        for i in s:\n",
    "            if i not in count:\n",
    "                count[i] = 1\n",
    "            else:\n",
    "                count[i] += 1\n",
    "        \n",
    "        for char in s:\n",
    "            if count[char] == 1:\n",
    "                return s.index(char)\n",
    "        return -1\n",
    "    "
   ]
  },
  {
   "cell_type": "markdown",
   "id": "c4152689",
   "metadata": {},
   "source": [
    "## 74. Search a 2D Matrix\n",
    "\n",
    "* Approach: For loop to iterate through row of every matrix and check if the target is present in the row\n",
    "* Time Complexity $ O(R * T) $"
   ]
  },
  {
   "cell_type": "code",
   "execution_count": 53,
   "id": "0216ab8f",
   "metadata": {},
   "outputs": [],
   "source": [
    "class Solution:\n",
    "    def searchMatrix(self, matrix: list[list[int]], target: int) -> bool:\n",
    "        for row in range(len(matrix)):\n",
    "            if target in matrix[row]:\n",
    "                return True\n",
    "        return False"
   ]
  },
  {
   "cell_type": "markdown",
   "id": "7dd28add",
   "metadata": {},
   "source": [
    "## 242. Valid Anagram\n",
    "\n",
    "* Approach: created two hash table and return at the end if both are equal then `True` else `False`\n",
    "* Time Complexity $ O(S * T) $"
   ]
  },
  {
   "cell_type": "code",
   "execution_count": 54,
   "id": "55bffc04",
   "metadata": {},
   "outputs": [],
   "source": [
    "class Solution:\n",
    "    def isAnagram(self, s: str, t: str) -> bool:\n",
    "        s_counts = {}\n",
    "        t_counts = {}\n",
    "        for i in s:\n",
    "            if i not in s_counts:\n",
    "                s_counts[i] = 1\n",
    "            else:\n",
    "                s_counts[i] += 1\n",
    "        \n",
    "        for j in t:\n",
    "            if j not in t_counts:\n",
    "                t_counts[j] = 1\n",
    "            else:\n",
    "                t_counts[j] += 1\n",
    "        \n",
    "        return s_counts == t_counts"
   ]
  },
  {
   "cell_type": "markdown",
   "id": "3163d372",
   "metadata": {},
   "source": [
    "## 141. Linked List Cycle\n",
    "\n",
    "* Approach: simple used two pointers and iterate through the linked list\n",
    "* Time Complexity $ O(N) $"
   ]
  },
  {
   "cell_type": "code",
   "execution_count": 55,
   "id": "b2262388",
   "metadata": {},
   "outputs": [],
   "source": [
    "class Solution:\n",
    "    def hasCycle(self, head) -> bool:\n",
    "        if head == None or head.next == None:\n",
    "            return False\n",
    "        slow = head\n",
    "        fast = head\n",
    "        while fast != None and fast.next != None:\n",
    "            slow = slow.next\n",
    "            fast = fast.next.next\n",
    "            if slow == fast:\n",
    "                return True\n",
    "        return False"
   ]
  },
  {
   "cell_type": "markdown",
   "id": "f6ef3082",
   "metadata": {},
   "source": [
    "## 21. Merge Two Sorted Lists\n",
    "\n",
    "* Approach: Created Dummy for storing updated array , if value is smaller then append it and vice versa . To handle last case one if condition for that\n",
    "* Time Complexity $ O(L1 * L2) $"
   ]
  },
  {
   "cell_type": "code",
   "execution_count": 56,
   "id": "07c942c0",
   "metadata": {},
   "outputs": [],
   "source": [
    "class Solution:\n",
    "    def mergeTwoLists(self, list1, list2):\n",
    "        curr = dummy = ListNode()\n",
    "        while list1 and list2:\n",
    "            if list1.val < list2.val:\n",
    "                curr.next = list1\n",
    "                curr = curr.next\n",
    "                list1 = list1.next\n",
    "            else:\n",
    "                curr.next = list2\n",
    "                curr= curr.next\n",
    "                list2 = list2.next\n",
    "\n",
    "        if list1 or list2:\n",
    "            curr.next = list1 if list1 else list2\n",
    "\n",
    "        return dummy.next"
   ]
  },
  {
   "cell_type": "markdown",
   "id": "e930a2ca",
   "metadata": {},
   "source": [
    "## 206. Reverse Linked List\n",
    "\n",
    "* Approach: Used `prev` and `next` pointer to get track of prev and next value, change accordingly and return `prev` value\n",
    "* Time Complexity $ O(N) $"
   ]
  },
  {
   "cell_type": "code",
   "execution_count": 57,
   "id": "f157f26b",
   "metadata": {},
   "outputs": [],
   "source": [
    "class Solution:\n",
    "    def reverseList(self, head):\n",
    "        curr = head\n",
    "        prev = None\n",
    "        while curr != None:\n",
    "            nxt = curr.next\n",
    "            curr.next = prev\n",
    "            prev = curr\n",
    "            curr = nxt\n",
    "        return prev"
   ]
  },
  {
   "cell_type": "markdown",
   "id": "a227532e",
   "metadata": {},
   "source": [
    "## 83. Remove Duplicates from Sorted List\n",
    "\n",
    "* Approach: if the `next` value is equal then change he `next` to `next.next`\n",
    "* Time Complexity $ O(N) $"
   ]
  },
  {
   "cell_type": "code",
   "execution_count": 58,
   "id": "fea325cc",
   "metadata": {},
   "outputs": [],
   "source": [
    "class Solution:\n",
    "    def deleteDuplicates(self, head):\n",
    "        curr = head\n",
    "        while curr and curr.next:\n",
    "            if curr.val == curr.next.val:\n",
    "                curr.next = curr.next.next\n",
    "            else:\n",
    "                curr = curr.next\n",
    "        return head"
   ]
  },
  {
   "cell_type": "markdown",
   "id": "eb318c8c",
   "metadata": {},
   "source": [
    "## 203. Remove Linked List Elements\n",
    "\n",
    "* Approach: taken `prev` pointer which `next` is `head` and if the `curr.val` is equal to the `val` then change `prev` pointer and else shift the `prev` to `curr` \n",
    "* Time Complexity $ O(N) $"
   ]
  },
  {
   "cell_type": "code",
   "execution_count": 59,
   "id": "11104b1c",
   "metadata": {},
   "outputs": [],
   "source": [
    "class Solution:\n",
    "    def removeElements(self, head, val: int):\n",
    "        dummy = ListNode(next=head)\n",
    "        prev , curr = dummy , head\n",
    "        while curr:\n",
    "            if curr.val == val:\n",
    "                prev.next = curr.next\n",
    "            else:\n",
    "                prev = curr\n",
    "            curr = curr.next\n",
    "        return dummy.next"
   ]
  },
  {
   "cell_type": "markdown",
   "id": "3e747e20",
   "metadata": {},
   "source": [
    "## 232. Implement Queue using Stacks\n",
    "\n",
    "* Approach:\n",
    "    * Push function append the value to stack1 \n",
    "    * Pop calls `peek()` which converts the stack1 to stack2\n",
    "    * Peek() append the stack1 values to stack2 and deletes the stack1 value\n",
    "    * Empty() if both the stack is empty then return `True` else return `False`\n",
    "* Time Complexity $ O(N) $"
   ]
  },
  {
   "cell_type": "code",
   "execution_count": 61,
   "id": "bd3e328c",
   "metadata": {},
   "outputs": [],
   "source": [
    "class MyQueue:\n",
    "\n",
    "    def __init__(self):\n",
    "        self.stack1 = []\n",
    "        self.stack2 = []\n",
    "        \n",
    "    # add values to stack1\n",
    "    def push(self, x: int) -> None:\n",
    "        self.stack1.append(x)\n",
    "\n",
    "    # while pop call peek() so that stack1 values append to\n",
    "    # stack2 \n",
    "    def pop(self) -> int:\n",
    "        i = self.peek()\n",
    "        self.stack2.pop()\n",
    "        return i\n",
    "\n",
    "    # peek() converts stack1 to stack2 array\n",
    "    # and deletes stack1 values\n",
    "    def peek(self) -> int:\n",
    "        if len(self.stack2) == 0:\n",
    "            while (len(self.stack1) != 0):\n",
    "                self.stack2.append(self.stack1[-1])\n",
    "                self.stack1.pop()\n",
    "        return self.stack2[-1]\n",
    "\n",
    "    # if both the stackare empty then return True\n",
    "    # else return False\n",
    "    def empty(self) -> bool:\n",
    "        if len(self.stack2) == 0 and len(self.stack1) == 0:\n",
    "            return True\n",
    "        else:\n",
    "            return False"
   ]
  },
  {
   "cell_type": "code",
   "execution_count": 63,
   "id": "651df047",
   "metadata": {
    "scrolled": true
   },
   "outputs": [
    {
     "name": "stdout",
     "output_type": "stream",
     "text": [
      "Successfully added to the comment list\n",
      "Here is the link https://leetcode.com/problems/valid-parentheses\n",
      "All the best Chandrashekhar\n"
     ]
    }
   ],
   "source": [
    "z.new(\"20. Valid Parentheses\")"
   ]
  },
  {
   "cell_type": "markdown",
   "id": "91623472",
   "metadata": {},
   "source": [
    "## 20. Valid Parentheses\n",
    "\n",
    "* Approach: `isMatching()` tells basis on the condition and we iterate through for loop in `isValid()` to see if i is bracksts then we append in `stack` and after checking we `pop` the element\n",
    "* Time Complexity $ O(N) $"
   ]
  },
  {
   "cell_type": "code",
   "execution_count": null,
   "id": "a9172ee2",
   "metadata": {},
   "outputs": [],
   "source": [
    "class Solution:\n",
    "    def isMatching(self, a , b):\n",
    "        if (a == '(' and b == ')') or (a == '[' and b == ']') or (a == '{' and b == '}'):\n",
    "            return True\n",
    "        else:\n",
    "            return False\n",
    "    def isValid(self, s: str) -> bool:\n",
    "        stack = []\n",
    "        for i in s:\n",
    "            if i in ('(','[','{'):\n",
    "                stack.append(i)\n",
    "            else:\n",
    "                # if stack is empty then return False\n",
    "                if not stack:\n",
    "                    return False\n",
    "                else:\n",
    "                    if self.isMatching(stack[-1], i) == True:\n",
    "                        stack.pop()\n",
    "                    else:\n",
    "                        return False \n",
    "        \n",
    "        # if stack present any value then return False\n",
    "        if stack:\n",
    "            return False\n",
    "        else:\n",
    "            return True"
   ]
  }
 ],
 "metadata": {
  "kernelspec": {
   "display_name": "Python 3 (ipykernel)",
   "language": "python",
   "name": "python3"
  },
  "language_info": {
   "codemirror_mode": {
    "name": "ipython",
    "version": 3
   },
   "file_extension": ".py",
   "mimetype": "text/x-python",
   "name": "python",
   "nbconvert_exporter": "python",
   "pygments_lexer": "ipython3",
   "version": "3.10.9"
  }
 },
 "nbformat": 4,
 "nbformat_minor": 5
}
