{
 "cells": [
  {
   "cell_type": "code",
   "execution_count": 4,
   "id": "6befaf8f",
   "metadata": {},
   "outputs": [
    {
     "name": "stdout",
     "output_type": "stream",
     "text": [
      "This Function is Created by Chandrashekhar Robbi.\n",
      "Note this function is especially created for my leet code solving purposes \n",
      "It takes name of the problem and return leetcode link and it has features like create array which has markdown, comment and delete after executing and many more :)\n"
     ]
    }
   ],
   "source": [
    "%run leetcode_function_description.py\n",
    "z = LeetFunction()"
   ]
  },
  {
   "cell_type": "markdown",
   "id": "f5238050",
   "metadata": {},
   "source": [
    "# Daily Leetcode Challenge\n",
    "\n"
   ]
  },
  {
   "cell_type": "markdown",
   "id": "7e611397",
   "metadata": {},
   "source": [
    "# 2483. Minimum Penalty for a Shop\n",
    "\n",
    "## <font color='#F1C27B'>Medium</font>\n",
    "\n",
    "You are given the customer visit log of a shop represented by a 0-indexed string customers consisting only of characters 'N' and 'Y':\n",
    "\n",
    "* `if the ith character is 'Y', it means that customers come at the ith hour`\n",
    "\n",
    "* `whereas 'N' indicates that no customers come at the ith hour.`\n",
    "\n",
    "If the shop closes at the jth hour (0 <= j <= n), the penalty is calculated as follows:\n",
    "\n",
    "* `For every hour when the shop is open and no customers come, the penalty increases by 1.`\n",
    "\n",
    "* `For every hour when the shop is closed and customers come, the penalty increases by 1.`\n",
    "\n",
    "Return the earliest hour at which the shop must be closed to incur a minimum penalty.\n",
    "\n",
    "Note that if a shop closes at the jth hour, it means the shop is closed at the hour j.\n",
    "\n",
    " \n",
    "\n",
    "Example 1:\n",
    "\n",
    "```\n",
    "Input: customers = \"YYNY\"\n",
    "Output: 2\n",
    "Explanation: \n",
    "- Closing the shop at the 0th hour incurs in 1+1+0+1 = 3 penalty.\n",
    "- Closing the shop at the 1st hour incurs in 0+1+0+1 = 2 penalty.\n",
    "- Closing the shop at the 2nd hour incurs in 0+0+0+1 = 1 penalty.\n",
    "- Closing the shop at the 3rd hour incurs in 0+0+1+1 = 2 penalty.\n",
    "- Closing the shop at the 4th hour incurs in 0+0+1+0 = 1 penalty.\n",
    "Closing the shop at 2nd or 4th hour gives a minimum penalty. Since 2 is earlier, the optimal closing time is 2.\n",
    "```\n",
    "\n",
    "Example 2:\n",
    "\n",
    "```\n",
    "Input: customers = \"NNNNN\"\n",
    "Output: 0\n",
    "Explanation: It is best to close the shop at the 0th hour as no customers arrive.\n",
    "```\n",
    "\n",
    "Example 3:\n",
    "\n",
    "```\n",
    "Input: customers = \"YYYY\"\n",
    "Output: 4\n",
    "Explanation: It is best to close the shop at the 4th hour as customers arrive at each hour.\n",
    "```\n",
    "\n",
    " \n",
    "\n",
    "Constraints:\n",
    "\n",
    "* `1 <= customers.length <= 10 ^ 5`\n",
    "\n",
    "* `customers consists only of characters 'Y' and 'N'.`\n",
    "\n",
    "\n",
    "\n",
    "\n",
    "\n",
    "  \n",
    " > <font color=\"green\">Leetcode Link to Minimum Penalty for a Shop [Link](https://leetcode.com/problems/minimum-penalty-for-a-shop) <font/> \n",
    "\n",
    "<hr> \n",
    "\n",
    "* Approach 1:Using continuos movement method\n",
    "* Time Complexity $ O(n) $\n",
    "* Space Complexity $ O(n) $"
   ]
  },
  {
   "cell_type": "code",
   "execution_count": 6,
   "id": "70570d9f",
   "metadata": {},
   "outputs": [],
   "source": [
    "class Solution:\n",
    "    def bestClosingTime(self, customers: str) -> int:\n",
    "        curr_penalty , min_penalty = customers.count('Y')\n",
    "        earliest_hour = 0\n",
    "        for i,ch in enumerate(customers):\n",
    "            if ch == 'Y': \n",
    "                curr_penalty -= 1\n",
    "            else:\n",
    "                curr_penalty += 1\n",
    "            if curr_penalty < min_penalty:\n",
    "                earliest_hour = i + 1\n",
    "                min_penalty = curr_penalty"
   ]
  },
  {
   "cell_type": "code",
   "execution_count": null,
   "id": "45d35738",
   "metadata": {},
   "outputs": [],
   "source": []
  }
 ],
 "metadata": {
  "kernelspec": {
   "display_name": "Python 3 (ipykernel)",
   "language": "python",
   "name": "python3"
  },
  "language_info": {
   "codemirror_mode": {
    "name": "ipython",
    "version": 3
   },
   "file_extension": ".py",
   "mimetype": "text/x-python",
   "name": "python",
   "nbconvert_exporter": "python",
   "pygments_lexer": "ipython3",
   "version": "3.10.10"
  }
 },
 "nbformat": 4,
 "nbformat_minor": 5
}
