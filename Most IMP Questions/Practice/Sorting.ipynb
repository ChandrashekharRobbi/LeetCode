{
 "cells": [
  {
   "cell_type": "markdown",
   "id": "7788130c",
   "metadata": {},
   "source": [
    "# Sorting"
   ]
  },
  {
   "cell_type": "markdown",
   "id": "b028db4e",
   "metadata": {},
   "source": [
    "## Selection Sort\n",
    "\n",
    "\n",
    "**Complexity**\n",
    "\n",
    "* Time Complexity: $O(N^2)$ - In all cases\n",
    "* Extra Space Complexity: $O(1)$"
   ]
  },
  {
   "cell_type": "code",
   "execution_count": 2,
   "id": "9557de09",
   "metadata": {
    "ExecuteTime": {
     "end_time": "2023-10-18T15:56:20.369747Z",
     "start_time": "2023-10-18T15:56:20.351898Z"
    }
   },
   "outputs": [],
   "source": [
    "from typing import List\n",
    "\n",
    "def selectionSort(arr: List[int]) -> None: \n",
    "    # Write your code here\n",
    "    for i in range(len(arr)):\n",
    "        mini = i\n",
    "        for j in range(i+1, len(arr)):\n",
    "            if arr[mini] > arr[j]:\n",
    "                mini = j\n",
    "        arr[mini] , arr[i] = arr[i], arr[mini]\n",
    "    return arr"
   ]
  },
  {
   "cell_type": "markdown",
   "id": "690a2c29",
   "metadata": {},
   "source": [
    "## Insertion Sort"
   ]
  },
  {
   "cell_type": "code",
   "execution_count": 3,
   "id": "abfe74f3",
   "metadata": {
    "ExecuteTime": {
     "end_time": "2023-10-18T16:19:19.075887Z",
     "start_time": "2023-10-18T16:19:19.032548Z"
    }
   },
   "outputs": [],
   "source": [
    "from typing import List\n",
    "\n",
    "def bubbleSort(arr: List[int], n: int):\n",
    "    # Your code goes here.\n",
    "    n = len(arr)\n",
    "    for i in range(len(arr)):\n",
    "        for j in range(n - i - 1):\n",
    "            if arr[j] > arr[j + 1]:\n",
    "                arr[j+1], arr[j] = arr[j] , arr[j+1]\n",
    "    return arr "
   ]
  },
  {
   "cell_type": "code",
   "execution_count": null,
   "id": "8f5f57cf",
   "metadata": {},
   "outputs": [],
   "source": []
  }
 ],
 "metadata": {
  "kernelspec": {
   "display_name": "Python 3 (ipykernel)",
   "language": "python",
   "name": "python3"
  },
  "language_info": {
   "codemirror_mode": {
    "name": "ipython",
    "version": 3
   },
   "file_extension": ".py",
   "mimetype": "text/x-python",
   "name": "python",
   "nbconvert_exporter": "python",
   "pygments_lexer": "ipython3",
   "version": "3.10.10"
  },
  "toc": {
   "base_numbering": 1,
   "nav_menu": {},
   "number_sections": true,
   "sideBar": true,
   "skip_h1_title": false,
   "title_cell": "Table of Contents",
   "title_sidebar": "Contents",
   "toc_cell": false,
   "toc_position": {
    "height": "calc(100% - 180px)",
    "left": "10px",
    "top": "150px",
    "width": "307.2px"
   },
   "toc_section_display": true,
   "toc_window_display": false
  }
 },
 "nbformat": 4,
 "nbformat_minor": 5
}
