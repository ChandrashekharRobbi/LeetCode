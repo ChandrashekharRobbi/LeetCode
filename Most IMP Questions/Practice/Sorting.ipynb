{
 "cells": [
  {
   "cell_type": "markdown",
   "id": "7788130c",
   "metadata": {},
   "source": [
    "# Sorting"
   ]
  },
  {
   "cell_type": "markdown",
   "id": "b028db4e",
   "metadata": {},
   "source": [
    "## Selection Sort\n",
    "\n",
    "\n",
    "**Complexity**\n",
    "\n",
    "* Time Complexity: $O(N^2)$ - In all cases\n",
    "* Extra Space Complexity: $O(1)$"
   ]
  },
  {
   "cell_type": "code",
   "execution_count": 1,
   "id": "9557de09",
   "metadata": {
    "ExecuteTime": {
     "end_time": "2023-10-22T15:42:53.250181Z",
     "start_time": "2023-10-22T15:42:53.239029Z"
    }
   },
   "outputs": [],
   "source": [
    "from typing import List\n",
    "\n",
    "def selectionSort(arr: List[int]) -> None: \n",
    "    # Write your code here\n",
    "    for i in range(len(arr)):\n",
    "        mini = i\n",
    "        for j in range(i+1, len(arr)):\n",
    "            if arr[mini] > arr[j]:\n",
    "                mini = j\n",
    "        arr[mini] , arr[i] = arr[i], arr[mini]\n",
    "    return arr"
   ]
  },
  {
   "cell_type": "markdown",
   "id": "24596307",
   "metadata": {},
   "source": [
    "## Bubble Sort\n",
    "\n",
    "**Complexity**\n",
    "\n",
    "* Time Complexity: $O(N^2)$ - For All cases\n",
    "* Extra Space Complexity: $O(1)$"
   ]
  },
  {
   "cell_type": "code",
   "execution_count": 2,
   "id": "aa909edc",
   "metadata": {
    "ExecuteTime": {
     "end_time": "2023-10-22T15:42:53.266193Z",
     "start_time": "2023-10-22T15:42:53.260196Z"
    }
   },
   "outputs": [],
   "source": [
    "from typing import List\n",
    "\n",
    "def bubbleSort(arr: List[int], n: int):\n",
    "    # Your code goes here.\n",
    "    n = len(arr)\n",
    "    for i in range(len(arr)):\n",
    "        for j in range(n - i - 1):\n",
    "            if arr[j] > arr[j + 1]:\n",
    "                arr[j+1], arr[j] = arr[j] , arr[j+1]\n",
    "    return arr "
   ]
  },
  {
   "cell_type": "markdown",
   "id": "ed9d82d5",
   "metadata": {},
   "source": [
    "### Recursive"
   ]
  },
  {
   "cell_type": "code",
   "execution_count": 5,
   "id": "a0253350",
   "metadata": {
    "ExecuteTime": {
     "end_time": "2023-10-22T15:43:16.744487Z",
     "start_time": "2023-10-22T15:43:16.732886Z"
    }
   },
   "outputs": [],
   "source": [
    "def bubbleSort(arr: List[int], n: int):\n",
    "    # Your code goes here.\n",
    "    count = 0\n",
    "    if n == 1: return\n",
    "\n",
    "    for i in range(n - 1):\n",
    "        if arr[i] > arr[i+1]:\n",
    "            arr[i], arr[i +1] = arr[i+1], arr[i]\n",
    "            count += 1\n",
    "    if count == 0: return\n",
    "    bubbleSort(arr, n - 1)"
   ]
  },
  {
   "cell_type": "markdown",
   "id": "24c1d7c2",
   "metadata": {},
   "source": [
    "### we can slightly optimize for best case"
   ]
  },
  {
   "cell_type": "markdown",
   "id": "86debd6c",
   "metadata": {},
   "source": [
    "**Complexity**\n",
    "\n",
    "* Time Complexity: \n",
    "    * Worst and Average: $O(N^2)$ \n",
    "    * Best Case: $O(N)$\n",
    "* Extra Space Complexity: $O(1)$"
   ]
  },
  {
   "cell_type": "code",
   "execution_count": 3,
   "id": "3c1ec4b4",
   "metadata": {
    "ExecuteTime": {
     "end_time": "2023-10-22T15:42:53.463915Z",
     "start_time": "2023-10-22T15:42:53.459509Z"
    }
   },
   "outputs": [],
   "source": [
    "from typing import List\n",
    "\n",
    "def bubbleSort(arr: List[int], n: int):\n",
    "    # Your code goes here.\n",
    "    n = len(arr)\n",
    "    swapped = False\n",
    "    for i in range(len(arr)):\n",
    "        for j in range(n - i - 1):\n",
    "            if arr[j] > arr[j + 1]:\n",
    "                swapped = True\n",
    "                arr[j+1], arr[j] = arr[j] , arr[j+1]\n",
    "        if not swapped: break\n",
    "    return arr "
   ]
  },
  {
   "cell_type": "markdown",
   "id": "ef0a26f4",
   "metadata": {},
   "source": [
    "## Insertion Sort\n",
    "\n",
    "**Complexity**\n",
    "\n",
    "* Time Complexity: \n",
    "    * Average and Worst: $O(N^2)$\n",
    "    * Best Case: $O(N)$\n",
    "* Extra Space Complexity: $O(1)$"
   ]
  },
  {
   "cell_type": "code",
   "execution_count": 4,
   "id": "5bde2310",
   "metadata": {
    "ExecuteTime": {
     "end_time": "2023-10-22T15:42:53.899199Z",
     "start_time": "2023-10-22T15:42:53.891865Z"
    }
   },
   "outputs": [],
   "source": [
    "from typing import List\n",
    "\n",
    "def insertionSort(a: List[int], n: int) -> None:\n",
    "   # write your code here\n",
    "    for i in range(len(a)):\n",
    "        j = i\n",
    "        while j > 0 and a[j-1] > a[j]:\n",
    "            a[j-1], a[j] = a[j], a[j-1]\n",
    "            j -= 1\n",
    "    return a"
   ]
  },
  {
   "cell_type": "markdown",
   "id": "2a2d4902",
   "metadata": {},
   "source": [
    "## Merge Sort"
   ]
  },
  {
   "cell_type": "code",
   "execution_count": 2,
   "id": "2374b967",
   "metadata": {
    "ExecuteTime": {
     "end_time": "2023-10-29T14:50:05.414393Z",
     "start_time": "2023-10-29T14:50:05.368018Z"
    }
   },
   "outputs": [],
   "source": [
    "def mergeSort(arr: [int], l: int, r: int):\n",
    "    # Write Your Code Here\n",
    "    def merge(a,l,m,h):\n",
    "        left = a[l:m+1]\n",
    "        right = a[m+1:h+1]\n",
    "        i = j = 0\n",
    "        k = l\n",
    "        while i < len(left) and j < len(right):\n",
    "            if left[i] < right[j]:\n",
    "                a[k] = left[i]\n",
    "                k += 1\n",
    "                i += 1\n",
    "            else:\n",
    "                a[k] = right[j]\n",
    "                j += 1\n",
    "                k += 1\n",
    "        while i<len(left):\n",
    "            a[k] = left[i]\n",
    "            i += 1\n",
    "            k += 1\n",
    "        while j<len(right):\n",
    "            a[k] = right[j]\n",
    "            j += 1\n",
    "            k += 1\n",
    "        return a\n",
    "\n",
    "    if r > l:\n",
    "        m = (l + r) // 2\n",
    "        mergeSort(arr,l, m )\n",
    "        mergeSort(arr,m + 1, r)\n",
    "        merge(arr,l,m,r)\n",
    "    # print(arr)\n",
    "    return arr"
   ]
  },
  {
   "cell_type": "code",
   "execution_count": 3,
   "id": "e658714c",
   "metadata": {
    "ExecuteTime": {
     "end_time": "2023-10-29T14:50:19.150223Z",
     "start_time": "2023-10-29T14:50:19.133328Z"
    }
   },
   "outputs": [],
   "source": [
    "## Without using Slicing\n",
    "def mergeSort(arr: [int], l: int, r: int):\n",
    "    # Write Your Code Here\n",
    "    def merge(arr: [int], l: int, m: int, r: int):\n",
    "        temp = []\n",
    "        left = l\n",
    "        right = m + 1\n",
    "        k = l\n",
    "        while left <= m and right <= r:\n",
    "            if arr[left] <= arr[right]:\n",
    "                temp.append(arr[left])\n",
    "                left += 1\n",
    "            else:\n",
    "                temp.append(arr[right])\n",
    "                right += 1\n",
    "        while left <= m:\n",
    "            temp.append(arr[left])\n",
    "            left += 1\n",
    "        while right <= r :\n",
    "            temp.append(arr[right])\n",
    "            right += 1\n",
    "        for i in range(l, r + 1):\n",
    "            arr[i] = temp[i - l]\n",
    "        return arr\n",
    "    if r > l:\n",
    "        m = (l + r) // 2\n",
    "        mergeSort(arr, l, m)\n",
    "        mergeSort(arr, m + 1, r)\n",
    "        merge(arr, l, m , r)\n",
    "    return arr\n",
    "            "
   ]
  },
  {
   "cell_type": "code",
   "execution_count": null,
   "id": "a55b03df",
   "metadata": {},
   "outputs": [],
   "source": []
  }
 ],
 "metadata": {
  "kernelspec": {
   "display_name": "Python 3 (ipykernel)",
   "language": "python",
   "name": "python3"
  },
  "language_info": {
   "codemirror_mode": {
    "name": "ipython",
    "version": 3
   },
   "file_extension": ".py",
   "mimetype": "text/x-python",
   "name": "python",
   "nbconvert_exporter": "python",
   "pygments_lexer": "ipython3",
   "version": "3.10.10"
  },
  "toc": {
   "base_numbering": 1,
   "nav_menu": {},
   "number_sections": true,
   "sideBar": true,
   "skip_h1_title": false,
   "title_cell": "Table of Contents",
   "title_sidebar": "Contents",
   "toc_cell": false,
   "toc_position": {
    "height": "calc(100% - 180px)",
    "left": "10px",
    "top": "150px",
    "width": "307.2px"
   },
   "toc_section_display": true,
   "toc_window_display": false
  }
 },
 "nbformat": 4,
 "nbformat_minor": 5
}
