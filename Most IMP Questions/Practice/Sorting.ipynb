{
 "cells": [
  {
   "cell_type": "markdown",
   "id": "e71776c3",
   "metadata": {},
   "source": [
    "# Sorting"
   ]
  },
  {
   "cell_type": "markdown",
   "id": "c3c7834a",
   "metadata": {},
   "source": [
    "## Selection Sort"
   ]
  },
  {
   "cell_type": "code",
   "execution_count": 1,
   "id": "fa82505d",
   "metadata": {
    "ExecuteTime": {
     "end_time": "2023-10-18T15:52:21.105560Z",
     "start_time": "2023-10-18T15:52:21.086328Z"
    }
   },
   "outputs": [],
   "source": [
    "from typing import List\n",
    "\n",
    "def selectionSort(arr: List[int]) -> None: \n",
    "    # Write your code here\n",
    "    for i in range(len(arr)):\n",
    "        mini = i\n",
    "        for j in range(i+1, len(arr)):\n",
    "            if arr[mini] > arr[j]:\n",
    "                mini = j\n",
    "        arr[mini] , arr[i] = arr[i], arr[mini]\n",
    "    return arr"
   ]
  },
  {
   "cell_type": "code",
   "execution_count": null,
   "id": "aac6ed46",
   "metadata": {},
   "outputs": [],
   "source": []
  }
 ],
 "metadata": {
  "kernelspec": {
   "display_name": "Python 3 (ipykernel)",
   "language": "python",
   "name": "python3"
  },
  "language_info": {
   "codemirror_mode": {
    "name": "ipython",
    "version": 3
   },
   "file_extension": ".py",
   "mimetype": "text/x-python",
   "name": "python",
   "nbconvert_exporter": "python",
   "pygments_lexer": "ipython3",
   "version": "3.10.10"
  },
  "toc": {
   "base_numbering": 1,
   "nav_menu": {},
   "number_sections": true,
   "sideBar": true,
   "skip_h1_title": false,
   "title_cell": "Table of Contents",
   "title_sidebar": "Contents",
   "toc_cell": false,
   "toc_position": {
    "height": "calc(100% - 180px)",
    "left": "10px",
    "top": "150px",
    "width": "307.2px"
   },
   "toc_section_display": true,
   "toc_window_display": false
  }
 },
 "nbformat": 4,
 "nbformat_minor": 5
}
