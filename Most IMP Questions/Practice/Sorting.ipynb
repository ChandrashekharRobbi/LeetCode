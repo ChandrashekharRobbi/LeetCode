{
 "cells": [
  {
   "cell_type": "markdown",
   "id": "7788130c",
   "metadata": {},
   "source": [
    "# Sorting"
   ]
  },
  {
   "cell_type": "markdown",
   "id": "b028db4e",
   "metadata": {},
   "source": [
    "## Selection Sort\n",
    "\n",
    "\n",
    "**Complexity**\n",
    "\n",
    "* Time Complexity: $O(N^2)$ - In all cases\n",
    "* Extra Space Complexity: $O(1)$"
   ]
  },
  {
   "cell_type": "code",
   "execution_count": 2,
   "id": "9557de09",
   "metadata": {
    "ExecuteTime": {
     "end_time": "2023-10-18T15:56:20.369747Z",
     "start_time": "2023-10-18T15:56:20.351898Z"
    }
   },
   "outputs": [],
   "source": [
    "from typing import List\n",
    "\n",
    "def selectionSort(arr: List[int]) -> None: \n",
    "    # Write your code here\n",
    "    for i in range(len(arr)):\n",
    "        mini = i\n",
    "        for j in range(i+1, len(arr)):\n",
    "            if arr[mini] > arr[j]:\n",
    "                mini = j\n",
    "        arr[mini] , arr[i] = arr[i], arr[mini]\n",
    "    return arr"
   ]
  },
  {
   "cell_type": "markdown",
   "id": "ac69cc39",
   "metadata": {},
   "source": [
    "## Bubble Sort\n",
    "\n",
    "**Complexity**\n",
    "\n",
    "* Time Complexity: $O(N^2)$ - For All cases\n",
    "* Extra Space Complexity: $O(1)$"
   ]
  },
  {
   "cell_type": "code",
   "execution_count": 5,
   "id": "8d74e60c",
   "metadata": {
    "ExecuteTime": {
     "end_time": "2023-10-18T16:43:14.604164Z",
     "start_time": "2023-10-18T16:43:14.576235Z"
    }
   },
   "outputs": [],
   "source": [
    "from typing import List\n",
    "\n",
    "def bubbleSort(arr: List[int], n: int):\n",
    "    # Your code goes here.\n",
    "    n = len(arr)\n",
    "    for i in range(len(arr)):\n",
    "        for j in range(n - i - 1):\n",
    "            if arr[j] > arr[j + 1]:\n",
    "                arr[j+1], arr[j] = arr[j] , arr[j+1]\n",
    "    return arr "
   ]
  },
  {
   "cell_type": "markdown",
   "id": "8805850b",
   "metadata": {},
   "source": [
    "### we can slightly optimize for best case"
   ]
  },
  {
   "cell_type": "markdown",
   "id": "ca0f42f2",
   "metadata": {},
   "source": [
    "**Complexity**\n",
    "\n",
    "* Time Complexity: \n",
    "    * Worst and Average: $O(N^2)$ \n",
    "    * Best Case: $O(N)$\n",
    "* Extra Space Complexity: $O(1)$"
   ]
  },
  {
   "cell_type": "code",
   "execution_count": 4,
   "id": "a8596394",
   "metadata": {
    "ExecuteTime": {
     "end_time": "2023-10-18T16:43:07.806789Z",
     "start_time": "2023-10-18T16:43:07.766948Z"
    }
   },
   "outputs": [],
   "source": [
    "from typing import List\n",
    "\n",
    "def bubbleSort(arr: List[int], n: int):\n",
    "    # Your code goes here.\n",
    "    n = len(arr)\n",
    "    swapped = False\n",
    "    for i in range(len(arr)):\n",
    "        for j in range(n - i - 1):\n",
    "            if arr[j] > arr[j + 1]:\n",
    "                swapped = True\n",
    "                arr[j+1], arr[j] = arr[j] , arr[j+1]\n",
    "        if not swapped: break\n",
    "    return arr "
   ]
  },
  {
   "cell_type": "markdown",
   "id": "a9d1e667",
   "metadata": {},
   "source": [
    "## Insertion Sort"
   ]
  },
  {
   "cell_type": "code",
   "execution_count": null,
   "id": "dafafa78",
   "metadata": {},
   "outputs": [],
   "source": [
    "from typing import List\n",
    "\n",
    "def insertionSort(a: List[int], n: int) -> None:\n",
    "   # write your code here\n",
    "   for i in range(len(a)):\n",
    "      j = i\n",
    "      while j > 0 and a[j-1] > a[j]:\n",
    "         a[j-1], a[j] = a[j], a[j-1]\n",
    "         j -= 1return a"
   ]
  }
 ],
 "metadata": {
  "kernelspec": {
   "display_name": "Python 3 (ipykernel)",
   "language": "python",
   "name": "python3"
  },
  "language_info": {
   "codemirror_mode": {
    "name": "ipython",
    "version": 3
   },
   "file_extension": ".py",
   "mimetype": "text/x-python",
   "name": "python",
   "nbconvert_exporter": "python",
   "pygments_lexer": "ipython3",
   "version": "3.10.10"
  },
  "toc": {
   "base_numbering": 1,
   "nav_menu": {},
   "number_sections": true,
   "sideBar": true,
   "skip_h1_title": false,
   "title_cell": "Table of Contents",
   "title_sidebar": "Contents",
   "toc_cell": false,
   "toc_position": {
    "height": "calc(100% - 180px)",
    "left": "10px",
    "top": "150px",
    "width": "307.2px"
   },
   "toc_section_display": true,
   "toc_window_display": false
  }
 },
 "nbformat": 4,
 "nbformat_minor": 5
}
