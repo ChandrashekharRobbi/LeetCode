{
 "cells": [
  {
   "cell_type": "markdown",
   "id": "37c2f12d",
   "metadata": {
    "toc": true
   },
   "source": [
    "<h1>Table of Contents<span class=\"tocSkip\"></span></h1>\n",
    "<div class=\"toc\"><ul class=\"toc-item\"><li><span><a href=\"#Second-Largest-Number\" data-toc-modified-id=\"Second-Largest-Number-1\">Second Largest Number</a></span></li><li><span><a href=\"#Check-Sorted-Array\" data-toc-modified-id=\"Check-Sorted-Array-2\">Check Sorted Array</a></span></li><li><span><a href=\"#Remove-Duplicates-From-Sorted-Array\" data-toc-modified-id=\"Remove-Duplicates-From-Sorted-Array-3\">Remove Duplicates From Sorted Array</a></span></li></ul></div>"
   ]
  },
  {
   "cell_type": "code",
   "execution_count": 16,
   "id": "9556be87",
   "metadata": {
    "ExecuteTime": {
     "end_time": "2023-09-29T09:57:33.446682Z",
     "start_time": "2023-09-29T09:57:33.432301Z"
    }
   },
   "outputs": [],
   "source": [
    "from typing import List"
   ]
  },
  {
   "cell_type": "markdown",
   "id": "b0cb42c9",
   "metadata": {},
   "source": [
    "# Arrays\n",
    "\n",
    "Arrays are the Linear Data Structure which can have one or more similar data types or similar data types\n",
    "\n",
    "**Time Complexity**\n",
    "1. Worst Case\n",
    "    * Access : $O(1)$\n",
    "    * Searching: $O(N)$\n",
    "    * Insertion :\n",
    "        * $O(1)$ (At the end)\n",
    "        * $O(N)$ (At any where in middle)\n",
    "    * Deletion : \n",
    "        * From end : $O(1)$\n",
    "        * From anywhere in middle : $O(N)$\n",
    "2. Average Case\n",
    "    > Same as Worst Case"
   ]
  },
  {
   "cell_type": "code",
   "execution_count": 10,
   "id": "82282d4c",
   "metadata": {
    "ExecuteTime": {
     "end_time": "2023-09-29T08:59:31.319622Z",
     "start_time": "2023-09-29T08:59:31.300102Z"
    }
   },
   "outputs": [],
   "source": [
    "arr1 = [1,4,5,3,2,5,6,3,2,2,34,5,7,8,99,0]"
   ]
  },
  {
   "cell_type": "code",
   "execution_count": 11,
   "id": "957f0500",
   "metadata": {
    "ExecuteTime": {
     "end_time": "2023-09-29T08:59:31.570368Z",
     "start_time": "2023-09-29T08:59:31.524068Z"
    }
   },
   "outputs": [
    {
     "data": {
      "text/plain": [
       "23"
      ]
     },
     "execution_count": 11,
     "metadata": {},
     "output_type": "execute_result"
    }
   ],
   "source": [
    "# Access\n",
    "arr1[0]\n",
    "\n",
    "# Searching\n",
    "x = 2\n",
    "2 in arr1\n",
    "\n",
    "# Insetion\n",
    "## At end\n",
    "arr1.append(23)\n",
    "\n",
    "## at in middle\n",
    "arr1.insert(5, 23) # (index, value)\n",
    "\n",
    "# Deletion\n",
    "arr1.pop() # from end\n",
    "arr1.pop(5) # from anywhere middle"
   ]
  },
  {
   "cell_type": "markdown",
   "id": "f9c273c2",
   "metadata": {},
   "source": [
    "# Problems"
   ]
  },
  {
   "cell_type": "markdown",
   "id": "529e0804",
   "metadata": {},
   "source": [
    "## Second Largest Number\n",
    "\n",
    "\n",
    "Print the Second Largest and Second Smallest Number"
   ]
  },
  {
   "cell_type": "code",
   "execution_count": 17,
   "id": "146c0c12",
   "metadata": {
    "ExecuteTime": {
     "end_time": "2023-09-29T10:01:36.921559Z",
     "start_time": "2023-09-29T10:01:36.910248Z"
    }
   },
   "outputs": [],
   "source": [
    "def SecondMaxMin(arr: List):\n",
    "    # first calculate the max and min Values\n",
    "    maxV = float(\"-inf\")\n",
    "    minV = float(\"inf\")\n",
    "    for num in arr:\n",
    "        if num > maxV:\n",
    "            maxV = num\n",
    "        if num < minV:\n",
    "            minV = num\n",
    "    # then calculate the second largest and smallest\n",
    "    SecondMax = float(\"-inf\")\n",
    "    SecondMin = float(\"inf\")\n",
    "    for num in arr:\n",
    "        if num > SecondMax and num != maxV:\n",
    "            SecondMax = num\n",
    "        if num < SecondMin and num != minV:\n",
    "            SecondMin = num\n",
    "    return [SecondMax, SecondMin]"
   ]
  },
  {
   "cell_type": "code",
   "execution_count": 18,
   "id": "e8d788d0",
   "metadata": {
    "ExecuteTime": {
     "end_time": "2023-09-29T10:01:48.431158Z",
     "start_time": "2023-09-29T10:01:48.423163Z"
    }
   },
   "outputs": [
    {
     "data": {
      "text/plain": [
       "[9, 2]"
      ]
     },
     "execution_count": 18,
     "metadata": {},
     "output_type": "execute_result"
    }
   ],
   "source": [
    "SecondMaxMin([1,2,3,4,5,6,7,8,9,10])"
   ]
  },
  {
   "cell_type": "code",
   "execution_count": 19,
   "id": "37df2bd1",
   "metadata": {
    "ExecuteTime": {
     "end_time": "2023-09-29T10:01:56.309318Z",
     "start_time": "2023-09-29T10:01:56.295802Z"
    }
   },
   "outputs": [
    {
     "data": {
      "text/plain": [
       "[4, 3]"
      ]
     },
     "execution_count": 19,
     "metadata": {},
     "output_type": "execute_result"
    }
   ],
   "source": [
    "SecondMaxMin([3,4,5,2])"
   ]
  },
  {
   "cell_type": "code",
   "execution_count": 20,
   "id": "4a652db6",
   "metadata": {
    "ExecuteTime": {
     "end_time": "2023-09-29T10:02:13.443374Z",
     "start_time": "2023-09-29T10:02:13.423842Z"
    }
   },
   "outputs": [
    {
     "data": {
      "text/plain": [
       "[87, 43]"
      ]
     },
     "execution_count": 20,
     "metadata": {},
     "output_type": "execute_result"
    }
   ],
   "source": [
    "SecondMaxMin([43,231,65,87,11])"
   ]
  },
  {
   "cell_type": "markdown",
   "id": "f823fc82",
   "metadata": {},
   "source": [
    "## Check Sorted Array\n",
    "\n",
    "Check for sorted array if yes then return 1 else 0"
   ]
  },
  {
   "cell_type": "code",
   "execution_count": 38,
   "id": "d5746b46",
   "metadata": {
    "ExecuteTime": {
     "end_time": "2023-09-29T12:43:38.755537Z",
     "start_time": "2023-09-29T12:43:38.739625Z"
    }
   },
   "outputs": [],
   "source": [
    "# by using forward iteration\n",
    "def isSorted1(arr: List):\n",
    "    FLAG = False\n",
    "    for i in range(len(arr) - 1):\n",
    "        if arr[i] <= arr[i+1]:\n",
    "            FLAG = True\n",
    "        else:\n",
    "            FLAG = False\n",
    "            break\n",
    "    return 1 if FLAG else 0"
   ]
  },
  {
   "cell_type": "code",
   "execution_count": 39,
   "id": "57e2086e",
   "metadata": {
    "ExecuteTime": {
     "end_time": "2023-09-29T12:43:38.957293Z",
     "start_time": "2023-09-29T12:43:38.939103Z"
    }
   },
   "outputs": [
    {
     "data": {
      "text/plain": [
       "1"
      ]
     },
     "execution_count": 39,
     "metadata": {},
     "output_type": "execute_result"
    }
   ],
   "source": [
    "isSorted1([1,2,3,4,5,6,7,8])"
   ]
  },
  {
   "cell_type": "code",
   "execution_count": 40,
   "id": "1f93af9a",
   "metadata": {
    "ExecuteTime": {
     "end_time": "2023-09-29T12:43:39.144447Z",
     "start_time": "2023-09-29T12:43:39.123890Z"
    }
   },
   "outputs": [
    {
     "data": {
      "text/plain": [
       "1"
      ]
     },
     "execution_count": 40,
     "metadata": {},
     "output_type": "execute_result"
    }
   ],
   "source": [
    "isSorted1([0,0,0,1])"
   ]
  },
  {
   "cell_type": "code",
   "execution_count": 41,
   "id": "f85a08d9",
   "metadata": {
    "ExecuteTime": {
     "end_time": "2023-09-29T12:44:03.463356Z",
     "start_time": "2023-09-29T12:44:03.446027Z"
    }
   },
   "outputs": [],
   "source": [
    "# by using beckward operation\n",
    "def isSorted2(arr: List):\n",
    "    FLAG = False\n",
    "    for i in range(len(arr) - 1, 0, -1):\n",
    "        if arr[i] >= arr[i-1]:\n",
    "            FLAG = True\n",
    "        else:\n",
    "            FLAG = False\n",
    "            break\n",
    "    return 1 if FLAG else 0"
   ]
  },
  {
   "cell_type": "code",
   "execution_count": 42,
   "id": "e28551aa",
   "metadata": {
    "ExecuteTime": {
     "end_time": "2023-09-29T12:44:11.503449Z",
     "start_time": "2023-09-29T12:44:11.493939Z"
    }
   },
   "outputs": [
    {
     "data": {
      "text/plain": [
       "0"
      ]
     },
     "execution_count": 42,
     "metadata": {},
     "output_type": "execute_result"
    }
   ],
   "source": [
    "isSorted2([1,23,4,5])"
   ]
  },
  {
   "cell_type": "code",
   "execution_count": 44,
   "id": "bdaec687",
   "metadata": {
    "ExecuteTime": {
     "end_time": "2023-09-29T12:44:27.384740Z",
     "start_time": "2023-09-29T12:44:27.366072Z"
    }
   },
   "outputs": [
    {
     "data": {
      "text/plain": [
       "1"
      ]
     },
     "execution_count": 44,
     "metadata": {},
     "output_type": "execute_result"
    }
   ],
   "source": [
    "isSorted2([1,2,3,4,5,6,7,8])"
   ]
  },
  {
   "cell_type": "code",
   "execution_count": 45,
   "id": "15e5e52b",
   "metadata": {
    "ExecuteTime": {
     "end_time": "2023-09-29T12:44:35.995620Z",
     "start_time": "2023-09-29T12:44:35.989619Z"
    }
   },
   "outputs": [
    {
     "data": {
      "text/plain": [
       "1"
      ]
     },
     "execution_count": 45,
     "metadata": {},
     "output_type": "execute_result"
    }
   ],
   "source": [
    "isSorted2([0,0,0,0,1])"
   ]
  },
  {
   "cell_type": "markdown",
   "id": "33f1b0f7",
   "metadata": {},
   "source": [
    "## Remove Duplicates From Sorted Array\n",
    "\n",
    "\n",
    "We have to remove the duplicates and return the length of the new array\n",
    "\n",
    "The Space complexity has to be `O(1)` so no new array has to be created "
   ]
  },
  {
   "cell_type": "code",
   "execution_count": 46,
   "id": "7fe7524f",
   "metadata": {
    "ExecuteTime": {
     "end_time": "2023-09-29T12:54:22.706604Z",
     "start_time": "2023-09-29T12:54:22.670123Z"
    }
   },
   "outputs": [],
   "source": [
    "# 1. the array is sorted\n",
    "# 2. we have to just return the length\n",
    "def removeDuplicates(arr: List):\n",
    "    count = 0 # or we can set 1 and just comment the last counter \n",
    "    for i in range(len(arr) - 1):\n",
    "        if arr[i] != arr[i+1]:\n",
    "            count += 1\n",
    "    count += 1 # for last value \n",
    "    return count"
   ]
  },
  {
   "cell_type": "code",
   "execution_count": 47,
   "id": "39b4d212",
   "metadata": {
    "ExecuteTime": {
     "end_time": "2023-09-29T12:54:32.171764Z",
     "start_time": "2023-09-29T12:54:32.143242Z"
    }
   },
   "outputs": [
    {
     "data": {
      "text/plain": [
       "7"
      ]
     },
     "execution_count": 47,
     "metadata": {},
     "output_type": "execute_result"
    }
   ],
   "source": [
    "removeDuplicates([1,2,3,4,5,6,7])"
   ]
  },
  {
   "cell_type": "code",
   "execution_count": 48,
   "id": "fd91bd7d",
   "metadata": {
    "ExecuteTime": {
     "end_time": "2023-09-29T12:54:47.339338Z",
     "start_time": "2023-09-29T12:54:47.310492Z"
    }
   },
   "outputs": [
    {
     "data": {
      "text/plain": [
       "3"
      ]
     },
     "execution_count": 48,
     "metadata": {},
     "output_type": "execute_result"
    }
   ],
   "source": [
    "removeDuplicates([1,1,1,1,1,1,2,2,2,2,2,2,3,3,3,3,3])"
   ]
  },
  {
   "cell_type": "code",
   "execution_count": null,
   "id": "a34f28d1",
   "metadata": {},
   "outputs": [],
   "source": []
  }
 ],
 "metadata": {
  "kernelspec": {
   "display_name": "Python 3 (ipykernel)",
   "language": "python",
   "name": "python3"
  },
  "language_info": {
   "codemirror_mode": {
    "name": "ipython",
    "version": 3
   },
   "file_extension": ".py",
   "mimetype": "text/x-python",
   "name": "python",
   "nbconvert_exporter": "python",
   "pygments_lexer": "ipython3",
   "version": "3.10.10"
  },
  "toc": {
   "base_numbering": 1,
   "nav_menu": {},
   "number_sections": false,
   "sideBar": false,
   "skip_h1_title": true,
   "title_cell": "Table of Contents",
   "title_sidebar": "Contents",
   "toc_cell": true,
   "toc_position": {
    "height": "calc(100% - 180px)",
    "left": "10px",
    "top": "150px",
    "width": "307.2px"
   },
   "toc_section_display": false,
   "toc_window_display": false
  }
 },
 "nbformat": 4,
 "nbformat_minor": 5
}
