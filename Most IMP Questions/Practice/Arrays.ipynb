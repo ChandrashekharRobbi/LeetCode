{
 "cells": [
  {
   "cell_type": "markdown",
   "id": "37c2f12d",
   "metadata": {
    "toc": true
   },
   "source": [
    "<h1>Table of Contents<span class=\"tocSkip\"></span></h1>\n",
    "<div class=\"toc\"><ul class=\"toc-item\"><li><span><a href=\"#Second-Largest-Number\" data-toc-modified-id=\"Second-Largest-Number-1\">Second Largest Number</a></span></li><li><span><a href=\"#Check-Sorted-Array\" data-toc-modified-id=\"Check-Sorted-Array-2\">Check Sorted Array</a></span></li><li><span><a href=\"#Remove-Duplicates-From-Sorted-Array\" data-toc-modified-id=\"Remove-Duplicates-From-Sorted-Array-3\">Remove Duplicates From Sorted Array</a></span></li></ul></div>"
   ]
  },
  {
   "cell_type": "code",
   "execution_count": 1,
   "id": "9556be87",
   "metadata": {
    "ExecuteTime": {
     "end_time": "2023-09-30T10:00:03.783810Z",
     "start_time": "2023-09-30T10:00:03.771091Z"
    }
   },
   "outputs": [],
   "source": [
    "from typing import List"
   ]
  },
  {
   "cell_type": "markdown",
   "id": "b0cb42c9",
   "metadata": {},
   "source": [
    "# Arrays\n",
    "\n",
    "Arrays are the Linear Data Structure which can have one or more similar data types or similar data types\n",
    "\n",
    "**Time Complexity**\n",
    "1. Worst Case\n",
    "    * Access : $O(1)$\n",
    "    * Searching: $O(N)$\n",
    "    * Insertion :\n",
    "        * $O(1)$ (At the end)\n",
    "        * $O(N)$ (At any where in middle)\n",
    "    * Deletion : \n",
    "        * From end : $O(1)$\n",
    "        * From anywhere in middle : $O(N)$\n",
    "2. Average Case\n",
    "    > Same as Worst Case"
   ]
  },
  {
   "cell_type": "code",
   "execution_count": 2,
   "id": "82282d4c",
   "metadata": {
    "ExecuteTime": {
     "end_time": "2023-09-30T10:00:04.204837Z",
     "start_time": "2023-09-30T10:00:04.187734Z"
    }
   },
   "outputs": [],
   "source": [
    "arr1 = [1,4,5,3,2,5,6,3,2,2,34,5,7,8,99,0]"
   ]
  },
  {
   "cell_type": "code",
   "execution_count": 3,
   "id": "957f0500",
   "metadata": {
    "ExecuteTime": {
     "end_time": "2023-09-30T10:00:04.391550Z",
     "start_time": "2023-09-30T10:00:04.378193Z"
    }
   },
   "outputs": [
    {
     "data": {
      "text/plain": [
       "23"
      ]
     },
     "execution_count": 3,
     "metadata": {},
     "output_type": "execute_result"
    }
   ],
   "source": [
    "# Access\n",
    "arr1[0]\n",
    "\n",
    "# Searching\n",
    "x = 2\n",
    "2 in arr1\n",
    "\n",
    "# Insetion\n",
    "## At end\n",
    "arr1.append(23)\n",
    "\n",
    "## at in middle\n",
    "arr1.insert(5, 23) # (index, value)\n",
    "\n",
    "# Deletion\n",
    "arr1.pop() # from end\n",
    "arr1.pop(5) # from anywhere middle"
   ]
  },
  {
   "cell_type": "markdown",
   "id": "f9c273c2",
   "metadata": {},
   "source": [
    "# Problems"
   ]
  },
  {
   "cell_type": "markdown",
   "id": "529e0804",
   "metadata": {},
   "source": [
    "## Second Largest Number\n",
    "\n",
    "\n",
    "Print the Second Largest and Second Smallest Number"
   ]
  },
  {
   "cell_type": "code",
   "execution_count": 4,
   "id": "146c0c12",
   "metadata": {
    "ExecuteTime": {
     "end_time": "2023-09-30T10:00:05.046767Z",
     "start_time": "2023-09-30T10:00:05.035903Z"
    }
   },
   "outputs": [],
   "source": [
    "def SecondMaxMin(arr: List):\n",
    "    # first calculate the max and min Values\n",
    "    maxV = float(\"-inf\")\n",
    "    minV = float(\"inf\")\n",
    "    for num in arr:\n",
    "        if num > maxV:\n",
    "            maxV = num\n",
    "        if num < minV:\n",
    "            minV = num\n",
    "    # then calculate the second largest and smallest\n",
    "    SecondMax = float(\"-inf\")\n",
    "    SecondMin = float(\"inf\")\n",
    "    for num in arr:\n",
    "        if num > SecondMax and num != maxV:\n",
    "            SecondMax = num\n",
    "        if num < SecondMin and num != minV:\n",
    "            SecondMin = num\n",
    "    return [SecondMax, SecondMin]"
   ]
  },
  {
   "cell_type": "code",
   "execution_count": 5,
   "id": "e8d788d0",
   "metadata": {
    "ExecuteTime": {
     "end_time": "2023-09-30T10:00:05.280197Z",
     "start_time": "2023-09-30T10:00:05.273942Z"
    }
   },
   "outputs": [
    {
     "data": {
      "text/plain": [
       "[9, 2]"
      ]
     },
     "execution_count": 5,
     "metadata": {},
     "output_type": "execute_result"
    }
   ],
   "source": [
    "SecondMaxMin([1,2,3,4,5,6,7,8,9,10])"
   ]
  },
  {
   "cell_type": "code",
   "execution_count": 6,
   "id": "37df2bd1",
   "metadata": {
    "ExecuteTime": {
     "end_time": "2023-09-30T10:00:05.514081Z",
     "start_time": "2023-09-30T10:00:05.506440Z"
    }
   },
   "outputs": [
    {
     "data": {
      "text/plain": [
       "[4, 3]"
      ]
     },
     "execution_count": 6,
     "metadata": {},
     "output_type": "execute_result"
    }
   ],
   "source": [
    "SecondMaxMin([3,4,5,2])"
   ]
  },
  {
   "cell_type": "code",
   "execution_count": 7,
   "id": "4a652db6",
   "metadata": {
    "ExecuteTime": {
     "end_time": "2023-09-30T10:00:05.732701Z",
     "start_time": "2023-09-30T10:00:05.713995Z"
    }
   },
   "outputs": [
    {
     "data": {
      "text/plain": [
       "[87, 43]"
      ]
     },
     "execution_count": 7,
     "metadata": {},
     "output_type": "execute_result"
    }
   ],
   "source": [
    "SecondMaxMin([43,231,65,87,11])"
   ]
  },
  {
   "cell_type": "markdown",
   "id": "f823fc82",
   "metadata": {},
   "source": [
    "## Check Sorted Array\n",
    "\n",
    "Check for sorted array if yes then return 1 else 0"
   ]
  },
  {
   "cell_type": "code",
   "execution_count": 8,
   "id": "d5746b46",
   "metadata": {
    "ExecuteTime": {
     "end_time": "2023-09-30T10:00:06.152491Z",
     "start_time": "2023-09-30T10:00:06.145893Z"
    }
   },
   "outputs": [],
   "source": [
    "# by using forward iteration\n",
    "def isSorted1(arr: List):\n",
    "    FLAG = False\n",
    "    for i in range(len(arr) - 1):\n",
    "        if arr[i] <= arr[i+1]:\n",
    "            FLAG = True\n",
    "        else:\n",
    "            FLAG = False\n",
    "            break\n",
    "    return 1 if FLAG else 0"
   ]
  },
  {
   "cell_type": "code",
   "execution_count": 9,
   "id": "57e2086e",
   "metadata": {
    "ExecuteTime": {
     "end_time": "2023-09-30T10:00:06.387253Z",
     "start_time": "2023-09-30T10:00:06.370704Z"
    }
   },
   "outputs": [
    {
     "data": {
      "text/plain": [
       "1"
      ]
     },
     "execution_count": 9,
     "metadata": {},
     "output_type": "execute_result"
    }
   ],
   "source": [
    "isSorted1([1,2,3,4,5,6,7,8])"
   ]
  },
  {
   "cell_type": "code",
   "execution_count": 10,
   "id": "1f93af9a",
   "metadata": {
    "ExecuteTime": {
     "end_time": "2023-09-30T10:00:06.606674Z",
     "start_time": "2023-09-30T10:00:06.586589Z"
    }
   },
   "outputs": [
    {
     "data": {
      "text/plain": [
       "1"
      ]
     },
     "execution_count": 10,
     "metadata": {},
     "output_type": "execute_result"
    }
   ],
   "source": [
    "isSorted1([0,0,0,1])"
   ]
  },
  {
   "cell_type": "code",
   "execution_count": 11,
   "id": "f85a08d9",
   "metadata": {
    "ExecuteTime": {
     "end_time": "2023-09-30T10:00:06.824456Z",
     "start_time": "2023-09-30T10:00:06.818456Z"
    }
   },
   "outputs": [],
   "source": [
    "# by using beckward operation\n",
    "def isSorted2(arr: List):\n",
    "    FLAG = False\n",
    "    for i in range(len(arr) - 1, 0, -1):\n",
    "        if arr[i] >= arr[i-1]:\n",
    "            FLAG = True\n",
    "        else:\n",
    "            FLAG = False\n",
    "            break\n",
    "    return 1 if FLAG else 0"
   ]
  },
  {
   "cell_type": "code",
   "execution_count": 12,
   "id": "e28551aa",
   "metadata": {
    "ExecuteTime": {
     "end_time": "2023-09-30T10:00:07.057713Z",
     "start_time": "2023-09-30T10:00:07.042234Z"
    }
   },
   "outputs": [
    {
     "data": {
      "text/plain": [
       "0"
      ]
     },
     "execution_count": 12,
     "metadata": {},
     "output_type": "execute_result"
    }
   ],
   "source": [
    "isSorted2([1,23,4,5])"
   ]
  },
  {
   "cell_type": "code",
   "execution_count": 13,
   "id": "bdaec687",
   "metadata": {
    "ExecuteTime": {
     "end_time": "2023-09-30T10:00:07.277536Z",
     "start_time": "2023-09-30T10:00:07.266252Z"
    }
   },
   "outputs": [
    {
     "data": {
      "text/plain": [
       "1"
      ]
     },
     "execution_count": 13,
     "metadata": {},
     "output_type": "execute_result"
    }
   ],
   "source": [
    "isSorted2([1,2,3,4,5,6,7,8])"
   ]
  },
  {
   "cell_type": "code",
   "execution_count": 14,
   "id": "15e5e52b",
   "metadata": {
    "ExecuteTime": {
     "end_time": "2023-09-30T10:00:07.480621Z",
     "start_time": "2023-09-30T10:00:07.465915Z"
    }
   },
   "outputs": [
    {
     "data": {
      "text/plain": [
       "1"
      ]
     },
     "execution_count": 14,
     "metadata": {},
     "output_type": "execute_result"
    }
   ],
   "source": [
    "isSorted2([0,0,0,0,1])"
   ]
  },
  {
   "cell_type": "code",
   "execution_count": 19,
   "id": "340c3b17",
   "metadata": {
    "ExecuteTime": {
     "end_time": "2023-09-30T10:11:28.745880Z",
     "start_time": "2023-09-30T10:11:28.731105Z"
    }
   },
   "outputs": [],
   "source": [
    "def isSorted3(arr: List):\n",
    "    for i in range(len(arr) - 1):\n",
    "        if arr[i] > arr[i + 1]:\n",
    "            return 0\n",
    "    return 1"
   ]
  },
  {
   "cell_type": "code",
   "execution_count": 20,
   "id": "0ab985f5",
   "metadata": {
    "ExecuteTime": {
     "end_time": "2023-09-30T10:11:39.344630Z",
     "start_time": "2023-09-30T10:11:39.339520Z"
    }
   },
   "outputs": [
    {
     "data": {
      "text/plain": [
       "1"
      ]
     },
     "execution_count": 20,
     "metadata": {},
     "output_type": "execute_result"
    }
   ],
   "source": [
    "isSorted3([1,2,3,4,5,6])"
   ]
  },
  {
   "cell_type": "code",
   "execution_count": null,
   "id": "07a787a9",
   "metadata": {},
   "outputs": [],
   "source": [
    "isSorted3([0,0,0,0,1])"
   ]
  },
  {
   "cell_type": "code",
   "execution_count": null,
   "id": "1f404d7e",
   "metadata": {},
   "outputs": [],
   "source": []
  },
  {
   "cell_type": "code",
   "execution_count": null,
   "id": "fbcb5108",
   "metadata": {},
   "outputs": [],
   "source": []
  },
  {
   "cell_type": "markdown",
   "id": "33f1b0f7",
   "metadata": {},
   "source": [
    "## Remove Duplicates From Sorted Array\n",
    "\n",
    "\n",
    "We have to remove the duplicates and return the length of the new array\n",
    "\n",
    "The Space complexity has to be `O(1)` so no new array has to be created "
   ]
  },
  {
   "cell_type": "code",
   "execution_count": 15,
   "id": "7fe7524f",
   "metadata": {
    "ExecuteTime": {
     "end_time": "2023-09-30T10:00:07.916164Z",
     "start_time": "2023-09-30T10:00:07.898417Z"
    }
   },
   "outputs": [],
   "source": [
    "# 1. the array is sorted\n",
    "# 2. we have to just return the length\n",
    "def removeDuplicates(arr: List):\n",
    "    count = 0 # or we can set 1 and just comment the last counter \n",
    "    for i in range(len(arr) - 1):\n",
    "        if arr[i] != arr[i+1]:\n",
    "            count += 1\n",
    "    count += 1 # for last value \n",
    "    return count"
   ]
  },
  {
   "cell_type": "code",
   "execution_count": 16,
   "id": "39b4d212",
   "metadata": {
    "ExecuteTime": {
     "end_time": "2023-09-30T10:00:08.165136Z",
     "start_time": "2023-09-30T10:00:08.146450Z"
    }
   },
   "outputs": [
    {
     "data": {
      "text/plain": [
       "7"
      ]
     },
     "execution_count": 16,
     "metadata": {},
     "output_type": "execute_result"
    }
   ],
   "source": [
    "removeDuplicates([1,2,3,4,5,6,7])"
   ]
  },
  {
   "cell_type": "code",
   "execution_count": 18,
   "id": "fd91bd7d",
   "metadata": {
    "ExecuteTime": {
     "end_time": "2023-09-30T10:00:15.044801Z",
     "start_time": "2023-09-30T10:00:15.035014Z"
    }
   },
   "outputs": [
    {
     "data": {
      "text/plain": [
       "3"
      ]
     },
     "execution_count": 18,
     "metadata": {},
     "output_type": "execute_result"
    }
   ],
   "source": [
    "removeDuplicates([1,1,1,1,1,1,2,2,2,2,2,2,3,3,3,3,3])"
   ]
  },
  {
   "cell_type": "code",
   "execution_count": null,
   "id": "29f255d6",
   "metadata": {},
   "outputs": [],
   "source": []
  },
  {
   "cell_type": "code",
   "execution_count": null,
   "id": "582cc7bc",
   "metadata": {},
   "outputs": [],
   "source": []
  }
 ],
 "metadata": {
  "kernelspec": {
   "display_name": "Python 3 (ipykernel)",
   "language": "python",
   "name": "python3"
  },
  "language_info": {
   "codemirror_mode": {
    "name": "ipython",
    "version": 3
   },
   "file_extension": ".py",
   "mimetype": "text/x-python",
   "name": "python",
   "nbconvert_exporter": "python",
   "pygments_lexer": "ipython3",
   "version": "3.10.10"
  },
  "toc": {
   "base_numbering": 1,
   "nav_menu": {},
   "number_sections": false,
   "sideBar": false,
   "skip_h1_title": true,
   "title_cell": "Table of Contents",
   "title_sidebar": "Contents",
   "toc_cell": true,
   "toc_position": {
    "height": "calc(100% - 180px)",
    "left": "10px",
    "top": "150px",
    "width": "307.2px"
   },
   "toc_section_display": false,
   "toc_window_display": false
  }
 },
 "nbformat": 4,
 "nbformat_minor": 5
}
