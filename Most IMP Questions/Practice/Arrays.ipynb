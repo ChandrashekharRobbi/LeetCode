{
 "cells": [
  {
   "cell_type": "markdown",
   "id": "37c2f12d",
   "metadata": {
    "toc": true
   },
   "source": [
    "<h1>Table of Contents<span class=\"tocSkip\"></span></h1>\n",
    "<div class=\"toc\"><ul class=\"toc-item\"><li><span><a href=\"#Second-Largest-Number\" data-toc-modified-id=\"Second-Largest-Number-1\">Second Largest Number</a></span></li></ul></div>"
   ]
  },
  {
   "cell_type": "code",
   "execution_count": 16,
   "id": "58dc1ec5",
   "metadata": {
    "ExecuteTime": {
     "end_time": "2023-09-29T09:57:33.446682Z",
     "start_time": "2023-09-29T09:57:33.432301Z"
    }
   },
   "outputs": [],
   "source": [
    "from typing import List"
   ]
  },
  {
   "cell_type": "markdown",
   "id": "b0cb42c9",
   "metadata": {},
   "source": [
    "# Arrays\n",
    "\n",
    "Arrays are the Linear Data Structure which can have one or more similar data types or similar data types\n",
    "\n",
    "**Time Complexity**\n",
    "1. Worst Case\n",
    "    * Access : $O(1)$\n",
    "    * Searching: $O(N)$\n",
    "    * Insertion :\n",
    "        * $O(1)$ (At the end)\n",
    "        * $O(N)$ (At any where in middle)\n",
    "    * Deletion : \n",
    "        * From end : $O(1)$\n",
    "        * From anywhere in middle : $O(N)$\n",
    "2. Average Case\n",
    "    > Same as Worst Case"
   ]
  },
  {
   "cell_type": "code",
   "execution_count": 10,
   "id": "82282d4c",
   "metadata": {
    "ExecuteTime": {
     "end_time": "2023-09-29T08:59:31.319622Z",
     "start_time": "2023-09-29T08:59:31.300102Z"
    }
   },
   "outputs": [],
   "source": [
    "arr1 = [1,4,5,3,2,5,6,3,2,2,34,5,7,8,99,0]"
   ]
  },
  {
   "cell_type": "code",
   "execution_count": 11,
   "id": "957f0500",
   "metadata": {
    "ExecuteTime": {
     "end_time": "2023-09-29T08:59:31.570368Z",
     "start_time": "2023-09-29T08:59:31.524068Z"
    }
   },
   "outputs": [
    {
     "data": {
      "text/plain": [
       "23"
      ]
     },
     "execution_count": 11,
     "metadata": {},
     "output_type": "execute_result"
    }
   ],
   "source": [
    "# Access\n",
    "arr1[0]\n",
    "\n",
    "# Searching\n",
    "x = 2\n",
    "2 in arr1\n",
    "\n",
    "# Insetion\n",
    "## At end\n",
    "arr1.append(23)\n",
    "\n",
    "## at in middle\n",
    "arr1.insert(5, 23) # (index, value)\n",
    "\n",
    "# Deletion\n",
    "arr1.pop() # from end\n",
    "arr1.pop(5) # from anywhere middle"
   ]
  },
  {
   "cell_type": "markdown",
   "id": "f9c273c2",
   "metadata": {},
   "source": [
    "# Problems"
   ]
  },
  {
   "cell_type": "markdown",
   "id": "529e0804",
   "metadata": {},
   "source": [
    "## Second Largest Number\n",
    "\n",
    "\n",
    "Print the Second Largest and Second Smallest Number"
   ]
  },
  {
   "cell_type": "code",
   "execution_count": 15,
   "id": "146c0c12",
   "metadata": {
    "ExecuteTime": {
     "end_time": "2023-09-29T09:57:23.816706Z",
     "start_time": "2023-09-29T09:57:23.809121Z"
    }
   },
   "outputs": [],
   "source": [
    "def SecondMaxMin(arr: List):\n",
    "    # first calculate the max and min Values\n",
    "    maxV = float(\"-inf\")\n",
    "    minV = float(\"inf\")\n",
    "    for num in arr:\n",
    "        if num > maxV and num != maxV:\n",
    "            "
   ]
  },
  {
   "cell_type": "code",
   "execution_count": null,
   "id": "cd8a74e0",
   "metadata": {},
   "outputs": [],
   "source": []
  }
 ],
 "metadata": {
  "kernelspec": {
   "display_name": "Python 3 (ipykernel)",
   "language": "python",
   "name": "python3"
  },
  "language_info": {
   "codemirror_mode": {
    "name": "ipython",
    "version": 3
   },
   "file_extension": ".py",
   "mimetype": "text/x-python",
   "name": "python",
   "nbconvert_exporter": "python",
   "pygments_lexer": "ipython3",
   "version": "3.10.10"
  },
  "toc": {
   "base_numbering": 1,
   "nav_menu": {},
   "number_sections": false,
   "sideBar": false,
   "skip_h1_title": true,
   "title_cell": "Table of Contents",
   "title_sidebar": "Contents",
   "toc_cell": true,
   "toc_position": {
    "height": "calc(100% - 180px)",
    "left": "10px",
    "top": "150px",
    "width": "307.2px"
   },
   "toc_section_display": false,
   "toc_window_display": false
  }
 },
 "nbformat": 4,
 "nbformat_minor": 5
}
