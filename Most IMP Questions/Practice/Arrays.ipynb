{
 "cells": [
  {
   "cell_type": "markdown",
   "id": "e9daba78",
   "metadata": {},
   "source": [
    "# Arrays\n",
    "\n",
    "Arrays are the Linear Data Structure which can have one or more similar data types or similar data types\n",
    "\n",
    "**Time Complexity**\n",
    "1. Worst Case\n",
    "    * Access : $O(1)$\n",
    "    * Searching: $O(N)$\n",
    "    * Insertion :\n",
    "        * $O(1)$ (At the end)\n",
    "        * $O(N)$ (At any where in middle)\n",
    "    * Deletion : \n",
    "        * From end : $O(1)$\n",
    "        * From anywhere in middle : $O(N)$\n",
    "2. Average Case\n",
    "    > Same as Worst Case"
   ]
  },
  {
   "cell_type": "code",
   "execution_count": 1,
   "id": "bdd3b39f",
   "metadata": {
    "ExecuteTime": {
     "end_time": "2023-09-29T08:55:25.425216Z",
     "start_time": "2023-09-29T08:55:25.363628Z"
    }
   },
   "outputs": [],
   "source": [
    "arr1 = [1,4,5,3,2,5,6,3,2,2,34,5,7,8,99,0]"
   ]
  },
  {
   "cell_type": "code",
   "execution_count": 9,
   "id": "028b6e43",
   "metadata": {
    "ExecuteTime": {
     "end_time": "2023-09-29T08:58:16.329611Z",
     "start_time": "2023-09-29T08:58:16.307255Z"
    }
   },
   "outputs": [
    {
     "data": {
      "text/plain": [
       "23"
      ]
     },
     "execution_count": 9,
     "metadata": {},
     "output_type": "execute_result"
    }
   ],
   "source": [
    "# Access\n",
    "arr1[0]\n",
    "\n",
    "# Searching\n",
    "x = 2\n",
    "2 in arr1\n",
    "\n",
    "# Insetion\n",
    "## At end\n",
    "arr1.append(23)\n",
    "\n",
    "## at in middle\n",
    "arr1.insert(5, 23) # (index, value)\n",
    "\n",
    "# Deletion\n",
    "arr1.pop() # from end\n",
    "arr1.pop(5) # from anywhere middle"
   ]
  },
  {
   "cell_type": "code",
   "execution_count": null,
   "id": "bfbc0471",
   "metadata": {},
   "outputs": [],
   "source": []
  }
 ],
 "metadata": {
  "kernelspec": {
   "display_name": "Python 3 (ipykernel)",
   "language": "python",
   "name": "python3"
  },
  "language_info": {
   "codemirror_mode": {
    "name": "ipython",
    "version": 3
   },
   "file_extension": ".py",
   "mimetype": "text/x-python",
   "name": "python",
   "nbconvert_exporter": "python",
   "pygments_lexer": "ipython3",
   "version": "3.10.10"
  },
  "toc": {
   "base_numbering": 1,
   "nav_menu": {},
   "number_sections": true,
   "sideBar": true,
   "skip_h1_title": false,
   "title_cell": "Table of Contents",
   "title_sidebar": "Contents",
   "toc_cell": false,
   "toc_position": {},
   "toc_section_display": true,
   "toc_window_display": false
  }
 },
 "nbformat": 4,
 "nbformat_minor": 5
}
