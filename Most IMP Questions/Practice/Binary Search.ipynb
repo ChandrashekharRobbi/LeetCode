{
 "cells": [
  {
   "cell_type": "markdown",
   "id": "ca7b057a",
   "metadata": {
    "toc": true
   },
   "source": [
    "<h1>Table of Contents<span class=\"tocSkip\"></span></h1>\n",
    "<div class=\"toc\"><ul class=\"toc-item\"><li><span><a href=\"#Binary-Search-to-find-x-Element-in-Sorted-Array\" data-toc-modified-id=\"Binary-Search-to-find-x-Element-in-Sorted-Array-1\"><span class=\"toc-item-num\">1&nbsp;&nbsp;</span>Binary Search to find <code>x</code> Element in Sorted Array</a></span></li><li><span><a href=\"#Lower-Bound\" data-toc-modified-id=\"Lower-Bound-2\"><span class=\"toc-item-num\">2&nbsp;&nbsp;</span>Lower Bound</a></span></li><li><span><a href=\"#Upper-Bound\" data-toc-modified-id=\"Upper-Bound-3\"><span class=\"toc-item-num\">3&nbsp;&nbsp;</span>Upper Bound</a></span></li><li><span><a href=\"#Search-Insert-Position\" data-toc-modified-id=\"Search-Insert-Position-4\"><span class=\"toc-item-num\">4&nbsp;&nbsp;</span>Search Insert Position</a></span></li><li><span><a href=\"#Floor-and-Ceil-Value\" data-toc-modified-id=\"Floor-and-Ceil-Value-5\"><span class=\"toc-item-num\">5&nbsp;&nbsp;</span>Floor and Ceil Value</a></span></li><li><span><a href=\"#First-and-Last-Position-of-an-Element-In-Sorted-Array\" data-toc-modified-id=\"First-and-Last-Position-of-an-Element-In-Sorted-Array-6\"><span class=\"toc-item-num\">6&nbsp;&nbsp;</span>First and Last Position of an Element In Sorted Array</a></span></li><li><span><a href=\"#Number-of-Occurences\" data-toc-modified-id=\"Number-of-Occurences-7\"><span class=\"toc-item-num\">7&nbsp;&nbsp;</span>Number of Occurences</a></span></li><li><span><a href=\"#Search-In-Rotated-Sorted-Array\" data-toc-modified-id=\"Search-In-Rotated-Sorted-Array-8\"><span class=\"toc-item-num\">8&nbsp;&nbsp;</span>Search In Rotated Sorted Array</a></span></li><li><span><a href=\"#Search-in-Rotated-Sorted-Array-II\" data-toc-modified-id=\"Search-in-Rotated-Sorted-Array-II-9\"><span class=\"toc-item-num\">9&nbsp;&nbsp;</span>Search in Rotated Sorted Array II</a></span></li><li><span><a href=\"#Find-Minimum-in-Rotated-Sorted-Array\" data-toc-modified-id=\"Find-Minimum-in-Rotated-Sorted-Array-10\"><span class=\"toc-item-num\">10&nbsp;&nbsp;</span>Find Minimum in Rotated Sorted Array</a></span><ul class=\"toc-item\"><li><span><a href=\"#For-Unique-Values\" data-toc-modified-id=\"For-Unique-Values-10.1\"><span class=\"toc-item-num\">10.1&nbsp;&nbsp;</span>For Unique Values</a></span></li><li><span><a href=\"#For-Duplicate-Values\" data-toc-modified-id=\"For-Duplicate-Values-10.2\"><span class=\"toc-item-num\">10.2&nbsp;&nbsp;</span>For Duplicate Values</a></span></li></ul></li><li><span><a href=\"#Find-out-how-many-times-has-an-array-been-rotated\" data-toc-modified-id=\"Find-out-how-many-times-has-an-array-been-rotated-11\"><span class=\"toc-item-num\">11&nbsp;&nbsp;</span>Find out how many times has an array been rotated</a></span></li><li><span><a href=\"#Single-element-in-a-Sorted-Array\" data-toc-modified-id=\"Single-element-in-a-Sorted-Array-12\"><span class=\"toc-item-num\">12&nbsp;&nbsp;</span>Single element in a Sorted Array</a></span><ul class=\"toc-item\"><li><span><a href=\"#Coding-Ninja\" data-toc-modified-id=\"Coding-Ninja-12.1\"><span class=\"toc-item-num\">12.1&nbsp;&nbsp;</span>Coding Ninja</a></span></li><li><span><a href=\"#LeetCode-(Same-Solution)\" data-toc-modified-id=\"LeetCode-(Same-Solution)-12.2\"><span class=\"toc-item-num\">12.2&nbsp;&nbsp;</span>LeetCode (Same Solution)</a></span></li></ul></li><li><span><a href=\"#Find-peak-element\" data-toc-modified-id=\"Find-peak-element-13\"><span class=\"toc-item-num\">13&nbsp;&nbsp;</span>Find peak element</a></span></li><li><span><a href=\"#Square-Root-Of-a-Number\" data-toc-modified-id=\"Square-Root-Of-a-Number-14\"><span class=\"toc-item-num\">14&nbsp;&nbsp;</span>Square Root Of a Number</a></span></li><li><span><a href=\"#Find-Nth-Root-Of-M\" data-toc-modified-id=\"Find-Nth-Root-Of-M-15\"><span class=\"toc-item-num\">15&nbsp;&nbsp;</span>Find Nth Root Of M</a></span><ul class=\"toc-item\"><li><span><a href=\"#Naive-Approach\" data-toc-modified-id=\"Naive-Approach-15.1\"><span class=\"toc-item-num\">15.1&nbsp;&nbsp;</span>Naive Approach</a></span></li><li><span><a href=\"#Efficient-Appraoch\" data-toc-modified-id=\"Efficient-Appraoch-15.2\"><span class=\"toc-item-num\">15.2&nbsp;&nbsp;</span>Efficient Appraoch</a></span></li></ul></li><li><span><a href=\"#Koko-Eating-Bananas\" data-toc-modified-id=\"Koko-Eating-Bananas-16\"><span class=\"toc-item-num\">16&nbsp;&nbsp;</span>Koko Eating Bananas</a></span><ul class=\"toc-item\"><li><span><a href=\"#Naive-Approach\" data-toc-modified-id=\"Naive-Approach-16.1\"><span class=\"toc-item-num\">16.1&nbsp;&nbsp;</span>Naive Approach</a></span></li><li><span><a href=\"#Efficient-Approach\" data-toc-modified-id=\"Efficient-Approach-16.2\"><span class=\"toc-item-num\">16.2&nbsp;&nbsp;</span>Efficient Approach</a></span></li></ul></li><li><span><a href=\"#Minimum-Number-of-Days-to-Make-m-Bouquets\" data-toc-modified-id=\"Minimum-Number-of-Days-to-Make-m-Bouquets-17\"><span class=\"toc-item-num\">17&nbsp;&nbsp;</span>Minimum Number of Days to Make m Bouquets</a></span><ul class=\"toc-item\"><li><span><a href=\"#Naive-Approach\" data-toc-modified-id=\"Naive-Approach-17.1\"><span class=\"toc-item-num\">17.1&nbsp;&nbsp;</span>Naive Approach</a></span></li><li><span><a href=\"#Efficient\" data-toc-modified-id=\"Efficient-17.2\"><span class=\"toc-item-num\">17.2&nbsp;&nbsp;</span>Efficient</a></span></li></ul></li><li><span><a href=\"#Capacity-to-ship-within-D-Days\" data-toc-modified-id=\"Capacity-to-ship-within-D-Days-18\"><span class=\"toc-item-num\">18&nbsp;&nbsp;</span>Capacity to ship within D Days</a></span></li><li><span><a href=\"#Kth-Missing-Positive-Number-Link\" data-toc-modified-id=\"Kth-Missing-Positive-Number-Link-19\"><span class=\"toc-item-num\">19&nbsp;&nbsp;</span>Kth Missing Positive Number <a href=\"https://leetcode.com/problems/kth-missing-positive-number/description/\" rel=\"nofollow\" target=\"_blank\" previewlistener=\"true\">Link</a></a></span></li><li><span><a href=\"#Aggressive-Cows-🐄🐮\" data-toc-modified-id=\"Aggressive-Cows-🐄🐮-20\"><span class=\"toc-item-num\">20&nbsp;&nbsp;</span>Aggressive Cows 🐄🐮</a></span></li><li><span><a href=\"#Allocate-Books-📚\" data-toc-modified-id=\"Allocate-Books-📚-21\"><span class=\"toc-item-num\">21&nbsp;&nbsp;</span>Allocate Books 📚</a></span></li></ul></div>"
   ]
  },
  {
   "cell_type": "code",
   "execution_count": 2,
   "id": "b1747ab4",
   "metadata": {
    "ExecuteTime": {
     "end_time": "2024-02-06T14:47:04.872311Z",
     "start_time": "2024-02-06T14:47:04.860209Z"
    }
   },
   "outputs": [],
   "source": [
    "from typing import *"
   ]
  },
  {
   "cell_type": "markdown",
   "id": "cae90622",
   "metadata": {},
   "source": [
    "## Binary Search to find `x` Element in Sorted Array"
   ]
  },
  {
   "cell_type": "code",
   "execution_count": 7,
   "id": "8f925240",
   "metadata": {
    "ExecuteTime": {
     "end_time": "2023-11-11T12:06:05.933895Z",
     "start_time": "2023-11-11T12:06:05.927479Z"
    }
   },
   "outputs": [],
   "source": [
    "def search(nums: [int], target: int):\n",
    "    # write your code logic !!\n",
    "    l = 0\n",
    "    r = len(nums) - 1\n",
    "    while l <= r:\n",
    "        mid = (l + r) // 2\n",
    "        if nums[mid] > target:\n",
    "            r = mid - 1\n",
    "        elif nums[mid] < target:\n",
    "            l = mid + 1\n",
    "        else:\n",
    "            return mid\n",
    "    return -1"
   ]
  },
  {
   "attachments": {
    "image.png": {
     "image/png": "[encoded data removed]"
    }
   },
   "cell_type": "markdown",
   "id": "ba193ac3",
   "metadata": {},
   "source": [
    "## Lower Bound\n",
    "\n",
    "![image.png](attachment:image.png)"
   ]
  },
  {
   "cell_type": "markdown",
   "id": "c1605386",
   "metadata": {},
   "source": [
    "> Smallest Index such that `arr[idx]` >= `x`"
   ]
  },
  {
   "cell_type": "code",
   "execution_count": 3,
   "id": "2c83b80e",
   "metadata": {
    "ExecuteTime": {
     "end_time": "2023-11-11T12:48:37.604418Z",
     "start_time": "2023-11-11T12:48:37.592623Z"
    }
   },
   "outputs": [],
   "source": [
    "def lowerBound(arr: [int], n: int, x: int) -> int:\n",
    "    # initialize the variables\n",
    "    low = 0\n",
    "    high = n - 1\n",
    "    val = float(\"inf\")\n",
    "    # space tree condition\n",
    "    while low <= high:\n",
    "        mid = (low + high) // 2\n",
    "        # we only want that element which is just greater than x not less than x\n",
    "        if arr[mid] >= x:\n",
    "            # take the min index as we want least index number\n",
    "            val = min(val, mid)\n",
    "            # also decrease the right windows so that we can find the least from the space tree\n",
    "            high = mid - 1\n",
    "        # if not then go to right to find the just greater number\n",
    "        elif arr[mid] < x:\n",
    "            low = mid + 1\n",
    "    # if there is no change in val then ust return n as it is as a hypothetical index\n",
    "    return val if val != float(\"inf\") else n"
   ]
  },
  {
   "cell_type": "code",
   "execution_count": 7,
   "id": "c3673902",
   "metadata": {
    "ExecuteTime": {
     "end_time": "2023-11-11T12:58:29.752635Z",
     "start_time": "2023-11-11T12:58:29.733020Z"
    }
   },
   "outputs": [],
   "source": [
    "# after improving the above solution slightly\n",
    "def lowerBound(arr: [int], n: int, x: int) -> int:\n",
    "    # Write your code here\n",
    "    low = 0\n",
    "    high = n - 1\n",
    "    val = n\n",
    "    while low <= high:\n",
    "        mid = (low + high) // 2\n",
    "        if arr[mid] >= x:\n",
    "            val = mid\n",
    "            high = mid - 1\n",
    "        else:\n",
    "            low = mid + 1\n",
    "    return val"
   ]
  },
  {
   "cell_type": "markdown",
   "id": "6a5cd0bf",
   "metadata": {},
   "source": [
    "## Upper Bound"
   ]
  },
  {
   "cell_type": "markdown",
   "id": "e85ce732",
   "metadata": {},
   "source": [
    "> Smallest Index such that `arr[idx]` > `x`"
   ]
  },
  {
   "cell_type": "code",
   "execution_count": 9,
   "id": "c1dde01a",
   "metadata": {
    "ExecuteTime": {
     "end_time": "2023-11-11T13:08:25.188400Z",
     "start_time": "2023-11-11T13:08:25.177593Z"
    }
   },
   "outputs": [],
   "source": [
    "def upperBound(arr: [int], x: int, n: int) -> int:\n",
    "    # initialize the variables\n",
    "    low = 0\n",
    "    high = n - 1\n",
    "    ans = n\n",
    "    # condition for search space\n",
    "    while low <= high:\n",
    "        mid = (low + high) // 2\n",
    "        # upper bound so it should be greater than x\n",
    "        if arr[mid] > x:\n",
    "            # save the index value\n",
    "            ans = mid\n",
    "            high = mid - 1\n",
    "        # if not then go to right side\n",
    "        else:\n",
    "            low = mid + 1\n",
    "    # return the index value\n",
    "    return ans"
   ]
  },
  {
   "cell_type": "markdown",
   "id": "04669401",
   "metadata": {},
   "source": [
    "## Search Insert Position"
   ]
  },
  {
   "cell_type": "code",
   "execution_count": 2,
   "id": "1e1ed30d",
   "metadata": {
    "ExecuteTime": {
     "end_time": "2023-11-12T18:17:48.172987Z",
     "start_time": "2023-11-12T18:17:48.161240Z"
    }
   },
   "outputs": [],
   "source": [
    "# same concept as Lower Bound\n",
    "def searchInsert(arr: [int], m: int) -> int:\n",
    "    l = 0\n",
    "    r = len(arr) - 1\n",
    "    ans = len(arr)\n",
    "    while l <= r:\n",
    "        mid = (l + r) // 2\n",
    "        if arr[mid] >= m:\n",
    "            ans = mid\n",
    "            r = mid - 1\n",
    "        else:\n",
    "            l = mid + 1\n",
    "    return ans"
   ]
  },
  {
   "cell_type": "markdown",
   "id": "2057cfce",
   "metadata": {},
   "source": [
    "## Floor and Ceil Value\n",
    "\n",
    "* Floor Value : largest Element in an array which is `arr[mid] <= x`\n",
    "* Ceil Value: Smallest Element in an array which is `arr[mid] >= x`"
   ]
  },
  {
   "cell_type": "code",
   "execution_count": 1,
   "id": "1b11687d",
   "metadata": {
    "ExecuteTime": {
     "end_time": "2023-11-13T12:41:41.687807Z",
     "start_time": "2023-11-13T12:41:41.650888Z"
    }
   },
   "outputs": [],
   "source": [
    "from os import *\n",
    "from sys import *\n",
    "from collections import *\n",
    "from math import *\n",
    "# simple we just use the concept of upper and lower bound\n",
    "\n",
    "def getFloorAndCeil(arr, n, x):\n",
    "    # For Getting the floor value\n",
    "    def getFloor(arr, n, x):\n",
    "        # inititalizing the variables\n",
    "        low = 0\n",
    "        high = n - 1\n",
    "        # a value which has to store largest element so we store -inf\n",
    "        ans = float(\"-inf\")\n",
    "        while low <= high:\n",
    "            mid = (low + high) // 2\n",
    "            # if the mid element is less than or equal to x (floor Condition)\n",
    "            if arr[mid] <= x:\n",
    "                # then we will select the maximum value from the ans and mid (floor condition)\n",
    "                ans = max(ans, arr[mid])\n",
    "                low = mid + 1\n",
    "            else:\n",
    "                high = mid - 1\n",
    "        # if not present then return -1\n",
    "        return ans if ans != float(\"-inf\") else -1\n",
    "    def getCeil(arr, n, x):\n",
    "        # intialize the varibles\n",
    "        low = 0\n",
    "        high = n - 1\n",
    "        # to store smallest store largest\n",
    "        ans = float(\"inf\")\n",
    "        while low <= high:\n",
    "            mid = (low + high) // 2\n",
    "            # Ceil Condition\n",
    "            if arr[mid] >= x:\n",
    "                # get the minimum value\n",
    "                ans = min(ans, arr[mid])\n",
    "                high = mid - 1\n",
    "            else:\n",
    "                low = mid + 1\n",
    "        # if not present then return -1\n",
    "        return ans if ans != float(\"inf\") else -1\n",
    "    return [getFloor(arr, n , x), getCeil(arr, n , x)]"
   ]
  },
  {
   "cell_type": "markdown",
   "id": "d85e0079",
   "metadata": {},
   "source": [
    "## First and Last Position of an Element In Sorted Array"
   ]
  },
  {
   "cell_type": "code",
   "execution_count": 3,
   "id": "4aee700c",
   "metadata": {
    "ExecuteTime": {
     "end_time": "2023-11-13T12:53:33.254877Z",
     "start_time": "2023-11-13T12:53:33.250876Z"
    }
   },
   "outputs": [],
   "source": [
    "# solved by using hashmap\n",
    "def firstAndLastPosition(arr, n, k):\n",
    "    mp = {}\n",
    "    # save the numbers in  hashmap\n",
    "    for i in arr:\n",
    "        if i not in mp:\n",
    "            mp[i] = 1\n",
    "        else:\n",
    "            mp[i] += 1\n",
    "    # if the value is present in hashmap then the last \n",
    "    # occurences will be \n",
    "    # i + mp[i] - 1 \n",
    "    # curr_idx + freq - 1\n",
    "    for i, val in enumerate(arr):\n",
    "        if val == k:\n",
    "            return [i,i + mp[val] - 1]\n",
    "    # if not present then -1\n",
    "    return [-1,-1]\n"
   ]
  },
  {
   "cell_type": "code",
   "execution_count": 5,
   "id": "37721c27",
   "metadata": {
    "ExecuteTime": {
     "end_time": "2023-11-13T13:05:59.965821Z",
     "start_time": "2023-11-13T13:05:59.945712Z"
    }
   },
   "outputs": [],
   "source": [
    "# using Binary Search\n",
    "def firstAndLastPosition(arr, n, k):\n",
    "    # first Occurence means \n",
    "    # the leftmost element\n",
    "    def getFirstOccur(arr, k):\n",
    "        low = 0\n",
    "        high = len(arr) - 1\n",
    "        idx = -1\n",
    "        while low <= high:\n",
    "            mid = (low + high) // 2\n",
    "            # if the value is equal then go to left\n",
    "            if arr[mid] == k:\n",
    "                idx = mid\n",
    "                high = mid - 1\n",
    "            elif arr[mid] > k:\n",
    "                high = mid - 1\n",
    "            else:\n",
    "                low = mid + 1\n",
    "        return idx\n",
    "    def getLastOccur(arr,k):\n",
    "        low = 0\n",
    "        high = len(arr) - 1\n",
    "        idx = -1\n",
    "        while low <= high:\n",
    "            mid = (low + high) // 2\n",
    "            # if the value is equal then go to right\n",
    "            if arr[mid] == k:\n",
    "                idx = mid\n",
    "                low = mid + 1\n",
    "            elif arr[mid] > k:\n",
    "                high = mid - 1\n",
    "            else:\n",
    "                low = mid + 1\n",
    "        return idx\n",
    "    ans = getLastOccur(arr, k)\n",
    "    return [getFirstOccur(arr, k), ans]"
   ]
  },
  {
   "cell_type": "markdown",
   "id": "febee428",
   "metadata": {},
   "source": [
    "## Number of Occurences"
   ]
  },
  {
   "cell_type": "code",
   "execution_count": 7,
   "id": "1e33a04f",
   "metadata": {
    "ExecuteTime": {
     "end_time": "2023-11-13T13:14:10.722942Z",
     "start_time": "2023-11-13T13:14:10.711923Z"
    }
   },
   "outputs": [],
   "source": [
    "# i just use the first and last occurence code\n",
    "# and do subtract (last - first + 1)\n",
    "def count(arr: [int], n: int, k: int) -> int:\n",
    "    # Your code goes here\n",
    "    def getFirstOccur(arr, k):\n",
    "        low = 0\n",
    "        high = len(arr) - 1\n",
    "        idx = -1\n",
    "        while low <= high:\n",
    "            mid = (low + high) // 2\n",
    "            if arr[mid] == k:\n",
    "                idx = mid\n",
    "                high = mid - 1\n",
    "            elif arr[mid] > k:\n",
    "                high = mid - 1\n",
    "            else:\n",
    "                low = mid + 1\n",
    "        return idx\n",
    "    def getLastOccur(arr,k):\n",
    "        low = 0\n",
    "        high = len(arr) - 1\n",
    "        idx = -1\n",
    "        while low <= high:\n",
    "            mid = (low + high) // 2\n",
    "            if arr[mid] == k:\n",
    "                idx = mid\n",
    "                low = mid + 1\n",
    "            elif arr[mid] > k:\n",
    "                high = mid - 1\n",
    "            else:\n",
    "                low = mid + 1\n",
    "        return idx\n",
    "    # if the idx >= 0 return the number of occurences else (if negative) return 0\n",
    "    return getLastOccur(arr, k) - getFirstOccur(arr, k) + 1 if getLastOccur(arr, k) >= 0 else 0"
   ]
  },
  {
   "attachments": {
    "image.png": {
     "image/png": "[encoded data removed]"
    }
   },
   "cell_type": "markdown",
   "id": "dc9e308c",
   "metadata": {},
   "source": [
    "## Search In Rotated Sorted Array\n",
    "\n",
    "![image.png](attachment:image.png)"
   ]
  },
  {
   "cell_type": "code",
   "execution_count": 2,
   "id": "6132d924",
   "metadata": {
    "ExecuteTime": {
     "end_time": "2023-11-14T14:05:30.386302Z",
     "start_time": "2023-11-14T14:05:30.366283Z"
    }
   },
   "outputs": [],
   "source": [
    "# Naive Appraoch\n",
    "def search(arr, n, k):\n",
    "    for i in range(len(arr)):\n",
    "        if arr[i] == k:\n",
    "            return i\n",
    "    return -1\n"
   ]
  },
  {
   "cell_type": "code",
   "execution_count": 4,
   "id": "bab85c17",
   "metadata": {
    "ExecuteTime": {
     "end_time": "2023-11-14T14:26:06.156746Z",
     "start_time": "2023-11-14T14:26:06.142828Z"
    }
   },
   "outputs": [],
   "source": [
    "# we have to always select the sorted array left or right\n",
    "# in case of rotated array we have to verify and then check \n",
    "# so if the target lies within the range then \n",
    "# it will have the value \n",
    "def search(arr, n, k):\n",
    "    # we check for the sorted array \n",
    "    # the left or the right\n",
    "    low = 0\n",
    "    high = n - 1\n",
    "    while low <= high:\n",
    "        mid = (low + high) // 2\n",
    "        # left sorted array\n",
    "        if arr[mid] == k: return mid\n",
    "        if arr[low] <= arr[mid]:\n",
    "            # check the condition if the target lies between range\n",
    "            if arr[low] <= k and k <= arr[mid]:\n",
    "                # if yes then ignore right array\n",
    "                high = mid - 1\n",
    "            else:\n",
    "                low = mid + 1\n",
    "        # right sorted array\n",
    "        else:\n",
    "            if arr[mid] <= k and k <= arr[high]:\n",
    "                low = mid + 1\n",
    "            else:\n",
    "                high = mid - 1\n",
    "    return -1"
   ]
  },
  {
   "cell_type": "markdown",
   "id": "1881b99e",
   "metadata": {},
   "source": [
    "## Search in Rotated Sorted Array II\n"
   ]
  },
  {
   "cell_type": "code",
   "execution_count": 7,
   "id": "427eb7fc",
   "metadata": {
    "ExecuteTime": {
     "end_time": "2023-11-14T16:32:09.871251Z",
     "start_time": "2023-11-14T16:32:09.857458Z"
    }
   },
   "outputs": [],
   "source": [
    "from typing import List\n",
    "class Solution:\n",
    "    def search(self, arr: List[int], k: int) -> bool:\n",
    "        # we check for the sorted array \n",
    "        # the left or the right\n",
    "        n = len(arr)\n",
    "        low = 0\n",
    "        high = n - 1\n",
    "        while low <= high:\n",
    "            mid = (low + high) // 2\n",
    "            # left sorted array\n",
    "            if arr[mid] == k: return True\n",
    "            # duplicate case handled condition\n",
    "            if arr[low] == arr[mid] and arr[mid] == arr[high]:\n",
    "                low += 1\n",
    "                high -= 1\n",
    "                continue\n",
    "            if arr[low] <= arr[mid]:\n",
    "                # check the condition if the target lies between range\n",
    "                if arr[low] <= k and k <= arr[mid]:\n",
    "                    # if yes then ignore right array\n",
    "                    high = mid - 1\n",
    "                else:\n",
    "                    low = mid + 1\n",
    "            # right sorted array\n",
    "            else:\n",
    "                if arr[mid] <= k and k <= arr[high]:\n",
    "                    low = mid + 1\n",
    "                else:\n",
    "                    high = mid - 1\n",
    "        return False"
   ]
  },
  {
   "cell_type": "markdown",
   "id": "72d61ad1",
   "metadata": {},
   "source": [
    "## Find Minimum in Rotated Sorted Array\n",
    "\n",
    "### For Unique Values"
   ]
  },
  {
   "cell_type": "code",
   "execution_count": 10,
   "id": "19ba65b1",
   "metadata": {
    "ExecuteTime": {
     "end_time": "2023-11-14T20:31:21.253080Z",
     "start_time": "2023-11-14T20:31:21.234282Z"
    }
   },
   "outputs": [],
   "source": [
    "# pick and go to next side of sorted array\n",
    "def findMin(arr: [int]):\n",
    "    # we check for the sorted array \n",
    "    # the left or the right\n",
    "    low = 0\n",
    "    n = len(arr)\n",
    "    high = n - 1\n",
    "    # take the maximum value\n",
    "    minV = float(\"inf\")\n",
    "    while low <= high:\n",
    "        mid = (low + high) // 2\n",
    "        # if the array is already sorted then the minimum will be\n",
    "        # first index only\n",
    "        if arr[low] <=  arr[high]:\n",
    "            minV = min(minV, arr[low])\n",
    "            break\n",
    "        # if the left array is sorted then take the min value and goes to right\n",
    "        if arr[low] <= arr[mid]:\n",
    "            # check the condition if the target lies between range\n",
    "            minV = min(arr[low], minV)\n",
    "            low = mid + 1\n",
    "        # right sorted array\n",
    "        else:\n",
    "            # take the min and move to left\n",
    "            minV = min(arr[mid], minV)\n",
    "            high = mid - 1\n",
    "    return minV"
   ]
  },
  {
   "cell_type": "markdown",
   "id": "c0929b8b",
   "metadata": {},
   "source": [
    "### For Duplicate Values"
   ]
  },
  {
   "cell_type": "code",
   "execution_count": 9,
   "id": "2c506129",
   "metadata": {
    "ExecuteTime": {
     "end_time": "2023-11-14T20:29:09.320396Z",
     "start_time": "2023-11-14T20:29:09.296984Z"
    }
   },
   "outputs": [],
   "source": [
    "def findMin(arr: [int]):\n",
    "    # we check for the sorted array \n",
    "    # the left or the right\n",
    "    low = 0\n",
    "    n = len(arr)\n",
    "    high = n - 1\n",
    "    # take the maximum value\n",
    "    minV = float(\"inf\")\n",
    "    while low <= high:\n",
    "        mid = (low + high) // 2\n",
    "        # to shrink the array such that it reaches the non confusion state\n",
    "        if arr[low] == arr[mid] and arr[mid] == arr[high]:\n",
    "            low += 1\n",
    "            high -= 1\n",
    "            continue\n",
    "        # if the array is already sorted then the minimum will be\n",
    "        # first index only\n",
    "        if arr[low] <=  arr[high]:\n",
    "            minV = min(minV, arr[low])\n",
    "            break\n",
    "\n",
    "        # if the left array is sorted then take the min value and goes to right\n",
    "        if arr[low] <= arr[mid]:\n",
    "            # check the condition if the target lies between range\n",
    "            minV = min(arr[low], minV)\n",
    "            low = mid + 1\n",
    "        # right sorted array\n",
    "        else:\n",
    "            # take the min and move to left\n",
    "            minV = min(arr[mid], minV)\n",
    "            high = mid - 1\n",
    "\n",
    "    return minV"
   ]
  },
  {
   "cell_type": "markdown",
   "id": "1f0dc8b8",
   "metadata": {},
   "source": [
    "## Find out how many times has an array been rotated"
   ]
  },
  {
   "cell_type": "code",
   "execution_count": 1,
   "id": "3c2c194d",
   "metadata": {
    "ExecuteTime": {
     "end_time": "2024-01-26T13:37:57.847866Z",
     "start_time": "2024-01-26T13:37:57.835527Z"
    }
   },
   "outputs": [],
   "source": [
    "def findKRotation(arr : [int]) -> int:\n",
    "    # initial variable declaration\n",
    "    low = 0\n",
    "    high = len(arr) - 1\n",
    "    # minV taken max NUmber so that any value smallers can change the value\n",
    "    minV = float(\"inf\")\n",
    "    index = 0\n",
    "    while low <= high:\n",
    "        # check for middle element\n",
    "        mid = (low + high) // 2\n",
    "        # if middle element is less than minV\n",
    "        if arr[mid] < minV:\n",
    "            # get the minV value updated\n",
    "            minV = arr[mid]\n",
    "            # and the index value as well\n",
    "            index = mid\n",
    "        # go for left if low < mid\n",
    "        if arr[low] <= arr[mid]:\n",
    "            # if yes then check for lowest index if it is less than minV\n",
    "            if arr[low] < minV:\n",
    "                # update the minV and index\n",
    "                minV = arr[low]\n",
    "                index = low\n",
    "            # change the pointer to go to right of the middle element\n",
    "            low = mid + 1\n",
    "        else:\n",
    "            # if mid < high\n",
    "            # check for middle element is less than minV\n",
    "            if arr[mid] < minV:\n",
    "                # update the minV and index\n",
    "                minV = arr[mid]\n",
    "                index = mid\n",
    "            # change the pointer to go to left of the middle element\n",
    "            high = mid - 1\n",
    "    # return the index element \n",
    "    \n",
    "    return index"
   ]
  },
  {
   "cell_type": "markdown",
   "id": "cd225a0c",
   "metadata": {},
   "source": [
    "## Single element in a Sorted Array\n",
    "\n",
    "### Coding Ninja"
   ]
  },
  {
   "cell_type": "code",
   "execution_count": 4,
   "id": "b22f4cf6",
   "metadata": {
    "ExecuteTime": {
     "end_time": "2023-11-15T18:43:40.960455Z",
     "start_time": "2023-11-15T18:43:40.946183Z"
    }
   },
   "outputs": [],
   "source": [
    "def singleNonDuplicate(arr):\n",
    "    n = len(arr)\n",
    "    if n == 1: return arr[0]\n",
    "    for i in range(len(arr)):\n",
    "        # the first index if not equal to right of it \n",
    "        # then it is the element\n",
    "        if i == 0:\n",
    "            if arr[i] != arr[i + 1]:\n",
    "                return arr[i]\n",
    "        # if the end element is not equal to left of it\n",
    "        # then it is the element\n",
    "        elif i == n - 1:\n",
    "            if arr[i] != arr[i - 1]:\n",
    "                return arr[i]\n",
    "        else:\n",
    "            # the element in between 0 and n - 1\n",
    "            # if the element is not equal to left and not equal to right\n",
    "            if arr[i-1] != arr[i] and arr[i] != arr[i + 1]:\n",
    "                return arr[i]"
   ]
  },
  {
   "cell_type": "code",
   "execution_count": 8,
   "id": "2a4d85aa",
   "metadata": {
    "ExecuteTime": {
     "end_time": "2023-11-15T19:23:26.405698Z",
     "start_time": "2023-11-15T19:23:26.396577Z"
    }
   },
   "outputs": [],
   "source": [
    "def singleNonDuplicate(arr):\n",
    "    num_xor = 0\n",
    "    for num in arr:\n",
    "        num_xor ^= num\n",
    "    return num_xor"
   ]
  },
  {
   "cell_type": "code",
   "execution_count": 9,
   "id": "a440a8f3",
   "metadata": {
    "ExecuteTime": {
     "end_time": "2023-11-15T19:23:26.888231Z",
     "start_time": "2023-11-15T19:23:26.869464Z"
    }
   },
   "outputs": [],
   "source": [
    "# the element on left is (from single element)\n",
    "# the elemnt is present at (even, odd) position\n",
    "# the element on right is ( from single element)\n",
    "# the element is present at (odd, even) position\n",
    "def singleNonDuplicate(arr):\n",
    "    # we just do the principle of finding the element using binary search\n",
    "    # edge case handling\n",
    "    n = len(arr)\n",
    "    if n == 1: return arr[0]\n",
    "    # if 0 index element is not equal to right\n",
    "    # then that is single element\n",
    "    if arr[0] != arr[1]: return arr[0]\n",
    "    # if last element is not equal to left element\n",
    "    # then that is single element\n",
    "    if arr[n-1] != arr[n-2]: return arr[n-1]\n",
    "    # we shrink the arr to decrease overflow condition\n",
    "    low = 1\n",
    "    high = n - 2\n",
    "    while low <= high:\n",
    "        mid = (low + high) // 2\n",
    "        # if left and right is not equal then that is single element\n",
    "        if arr[mid - 1] != arr[mid] and arr[mid] != arr[mid + 1]:\n",
    "            return arr[mid]\n",
    "        # if the element is left then the position should be matched\n",
    "        if ((mid % 2 == 1) and (arr[mid - 1] == arr[mid])) or ((mid % 2 == 0) and (arr[mid + 1] == arr[mid])):\n",
    "            low = mid + 1\n",
    "        else:\n",
    "            high = mid - 1\n",
    "    return -1"
   ]
  },
  {
   "cell_type": "markdown",
   "id": "1bfdb671",
   "metadata": {
    "ExecuteTime": {
     "end_time": "2023-11-15T19:21:38.483081Z",
     "start_time": "2023-11-15T19:21:38.456320Z"
    }
   },
   "source": [
    "### LeetCode (Same Solution)"
   ]
  },
  {
   "cell_type": "code",
   "execution_count": 11,
   "id": "b80ec390",
   "metadata": {
    "ExecuteTime": {
     "end_time": "2023-11-15T19:36:10.639363Z",
     "start_time": "2023-11-15T19:36:10.619919Z"
    }
   },
   "outputs": [],
   "source": [
    "from typing import *\n",
    "class Solution:\n",
    "    def singleNonDuplicate(self, arr: List[int]) -> int:\n",
    "        n = len(arr) \n",
    "        # edge cases\n",
    "        if n == 1: return arr[0]\n",
    "        # if 0 index is not equal to right element then return 0th element\n",
    "        if arr[0] != arr[1]: return arr[0]\n",
    "        # if last element is not equal to left of it\n",
    "        # return the last element\n",
    "        if arr[n - 1] != arr[n - 2]: return arr[n-1]\n",
    "        # trim down to avoid the overflow error\n",
    "        low = 1 \n",
    "        high = n - 2\n",
    "        while low <= high:\n",
    "            mid = (low + high) // 2\n",
    "            # if the middle left and right is not equal to middle then that element is only second element\n",
    "            if arr[mid - 1] != arr[mid] and arr[mid] != arr[mid + 1]:\n",
    "                return arr[mid]\n",
    "            # left array selection if the (even, odd) if second is odd then left of it should be equal to odd index element or even element should be equal to right of even\n",
    "            # if yes then go to right array as the single element is present on right array and not on left\n",
    "            if (mid % 2 == 1 and arr[mid - 1] == arr[mid]) or (mid % 2 == 0 and arr[mid + 1] == arr[mid]):\n",
    "                low = mid + 1\n",
    "            # vice versa in else case (odd, even)\n",
    "            else:\n",
    "                high = mid - 1\n",
    "        return -1"
   ]
  },
  {
   "cell_type": "markdown",
   "id": "d98ddaf5",
   "metadata": {},
   "source": [
    "## Find peak element"
   ]
  },
  {
   "cell_type": "code",
   "execution_count": 12,
   "id": "5b4de3fb",
   "metadata": {
    "ExecuteTime": {
     "end_time": "2023-11-15T19:55:56.458107Z",
     "start_time": "2023-11-15T19:55:56.432569Z"
    }
   },
   "outputs": [],
   "source": [
    "class Solution:\n",
    "    def findPeakElement(self, arr: List[int]) -> int:\n",
    "        n = len(arr) \n",
    "        # edge cases\n",
    "        if n == 1: return 0\n",
    "        # if 0 index is not equal to right element then return 0th element\n",
    "        if arr[0] > arr[1]: return 0\n",
    "        # if last element is not equal to left of it\n",
    "        # return the last element\n",
    "        if arr[n - 1] > arr[n - 2]: return n-1\n",
    "        # trim down to avoid the overflow error\n",
    "        low = 1 \n",
    "        high = n - 2\n",
    "        while low <= high:\n",
    "            mid = (low + high) // 2\n",
    "            # if the middle left and right is not equal to middle then that element is only second element\n",
    "            if arr[mid - 1] < arr[mid] and arr[mid] > arr[mid + 1]:\n",
    "                return mid\n",
    "            # if it is in increasing curve\n",
    "            # i.e middle element greater than past element\n",
    "            # shift to right array\n",
    "            elif arr[mid] > arr[mid - 1]:\n",
    "                low = mid + 1\n",
    "            # if it is in decreasing curve\n",
    "            # shift to left array\n",
    "            else:\n",
    "                high = mid - 1\n",
    "        return -1"
   ]
  },
  {
   "cell_type": "markdown",
   "id": "0375b2e2",
   "metadata": {},
   "source": [
    "## Square Root Of a Number\n",
    "\n",
    "\n",
    "**Quick Summary:**\n",
    "The code defines a function `floorSqrt` that calculates the floor square root of a given integer `n` using a linear search approach. It iterates through numbers from 1 to `n` and finds the largest square root that is less than or equal to `n`.\n",
    "\n",
    "**Steps:**\n",
    "1. Initialize a variable `ans` to 1.\n",
    "2. Iterate through numbers from 1 to `n`.\n",
    "3. Update `ans` with the current number if the square of the number is less than or equal to `n`.\n",
    "4. Break the loop if the square of the current number exceeds `n`.\n",
    "5. Return the final value of `ans`.\n",
    "\n",
    "\n",
    "**Time Complexity:**\n",
    "$O(\\sqrt{N})$, where $N$ is the input integer `n`. The algorithm iterates through numbers from 1 to `n`.\n",
    "\n",
    "**Space Complexity:**\n",
    "$O(1)$, as the algorithm uses a constant amount of extra space regardless of the input size."
   ]
  },
  {
   "cell_type": "code",
   "execution_count": 1,
   "id": "b652e6e9",
   "metadata": {
    "ExecuteTime": {
     "end_time": "2023-12-14T16:37:20.254822Z",
     "start_time": "2023-12-14T16:37:20.231752Z"
    }
   },
   "outputs": [],
   "source": [
    "def floorSqrt(n):\n",
    "    # Initialize the answer variable to 1\n",
    "    ans = 1\n",
    "\n",
    "    # Iterate through numbers from 1 to n\n",
    "    for i in range(1, n + 1):\n",
    "        # Update ans if the square of the current number is less than or equal to n\n",
    "        if (i * i) <= n:\n",
    "            ans = i\n",
    "        else:\n",
    "            # Break the loop if the square of the current number exceeds n\n",
    "            break\n",
    "\n",
    "    # Return the final value of ans as the floor square root of n\n",
    "    return ans"
   ]
  },
  {
   "cell_type": "markdown",
   "id": "c3a42576",
   "metadata": {},
   "source": [
    "**Quick Summary:**\n",
    "The code defines a function `floorSqrt` that calculates the floor square root of a given integer `n` using a binary search approach. It employs a binary search algorithm to efficiently find the largest integer whose square is less than or equal to `n`.\n",
    "\n",
    "**Steps:**\n",
    "1. Initialize `low` to 0 and `high` to `n`.\n",
    "2. Initialize `ans` to 1.\n",
    "3. Perform a binary search by iterating while `low` is less than or equal to `high`.\n",
    "4. Update the middle point `mid` and check if the square of `mid` is greater than `n`.\n",
    "   - If true, update `high` to `mid - 1`.\n",
    "   - If false, update `ans` to `mid` and `low` to `mid + 1`.\n",
    "5. Return the final value of `ans`.\n",
    "\n",
    "\n",
    "**Time Complexity:**\n",
    "$O(\\log N)$, where $N$ is the input integer `n`. The binary search reduces the search space by half in each iteration.\n",
    "\n",
    "**Space Complexity:**\n",
    "$O(1)$, as the algorithm uses a constant amount of extra space regardless of the input size."
   ]
  },
  {
   "cell_type": "code",
   "execution_count": 2,
   "id": "57f404a8",
   "metadata": {
    "ExecuteTime": {
     "end_time": "2023-12-14T16:44:13.027873Z",
     "start_time": "2023-12-14T16:44:13.018667Z"
    }
   },
   "outputs": [],
   "source": [
    "def floorSqrt(n):\n",
    "    # Initialize low to 0, high to n, and ans to 1\n",
    "    low = 0\n",
    "    high = n\n",
    "    ans = 1\n",
    "\n",
    "    # Perform binary search\n",
    "    while low <= high:\n",
    "        mid = (low + high) // 2\n",
    "        if (mid * mid) > n:\n",
    "            # If the square of mid is greater than n, update high\n",
    "            high = mid - 1\n",
    "        else:\n",
    "            # If the square of mid is less than or equal to n, update ans and low\n",
    "            ans = mid\n",
    "            low = mid + 1\n",
    "\n",
    "    # Return the final value of ans as the floor square root of n\n",
    "    return ans"
   ]
  },
  {
   "cell_type": "markdown",
   "id": "6fb1a9b5",
   "metadata": {},
   "source": [
    "## Find Nth Root Of M\n",
    "\n",
    "### Naive Approach\n",
    "\n",
    "Apologies for the oversight. Here's the complete explanation, including the function signature:\n",
    "\n",
    "**Quick Summary:**\n",
    "The code defines a function `NthRoot` that calculates the nth root of an integer `m`. It uses a brute-force approach, iterating through the integers from 1 to `m` and checking if the nth power of each integer equals `m`. If a match is found, the corresponding integer is considered as the nth root.\n",
    "\n",
    "**Steps:**\n",
    "1. Initialize `ans` to -1.\n",
    "2. Iterate through integers from 1 to `m`.\n",
    "3. For each integer, calculate its nth power using a nested loop.\n",
    "4. Check if the calculated value is equal to `m`.\n",
    "   - If true, update `ans` and break out of the loop.\n",
    "5. Return the final value of `ans`.\n",
    "\n",
    "\n",
    "**Time Complexity:**\n",
    "$O(M \\times N)$, where $M$ is the input integer `m` and $N$ is the input integer `n`. The algorithm iterates through integers from 1 to `m` and performs a nested loop for each integer to calculate its nth power.\n",
    "\n",
    "**Space Complexity:**\n",
    "$O(1)$, as the algorithm uses a constant amount of extra space regardless of the input size."
   ]
  },
  {
   "cell_type": "code",
   "execution_count": 4,
   "id": "e86bc511",
   "metadata": {
    "ExecuteTime": {
     "end_time": "2023-12-14T17:20:16.969629Z",
     "start_time": "2023-12-14T17:20:16.946172Z"
    }
   },
   "outputs": [],
   "source": [
    "def NthRoot(n: int, m: int) -> int:\n",
    "    # Initialize ans to -1\n",
    "    ans = -1\n",
    "\n",
    "    # Iterate through integers from 1 to m\n",
    "    for i in range(1, m + 1):\n",
    "        val = 1\n",
    "        \n",
    "        # Calculate the nth power of the current integer\n",
    "        for _ in range(n):\n",
    "            val = val * i\n",
    "        \n",
    "        # Check if the calculated value is equal to m\n",
    "        if val == m:\n",
    "            # If true, update ans and break out of the loop\n",
    "            ans = i\n",
    "            break\n",
    "\n",
    "    # Return the final value of ans as the nth root of m\n",
    "    return ans"
   ]
  },
  {
   "cell_type": "markdown",
   "id": "83020fa3",
   "metadata": {},
   "source": [
    "\n",
    "### Efficient Appraoch\n",
    "**Quick Summary:**\n",
    "The code defines a function `NthRoot` that calculates the nth root of an integer `m`. It uses a binary search approach to find the integer whose nth power is equal to `m`. The algorithm iteratively adjusts the search space by halving it based on the comparison of the current midpoint's nth power with `m`.\n",
    "\n",
    "**Steps:**\n",
    "1. Initialize `low` to 0, `high` to `m`, and `ans` to -1.\n",
    "2. Perform a binary search by iterating while `low` is less than or equal to `high`.\n",
    "3. Update the middle point `mid`.\n",
    "4. Calculate `val` as the nth power of `mid`.\n",
    "5. Check if `val` is equal to `m`.\n",
    "   - If true, update `ans` to `mid` and break out of the loop.\n",
    "   - If false, adjust the search space based on whether `val` is greater or less than `m`.\n",
    "6. Return the final value of `ans`.\n",
    "\n",
    "\n",
    "**Time Complexity:**\n",
    "$O(\\log M)$, where $M$ is the input integer `m`. The binary search reduces the search space by half in each iteration.\n",
    "\n",
    "**Space Complexity:**\n",
    "$O(1)$, as the algorithm uses a constant amount of extra space regardless of the input size."
   ]
  },
  {
   "cell_type": "code",
   "execution_count": 5,
   "id": "7bac9956",
   "metadata": {
    "ExecuteTime": {
     "end_time": "2023-12-14T17:20:23.056272Z",
     "start_time": "2023-12-14T17:20:23.039306Z"
    }
   },
   "outputs": [],
   "source": [
    "def NthRoot(n: int, m: int) -> int:\n",
    "    # Initialize low to 0, high to m, and ans to -1\n",
    "    low = 0\n",
    "    high = m\n",
    "    ans = -1\n",
    "\n",
    "    # Perform binary search\n",
    "    while low <= high:\n",
    "        mid = (low + high) // 2\n",
    "        val = 1\n",
    "        for _ in range(n):\n",
    "            val *= mid\n",
    "\n",
    "        if val == m:\n",
    "            # If val is equal to m, update ans and break out of the loop\n",
    "            ans = mid\n",
    "            break\n",
    "        elif val > m:\n",
    "            # If val is greater than m, adjust high\n",
    "            high = mid - 1\n",
    "        else:\n",
    "            # If val is less than m, adjust low\n",
    "            low = mid + 1\n",
    "\n",
    "    # Return the final value of ans as the nth root of m\n",
    "    return ans"
   ]
  },
  {
   "cell_type": "markdown",
   "id": "840f01ee",
   "metadata": {},
   "source": [
    "## Koko Eating Bananas"
   ]
  },
  {
   "cell_type": "markdown",
   "id": "af190a3a",
   "metadata": {},
   "source": [
    "### Naive Approach\n",
    "**Quick Summary:**\n",
    "The code defines a class `Solution` with a method `minEatingSpeed` that calculates the minimum eating speed required to consume all piles within a given time limit.\n",
    "\n",
    "**Steps:**\n",
    "1. Initialize variables `val` (eating speed) and `ans` (list to store eating speeds for each pile).\n",
    "2. Iterate until the sum of eating speeds (`sumV`) equals the available hours (`h`).\n",
    "3. Inside the loop, increment the eating speed (`val`).\n",
    "4. Calculate the eating speed for each pile and store it in the `ans` list.\n",
    "5. Calculate the total sum of eating speeds (`sumV`).\n",
    "6. Reset the `ans` list for the next iteration.\n",
    "7. Return the final calculated eating speed.\n",
    "\n",
    "**Time Complexity:**\n",
    "The time complexity depends on the number of iterations needed to find the minimum eating speed. In the worst case, it can be considered as $O(max\\_speed * max\\_piles)\n",
    "$, where `max_speed` is the maximum eating speed and `max_piles` is the maximum number of piles.\n",
    "\n",
    "**Space Complexity:**\n",
    "The space complexity is $O(max\\_piles)$, as it uses the `ans` list to store eating speeds for each pile. The size of the `ans` list is proportional to the number of piles.\n",
    "\n"
   ]
  },
  {
   "cell_type": "code",
   "execution_count": 3,
   "id": "e7633198",
   "metadata": {
    "ExecuteTime": {
     "end_time": "2023-12-15T14:33:33.420669Z",
     "start_time": "2023-12-15T14:33:33.407807Z"
    }
   },
   "outputs": [],
   "source": [
    "import math\n",
    "from typing import List\n",
    "\n",
    "class Solution:\n",
    "    def minEatingSpeed(self, piles: List[int], h: int) -> int:\n",
    "        # Write your code here.\n",
    "        val = 0\n",
    "        ans = []\n",
    "        sumV = 1\n",
    "        \n",
    "        # Iterate until the sum of eating speeds equals the available hours\n",
    "        while sumV != h:\n",
    "            val += 1\n",
    "            \n",
    "            # Calculate the eating speed for each pile and store in ans list\n",
    "            for i in range(len(piles)):\n",
    "                ans.append(math.ceil(piles[i] / val))\n",
    "            \n",
    "            # Calculate the total sum of eating speeds\n",
    "            sumV = sum(ans)\n",
    "            \n",
    "            # Reset the ans list for the next iteration\n",
    "            ans = []\n",
    "        \n",
    "        # Return the final calculated eating speed\n",
    "        return val"
   ]
  },
  {
   "cell_type": "markdown",
   "id": "43d27f4b",
   "metadata": {
    "ExecuteTime": {
     "end_time": "2023-12-15T14:47:06.007750Z",
     "start_time": "2023-12-15T14:47:05.993013Z"
    }
   },
   "source": [
    "### Efficient Approach\n",
    "\n",
    "\n",
    "**Quick Summary:**\n",
    "The code defines a class `Solution` with a method `minEatingSpeed` that uses binary search to find the minimum eating speed required to consume all piles within the given time limit.\n",
    "\n",
    "**Steps:**\n",
    "1. Initialize the search space with `low` and `high` representing the minimum and maximum possible eating speeds.\n",
    "2. Use binary search to find the minimum eating speed that satisfies the time constraint.\n",
    "3. Calculate the total hours required at the current eating speed.\n",
    "4. Adjust the search space based on the comparison with available hours.\n",
    "5. Return the minimum eating speed found.\n",
    "\n",
    "**Time Complexity:**\n",
    "The time complexity of the binary search is $O(\\log({max\\_piles}))$, where `max_piles` is the maximum number of bananas in a single pile.\n",
    "\n",
    "**Space Complexity:**\n",
    "The space complexity is constant, as the algorithm uses a fixed amount of memory for variables regardless of the input size."
   ]
  },
  {
   "cell_type": "code",
   "execution_count": 10,
   "id": "dc34b461",
   "metadata": {
    "ExecuteTime": {
     "end_time": "2023-12-15T15:14:30.412386Z",
     "start_time": "2023-12-15T15:14:30.375917Z"
    }
   },
   "outputs": [],
   "source": [
    "import math\n",
    "from typing import List\n",
    "\n",
    "class Solution:\n",
    "    def minEatingSpeed(self, piles: List[int], h: int) -> int:\n",
    "        \"\"\"\n",
    "        Find the minimum eating speed required to consume all piles within the given time limit.\n",
    "\n",
    "        Parameters:\n",
    "        - piles (List[int]): List of piles where piles[i] represents the number of bananas in the ith pile.\n",
    "        - h (int): Available hours to consume all bananas.\n",
    "\n",
    "        Returns:\n",
    "        - int: Minimum eating speed.\n",
    "        \"\"\"\n",
    "        # Initialize the search space\n",
    "        low = 1\n",
    "        high = max(piles)\n",
    "        minV = float(\"inf\")\n",
    "\n",
    "        # Binary search to find the minimum eating speed\n",
    "        while low <= high:\n",
    "            sumV = 0\n",
    "            mid = (low + high) // 2\n",
    "\n",
    "            # Calculate the total hours required at the current eating speed\n",
    "            for i in range(len(piles)):\n",
    "                sumV += math.ceil(piles[i] / mid)\n",
    "\n",
    "            # Adjust the search space based on the comparison with available hours\n",
    "            if sumV <= h:\n",
    "                minV = min(mid, minV)\n",
    "                high = mid - 1\n",
    "            else:\n",
    "                low = mid + 1\n",
    "\n",
    "        # Return the minimum eating speed\n",
    "        return minV"
   ]
  },
  {
   "cell_type": "markdown",
   "id": "bce78f26",
   "metadata": {},
   "source": [
    "## Minimum Number of Days to Make m Bouquets"
   ]
  },
  {
   "cell_type": "markdown",
   "id": "d0334ba8",
   "metadata": {
    "ExecuteTime": {
     "end_time": "2023-12-15T16:38:46.487145Z",
     "start_time": "2023-12-15T16:38:46.438428Z"
    }
   },
   "source": [
    "### Naive Approach\n",
    "**Quick Summary:**\n",
    "The code defines a class `Solution` with a method `minDays` that calculates the minimum number of days required to make m bouquets, each consisting of k adjacent flowers.\n",
    "\n",
    "**Steps:**\n",
    "1. Check if it's impossible to make m bouquets based on the given constraints.\n",
    "2. Implement helper functions `makeReferer` and `countCounter` to create a reference list and count the number of bouquets that can be made on a given day.\n",
    "3. Iterate over possible days from the minimum to maximum bloom day and check if the required number of bouquets can be made.\n",
    "4. Return the minimum number of days found or -1 if no solution is found.\n",
    "\n",
    "**Code Comments:**\n",
    "- `makeReferer`: Creates a reference list indicating whether each flower can bloom on or before the given day.\n",
    "- `countCounter`: Counts the number of bouquets that can be made using the reference list and the requirement k.\n",
    "\n",
    "**Time Complexity:**\n",
    "The time complexity is $O((\\text{max\\_bloom} - \\text{min\\_bloom}) \\cdot \\text{len(bloomDay)})$, where `max_bloom` and `min_bloom` are the maximum and minimum bloom days, respectively.\n",
    "\n",
    "**Space Complexity:**\n",
    "The space complexity is $O(\\text{len(bloomDay)})$ for the reference list."
   ]
  },
  {
   "cell_type": "code",
   "execution_count": 12,
   "id": "474e88eb",
   "metadata": {
    "ExecuteTime": {
     "end_time": "2023-12-15T16:38:50.307000Z",
     "start_time": "2023-12-15T16:38:50.287003Z"
    }
   },
   "outputs": [],
   "source": [
    "from typing import List\n",
    "\n",
    "class Solution:\n",
    "    def minDays(self, bloomDay: List[int], m: int, k: int) -> int:\n",
    "        \"\"\"\n",
    "        Find the minimum number of days required to make m bouquets, where each bouquet consists of k adjacent flowers.\n",
    "\n",
    "        Parameters:\n",
    "        - bloomDay (List[int]): List representing the days each flower blooms.\n",
    "        - m (int): Number of bouquets to make.\n",
    "        - k (int): Number of adjacent flowers required for a bouquet.\n",
    "\n",
    "        Returns:\n",
    "        - int: Minimum number of days, or -1 if it's impossible to make m bouquets.\n",
    "        \"\"\"\n",
    "        # Check if it's impossible to make m bouquets\n",
    "        if m * k > len(bloomDay):\n",
    "            return -1\n",
    "\n",
    "        def makeReferer(bloomDay, n):\n",
    "            \"\"\"\n",
    "            Create a reference list indicating whether each flower can bloom on or before the given day.\n",
    "\n",
    "            Parameters:\n",
    "            - bloomDay (List[int]): List representing the days each flower blooms.\n",
    "            - n (int): Given day.\n",
    "\n",
    "            Returns:\n",
    "            - List[int]: Reference list indicating whether each flower can bloom on or before the given day.\n",
    "            \"\"\"\n",
    "            refer = [0] * len(bloomDay)\n",
    "            for i in range(len(bloomDay)):\n",
    "                if bloomDay[i] <= n:\n",
    "                    refer[i] = 1\n",
    "            return refer\n",
    "\n",
    "        def countCounter(k, refer, bloomDay):\n",
    "            \"\"\"\n",
    "            Count the number of bouquets that can be made using the reference list and the requirement k.\n",
    "\n",
    "            Parameters:\n",
    "            - k (int): Number of adjacent flowers required for a bouquet.\n",
    "            - refer (List[int]): Reference list indicating whether each flower can bloom on or before the given day.\n",
    "            - bloomDay (List[int]): List representing the days each flower blooms.\n",
    "\n",
    "            Returns:\n",
    "            - int: Number of bouquets that can be made.\n",
    "            \"\"\"\n",
    "            count = 0\n",
    "            ans = 0\n",
    "            for i in range(len(bloomDay)):\n",
    "                if refer[i] == 1:\n",
    "                    count += 1\n",
    "                else:\n",
    "                    ans += count // k\n",
    "                    count = 0\n",
    "            ans += count // k\n",
    "            return ans\n",
    "\n",
    "        # Iterate over the possible days from the minimum to maximum bloom day\n",
    "        for i in range(min(bloomDay), max(bloomDay) + 1):\n",
    "            refer = makeReferer(bloomDay, i)\n",
    "            ans = countCounter(k, refer, bloomDay)\n",
    "            # Check if the required number of bouquets can be made on the current day\n",
    "            if ans == m:\n",
    "                return i\n",
    "\n",
    "        # If no solution is found, return the minimum bloom day\n",
    "        return min(bloomDay)"
   ]
  },
  {
   "cell_type": "markdown",
   "id": "7cea3131",
   "metadata": {},
   "source": [
    "### Efficient\n",
    "\n",
    "\n",
    "**Quick Summary:**\n",
    "The code defines a class `Solution` with a method `minDays` that calculates the minimum number of days required to make m bouquets, each consisting of k adjacent flowers.\n",
    "\n",
    "**Steps:**\n",
    "1. Check if it's impossible to make m bouquets based on the given constraints.\n",
    "2. Implement a helper function `countCounter` to count the number of bouquets that can be made on a given day.\n",
    "3. Initialize low and high for binary search and perform binary search to find the minimum number of days.\n",
    "4. Return the minimum number of days found.\n",
    "\n",
    "**Code Comments:**\n",
    "- `countCounter`: Counts the number of bouquets that can be made on a given day.\n",
    "\n",
    "**Time Complexity:**\n",
    "The time complexity is $O(({max\\_bloom} - {min\\_bloom}) \\times \\log(\\text{len(bloomDay)}))$, where `max_bloom` and `min_bloom` are the maximum and minimum bloom days, respectively.\n",
    "\n",
    "**Space Complexity:**\n",
    "The space complexity is $O(1)$, as the algorithm uses a constant amount of extra space."
   ]
  },
  {
   "cell_type": "code",
   "execution_count": 13,
   "id": "4916c644",
   "metadata": {
    "ExecuteTime": {
     "end_time": "2023-12-15T17:30:01.660815Z",
     "start_time": "2023-12-15T17:30:01.608702Z"
    }
   },
   "outputs": [],
   "source": [
    "from typing import List\n",
    "\n",
    "class Solution:\n",
    "    def minDays(self, bloomDay: List[int], m: int, k: int) -> int:\n",
    "        \"\"\"\n",
    "        Find the minimum number of days required to make m bouquets, where each bouquet consists of k adjacent flowers.\n",
    "\n",
    "        Parameters:\n",
    "        - bloomDay (List[int]): List representing the days each flower blooms.\n",
    "        - m (int): Number of bouquets to make.\n",
    "        - k (int): Number of adjacent flowers required for a bouquet.\n",
    "\n",
    "        Returns:\n",
    "        - int: Minimum number of days, or -1 if it's impossible to make m bouquets.\n",
    "        \"\"\"\n",
    "        # Check if it's impossible to make m bouquets based on the given constraints\n",
    "        if m * k > len(bloomDay):\n",
    "            return -1\n",
    "\n",
    "        def countCounter(k, day, bloomDay):\n",
    "            \"\"\"\n",
    "            Count the number of bouquets that can be made on a given day.\n",
    "\n",
    "            Parameters:\n",
    "            - k (int): Number of adjacent flowers required for a bouquet.\n",
    "            - day (int): Given day.\n",
    "            - bloomDay (List[int]): List representing the days each flower blooms.\n",
    "\n",
    "            Returns:\n",
    "            - int: Number of bouquets that can be made.\n",
    "            \"\"\"\n",
    "            count = 0\n",
    "            ans = 0\n",
    "            for i in range(len(bloomDay)):\n",
    "                if bloomDay[i] <= day:\n",
    "                    count += 1\n",
    "                else:\n",
    "                    ans += count // k\n",
    "                    count = 0\n",
    "            ans += count // k\n",
    "            return ans\n",
    "\n",
    "        # Initialize low and high for binary search\n",
    "        low = min(bloomDay)\n",
    "        high = max(bloomDay)\n",
    "        minV = float(\"inf\")\n",
    "\n",
    "        # Binary search to find the minimum number of days\n",
    "        while low <= high:\n",
    "            mid = (low + high) // 2\n",
    "            ans = countCounter(k, mid, bloomDay)\n",
    "\n",
    "            # Check if the required number of bouquets can be made on the current day\n",
    "            if ans >= m:\n",
    "                minV = min(mid, minV)\n",
    "                high = mid - 1\n",
    "            else:\n",
    "                low = mid + 1\n",
    "\n",
    "        # Return the minimum number of days found\n",
    "        return minV"
   ]
  },
  {
   "cell_type": "markdown",
   "id": "e47e6d10",
   "metadata": {},
   "source": [
    "## Capacity to ship within D Days\n",
    "\n",
    "\n",
    "The problem is we have to calculate `capacity` of ship by using weights but the main point is we have to do within `D` `days` \n",
    "\n",
    "\n",
    "We can think of minimum value we can guess\n",
    "* The capactiy value should be such that the value should atleast take one weight in a day which makes The max(weights) --> minimum number to take\n",
    "* The max num???\n",
    "    * Max num is alsways lie under the $sum(weights)$\n",
    "* so our range lies between \n",
    "    * `max(weights) < x > sum(weights)`\n",
    "\n",
    "\n",
    "* **1st approach**\n",
    "1. Find the no of days by taking capactiy value \n",
    "2. Based on the condition check for daysRequire and days calculated are under condition"
   ]
  },
  {
   "cell_type": "code",
   "execution_count": 4,
   "id": "0dff230a",
   "metadata": {
    "ExecuteTime": {
     "end_time": "2024-02-04T16:26:23.848272Z",
     "start_time": "2024-02-04T16:26:23.830912Z"
    }
   },
   "outputs": [],
   "source": [
    "class Solution:\n",
    "    def shipWithinDays(self, weights: List[int], days: int) -> int:\n",
    "        # Calculate the daysRequired by taking capactiy value\n",
    "        def findVal(cap, weights, days):\n",
    "            # lets suppose we are on day = 1\n",
    "            days = 1\n",
    "            # at day = 1 load is zero\n",
    "            load = 0\n",
    "            # we start the for loop\n",
    "            for i in range(len(weights)):\n",
    "                # if the current weight after addition taking more than cap \n",
    "                # then \n",
    "                if load + weights[i] > cap:\n",
    "                    # jump to next day\n",
    "                    days += 1\n",
    "                    # and start with load\n",
    "                    load = weights[i]\n",
    "                # if it is still under cap then add load of current day\n",
    "                else:\n",
    "                    # add the load to current day\n",
    "                    load += weights[i]\n",
    "            # return the No of Days\n",
    "            return days\n",
    "        # for loop from max(weights) --> sum(weights)\n",
    "        for i in range(max(weights), sum(weights) + 1):\n",
    "            # find Days Required \n",
    "            daysReq = findVal(i, weights, days)\n",
    "            # if days Requires is less than days then we return the ans\n",
    "            if daysReq <= days:\n",
    "                return i"
   ]
  },
  {
   "cell_type": "markdown",
   "id": "96f80c6d",
   "metadata": {},
   "source": [
    "For only searching purpose of cap we can use Bianry Search For that"
   ]
  },
  {
   "cell_type": "code",
   "execution_count": 5,
   "id": "722e1921",
   "metadata": {
    "ExecuteTime": {
     "end_time": "2024-02-04T16:30:32.483929Z",
     "start_time": "2024-02-04T16:30:32.458054Z"
    }
   },
   "outputs": [],
   "source": [
    "class Solution:\n",
    "    def shipWithinDays(self, weights: List[int], days: int) -> int:\n",
    "        # Calculate the daysRequired by taking capactiy value\n",
    "        def findVal(cap, weights, days):\n",
    "            # lets suppose we are on day = 1\n",
    "            days = 1\n",
    "            # at day = 1 load is zero\n",
    "            load = 0\n",
    "            # we start the for loop\n",
    "            for i in range(len(weights)):\n",
    "                # if the current weight after addition taking more than cap \n",
    "                # then \n",
    "                if load + weights[i] > cap:\n",
    "                    # jump to next day\n",
    "                    days += 1\n",
    "                    # and start with load\n",
    "                    load = weights[i]\n",
    "                # if it is still under cap then add load of current day\n",
    "                else:\n",
    "                    # add the load to current day\n",
    "                    load += weights[i]\n",
    "            # return the No of Days\n",
    "            return days\n",
    "        # here low is starting point\n",
    "        low = max(weights)\n",
    "        # high is end point\n",
    "        high = sum(weights)\n",
    "        while low <= high:\n",
    "            # find mid value\n",
    "            mid = (low + high) // 2\n",
    "            # find the Days Required\n",
    "            daysRequired = findVal(mid, weights, days)\n",
    "            # if the value is less than days then go for lower one\n",
    "            if daysRequired <= days:\n",
    "                high = mid - 1\n",
    "            else:\n",
    "                # else go for higher one\n",
    "                low = mid + 1\n",
    "        # return low \n",
    "        # we can also use one variable \n",
    "        # but we know at start low ---> immpossible solution\n",
    "        # and high ---> possible solution\n",
    "        # so after then algorithm runs it will be swapped\n",
    "        # low at possible and high at immpossible\n",
    "        return low"
   ]
  },
  {
   "cell_type": "markdown",
   "id": "e01026cb",
   "metadata": {},
   "source": [
    "## Kth Missing Positive Number [Link](https://leetcode.com/problems/kth-missing-positive-number/description/)\n",
    "\n",
    "\n",
    "\n",
    "\n",
    "\n"
   ]
  },
  {
   "cell_type": "markdown",
   "id": "652da91e",
   "metadata": {},
   "source": [
    "**Naive Approach 1**\n",
    "\n",
    "1. Converting array to Set\n",
    "2. Then checking if the value is not in set if not then decrement the value of k \n",
    "3. if k reaches 1 then return the i value\n",
    "\n",
    "* T.C: $O(N)$\n",
    "* S.C: $O(N)$"
   ]
  },
  {
   "cell_type": "code",
   "execution_count": 5,
   "id": "fa8e0e1a",
   "metadata": {
    "ExecuteTime": {
     "end_time": "2024-02-06T14:50:52.949619Z",
     "start_time": "2024-02-06T14:50:52.937136Z"
    }
   },
   "outputs": [],
   "source": [
    "class Solution:\n",
    "    def findKthPositive(self, arr: List[int], k: int) -> int:\n",
    "        # Convert array into set\n",
    "        setV = set(arr)\n",
    "        # do for loop from 1 to max Value\n",
    "        for i in range(1, sum(arr) + k+1):\n",
    "            # if the value is not in set\n",
    "            if i not in setV:\n",
    "                # if k reaches 1 then return the i\n",
    "                if k == 1:\n",
    "                    return i\n",
    "                # if not decrement k\n",
    "                else:\n",
    "                    k -= 1\n",
    "        return -1"
   ]
  },
  {
   "cell_type": "markdown",
   "id": "b29be736",
   "metadata": {},
   "source": [
    "**Naive Approach 2**\n",
    "\n",
    "1. we know that if the value is greater than k present in arr[i] then k itself is the answer\n",
    "\n",
    "<img src=\"img/KthPosInt1.png\"/>\n",
    "\n",
    "2. So if we get any number less than the arr[i] increment k until arr[i] > k\n",
    "3. Return k because that is our answer\n",
    "\n",
    "* T.C : $O(N)$\n",
    "* S.C : $O(1)$"
   ]
  },
  {
   "cell_type": "code",
   "execution_count": 6,
   "id": "a7949d1e",
   "metadata": {
    "ExecuteTime": {
     "end_time": "2024-02-06T14:51:37.237858Z",
     "start_time": "2024-02-06T14:51:37.228858Z"
    }
   },
   "outputs": [],
   "source": [
    "class Solution:\n",
    "    def findKthPositive(self, arr: List[int], k: int) -> int:\n",
    "        # do for loop till end of the array\n",
    "        for i in range(len(arr)):\n",
    "            # if arr[i] is less than or equal to k increment k \n",
    "            if arr[i] <= k:\n",
    "                k += 1\n",
    "            # if arr[i] is greater than k brek\n",
    "            else:\n",
    "                break\n",
    "        # return the k value\n",
    "        return k"
   ]
  },
  {
   "cell_type": "markdown",
   "id": "18971f0e",
   "metadata": {},
   "source": [
    "**Efficient Approach**\n",
    "\n",
    "**By using Binary Search**\n",
    "\n",
    "\n",
    "1. We cannot directly apply binary search on the question because question is not about finding the min or max ❌\n",
    "2. We cannot use binary search on answer as there is no any specified range ❌\n",
    "\n",
    "3. We have to use missing number for checking\n",
    "\n",
    "<img src=\"img/KthPosInt2.png\" />\n",
    "ans = 9\n",
    "\n",
    "\n",
    "1. So value has to be in between 3 and 7 missing number \n",
    "2. But how we know it has to be in that location only???\n",
    "3. We can use low and high pointer for that\n",
    "4. Run basic Binary Search:\n",
    "    1. If any number is less than k go to right\n",
    "    2. else left \n",
    "    3. It will stop when high > low\n",
    "<img src=\"img/KthPosInt3.png\" />\n",
    "\n",
    "5. But what if high is on negative index??\n",
    "\n",
    "<img src=\"img/KthPosInt4.png\" />\n",
    "\n",
    "6. We have to modify Formula \n",
    "\n",
    "<img src=\"img/KthPosInt5.png\" />"
   ]
  },
  {
   "cell_type": "code",
   "execution_count": 7,
   "id": "752af50e",
   "metadata": {
    "ExecuteTime": {
     "end_time": "2024-02-06T15:09:10.938857Z",
     "start_time": "2024-02-06T15:09:10.925739Z"
    }
   },
   "outputs": [],
   "source": [
    "class Solution:\n",
    "    def findKthPositive(self, arr: List[int], k: int) -> int:\n",
    "        # initialize the variables\n",
    "        low = 0\n",
    "        high = len(arr) - 1\n",
    "        # while loop until low is less than or equal to high\n",
    "        while low <= high:\n",
    "            # calcualte the mid value\n",
    "            mid = (low + high) // 2\n",
    "            # calculate missing value for the number which is in on mid position\n",
    "            missing = (arr[mid] - (mid + 1))\n",
    "            # if missing is less than k\n",
    "            if missing < k:\n",
    "                # go to right\n",
    "                low = mid + 1\n",
    "            # if missing is greater than k\n",
    "            else:\n",
    "                # go to left\n",
    "                high = mid - 1\n",
    "            # return k value\n",
    "        return high + 1 + k"
   ]
  },
  {
   "cell_type": "markdown",
   "id": "1ce66378",
   "metadata": {},
   "source": [
    "## Aggressive Cows 🐄🐮\n",
    "\n",
    "* Here we have to find the minimum distance maximum possible\n",
    "* 1st we have to check for this distance can we place `k` cows in it\n",
    "* if yes then proceed to find the maximum number of minimum distance"
   ]
  },
  {
   "cell_type": "code",
   "execution_count": 2,
   "id": "d684d426",
   "metadata": {
    "ExecuteTime": {
     "end_time": "2024-02-14T12:57:19.596907Z",
     "start_time": "2024-02-14T12:57:19.588534Z"
    }
   },
   "outputs": [],
   "source": [
    "def aggressiveCows(stalls, k):\n",
    "    # place Cows is a function that returns the True if the \n",
    "    # cows can be placed properly with distance taken\n",
    "    def placeCows(arr, dist, cows):\n",
    "        # it will assume there is atleast one cow already present\n",
    "        count = 1\n",
    "        # save lastCow into variable so that we can check the current distance with lastCow Placed Distance\n",
    "        lastCow = arr[0]\n",
    "        # for loop to check for all the stalls position\n",
    "        # start from 1 because 0 is already saved\n",
    "        for i in range(1, len(arr)):\n",
    "            # if current - lastCow is greater than distance \n",
    "            if (arr[i] - lastCow) >= dist:\n",
    "                # increment the count\n",
    "                count += 1\n",
    "                # update the lastCow value\n",
    "                lastCow = arr[i]\n",
    "        # return True if count >= cows else Flase\n",
    "        return True if count >= cows else False\n",
    "    # sort the stalls so that we can get proper idea of the consecutive positions\n",
    "    stalls.sort()\n",
    "    # for loop for getting distance number \n",
    "    # minimum can be 1\n",
    "    # maximum can be diff of min and max\n",
    "    for i in range(1, max(stalls) - min(stalls) + 1):\n",
    "        # if the distance place it will True\n",
    "        if (placeCows(stalls, i, k) == True):\n",
    "            continue\n",
    "        # if not then it will return False and then the previous value is our maximum which\n",
    "        # satisfies the condition\n",
    "        else:\n",
    "            return i - 1\n",
    "    # else return current if end of arr is reached\n",
    "    return i\n",
    "            "
   ]
  },
  {
   "cell_type": "markdown",
   "id": "094a3138",
   "metadata": {},
   "source": [
    "**In Binary Search**"
   ]
  },
  {
   "cell_type": "code",
   "execution_count": 1,
   "id": "427d7ebe",
   "metadata": {
    "ExecuteTime": {
     "end_time": "2024-02-19T13:06:22.802044Z",
     "start_time": "2024-02-19T13:06:22.740883Z"
    }
   },
   "outputs": [],
   "source": [
    "def aggressiveCows(stalls, k):\n",
    "    # place Cows is a function that returns the True if the \n",
    "    # cows can be placed properly with distance taken\n",
    "    def placeCows(arr, dist, cows):\n",
    "        # it will assume there is atleast one cow already present\n",
    "        count = 1\n",
    "        # save lastCow into variable so that we can check the current distance with lastCow Placed Distance\n",
    "        lastCow = arr[0]\n",
    "        # for loop to check for all the stalls position\n",
    "        # start from 1 because 0 is already saved\n",
    "        for i in range(1, len(arr)):\n",
    "            # if current - lastCow is greater than distance \n",
    "            if (arr[i] - lastCow) >= dist:\n",
    "                # increment the count\n",
    "                count += 1\n",
    "                # update the lastCow value\n",
    "                lastCow = arr[i]\n",
    "        # return True if count >= cows else Flase\n",
    "        return True if count >= cows else False\n",
    "    # sort the array\n",
    "    stalls.sort()\n",
    "    low = 1\n",
    "    high = max(stalls) - min(stalls)\n",
    "    while low <= high:\n",
    "        mid = (low + high) // 2\n",
    "        if (placeCows(stalls, mid, k) == True):\n",
    "            low = mid + 1\n",
    "        else:\n",
    "            high = mid - 1\n",
    "    return high"
   ]
  },
  {
   "cell_type": "markdown",
   "id": "208e9d1b",
   "metadata": {},
   "source": [
    "## Allocate Books 📚"
   ]
  },
  {
   "cell_type": "markdown",
   "id": "0d0aa0a8",
   "metadata": {},
   "source": [
    "**LInear Search**"
   ]
  },
  {
   "cell_type": "code",
   "execution_count": 3,
   "id": "73ad6b6a",
   "metadata": {
    "ExecuteTime": {
     "end_time": "2024-02-19T13:08:43.002323Z",
     "start_time": "2024-02-19T13:08:42.981011Z"
    }
   },
   "outputs": [],
   "source": [
    "def findPages(arr: [int], n: int, m: int) -> int:\n",
    "    # Write your code here\n",
    "    # Return the minimum number of pages\n",
    "    \n",
    "    # IMPOSSIBLE CASE : when the no of students is less than books\n",
    "    if m > n: return -1\n",
    "    def findStudents(arr, pages):\n",
    "        \"\"\"\n",
    "        This function will be able to find the \n",
    "        required Students in linear search\n",
    "        \"\"\"\n",
    "        student = 1\n",
    "        pagesStudent = 0\n",
    "        for i in range(len(arr)):\n",
    "            # if pages is exceeded start with new student\n",
    "            if pagesStudent + arr[i] > pages:\n",
    "                student += 1\n",
    "                pagesStudent = arr[i]\n",
    "            # else add in the same\n",
    "            else:\n",
    "                pagesStudent += arr[i]\n",
    "        return student\n",
    "    # initialization\n",
    "    low = max(arr)\n",
    "    high = sum(arr)\n",
    "    # start loop\n",
    "    for i in range(low, high+1):\n",
    "        # sture value\n",
    "        countStudents = findStudents(arr, i)\n",
    "        # if equals to m return i\n",
    "        if countStudents == m:\n",
    "            return i"
   ]
  },
  {
   "cell_type": "markdown",
   "id": "adc871d7",
   "metadata": {},
   "source": [
    "**BInary Search**"
   ]
  },
  {
   "cell_type": "code",
   "execution_count": 4,
   "id": "fada48d4",
   "metadata": {
    "ExecuteTime": {
     "end_time": "2024-02-19T13:08:59.215131Z",
     "start_time": "2024-02-19T13:08:59.200126Z"
    }
   },
   "outputs": [],
   "source": [
    "def findPages(arr: [int], n: int, m: int) -> int:\n",
    "\n",
    "    # Write your code here\n",
    "    # Return the minimum number of pages\n",
    "    if m > n: return -1\n",
    "    def findStudents(arr, pages):\n",
    "        student = 1\n",
    "        pagesStudent = 0\n",
    "        for i in range(len(arr)):\n",
    "            if pagesStudent + arr[i] > pages:\n",
    "                student += 1\n",
    "                pagesStudent = arr[i]\n",
    "            else:\n",
    "                pagesStudent += arr[i]\n",
    "        return student\n",
    "    low = max(arr)\n",
    "    high = sum(arr)\n",
    "    # In binary Search\n",
    "    while low <= high:\n",
    "        mid = (low + high) // 2\n",
    "        countStudents = findStudents(arr, mid)\n",
    "        if countStudents <= m:\n",
    "            ans = min(ans, mid)\n",
    "        else:\n",
    "            low = mid + 1\n",
    "    return low"
   ]
  },
  {
   "cell_type": "code",
   "execution_count": 5,
   "id": "da2a9d05",
   "metadata": {
    "ExecuteTime": {
     "end_time": "2024-02-19T13:31:42.319548Z",
     "start_time": "2024-02-19T13:31:41.337633Z"
    }
   },
   "outputs": [
    {
     "ename": "NameError",
     "evalue": "name 'List' is not defined",
     "output_type": "error",
     "traceback": [
      "\u001b[1;31m---------------------------------------------------------------------------\u001b[0m",
      "\u001b[1;31mNameError\u001b[0m                                 Traceback (most recent call last)",
      "Cell \u001b[1;32mIn[5], line 1\u001b[0m\n\u001b[1;32m----> 1\u001b[0m \u001b[38;5;28;01mclass\u001b[39;00m \u001b[38;5;21;01mSolution\u001b[39;00m:\n\u001b[0;32m      2\u001b[0m     \u001b[38;5;28;01mdef\u001b[39;00m \u001b[38;5;21msplitArray\u001b[39m(\u001b[38;5;28mself\u001b[39m, nums: List[\u001b[38;5;28mint\u001b[39m], k: \u001b[38;5;28mint\u001b[39m) \u001b[38;5;241m-\u001b[39m\u001b[38;5;241m>\u001b[39m \u001b[38;5;28mint\u001b[39m:\n\u001b[0;32m      3\u001b[0m         \u001b[38;5;28;01mdef\u001b[39;00m \u001b[38;5;21mfindVal\u001b[39m(arr, maxSum):\n",
      "Cell \u001b[1;32mIn[5], line 2\u001b[0m, in \u001b[0;36mSolution\u001b[1;34m()\u001b[0m\n\u001b[0;32m      1\u001b[0m \u001b[38;5;28;01mclass\u001b[39;00m \u001b[38;5;21;01mSolution\u001b[39;00m:\n\u001b[1;32m----> 2\u001b[0m     \u001b[38;5;28;01mdef\u001b[39;00m \u001b[38;5;21msplitArray\u001b[39m(\u001b[38;5;28mself\u001b[39m, nums: \u001b[43mList\u001b[49m[\u001b[38;5;28mint\u001b[39m], k: \u001b[38;5;28mint\u001b[39m) \u001b[38;5;241m-\u001b[39m\u001b[38;5;241m>\u001b[39m \u001b[38;5;28mint\u001b[39m:\n\u001b[0;32m      3\u001b[0m         \u001b[38;5;28;01mdef\u001b[39;00m \u001b[38;5;21mfindVal\u001b[39m(arr, maxSum):\n\u001b[0;32m      4\u001b[0m             k \u001b[38;5;241m=\u001b[39m \u001b[38;5;241m1\u001b[39m\n",
      "\u001b[1;31mNameError\u001b[0m: name 'List' is not defined"
     ]
    }
   ],
   "source": [
    "class Solution:\n",
    "    def splitArray(self, nums: List[int], k: int) -> int:\n",
    "        def findVal(arr, maxSum):\n",
    "            k = 1\n",
    "            val = 0\n",
    "            for i in range(len(arr)):\n",
    "                if val + arr[i] > maxSum:\n",
    "                    k += 1\n",
    "                    val = arr[i]\n",
    "                else:\n",
    "                    val += arr[i]\n",
    "            return k\n",
    "        low = max(nums)\n",
    "        high = sum(nums)\n",
    "        for i in range(low, high + 1):\n",
    "            CountK = findVal(nums, i)\n",
    "            if CountK <= k:\n",
    "                break\n",
    "        return i"
   ]
  },
  {
   "cell_type": "code",
   "execution_count": null,
   "id": "9b16ef61",
   "metadata": {},
   "outputs": [],
   "source": []
  }
 ],
 "metadata": {
  "kernelspec": {
   "display_name": "Python 3 (ipykernel)",
   "language": "python",
   "name": "python3"
  },
  "language_info": {
   "codemirror_mode": {
    "name": "ipython",
    "version": 3
   },
   "file_extension": ".py",
   "mimetype": "text/x-python",
   "name": "python",
   "nbconvert_exporter": "python",
   "pygments_lexer": "ipython3",
   "version": "3.10.10"
  },
  "toc": {
   "base_numbering": 1,
   "nav_menu": {},
   "number_sections": true,
   "sideBar": true,
   "skip_h1_title": false,
   "title_cell": "Table of Contents",
   "title_sidebar": "Contents",
   "toc_cell": true,
   "toc_position": {},
   "toc_section_display": true,
   "toc_window_display": false
  }
 },
 "nbformat": 4,
 "nbformat_minor": 5
}
