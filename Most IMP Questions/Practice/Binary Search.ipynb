{
 "cells": [
  {
   "cell_type": "markdown",
   "id": "ca7b057a",
   "metadata": {
    "toc": true
   },
   "source": [
    "<h1>Table of Contents<span class=\"tocSkip\"></span></h1>\n",
    "<div class=\"toc\"><ul class=\"toc-item\"><li><span><a href=\"#Binary-Search-to-find-x-Element-in-Sorted-Array\" data-toc-modified-id=\"Binary-Search-to-find-x-Element-in-Sorted-Array-1\"><span class=\"toc-item-num\">1&nbsp;&nbsp;</span>Binary Search to find <code>x</code> Element in Sorted Array</a></span></li></ul></div>"
   ]
  },
  {
   "cell_type": "markdown",
   "id": "cae90622",
   "metadata": {},
   "source": [
    "## Binary Search to find `x` Element in Sorted Array"
   ]
  },
  {
   "cell_type": "code",
   "execution_count": 1,
   "id": "8f925240",
   "metadata": {
    "ExecuteTime": {
     "end_time": "2023-10-26T15:14:07.873003Z",
     "start_time": "2023-10-26T15:14:07.775147Z"
    }
   },
   "outputs": [],
   "source": [
    "def search(nums: [int], target: int):\n",
    "    # write your code logic !!\n",
    "    l = 0\n",
    "    r = len(nums) - 1\n",
    "    while l <= r:\n",
    "        mid = (l + r) // 2\n",
    "        if nums[mid] > target:\n",
    "            r = mid - 1\n",
    "        elif nums[mid] < target:\n",
    "            l = mid + 1\n",
    "        else:\n",
    "            return mid\n",
    "    return -1"
   ]
  },
  {
   "cell_type": "code",
   "execution_count": null,
   "id": "479d9604",
   "metadata": {},
   "outputs": [],
   "source": []
  }
 ],
 "metadata": {
  "kernelspec": {
   "display_name": "Python 3 (ipykernel)",
   "language": "python",
   "name": "python3"
  },
  "language_info": {
   "codemirror_mode": {
    "name": "ipython",
    "version": 3
   },
   "file_extension": ".py",
   "mimetype": "text/x-python",
   "name": "python",
   "nbconvert_exporter": "python",
   "pygments_lexer": "ipython3",
   "version": "3.10.10"
  },
  "toc": {
   "base_numbering": 1,
   "nav_menu": {},
   "number_sections": true,
   "sideBar": true,
   "skip_h1_title": false,
   "title_cell": "Table of Contents",
   "title_sidebar": "Contents",
   "toc_cell": true,
   "toc_position": {},
   "toc_section_display": true,
   "toc_window_display": false
  }
 },
 "nbformat": 4,
 "nbformat_minor": 5
}
