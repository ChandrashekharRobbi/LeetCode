{
 "cells": [
  {
   "cell_type": "markdown",
   "id": "a5be2023",
   "metadata": {
    "toc": true
   },
   "source": [
    "<h1>Table of Contents<span class=\"tocSkip\"></span></h1>\n",
    "<div class=\"toc\"><ul class=\"toc-item\"><li><span><a href=\"#Reverse-Words-in-a-String\" data-toc-modified-id=\"Reverse-Words-in-a-String-1\"><span class=\"toc-item-num\">1&nbsp;&nbsp;</span>Reverse Words in a String</a></span></li></ul></div>"
   ]
  },
  {
   "cell_type": "markdown",
   "id": "e1a50baa",
   "metadata": {},
   "source": [
    "## Reverse Words in a String"
   ]
  },
  {
   "cell_type": "code",
   "execution_count": 1,
   "id": "03d8e9fd",
   "metadata": {
    "ExecuteTime": {
     "end_time": "2023-11-16T11:43:20.170051Z",
     "start_time": "2023-11-16T11:43:20.110262Z"
    }
   },
   "outputs": [],
   "source": [
    "def reverseString(s: str) -> str:\n",
    "    # Write your code from here.\n",
    "    str_list = s.split()\n",
    "    res = []\n",
    "    for i in range(len(str_list) - 1, -1, -1):\n",
    "        res.append(str_list[i])\n",
    "    return \" \".join(res)\n"
   ]
  },
  {
   "cell_type": "code",
   "execution_count": null,
   "id": "908eae7d",
   "metadata": {},
   "outputs": [],
   "source": []
  }
 ],
 "metadata": {
  "kernelspec": {
   "display_name": "Python 3 (ipykernel)",
   "language": "python",
   "name": "python3"
  },
  "language_info": {
   "codemirror_mode": {
    "name": "ipython",
    "version": 3
   },
   "file_extension": ".py",
   "mimetype": "text/x-python",
   "name": "python",
   "nbconvert_exporter": "python",
   "pygments_lexer": "ipython3",
   "version": "3.10.10"
  },
  "toc": {
   "base_numbering": 1,
   "nav_menu": {},
   "number_sections": true,
   "sideBar": true,
   "skip_h1_title": false,
   "title_cell": "Table of Contents",
   "title_sidebar": "Contents",
   "toc_cell": true,
   "toc_position": {},
   "toc_section_display": true,
   "toc_window_display": false
  }
 },
 "nbformat": 4,
 "nbformat_minor": 5
}
