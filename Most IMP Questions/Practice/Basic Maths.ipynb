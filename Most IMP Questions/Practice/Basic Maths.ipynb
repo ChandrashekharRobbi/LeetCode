{
 "cells": [
  {
   "cell_type": "markdown",
   "id": "7821aacf",
   "metadata": {},
   "source": [
    "# Basic Maths"
   ]
  },
  {
   "cell_type": "markdown",
   "id": "15312766",
   "metadata": {},
   "source": [
    "## Count Digits"
   ]
  },
  {
   "cell_type": "code",
   "execution_count": 1,
   "id": "230c5877",
   "metadata": {
    "ExecuteTime": {
     "end_time": "2023-10-19T09:22:01.611668Z",
     "start_time": "2023-10-19T09:22:01.595972Z"
    }
   },
   "outputs": [],
   "source": [
    "def countDigits(n: int) -> int:\n",
    "    count = 0\n",
    "    for i in str(n):\n",
    "        if i == '0':\n",
    "            continue\n",
    "        elif n % int(i) == 0:\n",
    "            count += 1\n",
    "    return count\n",
    "        "
   ]
  },
  {
   "cell_type": "code",
   "execution_count": null,
   "id": "8d8f78d1",
   "metadata": {},
   "outputs": [],
   "source": []
  }
 ],
 "metadata": {
  "kernelspec": {
   "display_name": "Python 3 (ipykernel)",
   "language": "python",
   "name": "python3"
  },
  "language_info": {
   "codemirror_mode": {
    "name": "ipython",
    "version": 3
   },
   "file_extension": ".py",
   "mimetype": "text/x-python",
   "name": "python",
   "nbconvert_exporter": "python",
   "pygments_lexer": "ipython3",
   "version": "3.10.10"
  }
 },
 "nbformat": 4,
 "nbformat_minor": 5
}
