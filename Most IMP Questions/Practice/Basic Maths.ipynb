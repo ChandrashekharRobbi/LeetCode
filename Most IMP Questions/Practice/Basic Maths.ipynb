{
 "cells": [
  {
   "cell_type": "markdown",
   "id": "b952ec8b",
   "metadata": {},
   "source": [
    "# Basic Maths"
   ]
  },
  {
   "cell_type": "markdown",
   "id": "d2389703",
   "metadata": {
    "toc": true
   },
   "source": [
    "<h1>Table of Contents<span class=\"tocSkip\"></span></h1>\n",
    "<div class=\"toc\"><ul class=\"toc-item\"><li><span><a href=\"#Count-Digits\" data-toc-modified-id=\"Count-Digits-1\">Count Digits</a></span></li><li><span><a href=\"#Check-Palindrome\" data-toc-modified-id=\"Check-Palindrome-2\">Check Palindrome</a></span></li><li><span><a href=\"#Armstrong-Number\" data-toc-modified-id=\"Armstrong-Number-3\">Armstrong Number</a></span></li></ul></div>"
   ]
  },
  {
   "cell_type": "markdown",
   "id": "15312766",
   "metadata": {},
   "source": [
    "## Count Digits"
   ]
  },
  {
   "cell_type": "code",
   "execution_count": 1,
   "id": "230c5877",
   "metadata": {
    "ExecuteTime": {
     "end_time": "2023-10-19T09:22:01.611668Z",
     "start_time": "2023-10-19T09:22:01.595972Z"
    }
   },
   "outputs": [],
   "source": [
    "def countDigits(n: int) -> int:\n",
    "    count = 0\n",
    "    for i in str(n):\n",
    "        if i == '0':\n",
    "            continue\n",
    "        elif n % int(i) == 0:\n",
    "            count += 1\n",
    "    return count\n",
    "        "
   ]
  },
  {
   "cell_type": "markdown",
   "id": "d7bb8db6",
   "metadata": {},
   "source": [
    "## Check Palindrome"
   ]
  },
  {
   "cell_type": "code",
   "execution_count": 6,
   "id": "edb135d0",
   "metadata": {
    "ExecuteTime": {
     "end_time": "2023-10-19T09:35:29.340184Z",
     "start_time": "2023-10-19T09:35:29.330181Z"
    }
   },
   "outputs": [
    {
     "name": "stdout",
     "output_type": "stream",
     "text": [
      "true\n"
     ]
    }
   ],
   "source": [
    "## write your code !!\n",
    "def paliCheck(n):\n",
    "    n1 = str(n)\n",
    "    i = 0 \n",
    "    j = len(n1) - 1\n",
    "    while i <= j:\n",
    "        if n1[i] != n1[j]:\n",
    "            return \"false\"\n",
    "        else:\n",
    "            i += 1\n",
    "            j -= 1\n",
    "    return \"true\"\n",
    "k = paliCheck(1221)\n",
    "print(k)"
   ]
  },
  {
   "cell_type": "markdown",
   "id": "dc845922",
   "metadata": {},
   "source": [
    "## Armstrong Number"
   ]
  },
  {
   "cell_type": "code",
   "execution_count": 10,
   "id": "c512e256",
   "metadata": {
    "ExecuteTime": {
     "end_time": "2023-10-19T09:48:56.079190Z",
     "start_time": "2023-10-19T09:48:56.059354Z"
    }
   },
   "outputs": [
    {
     "name": "stdout",
     "output_type": "stream",
     "text": [
      "true\n"
     ]
    }
   ],
   "source": [
    "from os import *\n",
    "from sys import *\n",
    "from collections import *\n",
    "from math import *\n",
    "# n = input()\n",
    "def ArmstrongNumber(n):\n",
    "    sumV = 0\n",
    "    length = len(n)\n",
    "    for i in n:\n",
    "        sumV += (int(i) ** length)\n",
    "\n",
    "    return 'true' if sumV == int(n) else 'false'\n",
    "k = ArmstrongNumber('1634')\n",
    "print(k)"
   ]
  },
  {
   "cell_type": "code",
   "execution_count": null,
   "id": "80afd384",
   "metadata": {},
   "outputs": [],
   "source": []
  }
 ],
 "metadata": {
  "kernelspec": {
   "display_name": "Python 3 (ipykernel)",
   "language": "python",
   "name": "python3"
  },
  "language_info": {
   "codemirror_mode": {
    "name": "ipython",
    "version": 3
   },
   "file_extension": ".py",
   "mimetype": "text/x-python",
   "name": "python",
   "nbconvert_exporter": "python",
   "pygments_lexer": "ipython3",
   "version": "3.10.10"
  },
  "toc": {
   "base_numbering": 1,
   "nav_menu": {},
   "number_sections": false,
   "sideBar": true,
   "skip_h1_title": true,
   "title_cell": "Table of Contents",
   "title_sidebar": "Contents",
   "toc_cell": true,
   "toc_position": {
    "height": "calc(100% - 180px)",
    "left": "10px",
    "top": "150px",
    "width": "307.2px"
   },
   "toc_section_display": true,
   "toc_window_display": false
  }
 },
 "nbformat": 4,
 "nbformat_minor": 5
}
