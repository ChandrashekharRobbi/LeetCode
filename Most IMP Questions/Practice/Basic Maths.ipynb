{
 "cells": [
  {
   "cell_type": "markdown",
   "id": "06ec5096",
   "metadata": {},
   "source": [
    "# Basic Maths"
   ]
  },
  {
   "cell_type": "markdown",
   "id": "d2389703",
   "metadata": {
    "toc": true
   },
   "source": [
    "<h1>Table of Contents<span class=\"tocSkip\"></span></h1>\n",
    "<div class=\"toc\"><ul class=\"toc-item\"><li><span><a href=\"#Count-Digits\" data-toc-modified-id=\"Count-Digits-1\">Count Digits</a></span></li><li><span><a href=\"#Check-Palindrome\" data-toc-modified-id=\"Check-Palindrome-2\">Check Palindrome</a></span></li></ul></div>"
   ]
  },
  {
   "cell_type": "markdown",
   "id": "15312766",
   "metadata": {},
   "source": [
    "## Count Digits"
   ]
  },
  {
   "cell_type": "code",
   "execution_count": 1,
   "id": "230c5877",
   "metadata": {
    "ExecuteTime": {
     "end_time": "2023-10-19T09:22:01.611668Z",
     "start_time": "2023-10-19T09:22:01.595972Z"
    }
   },
   "outputs": [],
   "source": [
    "def countDigits(n: int) -> int:\n",
    "    count = 0\n",
    "    for i in str(n):\n",
    "        if i == '0':\n",
    "            continue\n",
    "        elif n % int(i) == 0:\n",
    "            count += 1\n",
    "    return count\n",
    "        "
   ]
  },
  {
   "cell_type": "markdown",
   "id": "206b1fa7",
   "metadata": {},
   "source": [
    "## Check Palindrome"
   ]
  },
  {
   "cell_type": "code",
   "execution_count": 3,
   "id": "56616f40",
   "metadata": {
    "ExecuteTime": {
     "end_time": "2023-10-19T09:34:57.422227Z",
     "start_time": "2023-10-19T09:34:57.411227Z"
    }
   },
   "outputs": [
    {
     "name": "stdout",
     "output_type": "stream",
     "text": [
      "false\n"
     ]
    }
   ],
   "source": [
    "## write your code !!\n",
    "def paliCheck(n):\n",
    "    n1 = str(n)\n",
    "    i = 0 \n",
    "    j = len(n1) - 1\n",
    "    while i <= j:\n",
    "        if n1[i] != n1[j]:\n",
    "            return \"false\"\n",
    "        else:\n",
    "            i += 1\n",
    "            j -= 1\n",
    "    return \"true\"\n",
    "k = paliCheck(n)\n",
    "print(k)"
   ]
  },
  {
   "cell_type": "code",
   "execution_count": null,
   "id": "b100d495",
   "metadata": {},
   "outputs": [],
   "source": []
  }
 ],
 "metadata": {
  "kernelspec": {
   "display_name": "Python 3 (ipykernel)",
   "language": "python",
   "name": "python3"
  },
  "language_info": {
   "codemirror_mode": {
    "name": "ipython",
    "version": 3
   },
   "file_extension": ".py",
   "mimetype": "text/x-python",
   "name": "python",
   "nbconvert_exporter": "python",
   "pygments_lexer": "ipython3",
   "version": "3.10.10"
  },
  "toc": {
   "base_numbering": 1,
   "nav_menu": {},
   "number_sections": false,
   "sideBar": true,
   "skip_h1_title": true,
   "title_cell": "Table of Contents",
   "title_sidebar": "Contents",
   "toc_cell": true,
   "toc_position": {
    "height": "calc(100% - 180px)",
    "left": "10px",
    "top": "150px",
    "width": "307.2px"
   },
   "toc_section_display": true,
   "toc_window_display": false
  }
 },
 "nbformat": 4,
 "nbformat_minor": 5
}
