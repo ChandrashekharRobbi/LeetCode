{
 "cells": [
  {
   "cell_type": "markdown",
   "id": "34d98f6d",
   "metadata": {
    "toc": true
   },
   "source": [
    "<h1>Table of Contents<span class=\"tocSkip\"></span></h1>\n",
    "<div class=\"toc\"><ul class=\"toc-item\"><li><span><a href=\"#1-to-N-Without-Loop\" data-toc-modified-id=\"1-to-N-Without-Loop-1\"><span class=\"toc-item-num\">1&nbsp;&nbsp;</span>1 to N Without Loop</a></span></li></ul></div>"
   ]
  },
  {
   "cell_type": "markdown",
   "id": "84eebafc",
   "metadata": {
    "ExecuteTime": {
     "end_time": "2023-10-22T18:06:56.603783Z",
     "start_time": "2023-10-22T18:06:56.553928Z"
    }
   },
   "source": [
    "# Recursion"
   ]
  },
  {
   "cell_type": "markdown",
   "id": "aef35bfd",
   "metadata": {},
   "source": [
    "## 1 to N Without Loop"
   ]
  },
  {
   "cell_type": "code",
   "execution_count": null,
   "id": "fcb4e97a",
   "metadata": {},
   "outputs": [],
   "source": []
  }
 ],
 "metadata": {
  "kernelspec": {
   "display_name": "Python 3 (ipykernel)",
   "language": "python",
   "name": "python3"
  },
  "language_info": {
   "codemirror_mode": {
    "name": "ipython",
    "version": 3
   },
   "file_extension": ".py",
   "mimetype": "text/x-python",
   "name": "python",
   "nbconvert_exporter": "python",
   "pygments_lexer": "ipython3",
   "version": "3.10.10"
  },
  "toc": {
   "base_numbering": 1,
   "nav_menu": {},
   "number_sections": true,
   "sideBar": true,
   "skip_h1_title": true,
   "title_cell": "Table of Contents",
   "title_sidebar": "Contents",
   "toc_cell": true,
   "toc_position": {
    "height": "calc(100% - 180px)",
    "left": "10px",
    "top": "150px",
    "width": "245.76px"
   },
   "toc_section_display": true,
   "toc_window_display": false
  }
 },
 "nbformat": 4,
 "nbformat_minor": 5
}
