{
 "cells": [
  {
   "cell_type": "markdown",
   "id": "34d98f6d",
   "metadata": {
    "toc": true
   },
   "source": [
    "<h1>Table of Contents<span class=\"tocSkip\"></span></h1>\n",
    "<div class=\"toc\"><ul class=\"toc-item\"><li><span><a href=\"#1-to-N-Without-Loop\" data-toc-modified-id=\"1-to-N-Without-Loop-1\"><span class=\"toc-item-num\">1&nbsp;&nbsp;</span>1 to N Without Loop</a></span></li><li><span><a href=\"#N-to-1-without-loop\" data-toc-modified-id=\"N-to-1-without-loop-2\"><span class=\"toc-item-num\">2&nbsp;&nbsp;</span>N to 1 without loop</a></span></li><li><span><a href=\"#Print-n-times\" data-toc-modified-id=\"Print-n-times-3\"><span class=\"toc-item-num\">3&nbsp;&nbsp;</span>Print n times</a></span></li><li><span><a href=\"#Sum-Of-First-N-Numbers\" data-toc-modified-id=\"Sum-Of-First-N-Numbers-4\"><span class=\"toc-item-num\">4&nbsp;&nbsp;</span>Sum Of First N Numbers</a></span></li><li><span><a href=\"#Factorial-Numbers-Not-Greater-Than-N\" data-toc-modified-id=\"Factorial-Numbers-Not-Greater-Than-N-5\"><span class=\"toc-item-num\">5&nbsp;&nbsp;</span>Factorial Numbers Not Greater Than N</a></span></li><li><span><a href=\"#Fibonacci-Series\" data-toc-modified-id=\"Fibonacci-Series-6\"><span class=\"toc-item-num\">6&nbsp;&nbsp;</span>Fibonacci Series</a></span></li></ul></div>"
   ]
  },
  {
   "cell_type": "markdown",
   "id": "84eebafc",
   "metadata": {
    "ExecuteTime": {
     "end_time": "2023-10-22T18:06:56.603783Z",
     "start_time": "2023-10-22T18:06:56.553928Z"
    }
   },
   "source": [
    "# Recursion"
   ]
  },
  {
   "cell_type": "markdown",
   "id": "aef35bfd",
   "metadata": {},
   "source": [
    "## 1 to N Without Loop"
   ]
  },
  {
   "cell_type": "code",
   "execution_count": 2,
   "id": "7c6df8c9",
   "metadata": {
    "ExecuteTime": {
     "end_time": "2023-10-22T18:12:50.897895Z",
     "start_time": "2023-10-22T18:12:50.744367Z"
    }
   },
   "outputs": [],
   "source": [
    "from typing import List\n",
    "def wrapper(x, arr):\n",
    "    if x == 0:\n",
    "        return x\n",
    "    wrapper(x - 1, arr)\n",
    "    arr.append(x)\n",
    "\n",
    "def printNos(x: int) -> List[int]: \n",
    "    # Write your code here\n",
    "    k = []\n",
    "    wrapper(x, k)\n",
    "    return k"
   ]
  },
  {
   "cell_type": "markdown",
   "id": "50ce7d76",
   "metadata": {},
   "source": [
    "## N to 1 without loop"
   ]
  },
  {
   "cell_type": "code",
   "execution_count": 4,
   "id": "a028c209",
   "metadata": {
    "ExecuteTime": {
     "end_time": "2023-10-22T18:16:41.210538Z",
     "start_time": "2023-10-22T18:16:41.173168Z"
    }
   },
   "outputs": [],
   "source": [
    "from typing import List\n",
    "\n",
    "def wrapper(x , arr):\n",
    "    if x == 0: return\n",
    "    arr.append(x)\n",
    "    wrapper(x-1, arr)\n",
    "\n",
    "def printNos(x: int) -> List[int]:\n",
    "    # Write your code here\n",
    "    k = []\n",
    "    wrapper(x, k)\n",
    "    return k"
   ]
  },
  {
   "cell_type": "markdown",
   "id": "2f771669",
   "metadata": {},
   "source": [
    "## Print n times"
   ]
  },
  {
   "cell_type": "code",
   "execution_count": 3,
   "id": "0ba42eeb",
   "metadata": {
    "ExecuteTime": {
     "end_time": "2023-10-22T18:13:04.264899Z",
     "start_time": "2023-10-22T18:13:04.232041Z"
    }
   },
   "outputs": [],
   "source": [
    "from  typing import *\n",
    "\n",
    "def printNtimes(n: int) -> None:\n",
    "    if n == 0:\n",
    "        return\n",
    "    printNtimes(n - 1)\n",
    "    print(\"Coding Ninjas \",end=\"\")"
   ]
  },
  {
   "cell_type": "markdown",
   "id": "d86c7187",
   "metadata": {},
   "source": [
    "## Sum Of First N Numbers"
   ]
  },
  {
   "cell_type": "code",
   "execution_count": 5,
   "id": "868cdfad",
   "metadata": {
    "ExecuteTime": {
     "end_time": "2023-10-22T18:19:12.069573Z",
     "start_time": "2023-10-22T18:19:12.029708Z"
    }
   },
   "outputs": [],
   "source": [
    "from typing import List\n",
    "\n",
    "def sumFirstN(n: int) -> int:\n",
    "    # Write your code here.\n",
    "    return n * (n + 1) // 2"
   ]
  },
  {
   "cell_type": "markdown",
   "id": "5bd4747d",
   "metadata": {},
   "source": [
    "## Factorial Numbers Not Greater Than N"
   ]
  },
  {
   "cell_type": "code",
   "execution_count": 6,
   "id": "6fd504ad",
   "metadata": {
    "ExecuteTime": {
     "end_time": "2023-10-22T18:33:50.150623Z",
     "start_time": "2023-10-22T18:33:50.101973Z"
    }
   },
   "outputs": [],
   "source": [
    "from typing import *\n",
    "\n",
    "def factorial(n):\n",
    "    if n == 0 or n == 1: return 1\n",
    "    return n * factorial(n - 1)\n",
    "\n",
    "def factorialNumbers(n: int) -> List[int]:\n",
    "    # Write your code here\n",
    "    arr = []\n",
    "    for i in range(1, n+1):\n",
    "        k = factorial(i)\n",
    "        if k <= n:\n",
    "            arr.append(k)\n",
    "        else:\n",
    "            break\n",
    "    return arr"
   ]
  },
  {
   "cell_type": "markdown",
   "id": "c1a0763d",
   "metadata": {},
   "source": [
    "## Fibonacci Series"
   ]
  },
  {
   "cell_type": "code",
   "execution_count": 1,
   "id": "58ff33f8",
   "metadata": {
    "ExecuteTime": {
     "end_time": "2023-10-23T17:14:13.789533Z",
     "start_time": "2023-10-23T17:14:13.637233Z"
    }
   },
   "outputs": [],
   "source": [
    "from typing import List\n",
    "\n",
    "def getFibbo(n):\n",
    "    if n <= 1:\n",
    "        return n\n",
    "    return getFibbo(n - 1) + getFibbo(n - 2)\n",
    "\n",
    "def generateFibonacciNumbers(n: int) -> List[int]: \n",
    "    # Write your code here\n",
    "    ans = []\n",
    "    for i in range(n):\n",
    "        k = getFibbo(i)\n",
    "        ans.append(k)\n",
    "    return ans"
   ]
  },
  {
   "cell_type": "code",
   "execution_count": null,
   "id": "e8f5720c",
   "metadata": {},
   "outputs": [],
   "source": []
  }
 ],
 "metadata": {
  "kernelspec": {
   "display_name": "Python 3 (ipykernel)",
   "language": "python",
   "name": "python3"
  },
  "language_info": {
   "codemirror_mode": {
    "name": "ipython",
    "version": 3
   },
   "file_extension": ".py",
   "mimetype": "text/x-python",
   "name": "python",
   "nbconvert_exporter": "python",
   "pygments_lexer": "ipython3",
   "version": "3.10.10"
  },
  "toc": {
   "base_numbering": 1,
   "nav_menu": {},
   "number_sections": true,
   "sideBar": true,
   "skip_h1_title": true,
   "title_cell": "Table of Contents",
   "title_sidebar": "Contents",
   "toc_cell": true,
   "toc_position": {
    "height": "calc(100% - 180px)",
    "left": "10px",
    "top": "150px",
    "width": "245.76px"
   },
   "toc_section_display": true,
   "toc_window_display": false
  }
 },
 "nbformat": 4,
 "nbformat_minor": 5
}
