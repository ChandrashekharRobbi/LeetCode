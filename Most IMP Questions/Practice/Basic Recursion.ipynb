{
 "cells": [
  {
   "cell_type": "markdown",
   "id": "34d98f6d",
   "metadata": {
    "toc": true
   },
   "source": [
    "<h1>Table of Contents<span class=\"tocSkip\"></span></h1>\n",
    "<div class=\"toc\"><ul class=\"toc-item\"><li><span><a href=\"#1-to-N-Without-Loop\" data-toc-modified-id=\"1-to-N-Without-Loop-1\"><span class=\"toc-item-num\">1&nbsp;&nbsp;</span>1 to N Without Loop</a></span></li><li><span><a href=\"#Print-n-times\" data-toc-modified-id=\"Print-n-times-2\"><span class=\"toc-item-num\">2&nbsp;&nbsp;</span>Print n times</a></span></li></ul></div>"
   ]
  },
  {
   "cell_type": "markdown",
   "id": "84eebafc",
   "metadata": {
    "ExecuteTime": {
     "end_time": "2023-10-22T18:06:56.603783Z",
     "start_time": "2023-10-22T18:06:56.553928Z"
    }
   },
   "source": [
    "# Recursion"
   ]
  },
  {
   "cell_type": "markdown",
   "id": "aef35bfd",
   "metadata": {},
   "source": [
    "## 1 to N Without Loop"
   ]
  },
  {
   "cell_type": "code",
   "execution_count": 2,
   "id": "887e3521",
   "metadata": {
    "ExecuteTime": {
     "end_time": "2023-10-22T18:12:50.897895Z",
     "start_time": "2023-10-22T18:12:50.744367Z"
    }
   },
   "outputs": [],
   "source": [
    "from typing import List\n",
    "def wrapper(x, arr):\n",
    "    if x == 0:\n",
    "        return x\n",
    "    wrapper(x - 1, arr)\n",
    "    arr.append(x)\n",
    "\n",
    "def printNos(x: int) -> List[int]: \n",
    "    # Write your code here\n",
    "    k = []\n",
    "    wrapper(x, k)\n",
    "    return k"
   ]
  },
  {
   "cell_type": "markdown",
   "id": "517ba31c",
   "metadata": {},
   "source": [
    "## Print n times"
   ]
  },
  {
   "cell_type": "code",
   "execution_count": 3,
   "id": "f65b1a9e",
   "metadata": {
    "ExecuteTime": {
     "end_time": "2023-10-22T18:13:04.264899Z",
     "start_time": "2023-10-22T18:13:04.232041Z"
    }
   },
   "outputs": [],
   "source": [
    "from  typing import *\n",
    "\n",
    "def printNtimes(n: int) -> None:\n",
    "    if n == 0:\n",
    "        return\n",
    "    printNtimes(n - 1)\n",
    "    print(\"Coding Ninjas \",end=\"\")"
   ]
  },
  {
   "cell_type": "code",
   "execution_count": null,
   "id": "b34264a2",
   "metadata": {},
   "outputs": [],
   "source": []
  }
 ],
 "metadata": {
  "kernelspec": {
   "display_name": "Python 3 (ipykernel)",
   "language": "python",
   "name": "python3"
  },
  "language_info": {
   "codemirror_mode": {
    "name": "ipython",
    "version": 3
   },
   "file_extension": ".py",
   "mimetype": "text/x-python",
   "name": "python",
   "nbconvert_exporter": "python",
   "pygments_lexer": "ipython3",
   "version": "3.10.10"
  },
  "toc": {
   "base_numbering": 1,
   "nav_menu": {},
   "number_sections": true,
   "sideBar": true,
   "skip_h1_title": true,
   "title_cell": "Table of Contents",
   "title_sidebar": "Contents",
   "toc_cell": true,
   "toc_position": {
    "height": "calc(100% - 180px)",
    "left": "10px",
    "top": "150px",
    "width": "245.76px"
   },
   "toc_section_display": true,
   "toc_window_display": false
  }
 },
 "nbformat": 4,
 "nbformat_minor": 5
}
