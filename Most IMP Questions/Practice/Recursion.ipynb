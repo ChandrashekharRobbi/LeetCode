{
 "cells": [
  {
   "cell_type": "markdown",
   "id": "87d7ee3a",
   "metadata": {
    "toc": true
   },
   "source": [
    "<h1>Table of Contents<span class=\"tocSkip\"></span></h1>\n",
    "<div class=\"toc\"><ul class=\"toc-item\"><li><span><a href=\"#Combination-Sum---I\" data-toc-modified-id=\"Combination-Sum---I-1\"><span class=\"toc-item-num\">1&nbsp;&nbsp;</span>Combination Sum - I</a></span></li><li><span><a href=\"#Combination-Sum---II\" data-toc-modified-id=\"Combination-Sum---II-2\"><span class=\"toc-item-num\">2&nbsp;&nbsp;</span>Combination Sum - II</a></span></li><li><span><a href=\"#SubSet-Sum---I\" data-toc-modified-id=\"SubSet-Sum---I-3\"><span class=\"toc-item-num\">3&nbsp;&nbsp;</span>SubSet Sum - I</a></span></li><li><span><a href=\"#SubSet-Sum---II\" data-toc-modified-id=\"SubSet-Sum---II-4\"><span class=\"toc-item-num\">4&nbsp;&nbsp;</span>SubSet Sum - II</a></span></li><li><span><a href=\"#Permutations\" data-toc-modified-id=\"Permutations-5\"><span class=\"toc-item-num\">5&nbsp;&nbsp;</span>Permutations</a></span></li><li><span><a href=\"#Reverse-Stack\" data-toc-modified-id=\"Reverse-Stack-6\"><span class=\"toc-item-num\">6&nbsp;&nbsp;</span>Reverse Stack</a></span></li><li><span><a href=\"#Pow(x,n)\" data-toc-modified-id=\"Pow(x,n)-7\"><span class=\"toc-item-num\">7&nbsp;&nbsp;</span>Pow(x,n)</a></span><ul class=\"toc-item\"><li><span><a href=\"#Without-Recursion\" data-toc-modified-id=\"Without-Recursion-7.1\"><span class=\"toc-item-num\">7.1&nbsp;&nbsp;</span>Without Recursion</a></span></li><li><span><a href=\"#With-Recursion\" data-toc-modified-id=\"With-Recursion-7.2\"><span class=\"toc-item-num\">7.2&nbsp;&nbsp;</span>With Recursion</a></span></li></ul></li><li><span><a href=\"#Count-Good-Numbers-(leetcode)\" data-toc-modified-id=\"Count-Good-Numbers-(leetcode)-8\"><span class=\"toc-item-num\">8&nbsp;&nbsp;</span>Count Good Numbers (leetcode)</a></span></li></ul></div>"
   ]
  },
  {
   "cell_type": "markdown",
   "id": "bd501e10",
   "metadata": {},
   "source": [
    "# Recursion"
   ]
  },
  {
   "cell_type": "markdown",
   "id": "3384364f",
   "metadata": {},
   "source": [
    "## Combination Sum - I\n",
    "\n",
    "\n",
    "        Quick Summary:\n",
    "        - Use backtracking to explore different combinations.\n",
    "        - Recursive function 'findCombination' considers both the pick and not pick situations.\n",
    "        - If the target becomes 0, add the current combination to the result."
   ]
  },
  {
   "cell_type": "code",
   "execution_count": 7,
   "id": "88fc86d7",
   "metadata": {
    "ExecuteTime": {
     "end_time": "2023-11-27T18:15:46.236197Z",
     "start_time": "2023-11-27T18:15:46.136724Z"
    }
   },
   "outputs": [
    {
     "ename": "NameError",
     "evalue": "name 'List' is not defined",
     "output_type": "error",
     "traceback": [
      "\u001b[1;31m---------------------------------------------------------------------------\u001b[0m",
      "\u001b[1;31mNameError\u001b[0m                                 Traceback (most recent call last)",
      "Cell \u001b[1;32mIn[7], line 1\u001b[0m\n\u001b[1;32m----> 1\u001b[0m \u001b[38;5;28;01mclass\u001b[39;00m \u001b[38;5;21;01mSolution\u001b[39;00m:\n\u001b[0;32m      2\u001b[0m     \u001b[38;5;28;01mdef\u001b[39;00m \u001b[38;5;21mcombinationSum\u001b[39m(\u001b[38;5;28mself\u001b[39m, candidates: List[\u001b[38;5;28mint\u001b[39m], target: \u001b[38;5;28mint\u001b[39m) \u001b[38;5;241m-\u001b[39m\u001b[38;5;241m>\u001b[39m List[List[\u001b[38;5;28mint\u001b[39m]]:\n\u001b[0;32m      3\u001b[0m \u001b[38;5;250m        \u001b[39m\u001b[38;5;124;03m\"\"\"\u001b[39;00m\n\u001b[0;32m      4\u001b[0m \u001b[38;5;124;03m        Finds all unique combinations of numbers in the given 'candidates' list that add up to the 'target'.\u001b[39;00m\n\u001b[0;32m      5\u001b[0m \n\u001b[1;32m   (...)\u001b[0m\n\u001b[0;32m     16\u001b[0m \u001b[38;5;124;03m        - List of lists representing unique combinations that add up to the target.\u001b[39;00m\n\u001b[0;32m     17\u001b[0m \u001b[38;5;124;03m        \"\"\"\u001b[39;00m\n",
      "Cell \u001b[1;32mIn[7], line 2\u001b[0m, in \u001b[0;36mSolution\u001b[1;34m()\u001b[0m\n\u001b[0;32m      1\u001b[0m \u001b[38;5;28;01mclass\u001b[39;00m \u001b[38;5;21;01mSolution\u001b[39;00m:\n\u001b[1;32m----> 2\u001b[0m     \u001b[38;5;28;01mdef\u001b[39;00m \u001b[38;5;21mcombinationSum\u001b[39m(\u001b[38;5;28mself\u001b[39m, candidates: \u001b[43mList\u001b[49m[\u001b[38;5;28mint\u001b[39m], target: \u001b[38;5;28mint\u001b[39m) \u001b[38;5;241m-\u001b[39m\u001b[38;5;241m>\u001b[39m List[List[\u001b[38;5;28mint\u001b[39m]]:\n\u001b[0;32m      3\u001b[0m \u001b[38;5;250m        \u001b[39m\u001b[38;5;124;03m\"\"\"\u001b[39;00m\n\u001b[0;32m      4\u001b[0m \u001b[38;5;124;03m        Finds all unique combinations of numbers in the given 'candidates' list that add up to the 'target'.\u001b[39;00m\n\u001b[0;32m      5\u001b[0m \n\u001b[1;32m   (...)\u001b[0m\n\u001b[0;32m     16\u001b[0m \u001b[38;5;124;03m        - List of lists representing unique combinations that add up to the target.\u001b[39;00m\n\u001b[0;32m     17\u001b[0m \u001b[38;5;124;03m        \"\"\"\u001b[39;00m\n\u001b[0;32m     19\u001b[0m         \u001b[38;5;66;03m# Helper function for backtracking\u001b[39;00m\n",
      "\u001b[1;31mNameError\u001b[0m: name 'List' is not defined"
     ]
    }
   ],
   "source": [
    "class Solution:\n",
    "    def combinationSum(self, candidates: List[int], target: int) -> List[List[int]]:\n",
    "        \"\"\"\n",
    "        Finds all unique combinations of numbers in the given 'candidates' list that add up to the 'target'.\n",
    "\n",
    "        Quick Summary:\n",
    "        - Use backtracking to explore different combinations.\n",
    "        - Recursive function 'findCombination' considers both the pick and not pick situations.\n",
    "        - If the target becomes 0, add the current combination to the result.\n",
    "\n",
    "        Parameters:\n",
    "        - candidates: List of integers to choose from.\n",
    "        - target: Target sum value.\n",
    "\n",
    "        Returns:\n",
    "        - List of lists representing unique combinations that add up to the target.\n",
    "        \"\"\"\n",
    "\n",
    "        # Helper function for backtracking\n",
    "        def findCombination(ind, arr, target, ans, ds):\n",
    "            # Base case: If the index reaches the end of the array\n",
    "            if ind == len(arr):\n",
    "                # Check if the target is reduced to 0, and add the combination to the result\n",
    "                if target == 0:\n",
    "                    # ds[:] because we have to create copy of ds and append to ans or else it will create\n",
    "                    # reference to ds location which can be changed and it will effect ans array\n",
    "                    # we can also use copy module copy(ds)\n",
    "                    ans.append(ds[:])\n",
    "                return\n",
    "\n",
    "            # Pick situation: If the current element can be picked\n",
    "            if arr[ind] <= target:\n",
    "                ds.append(arr[ind])\n",
    "                findCombination(ind, arr, target - arr[ind], ans, ds)\n",
    "                ds.pop()\n",
    "\n",
    "            # Not pick situation: Move to the next element\n",
    "            findCombination(ind + 1, arr, target, ans, ds)\n",
    "\n",
    "        # Initialize an empty list to store the result\n",
    "        ans = []\n",
    "\n",
    "        # Start the backtracking process\n",
    "        findCombination(0, candidates, target, ans, [])\n",
    "\n",
    "        # Return the final result\n",
    "        return ans\n",
    "\n",
    "# Time Complexity: O(2^n), where n is the length of the 'candidates' list in the worst case.\n",
    "# Space Complexity: O(target), as the depth of recursion is determined by the target value."
   ]
  },
  {
   "cell_type": "markdown",
   "id": "053c81fc",
   "metadata": {},
   "source": [
    "## Combination Sum - II\n",
    "\n",
    "        Quick Summary:\n",
    "        - Use backtracking to explore different combinations.\n",
    "        - Recursive function 'findCombination' considers both the pick and not pick situations.\n",
    "        - Utilize a set to avoid duplicate combinations."
   ]
  },
  {
   "cell_type": "code",
   "execution_count": 19,
   "id": "4003b5f1",
   "metadata": {
    "ExecuteTime": {
     "end_time": "2023-11-27T19:38:07.241782Z",
     "start_time": "2023-11-27T19:38:07.130088Z"
    }
   },
   "outputs": [
    {
     "ename": "NameError",
     "evalue": "name 'List' is not defined",
     "output_type": "error",
     "traceback": [
      "\u001b[1;31m---------------------------------------------------------------------------\u001b[0m",
      "\u001b[1;31mNameError\u001b[0m                                 Traceback (most recent call last)",
      "Cell \u001b[1;32mIn[19], line 2\u001b[0m\n\u001b[0;32m      1\u001b[0m \u001b[38;5;66;03m# TIME LIMIT EXCEEDED\u001b[39;00m\n\u001b[1;32m----> 2\u001b[0m \u001b[38;5;28;01mclass\u001b[39;00m \u001b[38;5;21;01mSolution\u001b[39;00m:\n\u001b[0;32m      3\u001b[0m     \u001b[38;5;28;01mdef\u001b[39;00m \u001b[38;5;21mcombinationSum2\u001b[39m(\u001b[38;5;28mself\u001b[39m, candidates: List[\u001b[38;5;28mint\u001b[39m], target: \u001b[38;5;28mint\u001b[39m) \u001b[38;5;241m-\u001b[39m\u001b[38;5;241m>\u001b[39m List[List[\u001b[38;5;28mint\u001b[39m]]:\n\u001b[0;32m      4\u001b[0m \u001b[38;5;250m        \u001b[39m\u001b[38;5;124;03m\"\"\"\u001b[39;00m\n\u001b[0;32m      5\u001b[0m \u001b[38;5;124;03m        Finds all unique combinations of numbers in the given 'candidates' list that add up to the 'target'.\u001b[39;00m\n\u001b[0;32m      6\u001b[0m \u001b[38;5;124;03m        Each combination is sorted to avoid duplicates.\u001b[39;00m\n\u001b[1;32m   (...)\u001b[0m\n\u001b[0;32m     18\u001b[0m \u001b[38;5;124;03m        - List of lists representing unique combinations that add up to the target.\u001b[39;00m\n\u001b[0;32m     19\u001b[0m \u001b[38;5;124;03m        \"\"\"\u001b[39;00m\n",
      "Cell \u001b[1;32mIn[19], line 3\u001b[0m, in \u001b[0;36mSolution\u001b[1;34m()\u001b[0m\n\u001b[0;32m      2\u001b[0m \u001b[38;5;28;01mclass\u001b[39;00m \u001b[38;5;21;01mSolution\u001b[39;00m:\n\u001b[1;32m----> 3\u001b[0m     \u001b[38;5;28;01mdef\u001b[39;00m \u001b[38;5;21mcombinationSum2\u001b[39m(\u001b[38;5;28mself\u001b[39m, candidates: \u001b[43mList\u001b[49m[\u001b[38;5;28mint\u001b[39m], target: \u001b[38;5;28mint\u001b[39m) \u001b[38;5;241m-\u001b[39m\u001b[38;5;241m>\u001b[39m List[List[\u001b[38;5;28mint\u001b[39m]]:\n\u001b[0;32m      4\u001b[0m \u001b[38;5;250m        \u001b[39m\u001b[38;5;124;03m\"\"\"\u001b[39;00m\n\u001b[0;32m      5\u001b[0m \u001b[38;5;124;03m        Finds all unique combinations of numbers in the given 'candidates' list that add up to the 'target'.\u001b[39;00m\n\u001b[0;32m      6\u001b[0m \u001b[38;5;124;03m        Each combination is sorted to avoid duplicates.\u001b[39;00m\n\u001b[1;32m   (...)\u001b[0m\n\u001b[0;32m     18\u001b[0m \u001b[38;5;124;03m        - List of lists representing unique combinations that add up to the target.\u001b[39;00m\n\u001b[0;32m     19\u001b[0m \u001b[38;5;124;03m        \"\"\"\u001b[39;00m\n\u001b[0;32m     21\u001b[0m         \u001b[38;5;66;03m# Helper function for backtracking\u001b[39;00m\n",
      "\u001b[1;31mNameError\u001b[0m: name 'List' is not defined"
     ]
    }
   ],
   "source": [
    "# TIME LIMIT EXCEEDED\n",
    "class Solution:\n",
    "    def combinationSum2(self, candidates: List[int], target: int) -> List[List[int]]:\n",
    "        \"\"\"\n",
    "        Finds all unique combinations of numbers in the given 'candidates' list that add up to the 'target'.\n",
    "        Each combination is sorted to avoid duplicates.\n",
    "\n",
    "        Quick Summary:\n",
    "        - Use backtracking to explore different combinations.\n",
    "        - Recursive function 'findCombination' considers both the pick and not pick situations.\n",
    "        - If the target becomes 0, add the sorted combination to the result set to avoid duplicates.\n",
    "\n",
    "        Parameters:\n",
    "        - candidates: List of integers to choose from.\n",
    "        - target: Target sum value.\n",
    "\n",
    "        Returns:\n",
    "        - List of lists representing unique combinations that add up to the target.\n",
    "        \"\"\"\n",
    "\n",
    "        # Helper function for backtracking\n",
    "        def findCombination(ind, arr, target, ans, ds, seen):\n",
    "            # Base case: If the index reaches the end of the array\n",
    "            if ind == len(arr):\n",
    "                # Check if the target is reduced to 0, and add the sorted combination to the result set\n",
    "                if target == 0:\n",
    "                    k = sorted(ds)\n",
    "                    ans.add(tuple(k))\n",
    "                return\n",
    "\n",
    "            # Pick situation: If the current element can be picked\n",
    "            if arr[ind] <= target:\n",
    "                ds.append(arr[ind])\n",
    "                findCombination(ind + 1, arr, target - arr[ind], ans, ds, seen)\n",
    "                ds.pop()\n",
    "\n",
    "            # Not pick situation: Move to the next element\n",
    "            findCombination(ind + 1, arr, target, ans, ds, seen)\n",
    "\n",
    "        # Initialize an empty set to store unique combinations\n",
    "        ans = set()\n",
    "\n",
    "        # Start the backtracking process\n",
    "        findCombination(0, candidates, target, ans, [], set())\n",
    "\n",
    "        # Convert the set to a list and return the final result\n",
    "        return list(ans)\n",
    "\n",
    "# Time Complexity: O(2^n), where n is the length of the 'candidates' list in the worst case.\n",
    "# Space Complexity: O(target), as the depth of recursion is determined by the target value."
   ]
  },
  {
   "cell_type": "code",
   "execution_count": 21,
   "id": "9494d6e6",
   "metadata": {
    "ExecuteTime": {
     "end_time": "2023-11-27T19:38:36.832748Z",
     "start_time": "2023-11-27T19:38:36.774177Z"
    }
   },
   "outputs": [
    {
     "ename": "NameError",
     "evalue": "name 'List' is not defined",
     "output_type": "error",
     "traceback": [
      "\u001b[1;31m---------------------------------------------------------------------------\u001b[0m",
      "\u001b[1;31mNameError\u001b[0m                                 Traceback (most recent call last)",
      "Cell \u001b[1;32mIn[21], line 2\u001b[0m\n\u001b[0;32m      1\u001b[0m \u001b[38;5;66;03m# Best Method\u001b[39;00m\n\u001b[1;32m----> 2\u001b[0m \u001b[38;5;28;01mclass\u001b[39;00m \u001b[38;5;21;01mSolution\u001b[39;00m:\n\u001b[0;32m      3\u001b[0m     \u001b[38;5;28;01mdef\u001b[39;00m \u001b[38;5;21mcombinationSum2\u001b[39m(\u001b[38;5;28mself\u001b[39m, candidates: List[\u001b[38;5;28mint\u001b[39m], target: \u001b[38;5;28mint\u001b[39m) \u001b[38;5;241m-\u001b[39m\u001b[38;5;241m>\u001b[39m List[List[\u001b[38;5;28mint\u001b[39m]]:\n\u001b[0;32m      4\u001b[0m \u001b[38;5;250m        \u001b[39m\u001b[38;5;124;03m\"\"\"\u001b[39;00m\n\u001b[0;32m      5\u001b[0m \u001b[38;5;124;03m        Finds all unique combinations of numbers in the given 'candidates' list that add up to the 'target'.\u001b[39;00m\n\u001b[0;32m      6\u001b[0m \u001b[38;5;124;03m        The list is sorted to efficiently skip duplicates during backtracking.\u001b[39;00m\n\u001b[1;32m   (...)\u001b[0m\n\u001b[0;32m     19\u001b[0m \u001b[38;5;124;03m        - List of lists representing unique combinations that add up to the target.\u001b[39;00m\n\u001b[0;32m     20\u001b[0m \u001b[38;5;124;03m        \"\"\"\u001b[39;00m\n",
      "Cell \u001b[1;32mIn[21], line 3\u001b[0m, in \u001b[0;36mSolution\u001b[1;34m()\u001b[0m\n\u001b[0;32m      2\u001b[0m \u001b[38;5;28;01mclass\u001b[39;00m \u001b[38;5;21;01mSolution\u001b[39;00m:\n\u001b[1;32m----> 3\u001b[0m     \u001b[38;5;28;01mdef\u001b[39;00m \u001b[38;5;21mcombinationSum2\u001b[39m(\u001b[38;5;28mself\u001b[39m, candidates: \u001b[43mList\u001b[49m[\u001b[38;5;28mint\u001b[39m], target: \u001b[38;5;28mint\u001b[39m) \u001b[38;5;241m-\u001b[39m\u001b[38;5;241m>\u001b[39m List[List[\u001b[38;5;28mint\u001b[39m]]:\n\u001b[0;32m      4\u001b[0m \u001b[38;5;250m        \u001b[39m\u001b[38;5;124;03m\"\"\"\u001b[39;00m\n\u001b[0;32m      5\u001b[0m \u001b[38;5;124;03m        Finds all unique combinations of numbers in the given 'candidates' list that add up to the 'target'.\u001b[39;00m\n\u001b[0;32m      6\u001b[0m \u001b[38;5;124;03m        The list is sorted to efficiently skip duplicates during backtracking.\u001b[39;00m\n\u001b[1;32m   (...)\u001b[0m\n\u001b[0;32m     19\u001b[0m \u001b[38;5;124;03m        - List of lists representing unique combinations that add up to the target.\u001b[39;00m\n\u001b[0;32m     20\u001b[0m \u001b[38;5;124;03m        \"\"\"\u001b[39;00m\n\u001b[0;32m     22\u001b[0m         \u001b[38;5;66;03m# Sort the candidates list for efficient backtracking\u001b[39;00m\n",
      "\u001b[1;31mNameError\u001b[0m: name 'List' is not defined"
     ]
    }
   ],
   "source": [
    "# Best Method\n",
    "class Solution:\n",
    "    def combinationSum2(self, candidates: List[int], target: int) -> List[List[int]]:\n",
    "        \"\"\"\n",
    "        Finds all unique combinations of numbers in the given 'candidates' list that add up to the 'target'.\n",
    "        The list is sorted to efficiently skip duplicates during backtracking.\n",
    "\n",
    "        Quick Summary:\n",
    "        - Sort the candidates list to efficiently skip duplicates during backtracking.\n",
    "        - Use a recursive function 'findCombination' to explore different combinations.\n",
    "        - Keep track of the previously chosen element to avoid duplicates.\n",
    "        - Add valid combinations to the result list.\n",
    "\n",
    "        Parameters:\n",
    "        - candidates: List of integers to choose from (sorted for efficient backtracking).\n",
    "        - target: Target sum value.\n",
    "\n",
    "        Returns:\n",
    "        - List of lists representing unique combinations that add up to the target.\n",
    "        \"\"\"\n",
    "\n",
    "        # Sort the candidates list for efficient backtracking\n",
    "        candidates.sort()\n",
    "\n",
    "        # Helper function for backtracking\n",
    "        def findCombination(cur, pos, target):\n",
    "            # Base case: If the target becomes 0, add the current combination to the result\n",
    "            if target == 0:\n",
    "                res.append(cur.copy())\n",
    "\n",
    "            # Exit condition: If target is less than or equal to 0, stop exploring\n",
    "            if target <= 0:\n",
    "                return\n",
    "\n",
    "            prev = -1  # Initialize the previous element to handle duplicates\n",
    "            for i in range(pos, len(candidates)):\n",
    "                # Skip duplicates to avoid repeated combinations\n",
    "                if candidates[i] == prev:\n",
    "                    continue\n",
    "\n",
    "                # Choose the current element and recursively explore\n",
    "                cur.append(candidates[i])\n",
    "                findCombination(cur, i + 1, target - candidates[i])\n",
    "                cur.pop()  # Backtrack by removing the last element\n",
    "                prev = candidates[i]\n",
    "\n",
    "        # Initialize an empty list to store the result\n",
    "        res = []\n",
    "\n",
    "        # Start the backtracking process\n",
    "        findCombination([], 0, target)\n",
    "\n",
    "        # Return the final result\n",
    "        return res\n",
    "\n",
    "# Time Complexity: O(2^n), where n is the length of the 'candidates' list in the worst case.\n",
    "# Space Complexity: O(target), as the depth of recursion is determined by the target value."
   ]
  },
  {
   "cell_type": "markdown",
   "id": "ab309682",
   "metadata": {},
   "source": [
    "**Note**: First the all iteration goes for `for` loop for 1st iteration only then during backtracking it will go for next iteration"
   ]
  },
  {
   "cell_type": "code",
   "execution_count": null,
   "id": "c4b00e7a",
   "metadata": {},
   "outputs": [],
   "source": [
    "class Solution:\n",
    "    def combinationSum2(self, candidates: List[int], target: int) -> List[List[int]]:\n",
    "        def findCombination(ind, arr, ans, ds, target):\n",
    "            if target  == 0:\n",
    "                ans.append(ds[:])\n",
    "            for i in range(ind, len(arr)):\n",
    "                if ind != i and arr[i] == arr[i-1]:\n",
    "                    continue\n",
    "                if arr[i] <= target:\n",
    "                    ds.append(arr[i])\n",
    "                    findCombination(i+1, arr, ans, ds, target - arr[i])\n",
    "                    ds.pop()\n",
    "        ans = []\n",
    "        candidates.sort()\n",
    "        findCombination(0, candidates, ans, [], target)\n",
    "        return ans"
   ]
  },
  {
   "cell_type": "markdown",
   "id": "40e96d6f",
   "metadata": {},
   "source": [
    "## SubSet Sum - I"
   ]
  },
  {
   "cell_type": "markdown",
   "id": "23414fe1",
   "metadata": {},
   "source": [
    "<img src=\"img/subset_sum_1.jpg\" />"
   ]
  },
  {
   "cell_type": "code",
   "execution_count": 2,
   "id": "07c1e466",
   "metadata": {
    "ExecuteTime": {
     "end_time": "2023-11-28T14:58:01.425869Z",
     "start_time": "2023-11-28T14:58:01.419484Z"
    }
   },
   "outputs": [],
   "source": [
    "# User function Template for python3\n",
    "class Solution:\n",
    "    def subsetSums(self, arr, N):\n",
    "        \"\"\"\n",
    "        Generates all subset sums of the given 'arr' using backtracking.\n",
    "\n",
    "        Quick Summary:\n",
    "        - Initialize an empty list 'ans' to store the subset sums.\n",
    "        - Start a recursive function 'wrapper' to explore different subsets.\n",
    "        - The function adds the current sum to 'ans' when reaching the end of the array.\n",
    "        - The function explores two possibilities at each step: including or excluding the current element.\n",
    "        - Sort the final 'ans' list for output consistency.\n",
    "\n",
    "        Parameters:\n",
    "        - arr: List of integers for which subset sums need to be generated.\n",
    "        - N: Length of the array 'arr'.\n",
    "\n",
    "        Returns:\n",
    "        - List of integers representing all possible subset sums of the given array.\n",
    "        \"\"\"\n",
    "\n",
    "        # Initialize an empty list to store subset sums\n",
    "        ans = []\n",
    "\n",
    "        # Helper function for backtracking\n",
    "        def wrapper(ind, arr, sumV, ans):\n",
    "            # Base case: If the end of the array is reached, add the current sum to 'ans'\n",
    "            if ind == len(arr):\n",
    "                ans.append(sumV)\n",
    "                return\n",
    "\n",
    "            # Recursive case: Explore two possibilities - include or exclude the current element\n",
    "            wrapper(ind + 1, arr, sumV + arr[ind], ans)  # Include the current element\n",
    "            wrapper(ind + 1, arr, sumV, ans)  # Exclude the current element\n",
    "\n",
    "        # Start the backtracking process\n",
    "        wrapper(0, arr, 0, ans)\n",
    "\n",
    "        # Sort the final list for output consistency\n",
    "        ans.sort()\n",
    "\n",
    "        # Return the list of subset sums\n",
    "        return ans\n",
    "\n",
    "# Time Complexity: O(2^n), where n is the length of the 'arr' array.\n",
    "# Space Complexity: O(2^n), as the recursion depth and the size of 'ans' are both exponential."
   ]
  },
  {
   "cell_type": "code",
   "execution_count": 2,
   "id": "5f3c727e",
   "metadata": {
    "ExecuteTime": {
     "end_time": "2023-11-29T06:53:32.431570Z",
     "start_time": "2023-11-29T06:53:32.419717Z"
    }
   },
   "outputs": [],
   "source": [
    "# by little modification we can find subsets rather than there sum\n",
    "def subSetSum1(arr):\n",
    "    # code here\n",
    "    def wrapper(ind, arr, ans,  ds):\n",
    "        if ind == len(arr):\n",
    "            sumV = sum(ds) if ds else 0\n",
    "            ans.append(sumV)\n",
    "            return\n",
    "        ds.append(arr[ind])\n",
    "        wrapper(ind + 1, arr, ans, ds)\n",
    "        ds.pop()\n",
    "        wrapper(ind + 1, arr, ans, ds)\n",
    "    ans = []\n",
    "    wrapper(0, arr, ans, [])\n",
    "    return ans"
   ]
  },
  {
   "cell_type": "markdown",
   "id": "bf73b979",
   "metadata": {},
   "source": [
    "## SubSet Sum - II"
   ]
  },
  {
   "cell_type": "markdown",
   "id": "9dd4356d",
   "metadata": {
    "ExecuteTime": {
     "end_time": "2023-11-28T15:07:40.353738Z",
     "start_time": "2023-11-28T15:07:40.344814Z"
    }
   },
   "source": [
    "\n",
    "<img src=\"img/subset_sum_2.jpg\"/>"
   ]
  },
  {
   "cell_type": "code",
   "execution_count": 3,
   "id": "a103f2ef",
   "metadata": {
    "ExecuteTime": {
     "end_time": "2023-11-28T14:59:25.191335Z",
     "start_time": "2023-11-28T14:59:24.724276Z"
    }
   },
   "outputs": [
    {
     "ename": "NameError",
     "evalue": "name 'List' is not defined",
     "output_type": "error",
     "traceback": [
      "\u001b[1;31m---------------------------------------------------------------------------\u001b[0m",
      "\u001b[1;31mNameError\u001b[0m                                 Traceback (most recent call last)",
      "Cell \u001b[1;32mIn[3], line 2\u001b[0m\n\u001b[0;32m      1\u001b[0m \u001b[38;5;66;03m# Class representing the solution\u001b[39;00m\n\u001b[1;32m----> 2\u001b[0m \u001b[38;5;28;01mclass\u001b[39;00m \u001b[38;5;21;01mSolution\u001b[39;00m:\n\u001b[0;32m      3\u001b[0m     \u001b[38;5;28;01mdef\u001b[39;00m \u001b[38;5;21msubsetsWithDup\u001b[39m(\u001b[38;5;28mself\u001b[39m, nums: List[\u001b[38;5;28mint\u001b[39m]) \u001b[38;5;241m-\u001b[39m\u001b[38;5;241m>\u001b[39m List[List[\u001b[38;5;28mint\u001b[39m]]:\n\u001b[0;32m      4\u001b[0m \u001b[38;5;250m        \u001b[39m\u001b[38;5;124;03m\"\"\"\u001b[39;00m\n\u001b[0;32m      5\u001b[0m \u001b[38;5;124;03m        Generates all possible subsets of the given 'nums' array, considering duplicates.\u001b[39;00m\n\u001b[0;32m      6\u001b[0m \n\u001b[1;32m   (...)\u001b[0m\n\u001b[0;32m     18\u001b[0m \u001b[38;5;124;03m        - List of lists representing all possible subsets of the given array, considering duplicates.\u001b[39;00m\n\u001b[0;32m     19\u001b[0m \u001b[38;5;124;03m        \"\"\"\u001b[39;00m\n",
      "Cell \u001b[1;32mIn[3], line 3\u001b[0m, in \u001b[0;36mSolution\u001b[1;34m()\u001b[0m\n\u001b[0;32m      2\u001b[0m \u001b[38;5;28;01mclass\u001b[39;00m \u001b[38;5;21;01mSolution\u001b[39;00m:\n\u001b[1;32m----> 3\u001b[0m     \u001b[38;5;28;01mdef\u001b[39;00m \u001b[38;5;21msubsetsWithDup\u001b[39m(\u001b[38;5;28mself\u001b[39m, nums: \u001b[43mList\u001b[49m[\u001b[38;5;28mint\u001b[39m]) \u001b[38;5;241m-\u001b[39m\u001b[38;5;241m>\u001b[39m List[List[\u001b[38;5;28mint\u001b[39m]]:\n\u001b[0;32m      4\u001b[0m \u001b[38;5;250m        \u001b[39m\u001b[38;5;124;03m\"\"\"\u001b[39;00m\n\u001b[0;32m      5\u001b[0m \u001b[38;5;124;03m        Generates all possible subsets of the given 'nums' array, considering duplicates.\u001b[39;00m\n\u001b[0;32m      6\u001b[0m \n\u001b[1;32m   (...)\u001b[0m\n\u001b[0;32m     18\u001b[0m \u001b[38;5;124;03m        - List of lists representing all possible subsets of the given array, considering duplicates.\u001b[39;00m\n\u001b[0;32m     19\u001b[0m \u001b[38;5;124;03m        \"\"\"\u001b[39;00m\n\u001b[0;32m     21\u001b[0m         \u001b[38;5;66;03m# Helper function for backtracking\u001b[39;00m\n",
      "\u001b[1;31mNameError\u001b[0m: name 'List' is not defined"
     ]
    }
   ],
   "source": [
    "# Class representing the solution\n",
    "class Solution:\n",
    "    def subsetsWithDup(self, nums: List[int]) -> List[List[int]]:\n",
    "        \"\"\"\n",
    "        Generates all possible subsets of the given 'nums' array, considering duplicates.\n",
    "\n",
    "        Quick Summary:\n",
    "        - Initialize an empty list 'ans' to store subsets.\n",
    "        - Start a recursive function 'findSubset' to explore different subsets.\n",
    "        - The function adds the current subset to 'ans' when reaching the end of the array.\n",
    "        - The function explores two possibilities at each step: including or excluding the current element.\n",
    "        - Sort the final 'ans' list for output consistency.\n",
    "\n",
    "        Parameters:\n",
    "        - nums: List of integers for which subsets need to be generated.\n",
    "\n",
    "        Returns:\n",
    "        - List of lists representing all possible subsets of the given array, considering duplicates.\n",
    "        \"\"\"\n",
    "\n",
    "        # Helper function for backtracking\n",
    "        def findSubset(ind, nums, ans, ds):\n",
    "            # Base case: If the end of the array is reached, add the current subset to 'ans'\n",
    "            if ind == len(nums):\n",
    "                if ds not in ans:\n",
    "                    ans.append(ds[:])\n",
    "                return\n",
    "\n",
    "            # Recursive case: Explore two possibilities - include or exclude the current element\n",
    "            ds.append(nums[ind])  # Include the current element\n",
    "            findSubset(ind + 1, nums, ans, ds)\n",
    "            ds.pop()\n",
    "            findSubset(ind + 1, nums, ans, ds)  # Exclude the current element\n",
    "\n",
    "        # Initialize an empty list to store subsets\n",
    "        ans = []\n",
    "\n",
    "        # Initialize an empty list to represent the current subset being explored\n",
    "        ds = []\n",
    "\n",
    "        # Sort the input array to handle duplicates\n",
    "        nums.sort()\n",
    "\n",
    "        # Start the backtracking process\n",
    "        findSubset(0, nums, ans, ds)\n",
    "\n",
    "        # Return the list of subsets\n",
    "        return ans\n",
    "\n",
    "# Time Complexity: O(2^n), where n is the length of the 'nums' array.\n",
    "# Space Complexity: O(2^n), as the recursion depth and the size of 'ans' are both exponential."
   ]
  },
  {
   "cell_type": "code",
   "execution_count": 5,
   "id": "ca7a3ed1",
   "metadata": {
    "ExecuteTime": {
     "end_time": "2023-11-28T15:37:46.243652Z",
     "start_time": "2023-11-28T15:37:46.098135Z"
    }
   },
   "outputs": [
    {
     "ename": "NameError",
     "evalue": "name 'List' is not defined",
     "output_type": "error",
     "traceback": [
      "\u001b[1;31m---------------------------------------------------------------------------\u001b[0m",
      "\u001b[1;31mNameError\u001b[0m                                 Traceback (most recent call last)",
      "Cell \u001b[1;32mIn[5], line 2\u001b[0m\n\u001b[0;32m      1\u001b[0m \u001b[38;5;66;03m# Class representing the solution\u001b[39;00m\n\u001b[1;32m----> 2\u001b[0m \u001b[38;5;28;01mclass\u001b[39;00m \u001b[38;5;21;01mSolution\u001b[39;00m:\n\u001b[0;32m      3\u001b[0m     \u001b[38;5;28;01mdef\u001b[39;00m \u001b[38;5;21msubsetsWithDup\u001b[39m(\u001b[38;5;28mself\u001b[39m, nums: List[\u001b[38;5;28mint\u001b[39m]) \u001b[38;5;241m-\u001b[39m\u001b[38;5;241m>\u001b[39m List[List[\u001b[38;5;28mint\u001b[39m]]:\n\u001b[0;32m      4\u001b[0m \u001b[38;5;250m        \u001b[39m\u001b[38;5;124;03m\"\"\"\u001b[39;00m\n\u001b[0;32m      5\u001b[0m \u001b[38;5;124;03m        Generates all possible subsets of the given 'nums' array, handling duplicates.\u001b[39;00m\n\u001b[0;32m      6\u001b[0m \n\u001b[1;32m   (...)\u001b[0m\n\u001b[0;32m     20\u001b[0m \u001b[38;5;124;03m        - List of lists representing all possible subsets of the given array, handling duplicates.\u001b[39;00m\n\u001b[0;32m     21\u001b[0m \u001b[38;5;124;03m        \"\"\"\u001b[39;00m\n",
      "Cell \u001b[1;32mIn[5], line 3\u001b[0m, in \u001b[0;36mSolution\u001b[1;34m()\u001b[0m\n\u001b[0;32m      2\u001b[0m \u001b[38;5;28;01mclass\u001b[39;00m \u001b[38;5;21;01mSolution\u001b[39;00m:\n\u001b[1;32m----> 3\u001b[0m     \u001b[38;5;28;01mdef\u001b[39;00m \u001b[38;5;21msubsetsWithDup\u001b[39m(\u001b[38;5;28mself\u001b[39m, nums: \u001b[43mList\u001b[49m[\u001b[38;5;28mint\u001b[39m]) \u001b[38;5;241m-\u001b[39m\u001b[38;5;241m>\u001b[39m List[List[\u001b[38;5;28mint\u001b[39m]]:\n\u001b[0;32m      4\u001b[0m \u001b[38;5;250m        \u001b[39m\u001b[38;5;124;03m\"\"\"\u001b[39;00m\n\u001b[0;32m      5\u001b[0m \u001b[38;5;124;03m        Generates all possible subsets of the given 'nums' array, handling duplicates.\u001b[39;00m\n\u001b[0;32m      6\u001b[0m \n\u001b[1;32m   (...)\u001b[0m\n\u001b[0;32m     20\u001b[0m \u001b[38;5;124;03m        - List of lists representing all possible subsets of the given array, handling duplicates.\u001b[39;00m\n\u001b[0;32m     21\u001b[0m \u001b[38;5;124;03m        \"\"\"\u001b[39;00m\n\u001b[0;32m     23\u001b[0m         \u001b[38;5;66;03m# Helper function for backtracking\u001b[39;00m\n",
      "\u001b[1;31mNameError\u001b[0m: name 'List' is not defined"
     ]
    }
   ],
   "source": [
    "# Class representing the solution\n",
    "class Solution:\n",
    "    def subsetsWithDup(self, nums: List[int]) -> List[List[int]]:\n",
    "        \"\"\"\n",
    "        Generates all possible subsets of the given 'nums' array, handling duplicates.\n",
    "\n",
    "        Quick Summary:\n",
    "        - Initialize an empty list 'ans' to store subsets.\n",
    "        - Sort the 'nums' array to handle duplicates efficiently.\n",
    "        - Start a recursive function 'wrapper' to explore different subsets.\n",
    "        - The function appends the current subset to 'ans' at each step.\n",
    "        - Skip duplicates to avoid redundant subsets.\n",
    "        - The recursive call explores subsets starting from the next index.\n",
    "        - Return the final list of subsets.\n",
    "\n",
    "        Parameters:\n",
    "        - nums: List of integers for which subsets need to be generated.\n",
    "\n",
    "        Returns:\n",
    "        - List of lists representing all possible subsets of the given array, handling duplicates.\n",
    "        \"\"\"\n",
    "\n",
    "        # Helper function for backtracking\n",
    "        def wrapper(ind, nums, ans, ds):\n",
    "            # Append the current subset to 'ans'\n",
    "            ans.append(ds[:])\n",
    "\n",
    "            # Explore subsets starting from the current index\n",
    "            for i in range(ind, len(nums)):\n",
    "                # Skip duplicates to avoid redundant subsets\n",
    "                if i != ind and nums[i] == nums[i - 1]:\n",
    "                    continue\n",
    "\n",
    "                ds.append(nums[i])  # Include the current element\n",
    "                wrapper(i + 1, nums, ans, ds)\n",
    "                ds.pop()  # Backtrack\n",
    "\n",
    "        # Initialize an empty list to store subsets\n",
    "        ans = []\n",
    "\n",
    "        # Sort the input array to handle duplicates\n",
    "        nums.sort()\n",
    "\n",
    "        # Start the backtracking process\n",
    "        wrapper(0, nums, ans, [])\n",
    "\n",
    "        # Return the list of subsets\n",
    "        return ans\n",
    "\n",
    "# Time Complexity: O(2^n), where n is the length of the 'nums' array.\n",
    "# Space Complexity: O(2^n), as the recursion depth and the size of 'ans' are both exponential."
   ]
  },
  {
   "cell_type": "markdown",
   "id": "468e798f",
   "metadata": {},
   "source": [
    "## Permutations"
   ]
  },
  {
   "cell_type": "markdown",
   "id": "79d465d7",
   "metadata": {},
   "source": [
    "<img src=\"img/Permutations.jpg\"/>"
   ]
  },
  {
   "cell_type": "code",
   "execution_count": 10,
   "id": "e6d5711c",
   "metadata": {
    "ExecuteTime": {
     "end_time": "2023-11-28T16:57:35.531844Z",
     "start_time": "2023-11-28T16:57:35.462844Z"
    }
   },
   "outputs": [
    {
     "ename": "NameError",
     "evalue": "name 'List' is not defined",
     "output_type": "error",
     "traceback": [
      "\u001b[1;31m---------------------------------------------------------------------------\u001b[0m",
      "\u001b[1;31mNameError\u001b[0m                                 Traceback (most recent call last)",
      "Cell \u001b[1;32mIn[10], line 2\u001b[0m\n\u001b[0;32m      1\u001b[0m \u001b[38;5;66;03m# Class representing the solution\u001b[39;00m\n\u001b[1;32m----> 2\u001b[0m \u001b[38;5;28;01mclass\u001b[39;00m \u001b[38;5;21;01mSolution\u001b[39;00m:\n\u001b[0;32m      3\u001b[0m     \u001b[38;5;28;01mdef\u001b[39;00m \u001b[38;5;21mpermute\u001b[39m(\u001b[38;5;28mself\u001b[39m, nums: List[\u001b[38;5;28mint\u001b[39m]) \u001b[38;5;241m-\u001b[39m\u001b[38;5;241m>\u001b[39m List[List[\u001b[38;5;28mint\u001b[39m]]:\n\u001b[0;32m      4\u001b[0m \u001b[38;5;250m        \u001b[39m\u001b[38;5;124;03m\"\"\"\u001b[39;00m\n\u001b[0;32m      5\u001b[0m \u001b[38;5;124;03m        Generates all possible permutations of the given 'nums' array.\u001b[39;00m\n\u001b[0;32m      6\u001b[0m \n\u001b[1;32m   (...)\u001b[0m\n\u001b[0;32m     19\u001b[0m \u001b[38;5;124;03m        - List of lists representing all possible permutations of the given array.\u001b[39;00m\n\u001b[0;32m     20\u001b[0m \u001b[38;5;124;03m        \"\"\"\u001b[39;00m\n",
      "Cell \u001b[1;32mIn[10], line 3\u001b[0m, in \u001b[0;36mSolution\u001b[1;34m()\u001b[0m\n\u001b[0;32m      2\u001b[0m \u001b[38;5;28;01mclass\u001b[39;00m \u001b[38;5;21;01mSolution\u001b[39;00m:\n\u001b[1;32m----> 3\u001b[0m     \u001b[38;5;28;01mdef\u001b[39;00m \u001b[38;5;21mpermute\u001b[39m(\u001b[38;5;28mself\u001b[39m, nums: \u001b[43mList\u001b[49m[\u001b[38;5;28mint\u001b[39m]) \u001b[38;5;241m-\u001b[39m\u001b[38;5;241m>\u001b[39m List[List[\u001b[38;5;28mint\u001b[39m]]:\n\u001b[0;32m      4\u001b[0m \u001b[38;5;250m        \u001b[39m\u001b[38;5;124;03m\"\"\"\u001b[39;00m\n\u001b[0;32m      5\u001b[0m \u001b[38;5;124;03m        Generates all possible permutations of the given 'nums' array.\u001b[39;00m\n\u001b[0;32m      6\u001b[0m \n\u001b[1;32m   (...)\u001b[0m\n\u001b[0;32m     19\u001b[0m \u001b[38;5;124;03m        - List of lists representing all possible permutations of the given array.\u001b[39;00m\n\u001b[0;32m     20\u001b[0m \u001b[38;5;124;03m        \"\"\"\u001b[39;00m\n\u001b[0;32m     22\u001b[0m         \u001b[38;5;66;03m# Helper function for backtracking\u001b[39;00m\n",
      "\u001b[1;31mNameError\u001b[0m: name 'List' is not defined"
     ]
    }
   ],
   "source": [
    "# Class representing the solution\n",
    "class Solution:\n",
    "    def permute(self, nums: List[int]) -> List[List[int]]:\n",
    "        \"\"\"\n",
    "        Generates all possible permutations of the given 'nums' array.\n",
    "\n",
    "        Quick Summary:\n",
    "        - Initialize an empty list 'ans' to store permutations.\n",
    "        - Use a recursive function 'findPermutation' to explore different permutations.\n",
    "        - The function appends the current permutation to 'ans' when it reaches the desired length.\n",
    "        - Maintain a 'count' array to track used elements in the current permutation.\n",
    "        - The recursive call explores permutations starting from the next index.\n",
    "        - Return the final list of permutations.\n",
    "\n",
    "        Parameters:\n",
    "        - nums: List of integers for which permutations need to be generated.\n",
    "\n",
    "        Returns:\n",
    "        - List of lists representing all possible permutations of the given array.\n",
    "        \"\"\"\n",
    "\n",
    "        # Helper function for backtracking\n",
    "        def findPermutation(ind, nums, ans, ds, count):\n",
    "            # Append the current permutation to 'ans'\n",
    "            if len(ds) == len(nums):\n",
    "                ans.append(ds[:])\n",
    "                return\n",
    "\n",
    "            # Explore permutations starting from the 0 to (n - 1_)\n",
    "            for i in range(len(nums)):\n",
    "                # if count is 0 that means it is not taken so proceed\n",
    "                if not count[i]:\n",
    "                    # append the value to array\n",
    "                    ds.append(nums[i])\n",
    "                    # mark it as taken\n",
    "                    count[i] = 1\n",
    "                    # make a recursive call for next element\n",
    "                    findPermutation(i + 1, nums, ans, ds, count)\n",
    "                    # mark it as not taken as it started to backtrack\n",
    "                    count[i] = 0\n",
    "                    # pop out the element from array\n",
    "                    ds.pop()  # Backtrack\n",
    "\n",
    "        # Initialize an empty list to store permutations\n",
    "        ans = []\n",
    "\n",
    "        # Initialize a 'count' array to track used elements\n",
    "        count = [0] * len(nums)\n",
    "\n",
    "        # Start the backtracking process\n",
    "        findPermutation(0, nums, ans, [], count)\n",
    "\n",
    "        # Return the list of permutations\n",
    "        return ans\n",
    "\n",
    "# Time Complexity: O(N!), where N is the length of the 'nums' array.\n",
    "# Space Complexity: O(N), as the recursion depth and the size of 'ans' are both linear."
   ]
  },
  {
   "cell_type": "markdown",
   "id": "890828ef",
   "metadata": {},
   "source": [
    "## Reverse Stack"
   ]
  },
  {
   "cell_type": "code",
   "execution_count": 1,
   "id": "919569cd",
   "metadata": {
    "ExecuteTime": {
     "end_time": "2023-11-30T14:52:32.192669Z",
     "start_time": "2023-11-30T14:52:32.140942Z"
    }
   },
   "outputs": [],
   "source": [
    "# Given a stack, this function reverses the order of its elements using recursion.\n",
    "\n",
    "# Quick Summary:\n",
    "# - The reverseStack function initiates the reversal process.\n",
    "# - The reverse function is a recursive helper function that reverses the elements.\n",
    "# - The insert function is used to insert an element at the bottom of the stack.\n",
    "\n",
    "# Steps:\n",
    "# 1. reverseStack: Initiates the reversal process.\n",
    "# 2. reverse: Recursively pops elements and inserts them at the bottom using the insert function.\n",
    "# 3. insert: Inserts an element at the bottom of the stack.\n",
    "\n",
    "# Time Complexity: O(N^2), where N is the number of elements in the stack.\n",
    "# Space Complexity: O(N), as the function uses recursion that consumes stack space.\n",
    "\n",
    "from typing import List\n",
    "\n",
    "def insert(stack, ele):\n",
    "    # If the stack is empty, simply append the element\n",
    "    if len(stack) == 0:\n",
    "        stack.append(ele)\n",
    "        return\n",
    "    # If the stack is not empty, pop the top element, insert the element, and push back the popped element\n",
    "    temp = stack[-1]\n",
    "    stack.pop()\n",
    "    insert(stack, ele)\n",
    "    stack.append(temp)\n",
    "\n",
    "def reverse(stack):\n",
    "    # Base case: if there is only one element in the stack, no need to reverse\n",
    "    if len(stack) == 1:\n",
    "        return\n",
    "    # Recursive case: pop the top element, reverse the rest, and insert the popped element at the bottom\n",
    "    temp = stack[-1]\n",
    "    stack.pop()\n",
    "    reverse(stack)\n",
    "    insert(stack, temp)\n",
    "\n",
    "def reverseStack(stack: List[int]) -> None:\n",
    "    # Base case: if the stack is empty, nothing to reverse\n",
    "    if len(stack) == 0:\n",
    "        return\n",
    "    # Initiate the reversal process\n",
    "    reverse(stack)"
   ]
  },
  {
   "cell_type": "markdown",
   "id": "fb59c9c4",
   "metadata": {},
   "source": [
    "## Pow(x,n)"
   ]
  },
  {
   "cell_type": "markdown",
   "id": "42b66d1e",
   "metadata": {},
   "source": [
    "### Without Recursion\n",
    "\n",
    "\n",
    "**Quick Summary:**\n",
    "The code implements the exponentiation function `myPow` to calculate the power of a given number `x` to the integer `n`. The function handles negative exponents and returns the result.\n",
    "\n",
    "**Steps:**\n",
    "1. Check if `n` is negative and set `neg` accordingly.\n",
    "2. Take the absolute value of `n` to handle negative exponents.\n",
    "3. Initialize `ans` to 1 to accumulate the result.\n",
    "4. Use a while loop to iterate through the binary representation of `n`.\n",
    "   - If the least significant bit is 1, multiply `ans` by `x` and decrement `n`.\n",
    "   - If the least significant bit is 0, square `x` and halve `n`.\n",
    "5. Return `ans` if `neg` is False; otherwise, return the reciprocal of `ans`.\n",
    "\n",
    "\n",
    "**Time Complexity:**\n",
    "The time complexity is O(log(n)), where n is the exponent, due to the binary exponentiation approach.\n",
    "\n",
    "**Space Complexity:**\n",
    "The space complexity is O(1) since the algorithm uses a constant amount of extra space regardless of the input size."
   ]
  },
  {
   "cell_type": "code",
   "execution_count": 2,
   "id": "31525bea",
   "metadata": {
    "ExecuteTime": {
     "end_time": "2023-11-30T15:25:41.167081Z",
     "start_time": "2023-11-30T15:25:41.121669Z"
    }
   },
   "outputs": [],
   "source": [
    "class Solution:\n",
    "    def myPow(self, x: float, n: int) -> float:\n",
    "        # Check if the exponent is negative\n",
    "        neg = False\n",
    "        if n < 0:\n",
    "            neg = True\n",
    "        n = abs(n)  # Take the absolute value of n\n",
    "        \n",
    "        ans = 1  # Initialize the result\n",
    "        \n",
    "        # Calculate power using binary exponentiation\n",
    "        while n:\n",
    "            if n % 2 == 1:\n",
    "                ans = ans * x\n",
    "                n -= 1\n",
    "            else:\n",
    "                x = x * x\n",
    "                n = n // 2\n",
    "        \n",
    "        # Return the result with proper handling of negative exponents\n",
    "        return ans if not neg else 1 / ans"
   ]
  },
  {
   "cell_type": "markdown",
   "id": "54db4855",
   "metadata": {},
   "source": [
    "### With Recursion\n",
    "\n",
    "\n",
    "> Note: When you pass x, n, and ans to the wrapper function, you are essentially passing their values, not their references. Therefore, any changes made to x, n, or ans inside the wrapper function will not affect the original values outside the function.\n",
    "\n",
    "* To **fix** this, you can use a list to store x, n, and ans so that you can modify their values inside the wrapper function. Here's the corrected code:\n",
    "\n",
    "\n",
    "**Quick Summary:**\n",
    "The code implements the exponentiation function `myPow` to calculate the power of a given number `x` to the integer `n`. The function handles negative exponents and returns the result. It uses a mutable object (list) to store the result and the base, allowing them to be modified within the recursive function.\n",
    "\n",
    "**Steps:**\n",
    "1. Check if `n` is negative and set `neg` accordingly.\n",
    "2. Take the absolute value of `n` to handle negative exponents.\n",
    "3. Initialize `ans` as a list containing 1 to accumulate the result. Use `[x]` to make `x` mutable.\n",
    "4. Define a recursive function `wrapper` to perform binary exponentiation.\n",
    "   - If the least significant bit is 1, multiply `ans` by `x` and decrement `n`.\n",
    "   - If the least significant bit is 0, square `x` and halve `n`.\n",
    "5. Call the recursive function with `[x]` and `ans` as mutable parameters.\n",
    "6. Return the result stored in `ans[0]` if `neg` is False; otherwise, return the reciprocal of `ans[0]`.\n",
    "\n",
    "\n",
    "**Time Complexity:**\n",
    "The time complexity is O(log(n)), where n is the exponent, due to the binary exponentiation approach.\n",
    "\n",
    "**Space Complexity:**\n",
    "The space complexity is O(log(n)) due to the recursive nature of the algorithm."
   ]
  },
  {
   "cell_type": "code",
   "execution_count": 1,
   "id": "1a54e71e",
   "metadata": {
    "ExecuteTime": {
     "end_time": "2024-02-01T13:33:18.589909Z",
     "start_time": "2024-02-01T13:33:18.554975Z"
    }
   },
   "outputs": [],
   "source": [
    "class Solution:\n",
    "    def myPow(self, x: float, n: int) -> float:\n",
    "        # when n is odd then there will be an extra term to multiply + multiply res with res\n",
    "        # when n is even then there will be no extra term to multiply so multiply res with res\n",
    "        # check for Negative n value\n",
    "        # the logic will be same just at the last we have to divide the 1 with ans\n",
    "        neg = False\n",
    "        if n < 0:\n",
    "            neg = True\n",
    "        # wrapper function which calculate value recursiverly\n",
    "        def helper(x, n):\n",
    "            # x ^ n\n",
    "            # if n == 0 then ans will be for sure 1\n",
    "            # eg. 2 ^ 0 == 1\n",
    "            if n == 0: return 1\n",
    "            # if x == 0 then ans will be for sure 0\n",
    "            # eg. 0 ^ 100 == 0\n",
    "            if x == 0: return 0\n",
    "            # go to check for even value\n",
    "            res = helper(x, n // 2)\n",
    "            # multiply with itself\n",
    "            res = res * res\n",
    "            # if odd then multiply with x if not return res as it is :)\n",
    "            return res * x if n % 2 != 0 else res\n",
    "        # call the funciton to get the answer\n",
    "        res = helper(x, abs(n))\n",
    "        # return res according to negative or positive condition\n",
    "        return res if not neg else 1 / res"
   ]
  },
  {
   "cell_type": "markdown",
   "id": "0e66ff64",
   "metadata": {},
   "source": [
    "## Count Good Numbers (leetcode)\n",
    "\n",
    "\n",
    "**Quick Summary:**\n",
    "The code defines a class `Solution` with a method `countGoodNumbers` to calculate the count of \"good numbers\" up to a given limit `n`. A good number is defined as a number that is divisible by either 4 or 5. The function computes the count using modular arithmetic to avoid integer overflow.\n",
    "\n",
    "**Steps:**\n",
    "1. Calculate the number of even positions (`even_no`) and odd positions (`odd_no`) in the range from 1 to `n` (inclusive).\n",
    "2. Compute the count of good numbers using the formula: `((5 ** even_no) * (4 ** odd_no)) % (10**9 + 7)`.\n",
    "   - For even positions, each position can be either 4 or 5, so there are 5 possibilities (5 choices for each position).\n",
    "   - For odd positions, each position can only be 5, so there are 4 possibilities (5 choices minus the one already used for the odd position).\n",
    "3. Return the computed count.\n",
    "\n",
    "\n",
    "**Time Complexity:**\n",
    "The time complexity is O(n) since the computation involves simple mathematical operations and is not dependent on the size of `n`.\n",
    "\n",
    "**Space Complexity:**\n",
    "The space complexity is O(1) as the algorithm uses a constant amount of space regardless of the input size."
   ]
  },
  {
   "cell_type": "code",
   "execution_count": 8,
   "id": "a29bc94f",
   "metadata": {
    "ExecuteTime": {
     "end_time": "2023-11-30T17:06:52.074250Z",
     "start_time": "2023-11-30T17:06:52.057769Z"
    }
   },
   "outputs": [],
   "source": [
    "# TIME LIMIT EXCEEDED\n",
    "\n",
    "# for the even position only [0,2,4,6,8] ~ 5\n",
    "# for odd postion Only prime : [2,3,5,7] ~ 4\n",
    "from math import *\n",
    "\n",
    "class Solution:\n",
    "    def countGoodNumbers(self, n: int) -> int:\n",
    "        # Calculate the number of even and odd positions\n",
    "        odd_no = n // 2\n",
    "        even_no = (n // 2) + (n % 2)\n",
    "        \n",
    "        # Compute the count of good numbers using modular arithmetic\n",
    "        result = ((5 ** even_no) * (4 ** odd_no)) % (10**9 + 7)\n",
    "        return result"
   ]
  },
  {
   "cell_type": "markdown",
   "id": "0caf4f84",
   "metadata": {},
   "source": [
    "**Quick Summary:**\n",
    "The code defines a class `Solution` with a method `countGoodNumbers` to calculate the count of \"good numbers\" up to a given limit `n`. A good number is defined as a number that is divisible by either 4 or 5. The function computes the count using a recursive power function with modular arithmetic to avoid integer overflow.\n",
    "\n",
    "**Steps:**\n",
    "1. Define a recursive power function (`power`) to calculate `x` raised to the power of `y` with a given modulo `mod`.\n",
    "2. Calculate the number of even positions (`even_no`) and odd positions (`odd_no`) in the range from 1 to `n` (inclusive).\n",
    "3. Set the modulo value (`mod`) as (10^9 + 7).\n",
    "4. Compute the count of good numbers using the recursive power function and modular arithmetic.\n",
    "5. Return the computed count.\n",
    "\n",
    "\n",
    "**Time Complexity:**\n",
    "The time complexity is O(log y) for the recursive power function, and the overall time complexity is O(log n) since each recursive call reduces `y` by half.\n",
    "\n",
    "**Space Complexity:**\n",
    "The space complexity is O(log n) due to the recursive calls in the power function."
   ]
  },
  {
   "cell_type": "code",
   "execution_count": 10,
   "id": "36ea6b4e",
   "metadata": {
    "ExecuteTime": {
     "end_time": "2023-11-30T18:46:19.792868Z",
     "start_time": "2023-11-30T18:46:19.774674Z"
    }
   },
   "outputs": [],
   "source": [
    "from math import *\n",
    "\n",
    "class Solution:\n",
    "    def power(self, x, y, mod):\n",
    "        # Recursive function to calculate x^y % mod\n",
    "        if y == 0:\n",
    "            return 1\n",
    "        ans = self.power(x, y // 2, mod)\n",
    "        # for odd and even same step\n",
    "        if y % 2 == 0:\n",
    "            ans = ans * ans\n",
    "        if y % 2 == 1:\n",
    "            ans = ans * ans\n",
    "            ans = ans * x\n",
    "        ans = ans % mod\n",
    "        return ans\n",
    "    \n",
    "    def countGoodNumbers(self, n: int) -> int:\n",
    "        # Calculate the number of even and odd positions\n",
    "        odd_no = n // 2\n",
    "        even_no = (n // 2) + (n % 2)\n",
    "        \n",
    "        # Set the modulo value\n",
    "        mod = (10**9 + 7)\n",
    "        \n",
    "        # Compute the count of good numbers using recursive power function and modular arithmetic\n",
    "        result = (self.power(5, even_no, mod) * self.power(4, odd_no, mod)) % mod\n",
    "        return result"
   ]
  },
  {
   "cell_type": "code",
   "execution_count": null,
   "id": "ffab9a22",
   "metadata": {},
   "outputs": [],
   "source": []
  }
 ],
 "metadata": {
  "kernelspec": {
   "display_name": "Python 3 (ipykernel)",
   "language": "python",
   "name": "python3"
  },
  "language_info": {
   "codemirror_mode": {
    "name": "ipython",
    "version": 3
   },
   "file_extension": ".py",
   "mimetype": "text/x-python",
   "name": "python",
   "nbconvert_exporter": "python",
   "pygments_lexer": "ipython3",
   "version": "3.10.10"
  },
  "toc": {
   "base_numbering": 1,
   "nav_menu": {},
   "number_sections": true,
   "sideBar": true,
   "skip_h1_title": true,
   "title_cell": "Table of Contents",
   "title_sidebar": "Contents",
   "toc_cell": true,
   "toc_position": {
    "height": "calc(100% - 180px)",
    "left": "10px",
    "top": "150px",
    "width": "279.273px"
   },
   "toc_section_display": true,
   "toc_window_display": false
  }
 },
 "nbformat": 4,
 "nbformat_minor": 5
}
