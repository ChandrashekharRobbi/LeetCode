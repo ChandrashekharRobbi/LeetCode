{
 "cells": [
  {
   "cell_type": "markdown",
   "id": "87d7ee3a",
   "metadata": {
    "toc": true
   },
   "source": [
    "<h1>Table of Contents<span class=\"tocSkip\"></span></h1>\n",
    "<div class=\"toc\"><ul class=\"toc-item\"><li><span><a href=\"#Combination-Sum---I\" data-toc-modified-id=\"Combination-Sum---I-1\"><span class=\"toc-item-num\">1&nbsp;&nbsp;</span>Combination Sum - I</a></span></li><li><span><a href=\"#Combination-Sum---II\" data-toc-modified-id=\"Combination-Sum---II-2\"><span class=\"toc-item-num\">2&nbsp;&nbsp;</span>Combination Sum - II</a></span></li></ul></div>"
   ]
  },
  {
   "cell_type": "markdown",
   "id": "bd501e10",
   "metadata": {},
   "source": [
    "# Recursion"
   ]
  },
  {
   "cell_type": "markdown",
   "id": "3384364f",
   "metadata": {},
   "source": [
    "## Combination Sum - I\n",
    "\n",
    "\n",
    "        Quick Summary:\n",
    "        - Use backtracking to explore different combinations.\n",
    "        - Recursive function 'findCombination' considers both the pick and not pick situations.\n",
    "        - If the target becomes 0, add the current combination to the result."
   ]
  },
  {
   "cell_type": "code",
   "execution_count": 7,
   "id": "88fc86d7",
   "metadata": {
    "ExecuteTime": {
     "end_time": "2023-11-27T18:15:46.236197Z",
     "start_time": "2023-11-27T18:15:46.136724Z"
    }
   },
   "outputs": [
    {
     "ename": "NameError",
     "evalue": "name 'List' is not defined",
     "output_type": "error",
     "traceback": [
      "\u001b[1;31m---------------------------------------------------------------------------\u001b[0m",
      "\u001b[1;31mNameError\u001b[0m                                 Traceback (most recent call last)",
      "Cell \u001b[1;32mIn[7], line 1\u001b[0m\n\u001b[1;32m----> 1\u001b[0m \u001b[38;5;28;01mclass\u001b[39;00m \u001b[38;5;21;01mSolution\u001b[39;00m:\n\u001b[0;32m      2\u001b[0m     \u001b[38;5;28;01mdef\u001b[39;00m \u001b[38;5;21mcombinationSum\u001b[39m(\u001b[38;5;28mself\u001b[39m, candidates: List[\u001b[38;5;28mint\u001b[39m], target: \u001b[38;5;28mint\u001b[39m) \u001b[38;5;241m-\u001b[39m\u001b[38;5;241m>\u001b[39m List[List[\u001b[38;5;28mint\u001b[39m]]:\n\u001b[0;32m      3\u001b[0m \u001b[38;5;250m        \u001b[39m\u001b[38;5;124;03m\"\"\"\u001b[39;00m\n\u001b[0;32m      4\u001b[0m \u001b[38;5;124;03m        Finds all unique combinations of numbers in the given 'candidates' list that add up to the 'target'.\u001b[39;00m\n\u001b[0;32m      5\u001b[0m \n\u001b[1;32m   (...)\u001b[0m\n\u001b[0;32m     16\u001b[0m \u001b[38;5;124;03m        - List of lists representing unique combinations that add up to the target.\u001b[39;00m\n\u001b[0;32m     17\u001b[0m \u001b[38;5;124;03m        \"\"\"\u001b[39;00m\n",
      "Cell \u001b[1;32mIn[7], line 2\u001b[0m, in \u001b[0;36mSolution\u001b[1;34m()\u001b[0m\n\u001b[0;32m      1\u001b[0m \u001b[38;5;28;01mclass\u001b[39;00m \u001b[38;5;21;01mSolution\u001b[39;00m:\n\u001b[1;32m----> 2\u001b[0m     \u001b[38;5;28;01mdef\u001b[39;00m \u001b[38;5;21mcombinationSum\u001b[39m(\u001b[38;5;28mself\u001b[39m, candidates: \u001b[43mList\u001b[49m[\u001b[38;5;28mint\u001b[39m], target: \u001b[38;5;28mint\u001b[39m) \u001b[38;5;241m-\u001b[39m\u001b[38;5;241m>\u001b[39m List[List[\u001b[38;5;28mint\u001b[39m]]:\n\u001b[0;32m      3\u001b[0m \u001b[38;5;250m        \u001b[39m\u001b[38;5;124;03m\"\"\"\u001b[39;00m\n\u001b[0;32m      4\u001b[0m \u001b[38;5;124;03m        Finds all unique combinations of numbers in the given 'candidates' list that add up to the 'target'.\u001b[39;00m\n\u001b[0;32m      5\u001b[0m \n\u001b[1;32m   (...)\u001b[0m\n\u001b[0;32m     16\u001b[0m \u001b[38;5;124;03m        - List of lists representing unique combinations that add up to the target.\u001b[39;00m\n\u001b[0;32m     17\u001b[0m \u001b[38;5;124;03m        \"\"\"\u001b[39;00m\n\u001b[0;32m     19\u001b[0m         \u001b[38;5;66;03m# Helper function for backtracking\u001b[39;00m\n",
      "\u001b[1;31mNameError\u001b[0m: name 'List' is not defined"
     ]
    }
   ],
   "source": [
    "class Solution:\n",
    "    def combinationSum(self, candidates: List[int], target: int) -> List[List[int]]:\n",
    "        \"\"\"\n",
    "        Finds all unique combinations of numbers in the given 'candidates' list that add up to the 'target'.\n",
    "\n",
    "        Quick Summary:\n",
    "        - Use backtracking to explore different combinations.\n",
    "        - Recursive function 'findCombination' considers both the pick and not pick situations.\n",
    "        - If the target becomes 0, add the current combination to the result.\n",
    "\n",
    "        Parameters:\n",
    "        - candidates: List of integers to choose from.\n",
    "        - target: Target sum value.\n",
    "\n",
    "        Returns:\n",
    "        - List of lists representing unique combinations that add up to the target.\n",
    "        \"\"\"\n",
    "\n",
    "        # Helper function for backtracking\n",
    "        def findCombination(ind, arr, target, ans, ds):\n",
    "            # Base case: If the index reaches the end of the array\n",
    "            if ind == len(arr):\n",
    "                # Check if the target is reduced to 0, and add the combination to the result\n",
    "                if target == 0:\n",
    "                    # ds[:] because we have to create copy of ds and append to ans or else it will create\n",
    "                    # reference to ds location which can be changed and it will effect ans array\n",
    "                    # we can also use copy module copy(ds)\n",
    "                    ans.append(ds[:])\n",
    "                return\n",
    "\n",
    "            # Pick situation: If the current element can be picked\n",
    "            if arr[ind] <= target:\n",
    "                ds.append(arr[ind])\n",
    "                findCombination(ind, arr, target - arr[ind], ans, ds)\n",
    "                ds.pop()\n",
    "\n",
    "            # Not pick situation: Move to the next element\n",
    "            findCombination(ind + 1, arr, target, ans, ds)\n",
    "\n",
    "        # Initialize an empty list to store the result\n",
    "        ans = []\n",
    "\n",
    "        # Start the backtracking process\n",
    "        findCombination(0, candidates, target, ans, [])\n",
    "\n",
    "        # Return the final result\n",
    "        return ans\n",
    "\n",
    "# Time Complexity: O(2^n), where n is the length of the 'candidates' list in the worst case.\n",
    "# Space Complexity: O(target), as the depth of recursion is determined by the target value."
   ]
  },
  {
   "cell_type": "markdown",
   "id": "053c81fc",
   "metadata": {},
   "source": [
    "## Combination Sum - II\n",
    "\n",
    "        Quick Summary:\n",
    "        - Use backtracking to explore different combinations.\n",
    "        - Recursive function 'findCombination' considers both the pick and not pick situations.\n",
    "        - Utilize a set to avoid duplicate combinations."
   ]
  },
  {
   "cell_type": "code",
   "execution_count": 19,
   "id": "4003b5f1",
   "metadata": {
    "ExecuteTime": {
     "end_time": "2023-11-27T19:38:07.241782Z",
     "start_time": "2023-11-27T19:38:07.130088Z"
    }
   },
   "outputs": [
    {
     "ename": "NameError",
     "evalue": "name 'List' is not defined",
     "output_type": "error",
     "traceback": [
      "\u001b[1;31m---------------------------------------------------------------------------\u001b[0m",
      "\u001b[1;31mNameError\u001b[0m                                 Traceback (most recent call last)",
      "Cell \u001b[1;32mIn[19], line 2\u001b[0m\n\u001b[0;32m      1\u001b[0m \u001b[38;5;66;03m# TIME LIMIT EXCEEDED\u001b[39;00m\n\u001b[1;32m----> 2\u001b[0m \u001b[38;5;28;01mclass\u001b[39;00m \u001b[38;5;21;01mSolution\u001b[39;00m:\n\u001b[0;32m      3\u001b[0m     \u001b[38;5;28;01mdef\u001b[39;00m \u001b[38;5;21mcombinationSum2\u001b[39m(\u001b[38;5;28mself\u001b[39m, candidates: List[\u001b[38;5;28mint\u001b[39m], target: \u001b[38;5;28mint\u001b[39m) \u001b[38;5;241m-\u001b[39m\u001b[38;5;241m>\u001b[39m List[List[\u001b[38;5;28mint\u001b[39m]]:\n\u001b[0;32m      4\u001b[0m \u001b[38;5;250m        \u001b[39m\u001b[38;5;124;03m\"\"\"\u001b[39;00m\n\u001b[0;32m      5\u001b[0m \u001b[38;5;124;03m        Finds all unique combinations of numbers in the given 'candidates' list that add up to the 'target'.\u001b[39;00m\n\u001b[0;32m      6\u001b[0m \u001b[38;5;124;03m        Each combination is sorted to avoid duplicates.\u001b[39;00m\n\u001b[1;32m   (...)\u001b[0m\n\u001b[0;32m     18\u001b[0m \u001b[38;5;124;03m        - List of lists representing unique combinations that add up to the target.\u001b[39;00m\n\u001b[0;32m     19\u001b[0m \u001b[38;5;124;03m        \"\"\"\u001b[39;00m\n",
      "Cell \u001b[1;32mIn[19], line 3\u001b[0m, in \u001b[0;36mSolution\u001b[1;34m()\u001b[0m\n\u001b[0;32m      2\u001b[0m \u001b[38;5;28;01mclass\u001b[39;00m \u001b[38;5;21;01mSolution\u001b[39;00m:\n\u001b[1;32m----> 3\u001b[0m     \u001b[38;5;28;01mdef\u001b[39;00m \u001b[38;5;21mcombinationSum2\u001b[39m(\u001b[38;5;28mself\u001b[39m, candidates: \u001b[43mList\u001b[49m[\u001b[38;5;28mint\u001b[39m], target: \u001b[38;5;28mint\u001b[39m) \u001b[38;5;241m-\u001b[39m\u001b[38;5;241m>\u001b[39m List[List[\u001b[38;5;28mint\u001b[39m]]:\n\u001b[0;32m      4\u001b[0m \u001b[38;5;250m        \u001b[39m\u001b[38;5;124;03m\"\"\"\u001b[39;00m\n\u001b[0;32m      5\u001b[0m \u001b[38;5;124;03m        Finds all unique combinations of numbers in the given 'candidates' list that add up to the 'target'.\u001b[39;00m\n\u001b[0;32m      6\u001b[0m \u001b[38;5;124;03m        Each combination is sorted to avoid duplicates.\u001b[39;00m\n\u001b[1;32m   (...)\u001b[0m\n\u001b[0;32m     18\u001b[0m \u001b[38;5;124;03m        - List of lists representing unique combinations that add up to the target.\u001b[39;00m\n\u001b[0;32m     19\u001b[0m \u001b[38;5;124;03m        \"\"\"\u001b[39;00m\n\u001b[0;32m     21\u001b[0m         \u001b[38;5;66;03m# Helper function for backtracking\u001b[39;00m\n",
      "\u001b[1;31mNameError\u001b[0m: name 'List' is not defined"
     ]
    }
   ],
   "source": [
    "# TIME LIMIT EXCEEDED\n",
    "class Solution:\n",
    "    def combinationSum2(self, candidates: List[int], target: int) -> List[List[int]]:\n",
    "        \"\"\"\n",
    "        Finds all unique combinations of numbers in the given 'candidates' list that add up to the 'target'.\n",
    "        Each combination is sorted to avoid duplicates.\n",
    "\n",
    "        Quick Summary:\n",
    "        - Use backtracking to explore different combinations.\n",
    "        - Recursive function 'findCombination' considers both the pick and not pick situations.\n",
    "        - If the target becomes 0, add the sorted combination to the result set to avoid duplicates.\n",
    "\n",
    "        Parameters:\n",
    "        - candidates: List of integers to choose from.\n",
    "        - target: Target sum value.\n",
    "\n",
    "        Returns:\n",
    "        - List of lists representing unique combinations that add up to the target.\n",
    "        \"\"\"\n",
    "\n",
    "        # Helper function for backtracking\n",
    "        def findCombination(ind, arr, target, ans, ds, seen):\n",
    "            # Base case: If the index reaches the end of the array\n",
    "            if ind == len(arr):\n",
    "                # Check if the target is reduced to 0, and add the sorted combination to the result set\n",
    "                if target == 0:\n",
    "                    k = sorted(ds)\n",
    "                    ans.add(tuple(k))\n",
    "                return\n",
    "\n",
    "            # Pick situation: If the current element can be picked\n",
    "            if arr[ind] <= target:\n",
    "                ds.append(arr[ind])\n",
    "                findCombination(ind + 1, arr, target - arr[ind], ans, ds, seen)\n",
    "                ds.pop()\n",
    "\n",
    "            # Not pick situation: Move to the next element\n",
    "            findCombination(ind + 1, arr, target, ans, ds, seen)\n",
    "\n",
    "        # Initialize an empty set to store unique combinations\n",
    "        ans = set()\n",
    "\n",
    "        # Start the backtracking process\n",
    "        findCombination(0, candidates, target, ans, [], set())\n",
    "\n",
    "        # Convert the set to a list and return the final result\n",
    "        return list(ans)\n",
    "\n",
    "# Time Complexity: O(2^n), where n is the length of the 'candidates' list in the worst case.\n",
    "# Space Complexity: O(target), as the depth of recursion is determined by the target value."
   ]
  },
  {
   "cell_type": "code",
   "execution_count": 21,
   "id": "9494d6e6",
   "metadata": {
    "ExecuteTime": {
     "end_time": "2023-11-27T19:38:36.832748Z",
     "start_time": "2023-11-27T19:38:36.774177Z"
    }
   },
   "outputs": [
    {
     "ename": "NameError",
     "evalue": "name 'List' is not defined",
     "output_type": "error",
     "traceback": [
      "\u001b[1;31m---------------------------------------------------------------------------\u001b[0m",
      "\u001b[1;31mNameError\u001b[0m                                 Traceback (most recent call last)",
      "Cell \u001b[1;32mIn[21], line 2\u001b[0m\n\u001b[0;32m      1\u001b[0m \u001b[38;5;66;03m# Best Method\u001b[39;00m\n\u001b[1;32m----> 2\u001b[0m \u001b[38;5;28;01mclass\u001b[39;00m \u001b[38;5;21;01mSolution\u001b[39;00m:\n\u001b[0;32m      3\u001b[0m     \u001b[38;5;28;01mdef\u001b[39;00m \u001b[38;5;21mcombinationSum2\u001b[39m(\u001b[38;5;28mself\u001b[39m, candidates: List[\u001b[38;5;28mint\u001b[39m], target: \u001b[38;5;28mint\u001b[39m) \u001b[38;5;241m-\u001b[39m\u001b[38;5;241m>\u001b[39m List[List[\u001b[38;5;28mint\u001b[39m]]:\n\u001b[0;32m      4\u001b[0m \u001b[38;5;250m        \u001b[39m\u001b[38;5;124;03m\"\"\"\u001b[39;00m\n\u001b[0;32m      5\u001b[0m \u001b[38;5;124;03m        Finds all unique combinations of numbers in the given 'candidates' list that add up to the 'target'.\u001b[39;00m\n\u001b[0;32m      6\u001b[0m \u001b[38;5;124;03m        The list is sorted to efficiently skip duplicates during backtracking.\u001b[39;00m\n\u001b[1;32m   (...)\u001b[0m\n\u001b[0;32m     19\u001b[0m \u001b[38;5;124;03m        - List of lists representing unique combinations that add up to the target.\u001b[39;00m\n\u001b[0;32m     20\u001b[0m \u001b[38;5;124;03m        \"\"\"\u001b[39;00m\n",
      "Cell \u001b[1;32mIn[21], line 3\u001b[0m, in \u001b[0;36mSolution\u001b[1;34m()\u001b[0m\n\u001b[0;32m      2\u001b[0m \u001b[38;5;28;01mclass\u001b[39;00m \u001b[38;5;21;01mSolution\u001b[39;00m:\n\u001b[1;32m----> 3\u001b[0m     \u001b[38;5;28;01mdef\u001b[39;00m \u001b[38;5;21mcombinationSum2\u001b[39m(\u001b[38;5;28mself\u001b[39m, candidates: \u001b[43mList\u001b[49m[\u001b[38;5;28mint\u001b[39m], target: \u001b[38;5;28mint\u001b[39m) \u001b[38;5;241m-\u001b[39m\u001b[38;5;241m>\u001b[39m List[List[\u001b[38;5;28mint\u001b[39m]]:\n\u001b[0;32m      4\u001b[0m \u001b[38;5;250m        \u001b[39m\u001b[38;5;124;03m\"\"\"\u001b[39;00m\n\u001b[0;32m      5\u001b[0m \u001b[38;5;124;03m        Finds all unique combinations of numbers in the given 'candidates' list that add up to the 'target'.\u001b[39;00m\n\u001b[0;32m      6\u001b[0m \u001b[38;5;124;03m        The list is sorted to efficiently skip duplicates during backtracking.\u001b[39;00m\n\u001b[1;32m   (...)\u001b[0m\n\u001b[0;32m     19\u001b[0m \u001b[38;5;124;03m        - List of lists representing unique combinations that add up to the target.\u001b[39;00m\n\u001b[0;32m     20\u001b[0m \u001b[38;5;124;03m        \"\"\"\u001b[39;00m\n\u001b[0;32m     22\u001b[0m         \u001b[38;5;66;03m# Sort the candidates list for efficient backtracking\u001b[39;00m\n",
      "\u001b[1;31mNameError\u001b[0m: name 'List' is not defined"
     ]
    }
   ],
   "source": [
    "# Best Method\n",
    "class Solution:\n",
    "    def combinationSum2(self, candidates: List[int], target: int) -> List[List[int]]:\n",
    "        \"\"\"\n",
    "        Finds all unique combinations of numbers in the given 'candidates' list that add up to the 'target'.\n",
    "        The list is sorted to efficiently skip duplicates during backtracking.\n",
    "\n",
    "        Quick Summary:\n",
    "        - Sort the candidates list to efficiently skip duplicates during backtracking.\n",
    "        - Use a recursive function 'findCombination' to explore different combinations.\n",
    "        - Keep track of the previously chosen element to avoid duplicates.\n",
    "        - Add valid combinations to the result list.\n",
    "\n",
    "        Parameters:\n",
    "        - candidates: List of integers to choose from (sorted for efficient backtracking).\n",
    "        - target: Target sum value.\n",
    "\n",
    "        Returns:\n",
    "        - List of lists representing unique combinations that add up to the target.\n",
    "        \"\"\"\n",
    "\n",
    "        # Sort the candidates list for efficient backtracking\n",
    "        candidates.sort()\n",
    "\n",
    "        # Helper function for backtracking\n",
    "        def findCombination(cur, pos, target):\n",
    "            # Base case: If the target becomes 0, add the current combination to the result\n",
    "            if target == 0:\n",
    "                res.append(cur.copy())\n",
    "\n",
    "            # Exit condition: If target is less than or equal to 0, stop exploring\n",
    "            if target <= 0:\n",
    "                return\n",
    "\n",
    "            prev = -1  # Initialize the previous element to handle duplicates\n",
    "            for i in range(pos, len(candidates)):\n",
    "                # Skip duplicates to avoid repeated combinations\n",
    "                if candidates[i] == prev:\n",
    "                    continue\n",
    "\n",
    "                # Choose the current element and recursively explore\n",
    "                cur.append(candidates[i])\n",
    "                findCombination(cur, i + 1, target - candidates[i])\n",
    "                cur.pop()  # Backtrack by removing the last element\n",
    "                prev = candidates[i]\n",
    "\n",
    "        # Initialize an empty list to store the result\n",
    "        res = []\n",
    "\n",
    "        # Start the backtracking process\n",
    "        findCombination([], 0, target)\n",
    "\n",
    "        # Return the final result\n",
    "        return res\n",
    "\n",
    "# Time Complexity: O(2^n), where n is the length of the 'candidates' list in the worst case.\n",
    "# Space Complexity: O(target), as the depth of recursion is determined by the target value."
   ]
  },
  {
   "cell_type": "code",
   "execution_count": null,
   "id": "07c1e466",
   "metadata": {},
   "outputs": [],
   "source": []
  }
 ],
 "metadata": {
  "kernelspec": {
   "display_name": "Python 3 (ipykernel)",
   "language": "python",
   "name": "python3"
  },
  "language_info": {
   "codemirror_mode": {
    "name": "ipython",
    "version": 3
   },
   "file_extension": ".py",
   "mimetype": "text/x-python",
   "name": "python",
   "nbconvert_exporter": "python",
   "pygments_lexer": "ipython3",
   "version": "3.10.10"
  },
  "toc": {
   "base_numbering": 1,
   "nav_menu": {},
   "number_sections": true,
   "sideBar": true,
   "skip_h1_title": true,
   "title_cell": "Table of Contents",
   "title_sidebar": "Contents",
   "toc_cell": true,
   "toc_position": {
    "height": "calc(100% - 180px)",
    "left": "10px",
    "top": "150px",
    "width": "279.273px"
   },
   "toc_section_display": true,
   "toc_window_display": false
  }
 },
 "nbformat": 4,
 "nbformat_minor": 5
}
