{
 "cells": [
  {
   "cell_type": "markdown",
   "id": "87d7ee3a",
   "metadata": {
    "toc": true
   },
   "source": [
    "<h1>Table of Contents<span class=\"tocSkip\"></span></h1>\n",
    "<div class=\"toc\"><ul class=\"toc-item\"></ul></div>"
   ]
  },
  {
   "cell_type": "markdown",
   "id": "bd501e10",
   "metadata": {},
   "source": [
    "# Recursion"
   ]
  },
  {
   "cell_type": "code",
   "execution_count": 6,
   "id": "43938af7",
   "metadata": {
    "ExecuteTime": {
     "end_time": "2023-11-27T18:14:08.852618Z",
     "start_time": "2023-11-27T18:14:08.806148Z"
    }
   },
   "outputs": [
    {
     "ename": "NameError",
     "evalue": "name 'List' is not defined",
     "output_type": "error",
     "traceback": [
      "\u001b[1;31m---------------------------------------------------------------------------\u001b[0m",
      "\u001b[1;31mNameError\u001b[0m                                 Traceback (most recent call last)",
      "Cell \u001b[1;32mIn[6], line 1\u001b[0m\n\u001b[1;32m----> 1\u001b[0m \u001b[38;5;28;01mclass\u001b[39;00m \u001b[38;5;21;01mSolution\u001b[39;00m:\n\u001b[0;32m      2\u001b[0m     \u001b[38;5;28;01mdef\u001b[39;00m \u001b[38;5;21mcombinationSum\u001b[39m(\u001b[38;5;28mself\u001b[39m, candidates: List[\u001b[38;5;28mint\u001b[39m], target: \u001b[38;5;28mint\u001b[39m) \u001b[38;5;241m-\u001b[39m\u001b[38;5;241m>\u001b[39m List[List[\u001b[38;5;28mint\u001b[39m]]:\n\u001b[0;32m      3\u001b[0m \u001b[38;5;250m        \u001b[39m\u001b[38;5;124;03m\"\"\"\u001b[39;00m\n\u001b[0;32m      4\u001b[0m \u001b[38;5;124;03m        Finds all unique combinations of numbers in the given 'candidates' list that add up to the 'target'.\u001b[39;00m\n\u001b[0;32m      5\u001b[0m \n\u001b[1;32m   (...)\u001b[0m\n\u001b[0;32m     16\u001b[0m \u001b[38;5;124;03m        - List of lists representing unique combinations that add up to the target.\u001b[39;00m\n\u001b[0;32m     17\u001b[0m \u001b[38;5;124;03m        \"\"\"\u001b[39;00m\n",
      "Cell \u001b[1;32mIn[6], line 2\u001b[0m, in \u001b[0;36mSolution\u001b[1;34m()\u001b[0m\n\u001b[0;32m      1\u001b[0m \u001b[38;5;28;01mclass\u001b[39;00m \u001b[38;5;21;01mSolution\u001b[39;00m:\n\u001b[1;32m----> 2\u001b[0m     \u001b[38;5;28;01mdef\u001b[39;00m \u001b[38;5;21mcombinationSum\u001b[39m(\u001b[38;5;28mself\u001b[39m, candidates: \u001b[43mList\u001b[49m[\u001b[38;5;28mint\u001b[39m], target: \u001b[38;5;28mint\u001b[39m) \u001b[38;5;241m-\u001b[39m\u001b[38;5;241m>\u001b[39m List[List[\u001b[38;5;28mint\u001b[39m]]:\n\u001b[0;32m      3\u001b[0m \u001b[38;5;250m        \u001b[39m\u001b[38;5;124;03m\"\"\"\u001b[39;00m\n\u001b[0;32m      4\u001b[0m \u001b[38;5;124;03m        Finds all unique combinations of numbers in the given 'candidates' list that add up to the 'target'.\u001b[39;00m\n\u001b[0;32m      5\u001b[0m \n\u001b[1;32m   (...)\u001b[0m\n\u001b[0;32m     16\u001b[0m \u001b[38;5;124;03m        - List of lists representing unique combinations that add up to the target.\u001b[39;00m\n\u001b[0;32m     17\u001b[0m \u001b[38;5;124;03m        \"\"\"\u001b[39;00m\n\u001b[0;32m     19\u001b[0m         \u001b[38;5;66;03m# Helper function for backtracking\u001b[39;00m\n",
      "\u001b[1;31mNameError\u001b[0m: name 'List' is not defined"
     ]
    }
   ],
   "source": [
    "class Solution:\n",
    "    def combinationSum(self, candidates: List[int], target: int) -> List[List[int]]:\n",
    "        \"\"\"\n",
    "        Finds all unique combinations of numbers in the given 'candidates' list that add up to the 'target'.\n",
    "\n",
    "        Quick Summary:\n",
    "        - Use backtracking to explore different combinations.\n",
    "        - Recursive function 'findCombination' considers both the pick and not pick situations.\n",
    "        - If the target becomes 0, add the current combination to the result.\n",
    "\n",
    "        Parameters:\n",
    "        - candidates: List of integers to choose from.\n",
    "        - target: Target sum value.\n",
    "\n",
    "        Returns:\n",
    "        - List of lists representing unique combinations that add up to the target.\n",
    "        \"\"\"\n",
    "\n",
    "        # Helper function for backtracking\n",
    "        def findCombination(ind, arr, target, ans, ds):\n",
    "            # Base case: If the index reaches the end of the array\n",
    "            if ind == len(arr):\n",
    "                # Check if the target is reduced to 0, and add the combination to the result\n",
    "                if target == 0:\n",
    "                    ans.append(ds[:])\n",
    "                return\n",
    "\n",
    "            # Pick situation: If the current element can be picked\n",
    "            if arr[ind] <= target:\n",
    "                ds.append(arr[ind])\n",
    "                findCombination(ind, arr, target - arr[ind], ans, ds)\n",
    "                ds.pop()\n",
    "\n",
    "            # Not pick situation: Move to the next element\n",
    "            findCombination(ind + 1, arr, target, ans, ds)\n",
    "\n",
    "        # Initialize an empty list to store the result\n",
    "        ans = []\n",
    "\n",
    "        # Start the backtracking process\n",
    "        findCombination(0, candidates, target, ans, [])\n",
    "\n",
    "        # Return the final result\n",
    "        return ans\n",
    "\n",
    "# Time Complexity: O(2^n), where n is the length of the 'candidates' list in the worst case.\n",
    "# Space Complexity: O(target), as the depth of recursion is determined by the target value."
   ]
  },
  {
   "cell_type": "code",
   "execution_count": null,
   "id": "6ab6abb7",
   "metadata": {},
   "outputs": [],
   "source": []
  }
 ],
 "metadata": {
  "kernelspec": {
   "display_name": "Python 3 (ipykernel)",
   "language": "python",
   "name": "python3"
  },
  "language_info": {
   "codemirror_mode": {
    "name": "ipython",
    "version": 3
   },
   "file_extension": ".py",
   "mimetype": "text/x-python",
   "name": "python",
   "nbconvert_exporter": "python",
   "pygments_lexer": "ipython3",
   "version": "3.10.10"
  },
  "toc": {
   "base_numbering": 1,
   "nav_menu": {},
   "number_sections": true,
   "sideBar": true,
   "skip_h1_title": true,
   "title_cell": "Table of Contents",
   "title_sidebar": "Contents",
   "toc_cell": true,
   "toc_position": {
    "height": "calc(100% - 180px)",
    "left": "10px",
    "top": "150px",
    "width": "279.273px"
   },
   "toc_section_display": true,
   "toc_window_display": false
  }
 },
 "nbformat": 4,
 "nbformat_minor": 5
}
