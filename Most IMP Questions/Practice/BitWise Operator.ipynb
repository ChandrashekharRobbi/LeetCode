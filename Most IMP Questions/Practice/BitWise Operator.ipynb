{
 "cells": [
  {
   "cell_type": "markdown",
   "id": "74f86968",
   "metadata": {
    "toc": true
   },
   "source": [
    "<h1>Table of Contents<span class=\"tocSkip\"></span></h1>\n",
    "<div class=\"toc\"><ul class=\"toc-item\"><li><span><a href=\"#BitWise-Operator\" data-toc-modified-id=\"BitWise-Operator-1\"><span class=\"toc-item-num\">1&nbsp;&nbsp;</span>BitWise Operator</a></span></li></ul></div>"
   ]
  },
  {
   "cell_type": "markdown",
   "id": "511ab3d6",
   "metadata": {},
   "source": [
    "# BitWise Operator"
   ]
  },
  {
   "cell_type": "markdown",
   "id": "94d8228a",
   "metadata": {},
   "source": [
    "| Bitwise Operator | Logical Operator |  |  |  |\n",
    "|:---:|---|---|---|---|\n",
    "| <br>C and Python <br>language | C Language | Python Language |  |  |\n",
    "| & (AND) | && | and |  |  |\n",
    "| \\| (OR) | \\|\\| | or |  |  |\n",
    "| ^ (XOR) | ! | not |  |  |\n",
    "| ~  (NOT) |  |  |  |  |\n",
    "| << (LEFT SHIFT) |  |  |  |  |\n",
    "| >> (RIHT SHIFT) |  |  |  |  |"
   ]
  },
  {
   "cell_type": "code",
   "execution_count": 17,
   "id": "a5e65637",
   "metadata": {
    "ExecuteTime": {
     "end_time": "2023-11-10T07:30:05.923853Z",
     "start_time": "2023-11-10T07:30:05.915587Z"
    }
   },
   "outputs": [
    {
     "data": {
      "text/plain": [
       "3"
      ]
     },
     "execution_count": 17,
     "metadata": {},
     "output_type": "execute_result"
    }
   ],
   "source": [
    "2 and 3"
   ]
  },
  {
   "cell_type": "code",
   "execution_count": 18,
   "id": "48e74b5f",
   "metadata": {
    "ExecuteTime": {
     "end_time": "2023-11-10T07:30:10.694428Z",
     "start_time": "2023-11-10T07:30:10.682666Z"
    }
   },
   "outputs": [
    {
     "data": {
      "text/plain": [
       "2"
      ]
     },
     "execution_count": 18,
     "metadata": {},
     "output_type": "execute_result"
    }
   ],
   "source": [
    "2 & 3"
   ]
  },
  {
   "cell_type": "code",
   "execution_count": 19,
   "id": "e31b9d75",
   "metadata": {
    "ExecuteTime": {
     "end_time": "2023-11-10T07:30:17.847294Z",
     "start_time": "2023-11-10T07:30:17.822680Z"
    }
   },
   "outputs": [
    {
     "data": {
      "text/plain": [
       "4"
      ]
     },
     "execution_count": 19,
     "metadata": {},
     "output_type": "execute_result"
    }
   ],
   "source": [
    "4 & 6"
   ]
  },
  {
   "cell_type": "code",
   "execution_count": 20,
   "id": "5ebffda2",
   "metadata": {
    "ExecuteTime": {
     "end_time": "2023-11-10T07:30:28.315498Z",
     "start_time": "2023-11-10T07:30:28.294819Z"
    }
   },
   "outputs": [
    {
     "data": {
      "text/plain": [
       "0"
      ]
     },
     "execution_count": 20,
     "metadata": {},
     "output_type": "execute_result"
    }
   ],
   "source": [
    "4 & 8"
   ]
  },
  {
   "cell_type": "code",
   "execution_count": 21,
   "id": "64b507fc",
   "metadata": {
    "ExecuteTime": {
     "end_time": "2023-11-10T07:30:34.838313Z",
     "start_time": "2023-11-10T07:30:34.827054Z"
    }
   },
   "outputs": [
    {
     "data": {
      "text/plain": [
       "4"
      ]
     },
     "execution_count": 21,
     "metadata": {},
     "output_type": "execute_result"
    }
   ],
   "source": [
    "4 & 7"
   ]
  },
  {
   "cell_type": "code",
   "execution_count": 22,
   "id": "5919a7ab",
   "metadata": {
    "ExecuteTime": {
     "end_time": "2023-11-10T07:30:39.422661Z",
     "start_time": "2023-11-10T07:30:39.400723Z"
    }
   },
   "outputs": [
    {
     "data": {
      "text/plain": [
       "0"
      ]
     },
     "execution_count": 22,
     "metadata": {},
     "output_type": "execute_result"
    }
   ],
   "source": [
    "4 & 10"
   ]
  },
  {
   "cell_type": "code",
   "execution_count": 23,
   "id": "972370ac",
   "metadata": {
    "ExecuteTime": {
     "end_time": "2023-11-10T07:30:49.382826Z",
     "start_time": "2023-11-10T07:30:49.369156Z"
    }
   },
   "outputs": [
    {
     "data": {
      "text/plain": [
       "4"
      ]
     },
     "execution_count": 23,
     "metadata": {},
     "output_type": "execute_result"
    }
   ],
   "source": [
    "4 & 6"
   ]
  },
  {
   "cell_type": "code",
   "execution_count": 25,
   "id": "775f6344",
   "metadata": {
    "ExecuteTime": {
     "end_time": "2023-11-10T07:42:44.747060Z",
     "start_time": "2023-11-10T07:42:44.739931Z"
    }
   },
   "outputs": [
    {
     "name": "stdout",
     "output_type": "stream",
     "text": [
      "AND OPERATION OF 2 with 0 = |0\n",
      "OR  OPERATION OF 2 with 0 = |2\n",
      "XOR OPERATION OF 2 with 0 = |2\n",
      "AND OPERATION OF 2 with 1 = |0\n",
      "OR  OPERATION OF 2 with 1 = |3\n",
      "XOR OPERATION OF 2 with 1 = |3\n",
      "AND OPERATION OF 2 with 2 = |2\n",
      "OR  OPERATION OF 2 with 2 = |2\n",
      "XOR OPERATION OF 2 with 2 = |0\n",
      "AND OPERATION OF 2 with 3 = |2\n",
      "OR  OPERATION OF 2 with 3 = |3\n",
      "XOR OPERATION OF 2 with 3 = |1\n",
      "AND OPERATION OF 2 with 4 = |0\n",
      "OR  OPERATION OF 2 with 4 = |6\n",
      "XOR OPERATION OF 2 with 4 = |6\n",
      "AND OPERATION OF 2 with 5 = |0\n",
      "OR  OPERATION OF 2 with 5 = |7\n",
      "XOR OPERATION OF 2 with 5 = |7\n",
      "AND OPERATION OF 2 with 6 = |2\n",
      "OR  OPERATION OF 2 with 6 = |6\n",
      "XOR OPERATION OF 2 with 6 = |4\n",
      "AND OPERATION OF 2 with 7 = |2\n",
      "OR  OPERATION OF 2 with 7 = |7\n",
      "XOR OPERATION OF 2 with 7 = |5\n",
      "AND OPERATION OF 2 with 8 = |0\n",
      "OR  OPERATION OF 2 with 8 = |10\n",
      "XOR OPERATION OF 2 with 8 = |10\n",
      "AND OPERATION OF 2 with 9 = |0\n",
      "OR  OPERATION OF 2 with 9 = |11\n",
      "XOR OPERATION OF 2 with 9 = |11\n",
      "AND OPERATION OF 2 with 10 = |2\n",
      "OR  OPERATION OF 2 with 10 = |10\n",
      "XOR OPERATION OF 2 with 10 = |8\n",
      "AND OPERATION OF 2 with 11 = |2\n",
      "OR  OPERATION OF 2 with 11 = |11\n",
      "XOR OPERATION OF 2 with 11 = |9\n",
      "AND OPERATION OF 2 with 12 = |0\n",
      "OR  OPERATION OF 2 with 12 = |14\n",
      "XOR OPERATION OF 2 with 12 = |14\n",
      "AND OPERATION OF 2 with 13 = |0\n",
      "OR  OPERATION OF 2 with 13 = |15\n",
      "XOR OPERATION OF 2 with 13 = |15\n",
      "AND OPERATION OF 2 with 14 = |2\n",
      "OR  OPERATION OF 2 with 14 = |14\n",
      "XOR OPERATION OF 2 with 14 = |12\n",
      "AND OPERATION OF 2 with 15 = |2\n",
      "OR  OPERATION OF 2 with 15 = |15\n",
      "XOR OPERATION OF 2 with 15 = |13\n",
      "AND OPERATION OF 2 with 16 = |0\n",
      "OR  OPERATION OF 2 with 16 = |18\n",
      "XOR OPERATION OF 2 with 16 = |18\n",
      "AND OPERATION OF 2 with 17 = |0\n",
      "OR  OPERATION OF 2 with 17 = |19\n",
      "XOR OPERATION OF 2 with 17 = |19\n",
      "AND OPERATION OF 2 with 18 = |2\n",
      "OR  OPERATION OF 2 with 18 = |18\n",
      "XOR OPERATION OF 2 with 18 = |16\n",
      "AND OPERATION OF 2 with 19 = |2\n",
      "OR  OPERATION OF 2 with 19 = |19\n",
      "XOR OPERATION OF 2 with 19 = |17\n"
     ]
    }
   ],
   "source": [
    "for i in range(20):\n",
    "    print(f\"AND OPERATION OF 2 with {i} = |{2 & i}\")\n",
    "    print(f\"OR  OPERATION OF 2 with {i} = |{2 | i}\")\n",
    "    print(f\"XOR OPERATION OF 2 with {i} = |{2 ^ i}\")"
   ]
  },
  {
   "cell_type": "code",
   "execution_count": null,
   "id": "fd1c9367",
   "metadata": {},
   "outputs": [],
   "source": []
  }
 ],
 "metadata": {
  "kernelspec": {
   "display_name": "Python 3 (ipykernel)",
   "language": "python",
   "name": "python3"
  },
  "language_info": {
   "codemirror_mode": {
    "name": "ipython",
    "version": 3
   },
   "file_extension": ".py",
   "mimetype": "text/x-python",
   "name": "python",
   "nbconvert_exporter": "python",
   "pygments_lexer": "ipython3",
   "version": "3.10.10"
  },
  "toc": {
   "base_numbering": 1,
   "nav_menu": {},
   "number_sections": true,
   "sideBar": true,
   "skip_h1_title": false,
   "title_cell": "Table of Contents",
   "title_sidebar": "Contents",
   "toc_cell": true,
   "toc_position": {},
   "toc_section_display": true,
   "toc_window_display": false
  }
 },
 "nbformat": 4,
 "nbformat_minor": 5
}
