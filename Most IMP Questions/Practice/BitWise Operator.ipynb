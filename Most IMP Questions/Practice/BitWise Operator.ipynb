{
 "cells": [
  {
   "cell_type": "markdown",
   "id": "c4de0ef0",
   "metadata": {
    "toc": true
   },
   "source": [
    "<h1>Table of Contents<span class=\"tocSkip\"></span></h1>\n",
    "<div class=\"toc\"><ul class=\"toc-item\"><li><span><a href=\"#BitWise-Operator\" data-toc-modified-id=\"BitWise-Operator-1\"><span class=\"toc-item-num\">1&nbsp;&nbsp;</span>BitWise Operator</a></span></li></ul></div>"
   ]
  },
  {
   "cell_type": "markdown",
   "id": "99601648",
   "metadata": {},
   "source": [
    "# BitWise Operator"
   ]
  },
  {
   "cell_type": "markdown",
   "id": "7e7d26a9",
   "metadata": {},
   "source": [
    "| Bitwise Operator | Logical Operator |  |  |  |\n",
    "|:---:|---|---|---|---|\n",
    "| <br>C and Python <br>language | C Language | Python Language |  |  |\n",
    "| & (AND) | && | and |  |  |\n",
    "| \\| (OR) | \\|\\| | or |  |  |\n",
    "| ^ (XOR) | ! | not |  |  |\n",
    "| ~  (NOT) |  |  |  |  |\n",
    "| << (LEFT SHIFT) |  |  |  |  |\n",
    "| >> (RIHT SHIFT) |  |  |  |  |"
   ]
  },
  {
   "cell_type": "code",
   "execution_count": 17,
   "id": "96a1cfa6",
   "metadata": {
    "ExecuteTime": {
     "end_time": "2023-11-10T07:30:05.923853Z",
     "start_time": "2023-11-10T07:30:05.915587Z"
    }
   },
   "outputs": [
    {
     "data": {
      "text/plain": [
       "3"
      ]
     },
     "execution_count": 17,
     "metadata": {},
     "output_type": "execute_result"
    }
   ],
   "source": [
    "2 and 3"
   ]
  },
  {
   "cell_type": "code",
   "execution_count": 18,
   "id": "b5566dce",
   "metadata": {
    "ExecuteTime": {
     "end_time": "2023-11-10T07:30:10.694428Z",
     "start_time": "2023-11-10T07:30:10.682666Z"
    }
   },
   "outputs": [
    {
     "data": {
      "text/plain": [
       "2"
      ]
     },
     "execution_count": 18,
     "metadata": {},
     "output_type": "execute_result"
    }
   ],
   "source": [
    "2 & 3"
   ]
  },
  {
   "cell_type": "code",
   "execution_count": 19,
   "id": "673a517a",
   "metadata": {
    "ExecuteTime": {
     "end_time": "2023-11-10T07:30:17.847294Z",
     "start_time": "2023-11-10T07:30:17.822680Z"
    }
   },
   "outputs": [
    {
     "data": {
      "text/plain": [
       "4"
      ]
     },
     "execution_count": 19,
     "metadata": {},
     "output_type": "execute_result"
    }
   ],
   "source": [
    "4 & 6"
   ]
  },
  {
   "cell_type": "code",
   "execution_count": 20,
   "id": "4db725b6",
   "metadata": {
    "ExecuteTime": {
     "end_time": "2023-11-10T07:30:28.315498Z",
     "start_time": "2023-11-10T07:30:28.294819Z"
    }
   },
   "outputs": [
    {
     "data": {
      "text/plain": [
       "0"
      ]
     },
     "execution_count": 20,
     "metadata": {},
     "output_type": "execute_result"
    }
   ],
   "source": [
    "4 & 8"
   ]
  },
  {
   "cell_type": "code",
   "execution_count": 21,
   "id": "35488857",
   "metadata": {
    "ExecuteTime": {
     "end_time": "2023-11-10T07:30:34.838313Z",
     "start_time": "2023-11-10T07:30:34.827054Z"
    }
   },
   "outputs": [
    {
     "data": {
      "text/plain": [
       "4"
      ]
     },
     "execution_count": 21,
     "metadata": {},
     "output_type": "execute_result"
    }
   ],
   "source": [
    "4 & 7"
   ]
  },
  {
   "cell_type": "code",
   "execution_count": 22,
   "id": "604d95bd",
   "metadata": {
    "ExecuteTime": {
     "end_time": "2023-11-10T07:30:39.422661Z",
     "start_time": "2023-11-10T07:30:39.400723Z"
    }
   },
   "outputs": [
    {
     "data": {
      "text/plain": [
       "0"
      ]
     },
     "execution_count": 22,
     "metadata": {},
     "output_type": "execute_result"
    }
   ],
   "source": [
    "4 & 10"
   ]
  },
  {
   "cell_type": "code",
   "execution_count": 23,
   "id": "4b68f6e1",
   "metadata": {
    "ExecuteTime": {
     "end_time": "2023-11-10T07:30:49.382826Z",
     "start_time": "2023-11-10T07:30:49.369156Z"
    }
   },
   "outputs": [
    {
     "data": {
      "text/plain": [
       "4"
      ]
     },
     "execution_count": 23,
     "metadata": {},
     "output_type": "execute_result"
    }
   ],
   "source": [
    "4 & 6"
   ]
  },
  {
   "cell_type": "code",
   "execution_count": 26,
   "id": "bd353fcd",
   "metadata": {
    "ExecuteTime": {
     "end_time": "2023-11-10T07:44:33.981944Z",
     "start_time": "2023-11-10T07:44:33.963285Z"
    }
   },
   "outputs": [
    {
     "name": "stdout",
     "output_type": "stream",
     "text": [
      "2 with 0 = |0 |2 | 2\n",
      "2 with 1 = |0 |3 | 3\n",
      "2 with 2 = |2 |2 | 0\n",
      "2 with 3 = |2 |3 | 1\n",
      "2 with 4 = |0 |6 | 6\n",
      "2 with 5 = |0 |7 | 7\n",
      "2 with 6 = |2 |6 | 4\n",
      "2 with 7 = |2 |7 | 5\n",
      "2 with 8 = |0 |10 | 10\n",
      "2 with 9 = |0 |11 | 11\n",
      "2 with 10 = |2 |10 | 8\n",
      "2 with 11 = |2 |11 | 9\n",
      "2 with 12 = |0 |14 | 14\n",
      "2 with 13 = |0 |15 | 15\n",
      "2 with 14 = |2 |14 | 12\n",
      "2 with 15 = |2 |15 | 13\n",
      "2 with 16 = |0 |18 | 18\n",
      "2 with 17 = |0 |19 | 19\n",
      "2 with 18 = |2 |18 | 16\n",
      "2 with 19 = |2 |19 | 17\n",
      "2 with 20 = |0 |22 | 22\n"
     ]
    }
   ],
   "source": [
    "for i in range(21):\n",
    "    print(f\"2 with {i} = |{2 & i} |{2 | i} | {2 ^ i}\")"
   ]
  },
  {
   "cell_type": "code",
   "execution_count": 27,
   "id": "8f9e5b34",
   "metadata": {
    "ExecuteTime": {
     "end_time": "2023-11-10T07:48:25.759782Z",
     "start_time": "2023-11-10T07:48:25.744572Z"
    }
   },
   "outputs": [
    {
     "data": {
      "text/plain": [
       "2"
      ]
     },
     "execution_count": 27,
     "metadata": {},
     "output_type": "execute_result"
    }
   ],
   "source": [
    "3 & 2"
   ]
  },
  {
   "cell_type": "code",
   "execution_count": 28,
   "id": "091418b4",
   "metadata": {
    "ExecuteTime": {
     "end_time": "2023-11-10T07:48:34.545577Z",
     "start_time": "2023-11-10T07:48:34.529722Z"
    }
   },
   "outputs": [
    {
     "data": {
      "text/plain": [
       "0"
      ]
     },
     "execution_count": 28,
     "metadata": {},
     "output_type": "execute_result"
    }
   ],
   "source": [
    "2 & 1"
   ]
  },
  {
   "cell_type": "code",
   "execution_count": 29,
   "id": "30038596",
   "metadata": {
    "ExecuteTime": {
     "end_time": "2023-11-10T08:42:56.268129Z",
     "start_time": "2023-11-10T08:42:56.255125Z"
    }
   },
   "outputs": [
    {
     "data": {
      "text/plain": [
       "28"
      ]
     },
     "execution_count": 29,
     "metadata": {},
     "output_type": "execute_result"
    }
   ],
   "source": [
    "14 and 28"
   ]
  },
  {
   "cell_type": "code",
   "execution_count": 30,
   "id": "d84944b3",
   "metadata": {
    "ExecuteTime": {
     "end_time": "2023-11-10T08:43:20.312633Z",
     "start_time": "2023-11-10T08:43:20.295453Z"
    }
   },
   "outputs": [
    {
     "data": {
      "text/plain": [
       "10"
      ]
     },
     "execution_count": 30,
     "metadata": {},
     "output_type": "execute_result"
    }
   ],
   "source": [
    "5 and 10"
   ]
  },
  {
   "cell_type": "code",
   "execution_count": null,
   "id": "b39a88a1",
   "metadata": {},
   "outputs": [],
   "source": []
  }
 ],
 "metadata": {
  "kernelspec": {
   "display_name": "Python 3 (ipykernel)",
   "language": "python",
   "name": "python3"
  },
  "language_info": {
   "codemirror_mode": {
    "name": "ipython",
    "version": 3
   },
   "file_extension": ".py",
   "mimetype": "text/x-python",
   "name": "python",
   "nbconvert_exporter": "python",
   "pygments_lexer": "ipython3",
   "version": "3.10.10"
  },
  "toc": {
   "base_numbering": 1,
   "nav_menu": {},
   "number_sections": true,
   "sideBar": true,
   "skip_h1_title": false,
   "title_cell": "Table of Contents",
   "title_sidebar": "Contents",
   "toc_cell": true,
   "toc_position": {},
   "toc_section_display": true,
   "toc_window_display": false
  }
 },
 "nbformat": 4,
 "nbformat_minor": 5
}
