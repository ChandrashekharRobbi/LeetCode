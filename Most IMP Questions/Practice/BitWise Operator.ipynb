{
 "cells": [
  {
   "cell_type": "markdown",
   "id": "055dff45",
   "metadata": {
    "toc": true
   },
   "source": [
    "<h1>Table of Contents<span class=\"tocSkip\"></span></h1>\n",
    "<div class=\"toc\"><ul class=\"toc-item\"><li><span><a href=\"#BitWise-Operator\" data-toc-modified-id=\"BitWise-Operator-1\"><span class=\"toc-item-num\">1&nbsp;&nbsp;</span>BitWise Operator</a></span></li></ul></div>"
   ]
  },
  {
   "cell_type": "markdown",
   "id": "8a6b393a",
   "metadata": {},
   "source": [
    "# BitWise Operator"
   ]
  },
  {
   "cell_type": "markdown",
   "id": "06c514bc",
   "metadata": {},
   "source": [
    "| Bitwise Operator | Logical Operator |  |  |  |\n",
    "|:---:|---|---|---|---|\n",
    "| <br>C and Python <br>language | C Language | Python Language |  |  |\n",
    "| & (AND) | && | and |  |  |\n",
    "| \\| (OR) | \\|\\| | or |  |  |\n",
    "| ^ (XOR) | ! | not |  |  |\n",
    "| ~  (NOT) |  |  |  |  |\n",
    "| << (LEFT SHIFT) |  |  |  |  |\n",
    "| >> (RIHT SHIFT) |  |  |  |  |"
   ]
  },
  {
   "cell_type": "code",
   "execution_count": 2,
   "id": "f023f456",
   "metadata": {
    "ExecuteTime": {
     "end_time": "2023-11-10T07:13:55.047023Z",
     "start_time": "2023-11-10T07:13:55.030582Z"
    }
   },
   "outputs": [
    {
     "data": {
      "text/plain": [
       "104"
      ]
     },
     "execution_count": 2,
     "metadata": {},
     "output_type": "execute_result"
    }
   ],
   "source": [
    "13 << 3"
   ]
  },
  {
   "cell_type": "code",
   "execution_count": 3,
   "id": "339d1977",
   "metadata": {
    "ExecuteTime": {
     "end_time": "2023-11-10T07:14:05.925112Z",
     "start_time": "2023-11-10T07:14:05.903992Z"
    }
   },
   "outputs": [
    {
     "data": {
      "text/plain": [
       "'0b1101000'"
      ]
     },
     "execution_count": 3,
     "metadata": {},
     "output_type": "execute_result"
    }
   ],
   "source": [
    "bin(104)"
   ]
  },
  {
   "cell_type": "code",
   "execution_count": 4,
   "id": "cf53ab6e",
   "metadata": {
    "ExecuteTime": {
     "end_time": "2023-11-10T07:16:26.129232Z",
     "start_time": "2023-11-10T07:16:26.108228Z"
    }
   },
   "outputs": [
    {
     "data": {
      "text/plain": [
       "208"
      ]
     },
     "execution_count": 4,
     "metadata": {},
     "output_type": "execute_result"
    }
   ],
   "source": [
    "13 << 4"
   ]
  },
  {
   "cell_type": "code",
   "execution_count": null,
   "id": "3e1d0808",
   "metadata": {},
   "outputs": [],
   "source": []
  }
 ],
 "metadata": {
  "kernelspec": {
   "display_name": "Python 3 (ipykernel)",
   "language": "python",
   "name": "python3"
  },
  "language_info": {
   "codemirror_mode": {
    "name": "ipython",
    "version": 3
   },
   "file_extension": ".py",
   "mimetype": "text/x-python",
   "name": "python",
   "nbconvert_exporter": "python",
   "pygments_lexer": "ipython3",
   "version": "3.10.10"
  },
  "toc": {
   "base_numbering": 1,
   "nav_menu": {},
   "number_sections": true,
   "sideBar": true,
   "skip_h1_title": false,
   "title_cell": "Table of Contents",
   "title_sidebar": "Contents",
   "toc_cell": true,
   "toc_position": {},
   "toc_section_display": true,
   "toc_window_display": false
  }
 },
 "nbformat": 4,
 "nbformat_minor": 5
}
