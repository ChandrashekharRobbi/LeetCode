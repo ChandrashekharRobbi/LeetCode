{
 "cells": [
  {
   "cell_type": "markdown",
   "id": "bb73c87c",
   "metadata": {},
   "source": [
    "# Matrix"
   ]
  },
  {
   "cell_type": "code",
   "execution_count": 3,
   "id": "502bc3ae",
   "metadata": {
    "ExecuteTime": {
     "end_time": "2023-10-15T12:50:03.971502Z",
     "start_time": "2023-10-15T12:50:03.951426Z"
    }
   },
   "outputs": [],
   "source": [
    "from os import *\n",
    "from sys import *\n",
    "from collections import *\n",
    "from math import *\n",
    "import copy"
   ]
  },
  {
   "cell_type": "markdown",
   "id": "14b9a08d",
   "metadata": {},
   "source": [
    "## Set Zeros"
   ]
  },
  {
   "cell_type": "code",
   "execution_count": 2,
   "id": "25947ae2",
   "metadata": {
    "ExecuteTime": {
     "end_time": "2023-10-15T12:49:58.669581Z",
     "start_time": "2023-10-15T12:49:58.648928Z"
    }
   },
   "outputs": [],
   "source": [
    "def zeroMatrix(matrix, n, m):\n",
    "    # Write your code here.\n",
    "    res = copy.deepcopy(matrix)\n",
    "    for r in range(len(matrix)):\n",
    "        for c in range(len(matrix[0])):\n",
    "            if res[r][c] == 0:\n",
    "                i = 0\n",
    "                while i < len(matrix):\n",
    "                    matrix[i][c] = 0\n",
    "                    i += 1\n",
    "                j = 0\n",
    "                while j < len(matrix[0]):\n",
    "                    matrix[r][j] = 0\n",
    "                    j += 1\n",
    "    return matrix"
   ]
  },
  {
   "cell_type": "code",
   "execution_count": null,
   "id": "0261c1b4",
   "metadata": {},
   "outputs": [],
   "source": []
  }
 ],
 "metadata": {
  "kernelspec": {
   "display_name": "Python 3 (ipykernel)",
   "language": "python",
   "name": "python3"
  },
  "language_info": {
   "codemirror_mode": {
    "name": "ipython",
    "version": 3
   },
   "file_extension": ".py",
   "mimetype": "text/x-python",
   "name": "python",
   "nbconvert_exporter": "python",
   "pygments_lexer": "ipython3",
   "version": "3.10.10"
  },
  "toc": {
   "base_numbering": 1,
   "nav_menu": {},
   "number_sections": true,
   "sideBar": true,
   "skip_h1_title": false,
   "title_cell": "Table of Contents",
   "title_sidebar": "Contents",
   "toc_cell": false,
   "toc_position": {
    "height": "calc(100% - 180px)",
    "left": "10px",
    "top": "150px",
    "width": "307.2px"
   },
   "toc_section_display": true,
   "toc_window_display": false
  }
 },
 "nbformat": 4,
 "nbformat_minor": 5
}
