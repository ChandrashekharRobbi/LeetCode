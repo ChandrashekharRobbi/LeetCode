{
 "cells": [
  {
   "cell_type": "markdown",
   "id": "bb73c87c",
   "metadata": {},
   "source": [
    "# Matrix"
   ]
  },
  {
   "cell_type": "code",
   "execution_count": 3,
   "id": "502bc3ae",
   "metadata": {
    "ExecuteTime": {
     "end_time": "2023-10-15T12:50:03.971502Z",
     "start_time": "2023-10-15T12:50:03.951426Z"
    }
   },
   "outputs": [],
   "source": [
    "from os import *\n",
    "from sys import *\n",
    "from collections import *\n",
    "from math import *\n",
    "import copy"
   ]
  },
  {
   "cell_type": "markdown",
   "id": "14b9a08d",
   "metadata": {},
   "source": [
    "## Set Zeros"
   ]
  },
  {
   "cell_type": "markdown",
   "id": "a0115bf9",
   "metadata": {
    "ExecuteTime": {
     "end_time": "2023-10-15T12:49:58.669581Z",
     "start_time": "2023-10-15T12:49:58.648928Z"
    }
   },
   "source": [
    "**Quick Summary:**\n",
    "The function `setZeroes` takes a matrix represented as a list of lists and modifies it in-place by setting entire rows and columns to zero if any element in that row or column is zero.\n",
    "\n",
    "**Steps:**\n",
    "1. Create a deep copy of the original matrix (`ans`).\n",
    "2. Iterate through each element in the deep copy (`ans`).\n",
    "   - If an element is zero, set the entire corresponding row and column to zero in the original matrix.\n",
    "3. Modify the original matrix in-place.\n",
    "\n",
    "**Time Complexity:**\n",
    "- The function iterates through each element in the matrix once and sets entire rows and columns to zero. The time complexity is $O(M * N)$, where M is the number of rows and N is the number of columns in the matrix.\n",
    "\n",
    "**Space Complexity:**\n",
    "- The deep copy (`ans`) creates a separate matrix with the same size, resulting in additional space complexity of $O(M * N)$. The modification is done in-place, so there is no additional space complexity related to the modification."
   ]
  },
  {
   "cell_type": "code",
   "execution_count": 1,
   "id": "0261c1b4",
   "metadata": {
    "ExecuteTime": {
     "end_time": "2023-12-09T12:52:52.370142Z",
     "start_time": "2023-12-09T12:52:52.016520Z"
    }
   },
   "outputs": [
    {
     "ename": "NameError",
     "evalue": "name 'List' is not defined",
     "output_type": "error",
     "traceback": [
      "\u001b[1;31m---------------------------------------------------------------------------\u001b[0m",
      "\u001b[1;31mNameError\u001b[0m                                 Traceback (most recent call last)",
      "Cell \u001b[1;32mIn[1], line 3\u001b[0m\n\u001b[0;32m      1\u001b[0m \u001b[38;5;28;01mfrom\u001b[39;00m \u001b[38;5;21;01mcopy\u001b[39;00m \u001b[38;5;28;01mimport\u001b[39;00m deepcopy\n\u001b[1;32m----> 3\u001b[0m \u001b[38;5;28;01mclass\u001b[39;00m \u001b[38;5;21;01mSolution\u001b[39;00m:\n\u001b[0;32m      4\u001b[0m     \u001b[38;5;28;01mdef\u001b[39;00m \u001b[38;5;21msetZeroes\u001b[39m(\u001b[38;5;28mself\u001b[39m, matrix: List[List[\u001b[38;5;28mint\u001b[39m]]) \u001b[38;5;241m-\u001b[39m\u001b[38;5;241m>\u001b[39m \u001b[38;5;28;01mNone\u001b[39;00m:\n\u001b[0;32m      5\u001b[0m \u001b[38;5;250m        \u001b[39m\u001b[38;5;124;03m\"\"\"\u001b[39;00m\n\u001b[0;32m      6\u001b[0m \u001b[38;5;124;03m        Do not return anything, modify matrix in-place instead.\u001b[39;00m\n\u001b[0;32m      7\u001b[0m \u001b[38;5;124;03m        \"\"\"\u001b[39;00m\n",
      "Cell \u001b[1;32mIn[1], line 4\u001b[0m, in \u001b[0;36mSolution\u001b[1;34m()\u001b[0m\n\u001b[0;32m      3\u001b[0m \u001b[38;5;28;01mclass\u001b[39;00m \u001b[38;5;21;01mSolution\u001b[39;00m:\n\u001b[1;32m----> 4\u001b[0m     \u001b[38;5;28;01mdef\u001b[39;00m \u001b[38;5;21msetZeroes\u001b[39m(\u001b[38;5;28mself\u001b[39m, matrix: \u001b[43mList\u001b[49m[List[\u001b[38;5;28mint\u001b[39m]]) \u001b[38;5;241m-\u001b[39m\u001b[38;5;241m>\u001b[39m \u001b[38;5;28;01mNone\u001b[39;00m:\n\u001b[0;32m      5\u001b[0m \u001b[38;5;250m        \u001b[39m\u001b[38;5;124;03m\"\"\"\u001b[39;00m\n\u001b[0;32m      6\u001b[0m \u001b[38;5;124;03m        Do not return anything, modify matrix in-place instead.\u001b[39;00m\n\u001b[0;32m      7\u001b[0m \u001b[38;5;124;03m        \"\"\"\u001b[39;00m\n\u001b[0;32m      8\u001b[0m         \u001b[38;5;66;03m# Create a deep copy of the original matrix\u001b[39;00m\n",
      "\u001b[1;31mNameError\u001b[0m: name 'List' is not defined"
     ]
    }
   ],
   "source": [
    "\n",
    "from copy import deepcopy\n",
    "\n",
    "class Solution:\n",
    "    def setZeroes(self, matrix: List[List[int]]) -> None:\n",
    "        \"\"\"\n",
    "        Do not return anything, modify matrix in-place instead.\n",
    "        \"\"\"\n",
    "        # Create a deep copy of the original matrix\n",
    "        ans = deepcopy(matrix)\n",
    "\n",
    "        # Iterate through each element in the deep copy\n",
    "        for r in range(len(ans)):\n",
    "            for c in range(len(ans[0])):\n",
    "                if ans[r][c] == 0:\n",
    "                    # Set entire row to zero\n",
    "                    j = 0\n",
    "                    while j < len(ans[0]):\n",
    "                        matrix[r][j] = 0\n",
    "                        j += 1\n",
    "                    # Set entire column to zero\n",
    "                    i = 0\n",
    "                    while i < len(ans):\n",
    "                        matrix[i][c] = 0\n",
    "                        i += 1\n",
    "\n",
    "        # No need to return anything as the modification is done in-place"
   ]
  },
  {
   "cell_type": "code",
   "execution_count": null,
   "id": "e31e5b1e",
   "metadata": {},
   "outputs": [],
   "source": []
  }
 ],
 "metadata": {
  "kernelspec": {
   "display_name": "Python 3 (ipykernel)",
   "language": "python",
   "name": "python3"
  },
  "language_info": {
   "codemirror_mode": {
    "name": "ipython",
    "version": 3
   },
   "file_extension": ".py",
   "mimetype": "text/x-python",
   "name": "python",
   "nbconvert_exporter": "python",
   "pygments_lexer": "ipython3",
   "version": "3.10.10"
  },
  "toc": {
   "base_numbering": 1,
   "nav_menu": {},
   "number_sections": true,
   "sideBar": true,
   "skip_h1_title": false,
   "title_cell": "Table of Contents",
   "title_sidebar": "Contents",
   "toc_cell": false,
   "toc_position": {
    "height": "calc(100% - 180px)",
    "left": "10px",
    "top": "150px",
    "width": "307.2px"
   },
   "toc_section_display": true,
   "toc_window_display": false
  }
 },
 "nbformat": 4,
 "nbformat_minor": 5
}
