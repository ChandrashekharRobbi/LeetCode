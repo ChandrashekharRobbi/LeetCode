{
 "cells": [
  {
   "cell_type": "markdown",
   "id": "b4e02ad0",
   "metadata": {
    "toc": true
   },
   "source": [
    "<h1>Table of Contents<span class=\"tocSkip\"></span></h1>\n",
    "<div class=\"toc\"><ul class=\"toc-item\"><li><span><a href=\"#Set-Matrix-Zeroes\" data-toc-modified-id=\"Set-Matrix-Zeroes-1\"><span class=\"toc-item-num\">1&nbsp;&nbsp;</span>Set Matrix Zeroes</a></span><ul class=\"toc-item\"><li><span><a href=\"#Brute-Force-Approach\" data-toc-modified-id=\"Brute-Force-Approach-1.1\"><span class=\"toc-item-num\">1.1&nbsp;&nbsp;</span>Brute Force Approach</a></span></li><li><span><a href=\"#Better-Approach\" data-toc-modified-id=\"Better-Approach-1.2\"><span class=\"toc-item-num\">1.2&nbsp;&nbsp;</span>Better Approach</a></span></li><li><span><a href=\"#Optimal\" data-toc-modified-id=\"Optimal-1.3\"><span class=\"toc-item-num\">1.3&nbsp;&nbsp;</span>Optimal</a></span></li></ul></li><li><span><a href=\"#Rotate-The-Matrix\" data-toc-modified-id=\"Rotate-The-Matrix-2\"><span class=\"toc-item-num\">2&nbsp;&nbsp;</span>Rotate The Matrix</a></span></li></ul></div>"
   ]
  },
  {
   "cell_type": "markdown",
   "id": "bb73c87c",
   "metadata": {},
   "source": [
    "# Matrix"
   ]
  },
  {
   "cell_type": "code",
   "execution_count": 3,
   "id": "502bc3ae",
   "metadata": {
    "ExecuteTime": {
     "end_time": "2023-10-15T12:50:03.971502Z",
     "start_time": "2023-10-15T12:50:03.951426Z"
    }
   },
   "outputs": [],
   "source": [
    "from os import *\n",
    "from sys import *\n",
    "from collections import *\n",
    "from math import *\n",
    "import copy"
   ]
  },
  {
   "cell_type": "markdown",
   "id": "14b9a08d",
   "metadata": {},
   "source": [
    "## Set Matrix Zeroes\n"
   ]
  },
  {
   "cell_type": "markdown",
   "id": "a81874d4",
   "metadata": {
    "ExecuteTime": {
     "end_time": "2023-10-15T12:49:58.669581Z",
     "start_time": "2023-10-15T12:49:58.648928Z"
    }
   },
   "source": [
    "**Quick Summary:**\n",
    "The function `setZeroes` takes a matrix represented as a list of lists and modifies it in-place by setting entire rows and columns to zero if any element in that row or column is zero.\n",
    "\n",
    "**Steps:**\n",
    "1. Create a deep copy of the original matrix (`ans`).\n",
    "2. Iterate through each element in the deep copy (`ans`).\n",
    "   - If an element is zero, set the entire corresponding row and column to zero in the original matrix.\n",
    "3. Modify the original matrix in-place.\n",
    "\n",
    "**Time Complexity:**\n",
    "- The function iterates through each element in the matrix once and sets entire rows and columns to zero. The time complexity is $O(M * N)$, where M is the number of rows and N is the number of columns in the matrix.\n",
    "\n",
    "**Space Complexity:**\n",
    "- The deep copy (`ans`) creates a separate matrix with the same size, resulting in additional space complexity of $O(M * N)$. The modification is done in-place, so there is no additional space complexity related to the modification."
   ]
  },
  {
   "cell_type": "code",
   "execution_count": 2,
   "id": "0261c1b4",
   "metadata": {
    "ExecuteTime": {
     "end_time": "2023-12-09T12:57:35.265222Z",
     "start_time": "2023-12-09T12:57:35.218316Z"
    }
   },
   "outputs": [
    {
     "ename": "NameError",
     "evalue": "name 'List' is not defined",
     "output_type": "error",
     "traceback": [
      "\u001b[1;31m---------------------------------------------------------------------------\u001b[0m",
      "\u001b[1;31mNameError\u001b[0m                                 Traceback (most recent call last)",
      "Cell \u001b[1;32mIn[2], line 3\u001b[0m\n\u001b[0;32m      1\u001b[0m \u001b[38;5;28;01mfrom\u001b[39;00m \u001b[38;5;21;01mcopy\u001b[39;00m \u001b[38;5;28;01mimport\u001b[39;00m deepcopy\n\u001b[1;32m----> 3\u001b[0m \u001b[38;5;28;01mclass\u001b[39;00m \u001b[38;5;21;01mSolution\u001b[39;00m:\n\u001b[0;32m      4\u001b[0m     \u001b[38;5;28;01mdef\u001b[39;00m \u001b[38;5;21msetZeroes\u001b[39m(\u001b[38;5;28mself\u001b[39m, matrix: List[List[\u001b[38;5;28mint\u001b[39m]]) \u001b[38;5;241m-\u001b[39m\u001b[38;5;241m>\u001b[39m \u001b[38;5;28;01mNone\u001b[39;00m:\n\u001b[0;32m      5\u001b[0m \u001b[38;5;250m        \u001b[39m\u001b[38;5;124;03m\"\"\"\u001b[39;00m\n\u001b[0;32m      6\u001b[0m \u001b[38;5;124;03m        Do not return anything, modify matrix in-place instead.\u001b[39;00m\n\u001b[0;32m      7\u001b[0m \u001b[38;5;124;03m        \"\"\"\u001b[39;00m\n",
      "Cell \u001b[1;32mIn[2], line 4\u001b[0m, in \u001b[0;36mSolution\u001b[1;34m()\u001b[0m\n\u001b[0;32m      3\u001b[0m \u001b[38;5;28;01mclass\u001b[39;00m \u001b[38;5;21;01mSolution\u001b[39;00m:\n\u001b[1;32m----> 4\u001b[0m     \u001b[38;5;28;01mdef\u001b[39;00m \u001b[38;5;21msetZeroes\u001b[39m(\u001b[38;5;28mself\u001b[39m, matrix: \u001b[43mList\u001b[49m[List[\u001b[38;5;28mint\u001b[39m]]) \u001b[38;5;241m-\u001b[39m\u001b[38;5;241m>\u001b[39m \u001b[38;5;28;01mNone\u001b[39;00m:\n\u001b[0;32m      5\u001b[0m \u001b[38;5;250m        \u001b[39m\u001b[38;5;124;03m\"\"\"\u001b[39;00m\n\u001b[0;32m      6\u001b[0m \u001b[38;5;124;03m        Do not return anything, modify matrix in-place instead.\u001b[39;00m\n\u001b[0;32m      7\u001b[0m \u001b[38;5;124;03m        \"\"\"\u001b[39;00m\n\u001b[0;32m      8\u001b[0m         \u001b[38;5;66;03m# Create a deep copy of the original matrix\u001b[39;00m\n",
      "\u001b[1;31mNameError\u001b[0m: name 'List' is not defined"
     ]
    }
   ],
   "source": [
    "from copy import deepcopy\n",
    "\n",
    "class Solution:\n",
    "    def setZeroes(self, matrix: List[List[int]]) -> None:\n",
    "        \"\"\"\n",
    "        Do not return anything, modify matrix in-place instead.\n",
    "        \"\"\"\n",
    "        # Create a deep copy of the original matrix\n",
    "        ans = deepcopy(matrix)\n",
    "\n",
    "        # Iterate through each element in the deep copy\n",
    "        for r in range(len(ans)):\n",
    "            for c in range(len(ans[0])):\n",
    "                if ans[r][c] == 0:\n",
    "                    # Set entire row to zero\n",
    "                    j = 0\n",
    "                    while j < len(ans[0]):\n",
    "                        matrix[r][j] = 0\n",
    "                        j += 1\n",
    "                    # Set entire column to zero\n",
    "                    i = 0\n",
    "                    while i < len(ans):\n",
    "                        matrix[i][c] = 0\n",
    "                        i += 1\n",
    "\n",
    "        # No need to return anything as the modification is done in-place"
   ]
  },
  {
   "cell_type": "markdown",
   "id": "0216bcb6",
   "metadata": {
    "ExecuteTime": {
     "end_time": "2023-12-10T11:42:26.312123Z",
     "start_time": "2023-12-10T11:42:26.253590Z"
    }
   },
   "source": [
    "### Brute Force Approach\n",
    "**Quick Summary:**\n",
    "The code modifies a given matrix in-place, setting entire rows and columns to zero if any element in the matrix is zero.\n",
    "\n",
    "**Steps:**\n",
    "1. Iterate through the matrix, marking elements in the rows and columns with a value of `$` if they need to be zeroed.\n",
    "2. Iterate through the matrix again, replacing marked elements ('$') with 0.\n",
    "\n",
    "\n",
    "**Time Complexity:**\n",
    "$O(M \\times N)$, where M is the number of rows and N is the number of columns in the matrix.\n",
    "\n",
    "**Space Complexity:**\n",
    "$O(1)$ (constant), as the modifications are made in-place without using additional space proportional to the input size."
   ]
  },
  {
   "cell_type": "code",
   "execution_count": 2,
   "id": "900c4116",
   "metadata": {
    "ExecuteTime": {
     "end_time": "2023-12-10T11:42:42.345100Z",
     "start_time": "2023-12-10T11:42:41.622029Z"
    }
   },
   "outputs": [
    {
     "ename": "NameError",
     "evalue": "name 'List' is not defined",
     "output_type": "error",
     "traceback": [
      "\u001b[1;31m---------------------------------------------------------------------------\u001b[0m",
      "\u001b[1;31mNameError\u001b[0m                                 Traceback (most recent call last)",
      "Cell \u001b[1;32mIn[2], line 2\u001b[0m\n\u001b[0;32m      1\u001b[0m \u001b[38;5;28;01mfrom\u001b[39;00m \u001b[38;5;21;01mcopy\u001b[39;00m \u001b[38;5;28;01mimport\u001b[39;00m deepcopy\n\u001b[1;32m----> 2\u001b[0m \u001b[38;5;28;01mclass\u001b[39;00m \u001b[38;5;21;01mSolution\u001b[39;00m:\n\u001b[0;32m      3\u001b[0m     \u001b[38;5;28;01mdef\u001b[39;00m \u001b[38;5;21msetZeroes\u001b[39m(\u001b[38;5;28mself\u001b[39m, matrix: List[List[\u001b[38;5;28mint\u001b[39m]]) \u001b[38;5;241m-\u001b[39m\u001b[38;5;241m>\u001b[39m \u001b[38;5;28;01mNone\u001b[39;00m:\n\u001b[0;32m      4\u001b[0m \u001b[38;5;250m        \u001b[39m\u001b[38;5;124;03m\"\"\"\u001b[39;00m\n\u001b[0;32m      5\u001b[0m \u001b[38;5;124;03m        Do not return anything, modify matrix in-place instead.\u001b[39;00m\n\u001b[0;32m      6\u001b[0m \u001b[38;5;124;03m        \"\"\"\u001b[39;00m\n",
      "Cell \u001b[1;32mIn[2], line 3\u001b[0m, in \u001b[0;36mSolution\u001b[1;34m()\u001b[0m\n\u001b[0;32m      2\u001b[0m \u001b[38;5;28;01mclass\u001b[39;00m \u001b[38;5;21;01mSolution\u001b[39;00m:\n\u001b[1;32m----> 3\u001b[0m     \u001b[38;5;28;01mdef\u001b[39;00m \u001b[38;5;21msetZeroes\u001b[39m(\u001b[38;5;28mself\u001b[39m, matrix: \u001b[43mList\u001b[49m[List[\u001b[38;5;28mint\u001b[39m]]) \u001b[38;5;241m-\u001b[39m\u001b[38;5;241m>\u001b[39m \u001b[38;5;28;01mNone\u001b[39;00m:\n\u001b[0;32m      4\u001b[0m \u001b[38;5;250m        \u001b[39m\u001b[38;5;124;03m\"\"\"\u001b[39;00m\n\u001b[0;32m      5\u001b[0m \u001b[38;5;124;03m        Do not return anything, modify matrix in-place instead.\u001b[39;00m\n\u001b[0;32m      6\u001b[0m \u001b[38;5;124;03m        \"\"\"\u001b[39;00m\n\u001b[0;32m      7\u001b[0m         \u001b[38;5;28;01mfor\u001b[39;00m r \u001b[38;5;129;01min\u001b[39;00m \u001b[38;5;28mrange\u001b[39m(\u001b[38;5;28mlen\u001b[39m(matrix)):\n",
      "\u001b[1;31mNameError\u001b[0m: name 'List' is not defined"
     ]
    }
   ],
   "source": [
    "from copy import deepcopy\n",
    "class Solution:\n",
    "    def setZeroes(self, matrix: List[List[int]]) -> None:\n",
    "        \"\"\"\n",
    "        Do not return anything, modify matrix in-place instead.\n",
    "        \"\"\"\n",
    "        for r in range(len(matrix)):\n",
    "            for c in range(len(matrix[0])):\n",
    "                if matrix[r][c] == 0:\n",
    "                    i = 0\n",
    "                    while i < len(matrix):\n",
    "                        if matrix[i][c] != 0:\n",
    "                            matrix[i][c] = '$'\n",
    "                        i += 1\n",
    "                    j = 0\n",
    "                    while j < len(matrix[0]):\n",
    "                        if matrix[r][j] != 0:\n",
    "                            matrix[r][j] = '$'\n",
    "                        j += 1\n",
    "        for r in range(len(matrix)):\n",
    "            for c in  range(len(matrix[0])):\n",
    "                if matrix[r][c] == '$':\n",
    "                    matrix[r][c] = 0"
   ]
  },
  {
   "cell_type": "markdown",
   "id": "dd5fb684",
   "metadata": {},
   "source": [
    "### Better Approach\n",
    "**Quick Summary:**\n",
    "The code modifies a given matrix in-place, setting entire rows and columns to zero if any element in the matrix is zero. It uses additional arrays to keep track of which rows and columns need to be zeroed.\n",
    "\n",
    "**Steps:**\n",
    "1. Iterate through the matrix, marking rows and columns that need to be zeroed.\n",
    "2. Iterate through the matrix again, setting the elements in marked rows and columns to zero.\n",
    "\n",
    "\n",
    "**Time Complexity:**\n",
    "$O(M \\times N)$, where M is the number of rows and N is the number of columns in the matrix.\n",
    "\n",
    "**Space Complexity:**\n",
    "$O(M + N)$, as two additional arrays (`rows` and `cols`) of length M and N, respectively, are used to track the rows and columns to be zeroed."
   ]
  },
  {
   "cell_type": "code",
   "execution_count": 1,
   "id": "9ae6b8b7",
   "metadata": {
    "ExecuteTime": {
     "end_time": "2023-12-12T13:34:45.577395Z",
     "start_time": "2023-12-12T13:34:44.880045Z"
    }
   },
   "outputs": [
    {
     "ename": "NameError",
     "evalue": "name 'List' is not defined",
     "output_type": "error",
     "traceback": [
      "\u001b[1;31m---------------------------------------------------------------------------\u001b[0m",
      "\u001b[1;31mNameError\u001b[0m                                 Traceback (most recent call last)",
      "Cell \u001b[1;32mIn[1], line 2\u001b[0m\n\u001b[0;32m      1\u001b[0m \u001b[38;5;28;01mfrom\u001b[39;00m \u001b[38;5;21;01mcopy\u001b[39;00m \u001b[38;5;28;01mimport\u001b[39;00m deepcopy\n\u001b[1;32m----> 2\u001b[0m \u001b[38;5;28;01mclass\u001b[39;00m \u001b[38;5;21;01mSolution\u001b[39;00m:\n\u001b[0;32m      3\u001b[0m     \u001b[38;5;28;01mdef\u001b[39;00m \u001b[38;5;21msetZeroes\u001b[39m(\u001b[38;5;28mself\u001b[39m, matrix: List[List[\u001b[38;5;28mint\u001b[39m]]) \u001b[38;5;241m-\u001b[39m\u001b[38;5;241m>\u001b[39m \u001b[38;5;28;01mNone\u001b[39;00m:\n\u001b[0;32m      4\u001b[0m         \u001b[38;5;66;03m# Get the number of rows (m) and columns (n)\u001b[39;00m\n\u001b[0;32m      5\u001b[0m         m \u001b[38;5;241m=\u001b[39m \u001b[38;5;28mlen\u001b[39m(matrix)\n",
      "Cell \u001b[1;32mIn[1], line 3\u001b[0m, in \u001b[0;36mSolution\u001b[1;34m()\u001b[0m\n\u001b[0;32m      2\u001b[0m \u001b[38;5;28;01mclass\u001b[39;00m \u001b[38;5;21;01mSolution\u001b[39;00m:\n\u001b[1;32m----> 3\u001b[0m     \u001b[38;5;28;01mdef\u001b[39;00m \u001b[38;5;21msetZeroes\u001b[39m(\u001b[38;5;28mself\u001b[39m, matrix: \u001b[43mList\u001b[49m[List[\u001b[38;5;28mint\u001b[39m]]) \u001b[38;5;241m-\u001b[39m\u001b[38;5;241m>\u001b[39m \u001b[38;5;28;01mNone\u001b[39;00m:\n\u001b[0;32m      4\u001b[0m         \u001b[38;5;66;03m# Get the number of rows (m) and columns (n)\u001b[39;00m\n\u001b[0;32m      5\u001b[0m         m \u001b[38;5;241m=\u001b[39m \u001b[38;5;28mlen\u001b[39m(matrix)\n\u001b[0;32m      6\u001b[0m         n \u001b[38;5;241m=\u001b[39m \u001b[38;5;28mlen\u001b[39m(matrix[\u001b[38;5;241m0\u001b[39m])\n",
      "\u001b[1;31mNameError\u001b[0m: name 'List' is not defined"
     ]
    }
   ],
   "source": [
    "from copy import deepcopy\n",
    "class Solution:\n",
    "    def setZeroes(self, matrix: List[List[int]]) -> None:\n",
    "        # Get the number of rows (m) and columns (n)\n",
    "        m = len(matrix)\n",
    "        n = len(matrix[0])\n",
    "\n",
    "        # Initialize arrays to track rows and columns to be zeroed\n",
    "        rows = [0] * m\n",
    "        cols = [0] * n\n",
    "\n",
    "        # Iterate through the matrix, marking rows and columns that need to be zeroed\n",
    "        for r in range(m):\n",
    "            for c in range(n):\n",
    "                if matrix[r][c] == 0:\n",
    "                    cols[c] = 1\n",
    "                    rows[r] = 1\n",
    "\n",
    "        # Iterate through the matrix again, setting elements in marked rows and columns to zero\n",
    "        for r in range(m):\n",
    "            for c in range(n):\n",
    "                if cols[c] == 1 or rows[r] == 1:\n",
    "                    matrix[r][c] = 0"
   ]
  },
  {
   "cell_type": "markdown",
   "id": "5ba6a7c3",
   "metadata": {},
   "source": [
    "### Optimal\n",
    "\n",
    "**Quick Summary:**\n",
    "The code modifies a given matrix in-place, setting entire rows and columns to zero if any element in the matrix is zero. It uses constant space by using the first row and first column to store information about which rows and columns need to be zeroed.\n",
    "\n",
    "**Steps:**\n",
    "1. Iterate through the matrix, marking the first element of each row and column if it needs to be zeroed. Use an additional variable (`col0`) to track the status of the first column.\n",
    "2. Iterate through the matrix again, setting elements in the rest of the matrix to zero based on the information stored in the first element of each row and column.\n",
    "3. Handle the special case for the first row and first column separately.\n",
    "4. Update the first column if needed.\n",
    "\n",
    "\n",
    "**Time Complexity:**\n",
    "$O(M \\times N)$, where M is the number of rows and N is the number of columns in the matrix.\n",
    "\n",
    "**Space Complexity:**\n",
    "$O(1)$, as the algorithm uses constant space regardless of the size of the input matrix."
   ]
  },
  {
   "cell_type": "code",
   "execution_count": 2,
   "id": "4749ef84",
   "metadata": {
    "ExecuteTime": {
     "end_time": "2023-12-12T14:37:44.047670Z",
     "start_time": "2023-12-12T14:37:43.956642Z"
    }
   },
   "outputs": [
    {
     "ename": "NameError",
     "evalue": "name 'List' is not defined",
     "output_type": "error",
     "traceback": [
      "\u001b[1;31m---------------------------------------------------------------------------\u001b[0m",
      "\u001b[1;31mNameError\u001b[0m                                 Traceback (most recent call last)",
      "Cell \u001b[1;32mIn[2], line 1\u001b[0m\n\u001b[1;32m----> 1\u001b[0m \u001b[38;5;28;01mclass\u001b[39;00m \u001b[38;5;21;01mSolution\u001b[39;00m:\n\u001b[0;32m      2\u001b[0m     \u001b[38;5;28;01mdef\u001b[39;00m \u001b[38;5;21msetZeroes\u001b[39m(\u001b[38;5;28mself\u001b[39m, matrix: List[List[\u001b[38;5;28mint\u001b[39m]]) \u001b[38;5;241m-\u001b[39m\u001b[38;5;241m>\u001b[39m \u001b[38;5;28;01mNone\u001b[39;00m:\n\u001b[0;32m      3\u001b[0m         \u001b[38;5;66;03m# Get the number of rows (m) and columns (n)\u001b[39;00m\n\u001b[0;32m      4\u001b[0m         m \u001b[38;5;241m=\u001b[39m \u001b[38;5;28mlen\u001b[39m(matrix)\n",
      "Cell \u001b[1;32mIn[2], line 2\u001b[0m, in \u001b[0;36mSolution\u001b[1;34m()\u001b[0m\n\u001b[0;32m      1\u001b[0m \u001b[38;5;28;01mclass\u001b[39;00m \u001b[38;5;21;01mSolution\u001b[39;00m:\n\u001b[1;32m----> 2\u001b[0m     \u001b[38;5;28;01mdef\u001b[39;00m \u001b[38;5;21msetZeroes\u001b[39m(\u001b[38;5;28mself\u001b[39m, matrix: \u001b[43mList\u001b[49m[List[\u001b[38;5;28mint\u001b[39m]]) \u001b[38;5;241m-\u001b[39m\u001b[38;5;241m>\u001b[39m \u001b[38;5;28;01mNone\u001b[39;00m:\n\u001b[0;32m      3\u001b[0m         \u001b[38;5;66;03m# Get the number of rows (m) and columns (n)\u001b[39;00m\n\u001b[0;32m      4\u001b[0m         m \u001b[38;5;241m=\u001b[39m \u001b[38;5;28mlen\u001b[39m(matrix)\n\u001b[0;32m      5\u001b[0m         n \u001b[38;5;241m=\u001b[39m \u001b[38;5;28mlen\u001b[39m(matrix[\u001b[38;5;241m0\u001b[39m])\n",
      "\u001b[1;31mNameError\u001b[0m: name 'List' is not defined"
     ]
    }
   ],
   "source": [
    "class Solution:\n",
    "    def setZeroes(self, matrix: List[List[int]]) -> None:\n",
    "        # Get the number of rows (m) and columns (n)\n",
    "        m = len(matrix)\n",
    "        n = len(matrix[0])\n",
    "\n",
    "        # Initialize a variable to track the status of the first column\n",
    "        col0 = 1\n",
    "\n",
    "        # Iterate through the matrix, marking the first element of each row and column if it needs to be zeroed\n",
    "        for r in range(m):\n",
    "            for c in range(n):\n",
    "                if matrix[r][c] == 0:\n",
    "                    matrix[r][0] = 0\n",
    "                    if c != 0:\n",
    "                        matrix[0][c] = 0\n",
    "                    else:\n",
    "                        col0 = 0\n",
    "\n",
    "        # Iterate through the matrix again, setting elements in the rest of the matrix to zero\n",
    "        for r in range(1, m):\n",
    "            for c in range(1, n):\n",
    "                if matrix[r][c] != 0:\n",
    "                    if matrix[r][0] == 0 or matrix[0][c] == 0:\n",
    "                        matrix[r][c] = 0\n",
    "\n",
    "        # Handle the special case for the first row and first column\n",
    "        if matrix[0][0] == 0:\n",
    "            for c in range(n):\n",
    "                matrix[0][c] = 0\n",
    "        if col0 == 0:\n",
    "            for r in range(m):\n",
    "                matrix[r][0] = 0"
   ]
  },
  {
   "cell_type": "markdown",
   "id": "140f450c",
   "metadata": {},
   "source": [
    "## Rotate The Matrix"
   ]
  },
  {
   "cell_type": "markdown",
   "id": "7f4053c2",
   "metadata": {},
   "source": [
    "**Quick Summary:**\n",
    "The `rotate` function is designed to rotate an NxN matrix 90 degrees clockwise. It uses a deep copy of the original matrix and performs the rotation in-place.\n",
    "\n",
    "**Steps:**\n",
    "1. Create a deep copy of the original matrix (`ans`).\n",
    "2. Initialize pointers `l` and `r` to represent the leftmost and rightmost columns of the submatrix being rotated.\n",
    "3. Iterate through each row in the matrix and update the elements in the original matrix by copying the corresponding elements from the deep copy (`ans`) in a rotated manner.\n",
    "4. Adjust pointers `l` and `r` to cover the next submatrix for rotation.\n",
    "\n",
    "\n",
    "**Time Complexity:**\n",
    "$O(N^2)$, where N is the number of rows or columns in the matrix.\n",
    "\n",
    "**Space Complexity:**\n",
    "$O(N^2)$ due to the deep copy of the original matrix (`ans`)."
   ]
  },
  {
   "cell_type": "code",
   "execution_count": 3,
   "id": "ee470054",
   "metadata": {
    "ExecuteTime": {
     "end_time": "2023-12-09T13:14:22.290484Z",
     "start_time": "2023-12-09T13:14:22.231907Z"
    }
   },
   "outputs": [
    {
     "ename": "NameError",
     "evalue": "name 'List' is not defined",
     "output_type": "error",
     "traceback": [
      "\u001b[1;31m---------------------------------------------------------------------------\u001b[0m",
      "\u001b[1;31mNameError\u001b[0m                                 Traceback (most recent call last)",
      "Cell \u001b[1;32mIn[3], line 3\u001b[0m\n\u001b[0;32m      1\u001b[0m \u001b[38;5;28;01mfrom\u001b[39;00m \u001b[38;5;21;01mcopy\u001b[39;00m \u001b[38;5;28;01mimport\u001b[39;00m deepcopy\n\u001b[1;32m----> 3\u001b[0m \u001b[38;5;28;01mclass\u001b[39;00m \u001b[38;5;21;01mSolution\u001b[39;00m:\n\u001b[0;32m      4\u001b[0m     \u001b[38;5;28;01mdef\u001b[39;00m \u001b[38;5;21mrotate\u001b[39m(\u001b[38;5;28mself\u001b[39m, matrix: List[List[\u001b[38;5;28mint\u001b[39m]]) \u001b[38;5;241m-\u001b[39m\u001b[38;5;241m>\u001b[39m \u001b[38;5;28;01mNone\u001b[39;00m:\n\u001b[0;32m      5\u001b[0m \u001b[38;5;250m        \u001b[39m\u001b[38;5;124;03m\"\"\"\u001b[39;00m\n\u001b[0;32m      6\u001b[0m \u001b[38;5;124;03m        Do not return anything, modify matrix in-place instead.\u001b[39;00m\n\u001b[0;32m      7\u001b[0m \u001b[38;5;124;03m        \"\"\"\u001b[39;00m\n",
      "Cell \u001b[1;32mIn[3], line 4\u001b[0m, in \u001b[0;36mSolution\u001b[1;34m()\u001b[0m\n\u001b[0;32m      3\u001b[0m \u001b[38;5;28;01mclass\u001b[39;00m \u001b[38;5;21;01mSolution\u001b[39;00m:\n\u001b[1;32m----> 4\u001b[0m     \u001b[38;5;28;01mdef\u001b[39;00m \u001b[38;5;21mrotate\u001b[39m(\u001b[38;5;28mself\u001b[39m, matrix: \u001b[43mList\u001b[49m[List[\u001b[38;5;28mint\u001b[39m]]) \u001b[38;5;241m-\u001b[39m\u001b[38;5;241m>\u001b[39m \u001b[38;5;28;01mNone\u001b[39;00m:\n\u001b[0;32m      5\u001b[0m \u001b[38;5;250m        \u001b[39m\u001b[38;5;124;03m\"\"\"\u001b[39;00m\n\u001b[0;32m      6\u001b[0m \u001b[38;5;124;03m        Do not return anything, modify matrix in-place instead.\u001b[39;00m\n\u001b[0;32m      7\u001b[0m \u001b[38;5;124;03m        \"\"\"\u001b[39;00m\n\u001b[0;32m      8\u001b[0m         \u001b[38;5;66;03m# Create a deep copy of the original matrix\u001b[39;00m\n",
      "\u001b[1;31mNameError\u001b[0m: name 'List' is not defined"
     ]
    }
   ],
   "source": [
    "from copy import deepcopy\n",
    "\n",
    "class Solution:\n",
    "    def rotate(self, matrix: List[List[int]]) -> None:\n",
    "        \"\"\"\n",
    "        Do not return anything, modify matrix in-place instead.\n",
    "        \"\"\"\n",
    "        # Create a deep copy of the original matrix\n",
    "        ans = deepcopy(matrix)\n",
    "\n",
    "        # Initialize pointers for leftmost and rightmost columns\n",
    "        l = 0\n",
    "        r = len(matrix) - 1\n",
    "\n",
    "        # Iterate through each row in the matrix\n",
    "        for _ in range(len(matrix)):\n",
    "            # Update elements in the original matrix by rotating from the deep copy\n",
    "            for i in range(len(matrix)):\n",
    "                matrix[i][r] = ans[l][i]\n",
    "\n",
    "            # Adjust pointers for the next submatrix\n",
    "            l += 1\n",
    "            r -= 1\n",
    "\n",
    "        # No need to return anything as the modification is done in-place"
   ]
  },
  {
   "cell_type": "code",
   "execution_count": null,
   "id": "874f8825",
   "metadata": {},
   "outputs": [],
   "source": []
  }
 ],
 "metadata": {
  "kernelspec": {
   "display_name": "Python 3 (ipykernel)",
   "language": "python",
   "name": "python3"
  },
  "language_info": {
   "codemirror_mode": {
    "name": "ipython",
    "version": 3
   },
   "file_extension": ".py",
   "mimetype": "text/x-python",
   "name": "python",
   "nbconvert_exporter": "python",
   "pygments_lexer": "ipython3",
   "version": "3.10.10"
  },
  "toc": {
   "base_numbering": 1,
   "nav_menu": {},
   "number_sections": true,
   "sideBar": true,
   "skip_h1_title": true,
   "title_cell": "Table of Contents",
   "title_sidebar": "Contents",
   "toc_cell": true,
   "toc_position": {
    "height": "calc(100% - 180px)",
    "left": "10px",
    "top": "150px",
    "width": "307.2px"
   },
   "toc_section_display": true,
   "toc_window_display": false
  }
 },
 "nbformat": 4,
 "nbformat_minor": 5
}
