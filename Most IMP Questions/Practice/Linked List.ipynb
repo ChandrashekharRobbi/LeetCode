{
 "cells": [
  {
   "cell_type": "markdown",
   "id": "f112fcd2",
   "metadata": {
    "toc": true
   },
   "source": [
    "<h1>Table of Contents<span class=\"tocSkip\"></span></h1>\n",
    "<div class=\"toc\"><ul class=\"toc-item\"><li><span><a href=\"#1D-Linked-List\" data-toc-modified-id=\"1D-Linked-List-1\"><span class=\"toc-item-num\">1&nbsp;&nbsp;</span>1D Linked List</a></span><ul class=\"toc-item\"><li><span><a href=\"#Array-to-LinkedList\" data-toc-modified-id=\"Array-to-LinkedList-1.1\"><span class=\"toc-item-num\">1.1&nbsp;&nbsp;</span>Array to LinkedList</a></span></li><li><span><a href=\"#Insert-Node-at-the-Beginning\" data-toc-modified-id=\"Insert-Node-at-the-Beginning-1.2\"><span class=\"toc-item-num\">1.2&nbsp;&nbsp;</span>Insert Node at the Beginning</a></span></li><li><span><a href=\"#Delete-the-Last-Element\" data-toc-modified-id=\"Delete-the-Last-Element-1.3\"><span class=\"toc-item-num\">1.3&nbsp;&nbsp;</span>Delete the Last Element</a></span></li><li><span><a href=\"#Find-the-Length-Of-the-Linked-List\" data-toc-modified-id=\"Find-the-Length-Of-the-Linked-List-1.4\"><span class=\"toc-item-num\">1.4&nbsp;&nbsp;</span>Find the Length Of the Linked List</a></span></li><li><span><a href=\"#Search-in-a-Linked-List\" data-toc-modified-id=\"Search-in-a-Linked-List-1.5\"><span class=\"toc-item-num\">1.5&nbsp;&nbsp;</span>Search in a Linked List</a></span></li><li><span><a href=\"#Middle-OF-the-Linked-List\" data-toc-modified-id=\"Middle-OF-the-Linked-List-1.6\"><span class=\"toc-item-num\">1.6&nbsp;&nbsp;</span>Middle OF the Linked List</a></span></li></ul></li><li><span><a href=\"#2D-Linked-List\" data-toc-modified-id=\"2D-Linked-List-2\"><span class=\"toc-item-num\">2&nbsp;&nbsp;</span>2D Linked List</a></span><ul class=\"toc-item\"><li><span><a href=\"#Array-to-Doubly-Linked-List\" data-toc-modified-id=\"Array-to-Doubly-Linked-List-2.1\"><span class=\"toc-item-num\">2.1&nbsp;&nbsp;</span>Array to Doubly Linked List</a></span></li><li><span><a href=\"#Insert-at-the-end-of-DLL\" data-toc-modified-id=\"Insert-at-the-end-of-DLL-2.2\"><span class=\"toc-item-num\">2.2&nbsp;&nbsp;</span>Insert at the end of DLL</a></span></li><li><span><a href=\"#Delete-Last-Node-of-a-DLL\" data-toc-modified-id=\"Delete-Last-Node-of-a-DLL-2.3\"><span class=\"toc-item-num\">2.3&nbsp;&nbsp;</span>Delete Last Node of a DLL</a></span></li><li><span><a href=\"#Reverse-DLL\" data-toc-modified-id=\"Reverse-DLL-2.4\"><span class=\"toc-item-num\">2.4&nbsp;&nbsp;</span>Reverse DLL</a></span></li></ul></li></ul></div>"
   ]
  },
  {
   "cell_type": "markdown",
   "id": "316edf92",
   "metadata": {},
   "source": [
    "# 1D Linked List"
   ]
  },
  {
   "cell_type": "code",
   "execution_count": 1,
   "id": "fad616cb",
   "metadata": {
    "ExecuteTime": {
     "end_time": "2023-11-18T14:06:02.112291Z",
     "start_time": "2023-11-18T14:06:02.084678Z"
    }
   },
   "outputs": [],
   "source": [
    "class Node:\n",
    "    def __init__(self, val=0, next=None):\n",
    "        self.val = val\n",
    "        self.next = next"
   ]
  },
  {
   "cell_type": "markdown",
   "id": "ffcdb0d8",
   "metadata": {},
   "source": [
    "## Array to LinkedList"
   ]
  },
  {
   "cell_type": "code",
   "execution_count": 2,
   "id": "3147ed5e",
   "metadata": {
    "ExecuteTime": {
     "end_time": "2023-11-18T14:06:05.606739Z",
     "start_time": "2023-11-18T14:06:05.588189Z"
    }
   },
   "outputs": [],
   "source": [
    "def constructLL(arr: [int]) -> Node:\n",
    "    # Write your code here\n",
    "    head = Node(0)\n",
    "    curr = head\n",
    "    for i in arr:\n",
    "        curr.next = Node(i)\n",
    "        curr = curr.next\n",
    "    return head.next"
   ]
  },
  {
   "cell_type": "markdown",
   "id": "0d76f9ee",
   "metadata": {},
   "source": [
    "## Insert Node at the Beginning"
   ]
  },
  {
   "cell_type": "code",
   "execution_count": 3,
   "id": "551fa8c2",
   "metadata": {
    "ExecuteTime": {
     "end_time": "2023-11-18T14:11:42.604011Z",
     "start_time": "2023-11-18T14:11:42.577988Z"
    }
   },
   "outputs": [],
   "source": [
    "class Node:\n",
    "    def __init__(self, data):\n",
    "        self.data = data\n",
    "        self.next = None\n",
    "\n",
    "def insertAtFirst(root: Node, newValue: int) -> Node:\n",
    "    # Create a new node with the given value\n",
    "    head = Node(newValue)\n",
    "    # Set current node to the newly created head\n",
    "    curr = head\n",
    "    \n",
    "    # Iterate through the existing linked list\n",
    "    while root is not None:\n",
    "        # Create a new node with the data from the existing linked list\n",
    "        curr.next = Node(root.data)\n",
    "        # Move the current node to the next node in the new linked list\n",
    "        curr = curr.next\n",
    "        # Move to the next node in the existing linked list\n",
    "        root = root.next\n",
    "    \n",
    "    # Return the head of the new linked list\n",
    "    return head"
   ]
  },
  {
   "cell_type": "markdown",
   "id": "96e2faaf",
   "metadata": {},
   "source": [
    "## Delete the Last Element"
   ]
  },
  {
   "cell_type": "code",
   "execution_count": 4,
   "id": "46777d67",
   "metadata": {
    "ExecuteTime": {
     "end_time": "2023-11-18T14:15:04.278079Z",
     "start_time": "2023-11-18T14:15:04.253067Z"
    }
   },
   "outputs": [],
   "source": [
    "class Node:\n",
    "    def __init__(self, val=0, next=None):\n",
    "        self.val = val\n",
    "        self.next = next\n",
    "\n",
    "\n",
    "# Please do not change code above.\n",
    "\n",
    "def deleteLast(root: Node) -> Node:\n",
    "    # If the linked list is empty or has only one node\n",
    "    if root is None or root.next is None:\n",
    "        return None\n",
    "\n",
    "    # Start from the head of the linked list\n",
    "    curr = root\n",
    "\n",
    "    # Traverse the linked list until the second-to-last node\n",
    "    while curr.next.next is not None:\n",
    "        curr = curr.next\n",
    "\n",
    "    # Set the next pointer of the second-to-last node to None, effectively removing the last node\n",
    "    curr.next = None\n",
    "\n",
    "    # Return the modified linked list\n",
    "    return root"
   ]
  },
  {
   "cell_type": "markdown",
   "id": "e02dd4e9",
   "metadata": {},
   "source": [
    "## Find the Length Of the Linked List"
   ]
  },
  {
   "cell_type": "code",
   "execution_count": 5,
   "id": "2e401c68",
   "metadata": {
    "ExecuteTime": {
     "end_time": "2023-11-18T14:28:45.445125Z",
     "start_time": "2023-11-18T14:28:45.424132Z"
    }
   },
   "outputs": [],
   "source": [
    "def length(head):\n",
    "    # Initialize a pointer to the head of the linked list\n",
    "    curr = head\n",
    "    # Initialize a variable to count the number of nodes\n",
    "    count = 0\n",
    "    \n",
    "    # Traverse the linked list until the end (i.e., until the current node is None)\n",
    "    while curr is not None:\n",
    "        # Increment the count for each node\n",
    "        count += 1\n",
    "        # Move to the next node\n",
    "        curr = curr.next\n",
    "    \n",
    "    # Return the count, which represents the length of the linked list\n",
    "    return count"
   ]
  },
  {
   "cell_type": "markdown",
   "id": "70f47a3e",
   "metadata": {},
   "source": [
    "## Search in a Linked List"
   ]
  },
  {
   "cell_type": "code",
   "execution_count": 6,
   "id": "a097a5c0",
   "metadata": {
    "ExecuteTime": {
     "end_time": "2023-11-18T14:31:32.429341Z",
     "start_time": "2023-11-18T14:31:32.403653Z"
    }
   },
   "outputs": [],
   "source": [
    "def searchInLinkedList(head, k):\n",
    "    # Start at the head of the linked list\n",
    "    curr = head\n",
    "    \n",
    "    # Traverse the linked list until the end (i.e., until the current node is None)\n",
    "    while curr is not None:\n",
    "        # Check if the data of the current node matches the target value, k\n",
    "        if curr.data == k:\n",
    "            return 1  # Return 1 if the value is found\n",
    "        \n",
    "        # Move to the next node\n",
    "        curr = curr.next\n",
    "    \n",
    "    # Return 0 if the value is not found in the linked list\n",
    "    return 0"
   ]
  },
  {
   "cell_type": "markdown",
   "id": "4018d6cc",
   "metadata": {},
   "source": [
    "## Middle OF the Linked List"
   ]
  },
  {
   "cell_type": "code",
   "execution_count": 1,
   "id": "df5eabdf",
   "metadata": {
    "ExecuteTime": {
     "end_time": "2023-11-19T14:03:40.248802Z",
     "start_time": "2023-11-19T14:03:40.221817Z"
    }
   },
   "outputs": [],
   "source": [
    "def findMiddle(head):\n",
    "    # Initialize fast and slow pointers\n",
    "    fast = head.next\n",
    "    slow = head\n",
    "    \n",
    "    # Traverse the linked list\n",
    "    while fast is not None:\n",
    "        # Move the fast pointer two steps and the slow pointer one step\n",
    "        fast = fast.next.next if fast.next else None\n",
    "        slow = slow.next\n",
    "    \n",
    "    # At this point, the slow pointer is at the middle node\n",
    "    return slow"
   ]
  },
  {
   "cell_type": "code",
   "execution_count": null,
   "id": "9d32d60d",
   "metadata": {},
   "outputs": [],
   "source": []
  },
  {
   "cell_type": "code",
   "execution_count": null,
   "id": "989c7907",
   "metadata": {},
   "outputs": [],
   "source": []
  },
  {
   "cell_type": "code",
   "execution_count": null,
   "id": "86eebe0c",
   "metadata": {},
   "outputs": [],
   "source": []
  },
  {
   "cell_type": "code",
   "execution_count": null,
   "id": "6ef786ad",
   "metadata": {},
   "outputs": [],
   "source": []
  },
  {
   "cell_type": "code",
   "execution_count": null,
   "id": "9fbba26a",
   "metadata": {},
   "outputs": [],
   "source": []
  },
  {
   "cell_type": "markdown",
   "id": "b1ec9d07",
   "metadata": {},
   "source": [
    "# 2D Linked List"
   ]
  },
  {
   "cell_type": "markdown",
   "id": "47385d30",
   "metadata": {},
   "source": [
    "## Array to Doubly Linked List"
   ]
  },
  {
   "cell_type": "code",
   "execution_count": 9,
   "id": "547fef81",
   "metadata": {
    "ExecuteTime": {
     "end_time": "2023-11-18T15:09:43.756359Z",
     "start_time": "2023-11-18T15:09:43.713142Z"
    }
   },
   "outputs": [],
   "source": [
    "class Node:\n",
    "    def __init__(self, data=None, prev=None, next=None):\n",
    "        self.data = data\n",
    "        self.prev = prev\n",
    "        self.next = next\n",
    "\n",
    "def constructDLL(arr: [int]) -> Node:\n",
    "    # Create a dummy head node to simplify handling of the first node\n",
    "    head = Node()\n",
    "    # Initialize current and previous pointers\n",
    "    curr = head\n",
    "    prev = None\n",
    "    \n",
    "    # Iterate through the array\n",
    "    for num in arr:\n",
    "        # Create a new node with the current number\n",
    "        curr.next = Node(num)\n",
    "        # Set the previous pointer of the current node\n",
    "        curr.next.prev = curr\n",
    "        # Move the current pointer to the newly created node\n",
    "        curr = curr.next\n",
    "    \n",
    "    # Return the next of the dummy head, which is the actual head of the doubly linked list\n",
    "    return head.next"
   ]
  },
  {
   "cell_type": "markdown",
   "id": "c1f62e79",
   "metadata": {},
   "source": [
    "## Insert at the end of DLL"
   ]
  },
  {
   "cell_type": "code",
   "execution_count": 10,
   "id": "b58ee3dd",
   "metadata": {
    "ExecuteTime": {
     "end_time": "2023-11-18T15:14:37.947009Z",
     "start_time": "2023-11-18T15:14:37.909058Z"
    }
   },
   "outputs": [],
   "source": [
    "class Node:\n",
    "    def __init__(self, data=None, prev=None, next=None):\n",
    "        self.data = data\n",
    "        self.prev = prev\n",
    "        self.next = next\n",
    "\n",
    "def insertAtTail(head: Node, k: int) -> Node:\n",
    "    # Check if the linked list is empty\n",
    "    if head is None:\n",
    "        return Node(k)  # If empty, create a new node as the head\n",
    "    \n",
    "    # Start at the head of the linked list\n",
    "    curr = head\n",
    "    \n",
    "    # Traverse the linked list until the end (i.e., until the current node's next is None)\n",
    "    while curr.next is not None:\n",
    "        curr = curr.next  # Move to the next node\n",
    "    \n",
    "    # Create a new node with the given value at the end of the linked list\n",
    "    curr.next = Node(k)\n",
    "    curr.next.prev = curr  # Set the previous pointer of the new node\n",
    "    return head  # Return the head of the linked list"
   ]
  },
  {
   "cell_type": "markdown",
   "id": "8511e106",
   "metadata": {},
   "source": [
    "## Delete Last Node of a DLL"
   ]
  },
  {
   "cell_type": "code",
   "execution_count": 11,
   "id": "40f7633a",
   "metadata": {
    "ExecuteTime": {
     "end_time": "2023-11-18T15:17:55.105686Z",
     "start_time": "2023-11-18T15:17:55.073355Z"
    }
   },
   "outputs": [],
   "source": [
    "class Node:\n",
    "    def __init__(self, data=None, prev=None, next=None):\n",
    "        self.data = data\n",
    "        self.prev = prev\n",
    "        self.next = next\n",
    "\n",
    "def deleteLastNode(head: Node) -> Node:\n",
    "    # Check if the linked list has only one node\n",
    "    if head.next is None:\n",
    "        return None  # If only one node, return None to indicate an empty list\n",
    "    \n",
    "    # Start at the head of the linked list\n",
    "    curr = head\n",
    "    \n",
    "    # Traverse the linked list until the second-to-last node\n",
    "    while curr.next.next is not None:\n",
    "        curr = curr.next  # Move to the next node\n",
    "    \n",
    "    # Set the previous pointer of the last node to None\n",
    "    curr.next.prev = None\n",
    "    \n",
    "    # Set the next pointer of the second-to-last node to None, effectively removing the last node\n",
    "    curr.next = None\n",
    "    \n",
    "    return head  # Return the head of the modified linked list"
   ]
  },
  {
   "cell_type": "markdown",
   "id": "393529c1",
   "metadata": {},
   "source": [
    "## Reverse DLL"
   ]
  },
  {
   "cell_type": "code",
   "execution_count": 12,
   "id": "6a835999",
   "metadata": {
    "ExecuteTime": {
     "end_time": "2023-11-18T15:35:15.950274Z",
     "start_time": "2023-11-18T15:35:15.920142Z"
    }
   },
   "outputs": [],
   "source": [
    "class Node:\n",
    "    def __init__(self, data=None, prev=None, next=None):\n",
    "        self.data = data\n",
    "        self.prev = prev\n",
    "        self.next = next\n",
    "\n",
    "def reverseDLL(head):\n",
    "    # Start at the head of the linked list\n",
    "    curr = head\n",
    "    prev = None\n",
    "    \n",
    "    # Traverse the linked list\n",
    "    while curr is not None:\n",
    "        temp = curr.next  # Save the next node\n",
    "        \n",
    "        # Reverse the pointers\n",
    "        curr.prev = curr.next\n",
    "        curr.next = prev\n",
    "        \n",
    "        # Move to the next node\n",
    "        prev = curr\n",
    "        curr = temp\n",
    "    \n",
    "    # Set the head to the new tail (prev)\n",
    "    head = prev\n",
    "    \n",
    "    return head"
   ]
  },
  {
   "cell_type": "code",
   "execution_count": null,
   "id": "f1f0a064",
   "metadata": {},
   "outputs": [],
   "source": []
  }
 ],
 "metadata": {
  "kernelspec": {
   "display_name": "Python 3 (ipykernel)",
   "language": "python",
   "name": "python3"
  },
  "language_info": {
   "codemirror_mode": {
    "name": "ipython",
    "version": 3
   },
   "file_extension": ".py",
   "mimetype": "text/x-python",
   "name": "python",
   "nbconvert_exporter": "python",
   "pygments_lexer": "ipython3",
   "version": "3.10.10"
  },
  "toc": {
   "base_numbering": 1,
   "nav_menu": {},
   "number_sections": true,
   "sideBar": true,
   "skip_h1_title": false,
   "title_cell": "Table of Contents",
   "title_sidebar": "Contents",
   "toc_cell": true,
   "toc_position": {},
   "toc_section_display": true,
   "toc_window_display": false
  }
 },
 "nbformat": 4,
 "nbformat_minor": 5
}
