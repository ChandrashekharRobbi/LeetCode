{
 "cells": [
  {
   "cell_type": "markdown",
   "id": "f112fcd2",
   "metadata": {
    "toc": true
   },
   "source": [
    "<h1>Table of Contents<span class=\"tocSkip\"></span></h1>\n",
    "<div class=\"toc\"><ul class=\"toc-item\"><li><span><a href=\"#1D-Linked-List\" data-toc-modified-id=\"1D-Linked-List-1\"><span class=\"toc-item-num\">1&nbsp;&nbsp;</span>1D Linked List</a></span><ul class=\"toc-item\"><li><span><a href=\"#Array-to-LinkedList\" data-toc-modified-id=\"Array-to-LinkedList-1.1\"><span class=\"toc-item-num\">1.1&nbsp;&nbsp;</span>Array to LinkedList</a></span></li><li><span><a href=\"#Insert-Node-at-the-Beginning\" data-toc-modified-id=\"Insert-Node-at-the-Beginning-1.2\"><span class=\"toc-item-num\">1.2&nbsp;&nbsp;</span>Insert Node at the Beginning</a></span></li><li><span><a href=\"#Delete-the-Last-Element\" data-toc-modified-id=\"Delete-the-Last-Element-1.3\"><span class=\"toc-item-num\">1.3&nbsp;&nbsp;</span>Delete the Last Element</a></span></li><li><span><a href=\"#Find-the-Length-Of-the-Linked-List\" data-toc-modified-id=\"Find-the-Length-Of-the-Linked-List-1.4\"><span class=\"toc-item-num\">1.4&nbsp;&nbsp;</span>Find the Length Of the Linked List</a></span></li><li><span><a href=\"#Search-in-a-Linked-List\" data-toc-modified-id=\"Search-in-a-Linked-List-1.5\"><span class=\"toc-item-num\">1.5&nbsp;&nbsp;</span>Search in a Linked List</a></span></li><li><span><a href=\"#Middle-OF-the-Linked-List\" data-toc-modified-id=\"Middle-OF-the-Linked-List-1.6\"><span class=\"toc-item-num\">1.6&nbsp;&nbsp;</span>Middle OF the Linked List</a></span><ul class=\"toc-item\"><li><span><a href=\"#Count-Method\" data-toc-modified-id=\"Count-Method-1.6.1\"><span class=\"toc-item-num\">1.6.1&nbsp;&nbsp;</span>Count Method</a></span></li><li><span><a href=\"#Tortoise-Method\" data-toc-modified-id=\"Tortoise-Method-1.6.2\"><span class=\"toc-item-num\">1.6.2&nbsp;&nbsp;</span>Tortoise Method</a></span></li></ul></li><li><span><a href=\"#Reverse-Linked-List-(Iterative)\" data-toc-modified-id=\"Reverse-Linked-List-(Iterative)-1.7\"><span class=\"toc-item-num\">1.7&nbsp;&nbsp;</span>Reverse Linked List (Iterative)</a></span></li><li><span><a href=\"#Reverse-Linked-List-(Recursive)\" data-toc-modified-id=\"Reverse-Linked-List-(Recursive)-1.8\"><span class=\"toc-item-num\">1.8&nbsp;&nbsp;</span>Reverse Linked List (Recursive)</a></span></li><li><span><a href=\"#Detect-Cycle\" data-toc-modified-id=\"Detect-Cycle-1.9\"><span class=\"toc-item-num\">1.9&nbsp;&nbsp;</span>Detect Cycle</a></span><ul class=\"toc-item\"><li><span><a href=\"#By-Using-HashMap\" data-toc-modified-id=\"By-Using-HashMap-1.9.1\"><span class=\"toc-item-num\">1.9.1&nbsp;&nbsp;</span>By Using HashMap</a></span></li><li><span><a href=\"#Floyd's-cycle-finding-algorithm-(tortoise-and-hare-algorithm)\" data-toc-modified-id=\"Floyd's-cycle-finding-algorithm-(tortoise-and-hare-algorithm)-1.9.2\"><span class=\"toc-item-num\">1.9.2&nbsp;&nbsp;</span>Floyd's cycle-finding algorithm (tortoise and hare algorithm)</a></span></li></ul></li><li><span><a href=\"#Find-Starting-Point-in-LL\" data-toc-modified-id=\"Find-Starting-Point-in-LL-1.10\"><span class=\"toc-item-num\">1.10&nbsp;&nbsp;</span>Find Starting Point in LL</a></span></li></ul></li><li><span><a href=\"#2D-Linked-List\" data-toc-modified-id=\"2D-Linked-List-2\"><span class=\"toc-item-num\">2&nbsp;&nbsp;</span>2D Linked List</a></span><ul class=\"toc-item\"><li><span><a href=\"#Array-to-Doubly-Linked-List\" data-toc-modified-id=\"Array-to-Doubly-Linked-List-2.1\"><span class=\"toc-item-num\">2.1&nbsp;&nbsp;</span>Array to Doubly Linked List</a></span></li><li><span><a href=\"#Insert-at-the-end-of-DLL\" data-toc-modified-id=\"Insert-at-the-end-of-DLL-2.2\"><span class=\"toc-item-num\">2.2&nbsp;&nbsp;</span>Insert at the end of DLL</a></span></li><li><span><a href=\"#Delete-Last-Node-of-a-DLL\" data-toc-modified-id=\"Delete-Last-Node-of-a-DLL-2.3\"><span class=\"toc-item-num\">2.3&nbsp;&nbsp;</span>Delete Last Node of a DLL</a></span></li><li><span><a href=\"#Reverse-DLL\" data-toc-modified-id=\"Reverse-DLL-2.4\"><span class=\"toc-item-num\">2.4&nbsp;&nbsp;</span>Reverse DLL</a></span></li></ul></li></ul></div>"
   ]
  },
  {
   "cell_type": "markdown",
   "id": "316edf92",
   "metadata": {},
   "source": [
    "# 1D Linked List"
   ]
  },
  {
   "cell_type": "code",
   "execution_count": 1,
   "id": "fad616cb",
   "metadata": {
    "ExecuteTime": {
     "end_time": "2023-11-18T14:06:02.112291Z",
     "start_time": "2023-11-18T14:06:02.084678Z"
    }
   },
   "outputs": [],
   "source": [
    "class Node:\n",
    "    def __init__(self, val=0, next=None):\n",
    "        self.val = val\n",
    "        self.next = next"
   ]
  },
  {
   "cell_type": "markdown",
   "id": "ffcdb0d8",
   "metadata": {},
   "source": [
    "## Array to LinkedList"
   ]
  },
  {
   "cell_type": "code",
   "execution_count": 2,
   "id": "3147ed5e",
   "metadata": {
    "ExecuteTime": {
     "end_time": "2023-11-18T14:06:05.606739Z",
     "start_time": "2023-11-18T14:06:05.588189Z"
    }
   },
   "outputs": [],
   "source": [
    "def constructLL(arr: [int]) -> Node:\n",
    "    # Write your code here\n",
    "    head = Node(0)\n",
    "    curr = head\n",
    "    for i in arr:\n",
    "        curr.next = Node(i)\n",
    "        curr = curr.next\n",
    "    return head.next"
   ]
  },
  {
   "cell_type": "markdown",
   "id": "0d76f9ee",
   "metadata": {},
   "source": [
    "## Insert Node at the Beginning"
   ]
  },
  {
   "cell_type": "code",
   "execution_count": 3,
   "id": "551fa8c2",
   "metadata": {
    "ExecuteTime": {
     "end_time": "2023-11-18T14:11:42.604011Z",
     "start_time": "2023-11-18T14:11:42.577988Z"
    }
   },
   "outputs": [],
   "source": [
    "class Node:\n",
    "    def __init__(self, data):\n",
    "        self.data = data\n",
    "        self.next = None\n",
    "\n",
    "def insertAtFirst(root: Node, newValue: int) -> Node:\n",
    "    # Create a new node with the given value\n",
    "    head = Node(newValue)\n",
    "    # Set current node to the newly created head\n",
    "    curr = head\n",
    "    \n",
    "    # Iterate through the existing linked list\n",
    "    while root is not None:\n",
    "        # Create a new node with the data from the existing linked list\n",
    "        curr.next = Node(root.data)\n",
    "        # Move the current node to the next node in the new linked list\n",
    "        curr = curr.next\n",
    "        # Move to the next node in the existing linked list\n",
    "        root = root.next\n",
    "    \n",
    "    # Return the head of the new linked list\n",
    "    return head"
   ]
  },
  {
   "cell_type": "markdown",
   "id": "96e2faaf",
   "metadata": {},
   "source": [
    "## Delete the Last Element"
   ]
  },
  {
   "cell_type": "code",
   "execution_count": 4,
   "id": "46777d67",
   "metadata": {
    "ExecuteTime": {
     "end_time": "2023-11-18T14:15:04.278079Z",
     "start_time": "2023-11-18T14:15:04.253067Z"
    }
   },
   "outputs": [],
   "source": [
    "class Node:\n",
    "    def __init__(self, val=0, next=None):\n",
    "        self.val = val\n",
    "        self.next = next\n",
    "\n",
    "\n",
    "# Please do not change code above.\n",
    "\n",
    "def deleteLast(root: Node) -> Node:\n",
    "    # If the linked list is empty or has only one node\n",
    "    if root is None or root.next is None:\n",
    "        return None\n",
    "\n",
    "    # Start from the head of the linked list\n",
    "    curr = root\n",
    "\n",
    "    # Traverse the linked list until the second-to-last node\n",
    "    while curr.next.next is not None:\n",
    "        curr = curr.next\n",
    "\n",
    "    # Set the next pointer of the second-to-last node to None, effectively removing the last node\n",
    "    curr.next = None\n",
    "\n",
    "    # Return the modified linked list\n",
    "    return root"
   ]
  },
  {
   "cell_type": "markdown",
   "id": "e02dd4e9",
   "metadata": {},
   "source": [
    "## Find the Length Of the Linked List"
   ]
  },
  {
   "cell_type": "code",
   "execution_count": 5,
   "id": "2e401c68",
   "metadata": {
    "ExecuteTime": {
     "end_time": "2023-11-18T14:28:45.445125Z",
     "start_time": "2023-11-18T14:28:45.424132Z"
    }
   },
   "outputs": [],
   "source": [
    "def length(head):\n",
    "    # Initialize a pointer to the head of the linked list\n",
    "    curr = head\n",
    "    # Initialize a variable to count the number of nodes\n",
    "    count = 0\n",
    "    \n",
    "    # Traverse the linked list until the end (i.e., until the current node is None)\n",
    "    while curr is not None:\n",
    "        # Increment the count for each node\n",
    "        count += 1\n",
    "        # Move to the next node\n",
    "        curr = curr.next\n",
    "    \n",
    "    # Return the count, which represents the length of the linked list\n",
    "    return count"
   ]
  },
  {
   "cell_type": "markdown",
   "id": "70f47a3e",
   "metadata": {},
   "source": [
    "## Search in a Linked List"
   ]
  },
  {
   "cell_type": "code",
   "execution_count": 6,
   "id": "a097a5c0",
   "metadata": {
    "ExecuteTime": {
     "end_time": "2023-11-18T14:31:32.429341Z",
     "start_time": "2023-11-18T14:31:32.403653Z"
    }
   },
   "outputs": [],
   "source": [
    "def searchInLinkedList(head, k):\n",
    "    # Start at the head of the linked list\n",
    "    curr = head\n",
    "    \n",
    "    # Traverse the linked list until the end (i.e., until the current node is None)\n",
    "    while curr is not None:\n",
    "        # Check if the data of the current node matches the target value, k\n",
    "        if curr.data == k:\n",
    "            return 1  # Return 1 if the value is found\n",
    "        \n",
    "        # Move to the next node\n",
    "        curr = curr.next\n",
    "    \n",
    "    # Return 0 if the value is not found in the linked list\n",
    "    return 0"
   ]
  },
  {
   "cell_type": "markdown",
   "id": "917b7e8e",
   "metadata": {},
   "source": [
    "## Middle OF the Linked List"
   ]
  },
  {
   "cell_type": "markdown",
   "id": "c0681d8c",
   "metadata": {},
   "source": [
    "### Count Method"
   ]
  },
  {
   "cell_type": "code",
   "execution_count": 7,
   "id": "66d7dedd",
   "metadata": {
    "ExecuteTime": {
     "end_time": "2023-11-19T16:37:23.606996Z",
     "start_time": "2023-11-19T16:37:23.564148Z"
    }
   },
   "outputs": [],
   "source": [
    "def findMiddle(head):\n",
    "    # Initialize count and current pointers\n",
    "    count = 0\n",
    "    curr = head\n",
    "    \n",
    "    # Count the total number of nodes in the linked list\n",
    "    while curr is not None:\n",
    "        curr = curr.next\n",
    "        count += 1\n",
    "    \n",
    "    # Calculate the middle index\n",
    "    k = count // 2\n",
    "    \n",
    "    # Reset the current pointer to the head\n",
    "    curr = head\n",
    "    \n",
    "    # Traverse to the middle node\n",
    "    while k > 0:\n",
    "        k -= 1\n",
    "        curr = curr.next\n",
    "    \n",
    "    # Return the middle node\n",
    "    return curr"
   ]
  },
  {
   "cell_type": "markdown",
   "id": "a995cb82",
   "metadata": {},
   "source": [
    "### Tortoise Method"
   ]
  },
  {
   "cell_type": "code",
   "execution_count": 8,
   "id": "fe43c241",
   "metadata": {
    "ExecuteTime": {
     "end_time": "2023-11-19T16:37:36.643397Z",
     "start_time": "2023-11-19T16:37:36.629496Z"
    }
   },
   "outputs": [],
   "source": [
    "def findMiddle(head):\n",
    "    # Initialize fast and slow pointers\n",
    "    fast = head.next\n",
    "    slow = head\n",
    "    \n",
    "    # Traverse the linked list\n",
    "    while fast is not None:\n",
    "        # Move the fast pointer two steps and the slow pointer one step\n",
    "        fast = fast.next.next if fast.next else None\n",
    "        slow = slow.next\n",
    "    \n",
    "    # At this point, the slow pointer is at the middle node\n",
    "    return slow"
   ]
  },
  {
   "cell_type": "markdown",
   "id": "621f75a4",
   "metadata": {},
   "source": [
    "## Reverse Linked List (Iterative)"
   ]
  },
  {
   "cell_type": "code",
   "execution_count": 3,
   "id": "a6777db3",
   "metadata": {
    "ExecuteTime": {
     "end_time": "2023-11-19T14:26:41.456400Z",
     "start_time": "2023-11-19T14:26:41.430160Z"
    }
   },
   "outputs": [],
   "source": [
    "def reverseLinkedList(head):\n",
    "    # Initialize pointers\n",
    "    curr = head\n",
    "    prev = None\n",
    "    \n",
    "    # Traverse the linked list\n",
    "    while curr is not None:\n",
    "        nxt = curr.next  # Save the next node\n",
    "        \n",
    "        # Reverse the next pointer of the current node\n",
    "        curr.next = prev\n",
    "        \n",
    "        # Move to the next nodes\n",
    "        prev = curr\n",
    "        curr = nxt\n",
    "    \n",
    "    # After the loop, 'prev' points to the new head of the reversed linked list\n",
    "    return prev\n"
   ]
  },
  {
   "cell_type": "markdown",
   "id": "8f5a4d82",
   "metadata": {},
   "source": [
    "## Reverse Linked List (Recursive)"
   ]
  },
  {
   "cell_type": "code",
   "execution_count": 4,
   "id": "09d48979",
   "metadata": {
    "ExecuteTime": {
     "end_time": "2023-11-19T14:27:00.200390Z",
     "start_time": "2023-11-19T14:27:00.181122Z"
    }
   },
   "outputs": [],
   "source": [
    "def reverseLinkedList(head):\n",
    "    # Define a helper function for recursion\n",
    "    def reverse(prev, head):\n",
    "        # Base case: if the current node is None, return the previous node\n",
    "        if head is None:\n",
    "            return prev\n",
    "        else:\n",
    "            nxt = head.next  # Save the next node\n",
    "            head.next = prev  # Reverse the next pointer of the current node\n",
    "            prev = head  # Move the previous pointer to the current node\n",
    "            head = nxt  # Move the current pointer to the next node\n",
    "            # Recursive call to reverse the remaining part of the linked list\n",
    "            return reverse(prev, head)\n",
    "    \n",
    "    # Start the recursion with initial values for prev and head\n",
    "    return reverse(None, head)"
   ]
  },
  {
   "cell_type": "markdown",
   "id": "4b855792",
   "metadata": {},
   "source": [
    "## Detect Cycle"
   ]
  },
  {
   "cell_type": "markdown",
   "id": "9ee89d02",
   "metadata": {},
   "source": [
    "### By Using HashMap\n",
    "This code defines a method within a class (`Solution`) that checks whether a linked list has a cycle using a hash table. The method, `hasCycle`, returns `True` if a cycle is detected and `False` otherwise. It uses a dictionary (`mp`) to keep track of visited nodes.\n",
    "\n",
    "Here's the code with added comments for better understanding:\n",
    "\n",
    "\n",
    "Explanation of key points:\n",
    "\n",
    "- **Initialization:** The function starts with an empty dictionary (`mp`), a counter (`count`), and a pointer (`curr`) at the head of the linked list.\n",
    "\n",
    "- **Traverse the Linked List:** The function traverses the linked list, storing each node and its corresponding index in the dictionary.\n",
    "\n",
    "- **Cycle Detection:** If a node is encountered that is already in the dictionary, it means a cycle is detected, and the function returns `True`.\n",
    "\n",
    "- **Return:** If the traversal completes without detecting a cycle, the function returns `False`.\n",
    "\n",
    "Note: This solution uses extra space to store the nodes in a dictionary, and there are more memory-efficient approaches, such as using the slow and fast pointer technique.\n",
    "\n",
    "If you have any further questions or need additional clarification, feel free to ask!"
   ]
  },
  {
   "cell_type": "code",
   "execution_count": 14,
   "id": "8cc758db",
   "metadata": {
    "ExecuteTime": {
     "end_time": "2023-11-19T16:53:40.719933Z",
     "start_time": "2023-11-19T16:53:40.703721Z"
    }
   },
   "outputs": [],
   "source": [
    "class Solution:\n",
    "    def hasCycle(self, head: Optional[ListNode]) -> bool:\n",
    "        \"\"\"\n",
    "        Checks whether a linked list has a cycle.\n",
    "\n",
    "        Parameters:\n",
    "        - head: The head of the linked list.\n",
    "\n",
    "        Returns:\n",
    "        - True if a cycle is detected, False otherwise.\n",
    "        \"\"\"\n",
    "\n",
    "        mp = {}  # A dictionary to store nodes and their corresponding indices\n",
    "        count = 0  # Counter to keep track of the index\n",
    "        curr = head  # Start at the head of the linked list\n",
    "\n",
    "        # Traverse the linked list\n",
    "        while curr:\n",
    "            # Check if the current node is already in the dictionary\n",
    "            if curr not in mp:\n",
    "                mp[curr] = count  # Store the current node and its index in the dictionary\n",
    "            else:\n",
    "                return True  # If the current node is already in the dictionary, a cycle is detected\n",
    "\n",
    "            count += 1  # Increment the index\n",
    "            curr = curr.next  # Move to the next node\n",
    "\n",
    "        return False  # Return False if no cycle is detected in the linked list"
   ]
  },
  {
   "cell_type": "markdown",
   "id": "488e6a3e",
   "metadata": {
    "ExecuteTime": {
     "end_time": "2023-11-19T16:56:51.471756Z",
     "start_time": "2023-11-19T16:56:51.426180Z"
    }
   },
   "source": [
    "### Floyd's cycle-finding algorithm (tortoise and hare algorithm)\n",
    "Code is an implementation of Floyd's cycle-finding algorithm (tortoise and hare algorithm) to detect a cycle in a linked list. The function `detectCycle` takes the head of a linked list as input and returns `1` if a cycle is detected and `0` otherwise.\n",
    "\n",
    "Here's the code with added comments for better understanding:\n"
   ]
  },
  {
   "cell_type": "code",
   "execution_count": 15,
   "id": "038a4273",
   "metadata": {
    "ExecuteTime": {
     "end_time": "2023-11-19T16:55:40.022520Z",
     "start_time": "2023-11-19T16:55:40.008968Z"
    }
   },
   "outputs": [],
   "source": [
    "def detectCycle(head):\n",
    "    \"\"\"\n",
    "    Detects a cycle in a linked list using Floyd's cycle-finding algorithm.\n",
    "\n",
    "    Parameters:\n",
    "    - head: The head of the linked list.\n",
    "\n",
    "    Returns:\n",
    "    - 1 if a cycle is detected, 0 otherwise.\n",
    "    \"\"\"\n",
    "\n",
    "    # Initialize fast and slow pointers to the head of the linked list\n",
    "    fast = head\n",
    "    slow = head\n",
    "    \n",
    "    # Iterate until either fast reaches the end or a cycle is detected\n",
    "    while fast is not None and fast.next is not None:\n",
    "        fast = fast.next.next  # Move fast by two steps\n",
    "        slow = slow.next  # Move slow by one step\n",
    "        \n",
    "        # Check for a cycle\n",
    "        if fast == slow:\n",
    "            return 1  # Return 1 if a cycle is detected\n",
    "    \n",
    "    # If the loop completes without finding a cycle, return 0\n",
    "    return 0  # Return 0 if no cycle is detected"
   ]
  },
  {
   "cell_type": "code",
   "execution_count": 17,
   "id": "78fe1602",
   "metadata": {
    "ExecuteTime": {
     "end_time": "2023-11-19T17:00:08.777523Z",
     "start_time": "2023-11-19T17:00:08.756667Z"
    }
   },
   "outputs": [],
   "source": [
    "def detectCycle(head):\n",
    "    \"\"\"\n",
    "    Detects a cycle in a linked list using Floyd's cycle-finding algorithm.\n",
    "\n",
    "    Parameters:\n",
    "    - head: The head of the linked list.\n",
    "\n",
    "    Returns:\n",
    "    - 1 if a cycle is detected, 0 otherwise.\n",
    "    \"\"\"\n",
    "\n",
    "    # Initialize fast and slow pointers\n",
    "    fast = head.next\n",
    "    slow = head\n",
    "    \n",
    "    # Iterate until either fast reaches the end or a cycle is detected\n",
    "    while fast is not None and fast != slow:\n",
    "        fast = fast.next.next if fast.next else None  # Move fast by two steps if possible\n",
    "        slow = slow.next  # Move slow by one step\n",
    "        \n",
    "        # Check for a cycle\n",
    "        if fast == slow:\n",
    "            return 1  # Return 1 if a cycle is detected\n",
    "    \n",
    "    # If the loop completes without finding a cycle, return 0\n",
    "    return 0  # Return 0 if no cycle is detected\n"
   ]
  },
  {
   "cell_type": "markdown",
   "id": "5be2c5dc",
   "metadata": {},
   "source": [
    "## Find Starting Point in LL"
   ]
  },
  {
   "cell_type": "markdown",
   "id": "4bff158f",
   "metadata": {},
   "source": [
    "The provided code is a part of a solution to detect a cycle in a linked list using a hash table to store visited nodes. The `detectCycle` method is part of a class (`Solution`) and takes the head of a linked list as input. If a cycle is detected, it returns the node where the cycle begins; otherwise, it returns `None`.\n"
   ]
  },
  {
   "cell_type": "code",
   "execution_count": 18,
   "id": "8057d111",
   "metadata": {
    "ExecuteTime": {
     "end_time": "2023-11-19T17:01:01.752032Z",
     "start_time": "2023-11-19T17:01:01.726770Z"
    }
   },
   "outputs": [],
   "source": [
    "from typing import *\n",
    "class ListNode:\n",
    "    def __init__(self, x):\n",
    "        self.val = x\n",
    "        self.next = None\n",
    "class Solution:\n",
    "    def detectCycle(self, head: Optional[ListNode]) -> Optional[ListNode]:\n",
    "        \"\"\"\n",
    "        Detects the starting node of a cycle in a linked list.\n",
    "\n",
    "        Parameters:\n",
    "        - head: The head of the linked list.\n",
    "\n",
    "        Returns:\n",
    "        - The starting node of the cycle if detected, None otherwise.\n",
    "        \"\"\"\n",
    "\n",
    "        mp = {}  # A dictionary to store nodes and their corresponding indices\n",
    "        count = 0  # Counter to keep track of the index\n",
    "        curr = head  # Start at the head of the linked list\n",
    "        \n",
    "        # Traverse the linked list\n",
    "        while curr:\n",
    "            # Check if the current node is already in the dictionary\n",
    "            if curr not in mp:\n",
    "                mp[curr] = count  # Store the current node and its index in the dictionary\n",
    "            else:\n",
    "                return curr  # If the current node is already in the dictionary, a cycle is detected\n",
    "            \n",
    "            count += 1  # Increment the index\n",
    "            curr = curr.next  # Move to the next node\n",
    "        \n",
    "        return None  # Return None if no cycle is detected in the linked list"
   ]
  },
  {
   "cell_type": "markdown",
   "id": "b1ec9d07",
   "metadata": {},
   "source": [
    "# 2D Linked List"
   ]
  },
  {
   "cell_type": "markdown",
   "id": "47385d30",
   "metadata": {},
   "source": [
    "## Array to Doubly Linked List"
   ]
  },
  {
   "cell_type": "code",
   "execution_count": 9,
   "id": "547fef81",
   "metadata": {
    "ExecuteTime": {
     "end_time": "2023-11-18T15:09:43.756359Z",
     "start_time": "2023-11-18T15:09:43.713142Z"
    }
   },
   "outputs": [],
   "source": [
    "class Node:\n",
    "    def __init__(self, data=None, prev=None, next=None):\n",
    "        self.data = data\n",
    "        self.prev = prev\n",
    "        self.next = next\n",
    "\n",
    "def constructDLL(arr: [int]) -> Node:\n",
    "    # Create a dummy head node to simplify handling of the first node\n",
    "    head = Node()\n",
    "    # Initialize current and previous pointers\n",
    "    curr = head\n",
    "    prev = None\n",
    "    \n",
    "    # Iterate through the array\n",
    "    for num in arr:\n",
    "        # Create a new node with the current number\n",
    "        curr.next = Node(num)\n",
    "        # Set the previous pointer of the current node\n",
    "        curr.next.prev = curr\n",
    "        # Move the current pointer to the newly created node\n",
    "        curr = curr.next\n",
    "    \n",
    "    # Return the next of the dummy head, which is the actual head of the doubly linked list\n",
    "    return head.next"
   ]
  },
  {
   "cell_type": "markdown",
   "id": "c1f62e79",
   "metadata": {},
   "source": [
    "## Insert at the end of DLL"
   ]
  },
  {
   "cell_type": "code",
   "execution_count": 10,
   "id": "b58ee3dd",
   "metadata": {
    "ExecuteTime": {
     "end_time": "2023-11-18T15:14:37.947009Z",
     "start_time": "2023-11-18T15:14:37.909058Z"
    }
   },
   "outputs": [],
   "source": [
    "class Node:\n",
    "    def __init__(self, data=None, prev=None, next=None):\n",
    "        self.data = data\n",
    "        self.prev = prev\n",
    "        self.next = next\n",
    "\n",
    "def insertAtTail(head: Node, k: int) -> Node:\n",
    "    # Check if the linked list is empty\n",
    "    if head is None:\n",
    "        return Node(k)  # If empty, create a new node as the head\n",
    "    \n",
    "    # Start at the head of the linked list\n",
    "    curr = head\n",
    "    \n",
    "    # Traverse the linked list until the end (i.e., until the current node's next is None)\n",
    "    while curr.next is not None:\n",
    "        curr = curr.next  # Move to the next node\n",
    "    \n",
    "    # Create a new node with the given value at the end of the linked list\n",
    "    curr.next = Node(k)\n",
    "    curr.next.prev = curr  # Set the previous pointer of the new node\n",
    "    return head  # Return the head of the linked list"
   ]
  },
  {
   "cell_type": "markdown",
   "id": "8511e106",
   "metadata": {},
   "source": [
    "## Delete Last Node of a DLL"
   ]
  },
  {
   "cell_type": "code",
   "execution_count": 11,
   "id": "40f7633a",
   "metadata": {
    "ExecuteTime": {
     "end_time": "2023-11-18T15:17:55.105686Z",
     "start_time": "2023-11-18T15:17:55.073355Z"
    }
   },
   "outputs": [],
   "source": [
    "class Node:\n",
    "    def __init__(self, data=None, prev=None, next=None):\n",
    "        self.data = data\n",
    "        self.prev = prev\n",
    "        self.next = next\n",
    "\n",
    "def deleteLastNode(head: Node) -> Node:\n",
    "    # Check if the linked list has only one node\n",
    "    if head.next is None:\n",
    "        return None  # If only one node, return None to indicate an empty list\n",
    "    \n",
    "    # Start at the head of the linked list\n",
    "    curr = head\n",
    "    \n",
    "    # Traverse the linked list until the second-to-last node\n",
    "    while curr.next.next is not None:\n",
    "        curr = curr.next  # Move to the next node\n",
    "    \n",
    "    # Set the previous pointer of the last node to None\n",
    "    curr.next.prev = None\n",
    "    \n",
    "    # Set the next pointer of the second-to-last node to None, effectively removing the last node\n",
    "    curr.next = None\n",
    "    \n",
    "    return head  # Return the head of the modified linked list"
   ]
  },
  {
   "cell_type": "markdown",
   "id": "393529c1",
   "metadata": {},
   "source": [
    "## Reverse DLL"
   ]
  },
  {
   "cell_type": "code",
   "execution_count": 12,
   "id": "6a835999",
   "metadata": {
    "ExecuteTime": {
     "end_time": "2023-11-18T15:35:15.950274Z",
     "start_time": "2023-11-18T15:35:15.920142Z"
    }
   },
   "outputs": [],
   "source": [
    "class Node:\n",
    "    def __init__(self, data=None, prev=None, next=None):\n",
    "        self.data = data\n",
    "        self.prev = prev\n",
    "        self.next = next\n",
    "\n",
    "def reverseDLL(head):\n",
    "    # Start at the head of the linked list\n",
    "    curr = head\n",
    "    prev = None\n",
    "    \n",
    "    # Traverse the linked list\n",
    "    while curr is not None:\n",
    "        temp = curr.next  # Save the next node\n",
    "        \n",
    "        # Reverse the pointers\n",
    "        curr.prev = curr.next\n",
    "        curr.next = prev\n",
    "        \n",
    "        # Move to the next node\n",
    "        prev = curr\n",
    "        curr = temp\n",
    "    \n",
    "    # Set the head to the new tail (prev)\n",
    "    head = prev\n",
    "    \n",
    "    return head"
   ]
  },
  {
   "cell_type": "code",
   "execution_count": null,
   "id": "f1f0a064",
   "metadata": {},
   "outputs": [],
   "source": []
  }
 ],
 "metadata": {
  "kernelspec": {
   "display_name": "Python 3 (ipykernel)",
   "language": "python",
   "name": "python3"
  },
  "language_info": {
   "codemirror_mode": {
    "name": "ipython",
    "version": 3
   },
   "file_extension": ".py",
   "mimetype": "text/x-python",
   "name": "python",
   "nbconvert_exporter": "python",
   "pygments_lexer": "ipython3",
   "version": "3.10.10"
  },
  "toc": {
   "base_numbering": 1,
   "nav_menu": {},
   "number_sections": true,
   "sideBar": true,
   "skip_h1_title": false,
   "title_cell": "Table of Contents",
   "title_sidebar": "Contents",
   "toc_cell": true,
   "toc_position": {},
   "toc_section_display": true,
   "toc_window_display": false
  }
 },
 "nbformat": 4,
 "nbformat_minor": 5
}
