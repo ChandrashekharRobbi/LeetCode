{
 "cells": [
  {
   "cell_type": "markdown",
   "id": "f112fcd2",
   "metadata": {
    "toc": true
   },
   "source": [
    "<h1>Table of Contents<span class=\"tocSkip\"></span></h1>\n",
    "<div class=\"toc\"><ul class=\"toc-item\"><li><span><a href=\"#1D-Linked-List\" data-toc-modified-id=\"1D-Linked-List-1\"><span class=\"toc-item-num\">1&nbsp;&nbsp;</span>1D Linked List</a></span><ul class=\"toc-item\"><li><span><a href=\"#Array-to-LinkedList\" data-toc-modified-id=\"Array-to-LinkedList-1.1\"><span class=\"toc-item-num\">1.1&nbsp;&nbsp;</span>Array to LinkedList</a></span></li><li><span><a href=\"#Insert-Node-at-the-Beginning\" data-toc-modified-id=\"Insert-Node-at-the-Beginning-1.2\"><span class=\"toc-item-num\">1.2&nbsp;&nbsp;</span>Insert Node at the Beginning</a></span></li><li><span><a href=\"#Delete-the-Last-Element\" data-toc-modified-id=\"Delete-the-Last-Element-1.3\"><span class=\"toc-item-num\">1.3&nbsp;&nbsp;</span>Delete the Last Element</a></span></li><li><span><a href=\"#Find-the-Length-Of-the-Linked-List\" data-toc-modified-id=\"Find-the-Length-Of-the-Linked-List-1.4\"><span class=\"toc-item-num\">1.4&nbsp;&nbsp;</span>Find the Length Of the Linked List</a></span></li><li><span><a href=\"#Search-in-a-Linked-List\" data-toc-modified-id=\"Search-in-a-Linked-List-1.5\"><span class=\"toc-item-num\">1.5&nbsp;&nbsp;</span>Search in a Linked List</a></span></li><li><span><a href=\"#Middle-OF-the-Linked-List\" data-toc-modified-id=\"Middle-OF-the-Linked-List-1.6\"><span class=\"toc-item-num\">1.6&nbsp;&nbsp;</span>Middle OF the Linked List</a></span><ul class=\"toc-item\"><li><span><a href=\"#Count-Method\" data-toc-modified-id=\"Count-Method-1.6.1\"><span class=\"toc-item-num\">1.6.1&nbsp;&nbsp;</span>Count Method</a></span></li><li><span><a href=\"#Tortoise-Method\" data-toc-modified-id=\"Tortoise-Method-1.6.2\"><span class=\"toc-item-num\">1.6.2&nbsp;&nbsp;</span>Tortoise Method</a></span></li></ul></li><li><span><a href=\"#Reverse-Linked-List-(Iterative)\" data-toc-modified-id=\"Reverse-Linked-List-(Iterative)-1.7\"><span class=\"toc-item-num\">1.7&nbsp;&nbsp;</span>Reverse Linked List (Iterative)</a></span></li><li><span><a href=\"#Reverse-Linked-List-(Recursive)\" data-toc-modified-id=\"Reverse-Linked-List-(Recursive)-1.8\"><span class=\"toc-item-num\">1.8&nbsp;&nbsp;</span>Reverse Linked List (Recursive)</a></span></li><li><span><a href=\"#Detect-Cycle\" data-toc-modified-id=\"Detect-Cycle-1.9\"><span class=\"toc-item-num\">1.9&nbsp;&nbsp;</span>Detect Cycle</a></span><ul class=\"toc-item\"><li><span><a href=\"#By-Using-HashMap\" data-toc-modified-id=\"By-Using-HashMap-1.9.1\"><span class=\"toc-item-num\">1.9.1&nbsp;&nbsp;</span>By Using HashMap</a></span></li><li><span><a href=\"#Floyd's-cycle-finding-algorithm-(tortoise-and-hare-algorithm)\" data-toc-modified-id=\"Floyd's-cycle-finding-algorithm-(tortoise-and-hare-algorithm)-1.9.2\"><span class=\"toc-item-num\">1.9.2&nbsp;&nbsp;</span>Floyd's cycle-finding algorithm (tortoise and hare algorithm)</a></span></li></ul></li><li><span><a href=\"#Find-Starting-Point-in-LL\" data-toc-modified-id=\"Find-Starting-Point-in-LL-1.10\"><span class=\"toc-item-num\">1.10&nbsp;&nbsp;</span>Find Starting Point in LL</a></span><ul class=\"toc-item\"><li><span><a href=\"#By-using-Set\" data-toc-modified-id=\"By-using-Set-1.10.1\"><span class=\"toc-item-num\">1.10.1&nbsp;&nbsp;</span>By using Set</a></span></li><li><span><a href=\"#By-Using-HashMap\" data-toc-modified-id=\"By-Using-HashMap-1.10.2\"><span class=\"toc-item-num\">1.10.2&nbsp;&nbsp;</span>By Using HashMap</a></span></li><li><span><a href=\"#By-using-SLow-fast-Approach\" data-toc-modified-id=\"By-using-SLow-fast-Approach-1.10.3\"><span class=\"toc-item-num\">1.10.3&nbsp;&nbsp;</span>By using SLow fast Approach</a></span></li></ul></li><li><span><a href=\"#Length-Of-a-Loop\" data-toc-modified-id=\"Length-Of-a-Loop-1.11\"><span class=\"toc-item-num\">1.11&nbsp;&nbsp;</span>Length Of a Loop</a></span><ul class=\"toc-item\"><li><span><a href=\"#By-Using-Counter-Method-and-HashMap\" data-toc-modified-id=\"By-Using-Counter-Method-and-HashMap-1.11.1\"><span class=\"toc-item-num\">1.11.1&nbsp;&nbsp;</span>By Using Counter Method and HashMap</a></span></li></ul></li><li><span><a href=\"#Check-If-Linked-List-Is-Palindrome\" data-toc-modified-id=\"Check-If-Linked-List-Is-Palindrome-1.12\"><span class=\"toc-item-num\">1.12&nbsp;&nbsp;</span>Check If Linked List Is Palindrome</a></span><ul class=\"toc-item\"><li><span><a href=\"#By-using-Arrays\" data-toc-modified-id=\"By-using-Arrays-1.12.1\"><span class=\"toc-item-num\">1.12.1&nbsp;&nbsp;</span>By using Arrays</a></span></li><li><span><a href=\"#By-Using-Reverse-LL\" data-toc-modified-id=\"By-Using-Reverse-LL-1.12.2\"><span class=\"toc-item-num\">1.12.2&nbsp;&nbsp;</span>By Using Reverse LL</a></span></li><li><span><a href=\"#By-using-3-Steps\" data-toc-modified-id=\"By-using-3-Steps-1.12.3\"><span class=\"toc-item-num\">1.12.3&nbsp;&nbsp;</span>By using 3 Steps</a></span></li></ul></li><li><span><a href=\"#Segregate-Even-And-Odd-Nodes-In-a-Linked-List\" data-toc-modified-id=\"Segregate-Even-And-Odd-Nodes-In-a-Linked-List-1.13\"><span class=\"toc-item-num\">1.13&nbsp;&nbsp;</span>Segregate Even And Odd Nodes In a Linked List</a></span><ul class=\"toc-item\"><li><span><a href=\"#By-using-2-sepearate-Linked-List-for-Odd-and-Even\" data-toc-modified-id=\"By-using-2-sepearate-Linked-List-for-Odd-and-Even-1.13.1\"><span class=\"toc-item-num\">1.13.1&nbsp;&nbsp;</span>By using 2 sepearate Linked List for Odd and Even</a></span></li><li><span><a href=\"#By-using-Queue\" data-toc-modified-id=\"By-using-Queue-1.13.2\"><span class=\"toc-item-num\">1.13.2&nbsp;&nbsp;</span>By using Queue</a></span></li></ul></li><li><span><a href=\"#Odd-Even-Linked-List\" data-toc-modified-id=\"Odd-Even-Linked-List-1.14\"><span class=\"toc-item-num\">1.14&nbsp;&nbsp;</span>Odd Even Linked List</a></span></li><li><span><a href=\"#Delete-Kth-Node-From-End\" data-toc-modified-id=\"Delete-Kth-Node-From-End-1.15\"><span class=\"toc-item-num\">1.15&nbsp;&nbsp;</span>Delete Kth Node From End</a></span></li><li><span><a href=\"#Delete-Middle-Node\" data-toc-modified-id=\"Delete-Middle-Node-1.16\"><span class=\"toc-item-num\">1.16&nbsp;&nbsp;</span>Delete Middle Node</a></span></li><li><span><a href=\"#Sort-the-List\" data-toc-modified-id=\"Sort-the-List-1.17\"><span class=\"toc-item-num\">1.17&nbsp;&nbsp;</span>Sort the List</a></span><ul class=\"toc-item\"><li><span><a href=\"#By-using-arrays\" data-toc-modified-id=\"By-using-arrays-1.17.1\"><span class=\"toc-item-num\">1.17.1&nbsp;&nbsp;</span>By using arrays</a></span></li><li><span><a href=\"#By-using-Merge-Sort\" data-toc-modified-id=\"By-using-Merge-Sort-1.17.2\"><span class=\"toc-item-num\">1.17.2&nbsp;&nbsp;</span>By using Merge Sort</a></span></li></ul></li><li><span><a href=\"#Intersection-of-Two-Linked-Lists\" data-toc-modified-id=\"Intersection-of-Two-Linked-Lists-1.18\"><span class=\"toc-item-num\">1.18&nbsp;&nbsp;</span>Intersection of Two Linked Lists</a></span><ul class=\"toc-item\"><li><span><a href=\"#By-using-Set\" data-toc-modified-id=\"By-using-Set-1.18.1\"><span class=\"toc-item-num\">1.18.1&nbsp;&nbsp;</span>By using Set</a></span></li><li><span><a href=\"#By-using-Two-Pointers-Method\" data-toc-modified-id=\"By-using-Two-Pointers-Method-1.18.2\"><span class=\"toc-item-num\">1.18.2&nbsp;&nbsp;</span>By using Two Pointers Method</a></span></li></ul></li></ul></li><li><span><a href=\"#2D-Linked-List\" data-toc-modified-id=\"2D-Linked-List-2\"><span class=\"toc-item-num\">2&nbsp;&nbsp;</span>2D Linked List</a></span><ul class=\"toc-item\"><li><span><a href=\"#Array-to-Doubly-Linked-List\" data-toc-modified-id=\"Array-to-Doubly-Linked-List-2.1\"><span class=\"toc-item-num\">2.1&nbsp;&nbsp;</span>Array to Doubly Linked List</a></span></li><li><span><a href=\"#Insert-at-the-end-of-DLL\" data-toc-modified-id=\"Insert-at-the-end-of-DLL-2.2\"><span class=\"toc-item-num\">2.2&nbsp;&nbsp;</span>Insert at the end of DLL</a></span></li><li><span><a href=\"#Delete-Last-Node-of-a-DLL\" data-toc-modified-id=\"Delete-Last-Node-of-a-DLL-2.3\"><span class=\"toc-item-num\">2.3&nbsp;&nbsp;</span>Delete Last Node of a DLL</a></span></li><li><span><a href=\"#Reverse-DLL\" data-toc-modified-id=\"Reverse-DLL-2.4\"><span class=\"toc-item-num\">2.4&nbsp;&nbsp;</span>Reverse DLL</a></span></li></ul></li></ul></div>"
   ]
  },
  {
   "cell_type": "markdown",
   "id": "316edf92",
   "metadata": {},
   "source": [
    "# 1D Linked List"
   ]
  },
  {
   "cell_type": "code",
   "execution_count": 1,
   "id": "fad616cb",
   "metadata": {
    "ExecuteTime": {
     "end_time": "2023-11-18T14:06:02.112291Z",
     "start_time": "2023-11-18T14:06:02.084678Z"
    }
   },
   "outputs": [],
   "source": [
    "class Node:\n",
    "    def __init__(self, val=0, next=None):\n",
    "        self.val = val\n",
    "        self.next = next"
   ]
  },
  {
   "cell_type": "markdown",
   "id": "ffcdb0d8",
   "metadata": {},
   "source": [
    "## Array to LinkedList"
   ]
  },
  {
   "cell_type": "code",
   "execution_count": 2,
   "id": "3147ed5e",
   "metadata": {
    "ExecuteTime": {
     "end_time": "2023-11-18T14:06:05.606739Z",
     "start_time": "2023-11-18T14:06:05.588189Z"
    }
   },
   "outputs": [],
   "source": [
    "def constructLL(arr: [int]) -> Node:\n",
    "    # Write your code here\n",
    "    head = Node(0)\n",
    "    curr = head\n",
    "    for i in arr:\n",
    "        curr.next = Node(i)\n",
    "        curr = curr.next\n",
    "    return head.next"
   ]
  },
  {
   "cell_type": "markdown",
   "id": "0d76f9ee",
   "metadata": {},
   "source": [
    "## Insert Node at the Beginning"
   ]
  },
  {
   "cell_type": "code",
   "execution_count": 3,
   "id": "551fa8c2",
   "metadata": {
    "ExecuteTime": {
     "end_time": "2023-11-18T14:11:42.604011Z",
     "start_time": "2023-11-18T14:11:42.577988Z"
    }
   },
   "outputs": [],
   "source": [
    "class Node:\n",
    "    def __init__(self, data):\n",
    "        self.data = data\n",
    "        self.next = None\n",
    "\n",
    "def insertAtFirst(root: Node, newValue: int) -> Node:\n",
    "    # Create a new node with the given value\n",
    "    head = Node(newValue)\n",
    "    # Set current node to the newly created head\n",
    "    curr = head\n",
    "    \n",
    "    # Iterate through the existing linked list\n",
    "    while root is not None:\n",
    "        # Create a new node with the data from the existing linked list\n",
    "        curr.next = Node(root.data)\n",
    "        # Move the current node to the next node in the new linked list\n",
    "        curr = curr.next\n",
    "        # Move to the next node in the existing linked list\n",
    "        root = root.next\n",
    "    \n",
    "    # Return the head of the new linked list\n",
    "    return head"
   ]
  },
  {
   "cell_type": "markdown",
   "id": "96e2faaf",
   "metadata": {},
   "source": [
    "## Delete the Last Element"
   ]
  },
  {
   "cell_type": "code",
   "execution_count": 4,
   "id": "46777d67",
   "metadata": {
    "ExecuteTime": {
     "end_time": "2023-11-18T14:15:04.278079Z",
     "start_time": "2023-11-18T14:15:04.253067Z"
    }
   },
   "outputs": [],
   "source": [
    "class Node:\n",
    "    def __init__(self, val=0, next=None):\n",
    "        self.val = val\n",
    "        self.next = next\n",
    "\n",
    "\n",
    "# Please do not change code above.\n",
    "\n",
    "def deleteLast(root: Node) -> Node:\n",
    "    # If the linked list is empty or has only one node\n",
    "    if root is None or root.next is None:\n",
    "        return None\n",
    "\n",
    "    # Start from the head of the linked list\n",
    "    curr = root\n",
    "\n",
    "    # Traverse the linked list until the second-to-last node\n",
    "    while curr.next.next is not None:\n",
    "        curr = curr.next\n",
    "\n",
    "    # Set the next pointer of the second-to-last node to None, effectively removing the last node\n",
    "    curr.next = None\n",
    "\n",
    "    # Return the modified linked list\n",
    "    return root"
   ]
  },
  {
   "cell_type": "markdown",
   "id": "e02dd4e9",
   "metadata": {},
   "source": [
    "## Find the Length Of the Linked List"
   ]
  },
  {
   "cell_type": "code",
   "execution_count": 5,
   "id": "2e401c68",
   "metadata": {
    "ExecuteTime": {
     "end_time": "2023-11-18T14:28:45.445125Z",
     "start_time": "2023-11-18T14:28:45.424132Z"
    }
   },
   "outputs": [],
   "source": [
    "def length(head):\n",
    "    # Initialize a pointer to the head of the linked list\n",
    "    curr = head\n",
    "    # Initialize a variable to count the number of nodes\n",
    "    count = 0\n",
    "    \n",
    "    # Traverse the linked list until the end (i.e., until the current node is None)\n",
    "    while curr is not None:\n",
    "        # Increment the count for each node\n",
    "        count += 1\n",
    "        # Move to the next node\n",
    "        curr = curr.next\n",
    "    \n",
    "    # Return the count, which represents the length of the linked list\n",
    "    return count"
   ]
  },
  {
   "cell_type": "markdown",
   "id": "70f47a3e",
   "metadata": {},
   "source": [
    "## Search in a Linked List"
   ]
  },
  {
   "cell_type": "code",
   "execution_count": 6,
   "id": "a097a5c0",
   "metadata": {
    "ExecuteTime": {
     "end_time": "2023-11-18T14:31:32.429341Z",
     "start_time": "2023-11-18T14:31:32.403653Z"
    }
   },
   "outputs": [],
   "source": [
    "def searchInLinkedList(head, k):\n",
    "    # Start at the head of the linked list\n",
    "    curr = head\n",
    "    \n",
    "    # Traverse the linked list until the end (i.e., until the current node is None)\n",
    "    while curr is not None:\n",
    "        # Check if the data of the current node matches the target value, k\n",
    "        if curr.data == k:\n",
    "            return 1  # Return 1 if the value is found\n",
    "        \n",
    "        # Move to the next node\n",
    "        curr = curr.next\n",
    "    \n",
    "    # Return 0 if the value is not found in the linked list\n",
    "    return 0"
   ]
  },
  {
   "cell_type": "markdown",
   "id": "4d9e699e",
   "metadata": {},
   "source": [
    "## Middle OF the Linked List"
   ]
  },
  {
   "cell_type": "markdown",
   "id": "5c22a199",
   "metadata": {},
   "source": [
    "### Count Method"
   ]
  },
  {
   "cell_type": "code",
   "execution_count": 7,
   "id": "bfd95b19",
   "metadata": {
    "ExecuteTime": {
     "end_time": "2023-11-19T16:37:23.606996Z",
     "start_time": "2023-11-19T16:37:23.564148Z"
    }
   },
   "outputs": [],
   "source": [
    "def findMiddle(head):\n",
    "    # Initialize count and current pointers\n",
    "    count = 0\n",
    "    curr = head\n",
    "    \n",
    "    # Count the total number of nodes in the linked list\n",
    "    while curr is not None:\n",
    "        curr = curr.next\n",
    "        count += 1\n",
    "    \n",
    "    # Calculate the middle index\n",
    "    k = count // 2\n",
    "    \n",
    "    # Reset the current pointer to the head\n",
    "    curr = head\n",
    "    \n",
    "    # Traverse to the middle node\n",
    "    while k > 0:\n",
    "        k -= 1\n",
    "        curr = curr.next\n",
    "    \n",
    "    # Return the middle node\n",
    "    return curr"
   ]
  },
  {
   "cell_type": "markdown",
   "id": "c40b33fb",
   "metadata": {},
   "source": [
    "### Tortoise Method"
   ]
  },
  {
   "cell_type": "code",
   "execution_count": 8,
   "id": "9711d494",
   "metadata": {
    "ExecuteTime": {
     "end_time": "2023-11-19T16:37:36.643397Z",
     "start_time": "2023-11-19T16:37:36.629496Z"
    }
   },
   "outputs": [],
   "source": [
    "def findMiddle(head):\n",
    "    # Initialize fast and slow pointers\n",
    "    fast = head.next\n",
    "    slow = head\n",
    "    \n",
    "    # Traverse the linked list\n",
    "    while fast is not None:\n",
    "        # Move the fast pointer two steps and the slow pointer one step\n",
    "        fast = fast.next.next if fast.next else None\n",
    "        slow = slow.next\n",
    "    \n",
    "    # At this point, the slow pointer is at the middle node\n",
    "    return slow"
   ]
  },
  {
   "cell_type": "markdown",
   "id": "b11a87d2",
   "metadata": {},
   "source": [
    "## Reverse Linked List (Iterative)"
   ]
  },
  {
   "cell_type": "code",
   "execution_count": 3,
   "id": "aad4d27a",
   "metadata": {
    "ExecuteTime": {
     "end_time": "2023-11-19T14:26:41.456400Z",
     "start_time": "2023-11-19T14:26:41.430160Z"
    }
   },
   "outputs": [],
   "source": [
    "def reverseLinkedList(head):\n",
    "    # Initialize pointers\n",
    "    curr = head\n",
    "    prev = None\n",
    "    \n",
    "    # Traverse the linked list\n",
    "    while curr is not None:\n",
    "        nxt = curr.next  # Save the next node\n",
    "        \n",
    "        # Reverse the next pointer of the current node\n",
    "        curr.next = prev\n",
    "        \n",
    "        # Move to the next nodes\n",
    "        prev = curr\n",
    "        curr = nxt\n",
    "    \n",
    "    # After the loop, 'prev' points to the new head of the reversed linked list\n",
    "    return prev\n"
   ]
  },
  {
   "cell_type": "markdown",
   "id": "c43a9e8e",
   "metadata": {},
   "source": [
    "## Reverse Linked List (Recursive)"
   ]
  },
  {
   "cell_type": "code",
   "execution_count": 4,
   "id": "367f617d",
   "metadata": {
    "ExecuteTime": {
     "end_time": "2023-11-19T14:27:00.200390Z",
     "start_time": "2023-11-19T14:27:00.181122Z"
    }
   },
   "outputs": [],
   "source": [
    "def reverseLinkedList(head):\n",
    "    # Define a helper function for recursion\n",
    "    def reverse(prev, head):\n",
    "        # Base case: if the current node is None, return the previous node\n",
    "        if head is None:\n",
    "            return prev\n",
    "        else:\n",
    "            nxt = head.next  # Save the next node\n",
    "            head.next = prev  # Reverse the next pointer of the current node\n",
    "            prev = head  # Move the previous pointer to the current node\n",
    "            head = nxt  # Move the current pointer to the next node\n",
    "            # Recursive call to reverse the remaining part of the linked list\n",
    "            return reverse(prev, head)\n",
    "    \n",
    "    # Start the recursion with initial values for prev and head\n",
    "    return reverse(None, head)"
   ]
  },
  {
   "cell_type": "markdown",
   "id": "1c41a059",
   "metadata": {},
   "source": [
    "## Detect Cycle"
   ]
  },
  {
   "cell_type": "markdown",
   "id": "776cbbc3",
   "metadata": {},
   "source": [
    "### By Using HashMap\n",
    "This code defines a method within a class (`Solution`) that checks whether a linked list has a cycle using a hash table. The method, `hasCycle`, returns `True` if a cycle is detected and `False` otherwise. It uses a dictionary (`mp`) to keep track of visited nodes.\n",
    "\n",
    "Here's the code with added comments for better understanding:\n",
    "\n",
    "\n",
    "Explanation of key points:\n",
    "\n",
    "- **Initialization:** The function starts with an empty dictionary (`mp`), a counter (`count`), and a pointer (`curr`) at the head of the linked list.\n",
    "\n",
    "- **Traverse the Linked List:** The function traverses the linked list, storing each node and its corresponding index in the dictionary.\n",
    "\n",
    "- **Cycle Detection:** If a node is encountered that is already in the dictionary, it means a cycle is detected, and the function returns `True`.\n",
    "\n",
    "- **Return:** If the traversal completes without detecting a cycle, the function returns `False`.\n",
    "\n",
    "Note: This solution uses extra space to store the nodes in a dictionary, and there are more memory-efficient approaches, such as using the slow and fast pointer technique.\n",
    "\n",
    "If you have any further questions or need additional clarification, feel free to ask!"
   ]
  },
  {
   "cell_type": "code",
   "execution_count": 14,
   "id": "7914c166",
   "metadata": {
    "ExecuteTime": {
     "end_time": "2023-11-19T16:53:40.719933Z",
     "start_time": "2023-11-19T16:53:40.703721Z"
    }
   },
   "outputs": [],
   "source": [
    "class Solution:\n",
    "    def hasCycle(self, head: Optional[ListNode]) -> bool:\n",
    "        \"\"\"\n",
    "        Checks whether a linked list has a cycle.\n",
    "\n",
    "        Parameters:\n",
    "        - head: The head of the linked list.\n",
    "\n",
    "        Returns:\n",
    "        - True if a cycle is detected, False otherwise.\n",
    "        \"\"\"\n",
    "\n",
    "        mp = {}  # A dictionary to store nodes and their corresponding indices\n",
    "        count = 0  # Counter to keep track of the index\n",
    "        curr = head  # Start at the head of the linked list\n",
    "\n",
    "        # Traverse the linked list\n",
    "        while curr:\n",
    "            # Check if the current node is already in the dictionary\n",
    "            if curr not in mp:\n",
    "                mp[curr] = count  # Store the current node and its index in the dictionary\n",
    "            else:\n",
    "                return True  # If the current node is already in the dictionary, a cycle is detected\n",
    "\n",
    "            count += 1  # Increment the index\n",
    "            curr = curr.next  # Move to the next node\n",
    "\n",
    "        return False  # Return False if no cycle is detected in the linked list"
   ]
  },
  {
   "cell_type": "markdown",
   "id": "35fb18d7",
   "metadata": {
    "ExecuteTime": {
     "end_time": "2023-11-19T16:56:51.471756Z",
     "start_time": "2023-11-19T16:56:51.426180Z"
    }
   },
   "source": [
    "### Floyd's cycle-finding algorithm (tortoise and hare algorithm)\n",
    "Code is an implementation of Floyd's cycle-finding algorithm (tortoise and hare algorithm) to detect a cycle in a linked list. The function `detectCycle` takes the head of a linked list as input and returns `1` if a cycle is detected and `0` otherwise.\n",
    "\n",
    "Here's the code with added comments for better understanding:\n"
   ]
  },
  {
   "cell_type": "code",
   "execution_count": 15,
   "id": "3be66490",
   "metadata": {
    "ExecuteTime": {
     "end_time": "2023-11-19T16:55:40.022520Z",
     "start_time": "2023-11-19T16:55:40.008968Z"
    }
   },
   "outputs": [],
   "source": [
    "def detectCycle(head):\n",
    "    \"\"\"\n",
    "    Detects a cycle in a linked list using Floyd's cycle-finding algorithm.\n",
    "\n",
    "    Parameters:\n",
    "    - head: The head of the linked list.\n",
    "\n",
    "    Returns:\n",
    "    - 1 if a cycle is detected, 0 otherwise.\n",
    "    \"\"\"\n",
    "\n",
    "    # Initialize fast and slow pointers to the head of the linked list\n",
    "    fast = head\n",
    "    slow = head\n",
    "    \n",
    "    # Iterate until either fast reaches the end or a cycle is detected\n",
    "    while fast is not None and fast.next is not None:\n",
    "        fast = fast.next.next  # Move fast by two steps\n",
    "        slow = slow.next  # Move slow by one step\n",
    "        \n",
    "        # Check for a cycle\n",
    "        if fast == slow:\n",
    "            return 1  # Return 1 if a cycle is detected\n",
    "    \n",
    "    # If the loop completes without finding a cycle, return 0\n",
    "    return 0  # Return 0 if no cycle is detected"
   ]
  },
  {
   "cell_type": "code",
   "execution_count": 17,
   "id": "f9b79391",
   "metadata": {
    "ExecuteTime": {
     "end_time": "2023-11-19T17:00:08.777523Z",
     "start_time": "2023-11-19T17:00:08.756667Z"
    }
   },
   "outputs": [],
   "source": [
    "def detectCycle(head):\n",
    "    \"\"\"\n",
    "    Detects a cycle in a linked list using Floyd's cycle-finding algorithm.\n",
    "\n",
    "    Parameters:\n",
    "    - head: The head of the linked list.\n",
    "\n",
    "    Returns:\n",
    "    - 1 if a cycle is detected, 0 otherwise.\n",
    "    \"\"\"\n",
    "\n",
    "    # Initialize fast and slow pointers\n",
    "    fast = head.next\n",
    "    slow = head\n",
    "    \n",
    "    # Iterate until either fast reaches the end or a cycle is detected\n",
    "    while fast is not None and fast != slow:\n",
    "        fast = fast.next.next if fast.next else None  # Move fast by two steps if possible\n",
    "        slow = slow.next  # Move slow by one step\n",
    "        \n",
    "        # Check for a cycle\n",
    "        if fast == slow:\n",
    "            return 1  # Return 1 if a cycle is detected\n",
    "    \n",
    "    # If the loop completes without finding a cycle, return 0\n",
    "    return 0  # Return 0 if no cycle is detected\n"
   ]
  },
  {
   "cell_type": "markdown",
   "id": "a1be3d21",
   "metadata": {},
   "source": [
    "## Find Starting Point in LL"
   ]
  },
  {
   "cell_type": "markdown",
   "id": "3e944c71",
   "metadata": {
    "ExecuteTime": {
     "end_time": "2023-11-19T17:20:49.251687Z",
     "start_time": "2023-11-19T17:20:49.229083Z"
    }
   },
   "source": [
    "### By using Set \n",
    "\n",
    "Certainly! The provided code is an attempt to detect a cycle in a linked list using a set (`setV`) to keep track of visited nodes. The `detectCycle` method is part of a class (`Solution`) and takes the head of a linked list as input. If a cycle is detected, it returns the node where the cycle begins; otherwise, it returns `None`.\n",
    "\n"
   ]
  },
  {
   "cell_type": "code",
   "execution_count": 21,
   "id": "4dbd09e2",
   "metadata": {
    "ExecuteTime": {
     "end_time": "2023-11-19T17:21:06.313046Z",
     "start_time": "2023-11-19T17:21:06.296773Z"
    }
   },
   "outputs": [],
   "source": [
    "class Solution:\n",
    "    def detectCycle(self, head: Optional[ListNode]) -> Optional[ListNode]:\n",
    "        \"\"\"\n",
    "        Detects the starting node of a cycle in a linked list using a set.\n",
    "\n",
    "        Parameters:\n",
    "        - head: The head of the linked list.\n",
    "\n",
    "        Returns:\n",
    "        - The starting node of the cycle if detected, None otherwise.\n",
    "        \"\"\"\n",
    "\n",
    "        setV = set()  # A set to store visited nodes\n",
    "        curr = head  # Start at the head of the linked list\n",
    "\n",
    "        # Traverse the linked list\n",
    "        while curr:\n",
    "            # Check if the current node is already in the set\n",
    "            if curr not in setV:\n",
    "                setV.add(curr)  # Add the current node to the set\n",
    "            else:\n",
    "                return curr  # If the current node is already in the set, a cycle is detected\n",
    "\n",
    "            curr = curr.next  # Move to the next node\n",
    "\n",
    "        return None  # Return None if no cycle is detected in the linked list"
   ]
  },
  {
   "cell_type": "markdown",
   "id": "4426d679",
   "metadata": {},
   "source": [
    "### By Using HashMap\n",
    "The provided code is a part of a solution to detect a cycle in a linked list using a hash table to store visited nodes. The `detectCycle` method is part of a class (`Solution`) and takes the head of a linked list as input. If a cycle is detected, it returns the node where the cycle begins; otherwise, it returns `None`.\n"
   ]
  },
  {
   "cell_type": "code",
   "execution_count": 18,
   "id": "ae0380b4",
   "metadata": {
    "ExecuteTime": {
     "end_time": "2023-11-19T17:01:01.752032Z",
     "start_time": "2023-11-19T17:01:01.726770Z"
    }
   },
   "outputs": [],
   "source": [
    "from typing import *\n",
    "class ListNode:\n",
    "    def __init__(self, x):\n",
    "        self.val = x\n",
    "        self.next = None\n",
    "class Solution:\n",
    "    def detectCycle(self, head: Optional[ListNode]) -> Optional[ListNode]:\n",
    "        \"\"\"\n",
    "        Detects the starting node of a cycle in a linked list.\n",
    "\n",
    "        Parameters:\n",
    "        - head: The head of the linked list.\n",
    "\n",
    "        Returns:\n",
    "        - The starting node of the cycle if detected, None otherwise.\n",
    "        \"\"\"\n",
    "\n",
    "        mp = {}  # A dictionary to store nodes and their corresponding indices\n",
    "        count = 0  # Counter to keep track of the index\n",
    "        curr = head  # Start at the head of the linked list\n",
    "        \n",
    "        # Traverse the linked list\n",
    "        while curr:\n",
    "            # Check if the current node is already in the dictionary\n",
    "            if curr not in mp:\n",
    "                mp[curr] = count  # Store the current node and its index in the dictionary\n",
    "            else:\n",
    "                return curr  # If the current node is already in the dictionary, a cycle is detected\n",
    "            \n",
    "            count += 1  # Increment the index\n",
    "            curr = curr.next  # Move to the next node\n",
    "        \n",
    "        return None  # Return None if no cycle is detected in the linked list"
   ]
  },
  {
   "cell_type": "markdown",
   "id": "df0d70c2",
   "metadata": {},
   "source": [
    "### By using SLow fast Approach\n",
    "\n",
    "Certainly! The provided code is an implementation of Floyd's cycle-finding algorithm (tortoise and hare algorithm) to detect a cycle in a linked list. The `detectCycle` method is part of a class (`Solution`) and takes the head of a linked list as input. If a cycle is detected, it returns the node where the cycle begins; otherwise, it returns `None`. This implementation uses two pointers, one moving at twice the speed of the other, to detect a cycle efficiently.\n",
    "\n",
    "* The algorithm is divided into two parts\n",
    "    1. Find the if the cycle exist or not\n",
    "    2. If yes then go to starting point by increasing start and entry pointer\n",
    "\n",
    "Here's the code with added comments for better understanding:\n"
   ]
  },
  {
   "cell_type": "code",
   "execution_count": 23,
   "id": "3540963c",
   "metadata": {
    "ExecuteTime": {
     "end_time": "2023-11-19T18:14:52.295748Z",
     "start_time": "2023-11-19T18:14:52.281490Z"
    }
   },
   "outputs": [],
   "source": [
    "class Solution:\n",
    "    def detectCycle(self, head: Optional[ListNode]) -> Optional[ListNode]:\n",
    "        \"\"\"\n",
    "        Detects the starting node of a cycle in a linked list using Floyd's cycle-finding algorithm.\n",
    "\n",
    "        Parameters:\n",
    "        - head: The head of the linked list.\n",
    "\n",
    "        Returns:\n",
    "        - The starting node of the cycle if detected, None otherwise.\n",
    "        \"\"\"\n",
    "\n",
    "        # Check if the linked list is empty or has only one node\n",
    "        if head is None or head.next is None:\n",
    "            return None\n",
    "\n",
    "        curr = head\n",
    "        fast = curr\n",
    "        slow = curr\n",
    "        entry = curr\n",
    "\n",
    "        # Iterate until either fast reaches the end or a cycle is detected\n",
    "        while fast.next and fast.next.next:\n",
    "            slow = slow.next\n",
    "            fast = fast.next.next\n",
    "\n",
    "            # Check for a cycle\n",
    "            if slow == fast:\n",
    "                # Move one pointer to the head and iterate until they meet at the entry point\n",
    "                while slow != entry:\n",
    "                    entry = entry.next\n",
    "                    slow = slow.next\n",
    "                return entry  # Return the starting node of the cycle\n",
    "\n",
    "        return None  # Return None if no cycle is detected in the linked list"
   ]
  },
  {
   "cell_type": "markdown",
   "id": "67a5e4ff",
   "metadata": {},
   "source": [
    "## Length Of a Loop"
   ]
  },
  {
   "cell_type": "markdown",
   "id": "7c472f66",
   "metadata": {},
   "source": [
    "### By Using Counter Method and HashMap\n",
    "\n",
    "he given code is attempting to find the length of a loop in a linked list. It uses a hash table (mp) to keep track of visited nodes and detect the start of a loop. Once a loop is detected, the code iterates again from the start of the loop to find its length."
   ]
  },
  {
   "cell_type": "code",
   "execution_count": 24,
   "id": "d866fb32",
   "metadata": {
    "ExecuteTime": {
     "end_time": "2023-11-19T18:39:41.412239Z",
     "start_time": "2023-11-19T18:39:41.248321Z"
    }
   },
   "outputs": [
    {
     "ename": "NameError",
     "evalue": "name 'Node' is not defined",
     "output_type": "error",
     "traceback": [
      "\u001b[1;31m---------------------------------------------------------------------------\u001b[0m",
      "\u001b[1;31mNameError\u001b[0m                                 Traceback (most recent call last)",
      "Cell \u001b[1;32mIn[24], line 1\u001b[0m\n\u001b[1;32m----> 1\u001b[0m \u001b[38;5;28;01mdef\u001b[39;00m \u001b[38;5;21mlengthOfLoop\u001b[39m(head: \u001b[43mNode\u001b[49m) \u001b[38;5;241m-\u001b[39m\u001b[38;5;241m>\u001b[39m \u001b[38;5;28mint\u001b[39m:\n\u001b[0;32m      2\u001b[0m \u001b[38;5;250m    \u001b[39m\u001b[38;5;124;03m\"\"\"\u001b[39;00m\n\u001b[0;32m      3\u001b[0m \u001b[38;5;124;03m    Finds the length of a loop in a linked list.\u001b[39;00m\n\u001b[0;32m      4\u001b[0m \n\u001b[1;32m   (...)\u001b[0m\n\u001b[0;32m      9\u001b[0m \u001b[38;5;124;03m    - The length of the loop if present, 0 otherwise.\u001b[39;00m\n\u001b[0;32m     10\u001b[0m \u001b[38;5;124;03m    \"\"\"\u001b[39;00m\n\u001b[0;32m     12\u001b[0m     count \u001b[38;5;241m=\u001b[39m \u001b[38;5;241m0\u001b[39m  \u001b[38;5;66;03m# Counter to keep track of the total number of nodes visited\u001b[39;00m\n",
      "\u001b[1;31mNameError\u001b[0m: name 'Node' is not defined"
     ]
    }
   ],
   "source": [
    "def lengthOfLoop(head: Node) -> int:\n",
    "    \"\"\"\n",
    "    Finds the length of a loop in a linked list.\n",
    "\n",
    "    Parameters:\n",
    "    - head: The head of the linked list.\n",
    "\n",
    "    Returns:\n",
    "    - The length of the loop if present, 0 otherwise.\n",
    "    \"\"\"\n",
    "\n",
    "    count = 0  # Counter to keep track of the total number of nodes visited\n",
    "    curr = head  # Start at the head of the linked list\n",
    "    mp = {}  # A dictionary to store visited nodes and their indices\n",
    "    ans = 0  # Variable to store the length of the loop\n",
    "\n",
    "    # Traverse the linked list\n",
    "    while curr:\n",
    "        # Check if the current node is already in the dictionary\n",
    "        if curr not in mp:\n",
    "            mp[curr] = count  # Store the current node and its index in the dictionary\n",
    "            count += 1  # Increment the counter\n",
    "            curr = curr.next  # Move to the next node\n",
    "        else:\n",
    "            start = curr  # Mark the start of the loop\n",
    "            while curr:\n",
    "                ans += 1  # Increment the length of the loop\n",
    "                curr = curr.next  # Move to the next node\n",
    "                if start == curr:\n",
    "                    return ans  # Return the length of the loop if back at the start\n",
    "\n",
    "    return ans  # Return 0 if no loop is detected in the linked list\n"
   ]
  },
  {
   "cell_type": "markdown",
   "id": "dcc42065",
   "metadata": {},
   "source": [
    "## Check If Linked List Is Palindrome\n",
    "\n"
   ]
  },
  {
   "cell_type": "markdown",
   "id": "2323bf8f",
   "metadata": {},
   "source": [
    "### By using Arrays\n",
    "The given code is attempting to determine whether a linked list is a palindrome. It does so by first traversing the linked list, storing its elements in an array, and then checking if the array is a palindrome. The palindrome check is performed by comparing elements from the beginning and end of the array."
   ]
  },
  {
   "cell_type": "code",
   "execution_count": 1,
   "id": "6b598959",
   "metadata": {
    "ExecuteTime": {
     "end_time": "2023-11-20T14:01:55.493353Z",
     "start_time": "2023-11-20T14:01:55.452740Z"
    }
   },
   "outputs": [],
   "source": [
    "def isPalindrome(head):\n",
    "    \"\"\"\n",
    "    Checks if a linked list is a palindrome.\n",
    "\n",
    "    Parameters:\n",
    "    - head: The head of the linked list.\n",
    "\n",
    "    Returns:\n",
    "    - True if the linked list is a palindrome, False otherwise.\n",
    "    \"\"\"\n",
    "\n",
    "    arr = []  # List to store elements of the linked list\n",
    "    curr = head  # Start at the head of the linked list\n",
    "\n",
    "    # Traverse the linked list and store elements in the array\n",
    "    while curr:\n",
    "        arr.append(curr.data)\n",
    "        curr = curr.next\n",
    "\n",
    "    start = 0  # Index for the start of the array\n",
    "    end = len(arr) - 1  # Index for the end of the array\n",
    "\n",
    "    # Check if the array is a palindrome\n",
    "    while start <= end:\n",
    "        if arr[start] != arr[end]:\n",
    "            return False  # If elements don't match, the linked list is not a palindrome\n",
    "        start += 1\n",
    "        end -= 1\n",
    "\n",
    "    return True  # If all elements match, the linked list is a palindrome"
   ]
  },
  {
   "cell_type": "markdown",
   "id": "246800e5",
   "metadata": {},
   "source": [
    "### By Using Reverse LL\n",
    "\n",
    "The provided code is attempting to check whether a linked list is a palindrome. It does so by creating a reversed version of the linked list and then comparing the elements of the original and reversed lists. The reversal is achieved by manipulating the next pointers of the nodes."
   ]
  },
  {
   "cell_type": "code",
   "execution_count": 2,
   "id": "c3798732",
   "metadata": {
    "ExecuteTime": {
     "end_time": "2023-11-20T14:13:13.101288Z",
     "start_time": "2023-11-20T14:13:13.084676Z"
    }
   },
   "outputs": [],
   "source": [
    "from copy import deepcopy\n",
    "\n",
    "def isPalindrome(head):\n",
    "    \"\"\"\n",
    "    Checks if a linked list is a palindrome.\n",
    "\n",
    "    Parameters:\n",
    "    - head: The head of the linked list.\n",
    "\n",
    "    Returns:\n",
    "    - True if the linked list is a palindrome, False otherwise.\n",
    "    \"\"\"\n",
    "\n",
    "    # Create a deep copy of the linked list to reverse it\n",
    "    rev_head = deepcopy(head)\n",
    "    \n",
    "    # Reverse the copied linked list\n",
    "    curr = rev_head\n",
    "    prev = None\n",
    "    while curr:\n",
    "        nxt = curr.next\n",
    "        curr.next = prev\n",
    "        prev = curr\n",
    "        curr = nxt\n",
    "    rev_head = prev\n",
    "    \n",
    "    # Compare elements of the original and reversed linked lists\n",
    "    curr_start = head\n",
    "    curr_end = rev_head\n",
    "    while curr_start and curr_end:\n",
    "        if curr_start.data != curr_end.data:\n",
    "            return False\n",
    "        curr_start = curr_start.next\n",
    "        curr_end = curr_end.next\n",
    "\n",
    "    return True"
   ]
  },
  {
   "cell_type": "markdown",
   "id": "5216b522",
   "metadata": {},
   "source": [
    "### By using 3 Steps\n",
    "\n",
    "The provided code is attempting to determine whether a linked list is a palindrome. It utilizes the slow and fast pointer technique to find the middle of the linked list, reverses the second half, and then compares the elements of the first and reversed second halves to check for palindromic properties.\n",
    "\n",
    "    - Use slow and fast pointers to find the middle of the linked list.\n",
    "    - Reverse the second half of the linked list.\n",
    "    - Compare the elements of the first and reversed second halves."
   ]
  },
  {
   "cell_type": "code",
   "execution_count": 4,
   "id": "d884cdf1",
   "metadata": {
    "ExecuteTime": {
     "end_time": "2023-11-20T14:46:52.834945Z",
     "start_time": "2023-11-20T14:46:52.822306Z"
    }
   },
   "outputs": [],
   "source": [
    "def isPalindrome(head):\n",
    "    \"\"\"\n",
    "    Checks if a linked list is a palindrome.\n",
    "\n",
    "    Quick Summary:\n",
    "    - Use slow and fast pointers to find the middle of the linked list.\n",
    "    - Reverse the second half of the linked list.\n",
    "    - Compare the elements of the first and reversed second halves.\n",
    "\n",
    "    Parameters:\n",
    "    - head: The head of the linked list.\n",
    "\n",
    "    Returns:\n",
    "    - True if the linked list is a palindrome, False otherwise.\n",
    "    \"\"\"\n",
    "\n",
    "    curr = head\n",
    "    slow = head\n",
    "    fast = head\n",
    "    dummy = head\n",
    "\n",
    "    # Use slow and fast pointers to find the middle of the linked list\n",
    "    while fast.next and fast.next.next:\n",
    "        slow = slow.next\n",
    "        fast = fast.next.next\n",
    "    \n",
    "    rev_pointer = slow.next\n",
    "    prev = None\n",
    "\n",
    "    # Reverse the second half of the linked list\n",
    "    while rev_pointer:\n",
    "        nxt = rev_pointer.next\n",
    "        rev_pointer.next = prev\n",
    "        prev = rev_pointer\n",
    "        rev_pointer = nxt\n",
    "    \n",
    "    slow.next = prev\n",
    "\n",
    "    # Compare the elements of the first and reversed second halves\n",
    "    slow = slow.next\n",
    "    while slow:\n",
    "        if slow.data != dummy.data:\n",
    "            return False\n",
    "        else:\n",
    "            slow = slow.next\n",
    "            dummy = dummy.next\n",
    "    \n",
    "    return True\n"
   ]
  },
  {
   "cell_type": "markdown",
   "id": "5ff2adeb",
   "metadata": {},
   "source": [
    "## Segregate Even And Odd Nodes In a Linked List\n",
    "\n",
    "\n",
    "\n"
   ]
  },
  {
   "cell_type": "markdown",
   "id": "e3d3e6d8",
   "metadata": {},
   "source": [
    "### By using 2 sepearate Linked List for Odd and Even\n",
    "\n",
    "The given code is segregating even and odd nodes from a linked list into two separate linked lists. It creates two new linked lists (`head_even` for even nodes and `head_odd` for odd nodes), iterates through the original linked list, and appends nodes to their respective new linked lists based on whether the data is even or odd. Finally, it connects the even and odd lists and returns the head of the modified linked list.\n"
   ]
  },
  {
   "cell_type": "code",
   "execution_count": 6,
   "id": "67a66afe",
   "metadata": {
    "ExecuteTime": {
     "end_time": "2023-11-20T15:17:28.082021Z",
     "start_time": "2023-11-20T15:17:28.058545Z"
    }
   },
   "outputs": [],
   "source": [
    "def segregateEvenOdd(head):\n",
    "    \"\"\"\n",
    "    Segregates even and odd nodes from a linked list into two separate linked lists.\n",
    "\n",
    "    Quick Summary:\n",
    "    - Create two new linked lists for even and odd nodes.\n",
    "    - Iterate through the original linked list and append nodes to the respective new linked lists.\n",
    "    - Connect the even and odd lists.\n",
    "\n",
    "    Parameters:\n",
    "    - head: The head of the original linked list.\n",
    "\n",
    "    Returns:\n",
    "    - The head of the modified linked list with even and odd nodes segregated.\n",
    "    \"\"\"\n",
    "\n",
    "    # Create two new linked lists for even and odd nodes\n",
    "    head_even = Node(2)\n",
    "    head_odd = Node(1)\n",
    "\n",
    "    curr = head\n",
    "    curr_even = head_even\n",
    "    curr_odd = head_odd\n",
    "\n",
    "    # Iterate through the original linked list\n",
    "    while curr:\n",
    "        # Append nodes to the respective new linked lists based on whether the data is even or odd\n",
    "        if curr.data % 2 == 1:\n",
    "            curr_odd.next = Node(curr.data)\n",
    "            curr_odd = curr_odd.next\n",
    "        else:\n",
    "            curr_even.next = Node(curr.data)\n",
    "            curr_even = curr_even.next\n",
    "\n",
    "        curr = curr.next\n",
    "\n",
    "    # Connect the even and odd lists\n",
    "    curr_even.next = head_odd.next\n",
    "\n",
    "    # Return the head of the modified linked list with even and odd nodes segregated\n",
    "    return head_even.next"
   ]
  },
  {
   "cell_type": "markdown",
   "id": "c67b4b05",
   "metadata": {},
   "source": [
    "### By using Queue\n",
    "\n",
    "    Quick Summary:\n",
    "    - Create two queues for even and odd nodes.\n",
    "    - Iterate through the original linked list, enqueueing nodes into the respective queues.\n",
    "    - Dequeue elements to create a new linked list with segregated even and odd nodes."
   ]
  },
  {
   "cell_type": "code",
   "execution_count": 20,
   "id": "b34a904d",
   "metadata": {
    "ExecuteTime": {
     "end_time": "2023-11-20T15:48:42.816061Z",
     "start_time": "2023-11-20T15:48:42.799725Z"
    }
   },
   "outputs": [],
   "source": [
    "from collections import deque\n",
    "\n",
    "def segregateEvenOdd(head):\n",
    "    \"\"\"\n",
    "    Segregates even and odd nodes from a linked list into two separate linked lists using queues.\n",
    "\n",
    "    Quick Summary:\n",
    "    - Create two queues for even and odd nodes.\n",
    "    - Iterate through the original linked list, enqueueing nodes into the respective queues.\n",
    "    - Dequeue elements to create a new linked list with segregated even and odd nodes.\n",
    "\n",
    "    Parameters:\n",
    "    - head: The head of the original linked list.\n",
    "\n",
    "    Returns:\n",
    "    - The head of the modified linked list with even and odd nodes segregated.\n",
    "    \"\"\"\n",
    "\n",
    "    # Create two queues for even and odd nodes\n",
    "    queue_odd = deque()\n",
    "    queue_even = deque()\n",
    "\n",
    "    curr = head\n",
    "\n",
    "    # Iterate through the original linked list, enqueueing nodes into the respective queues\n",
    "    while curr:\n",
    "        if curr.data % 2 == 1:\n",
    "            queue_odd.append(curr.data)\n",
    "        else:\n",
    "            queue_even.append(curr.data)\n",
    "        curr = curr.next\n",
    "\n",
    "    # Create a new linked list and dequeue elements to segregate even and odd nodes\n",
    "    new_head = Node(0)\n",
    "    curr = new_head\n",
    "\n",
    "    while queue_even:\n",
    "        curr.next = Node(queue_even.popleft())\n",
    "        curr = curr.next\n",
    "\n",
    "    while queue_odd:\n",
    "        curr.next = Node(queue_odd.popleft())\n",
    "        curr = curr.next\n",
    "\n",
    "    # Return the head of the modified linked list with even and odd nodes segregated\n",
    "    return new_head.next"
   ]
  },
  {
   "attachments": {
    "image.png": {
     "image/png": "[encoded data removed]"
    }
   },
   "cell_type": "markdown",
   "id": "d25a2cab",
   "metadata": {},
   "source": [
    "## Odd Even Linked List\n",
    "\n",
    "\n",
    "\n",
    "The provided code is for a method oddEvenList in a class. It takes the head of a linked list as input and rearranges the nodes such that all odd-indexed nodes appear before even-indexed nodes. The order of the nodes within each index remains the same.\n",
    "\n",
    "        - Use two pointers, `odd` and `even`, to traverse and rearrange the linked list.\n",
    "        - Adjust the next pointers of nodes to achieve the desired order.\n",
    "        \n",
    "        \n",
    "![image.png](attachment:image.png)"
   ]
  },
  {
   "cell_type": "code",
   "execution_count": 22,
   "id": "494a931b",
   "metadata": {
    "ExecuteTime": {
     "end_time": "2023-11-20T16:41:08.707271Z",
     "start_time": "2023-11-20T16:41:08.700275Z"
    }
   },
   "outputs": [],
   "source": [
    "from typing import *"
   ]
  },
  {
   "cell_type": "code",
   "execution_count": 24,
   "id": "2506f07c",
   "metadata": {
    "ExecuteTime": {
     "end_time": "2023-11-20T16:41:23.876497Z",
     "start_time": "2023-11-20T16:41:23.794830Z"
    }
   },
   "outputs": [
    {
     "ename": "NameError",
     "evalue": "name 'ListNode' is not defined",
     "output_type": "error",
     "traceback": [
      "\u001b[1;31m---------------------------------------------------------------------------\u001b[0m",
      "\u001b[1;31mNameError\u001b[0m                                 Traceback (most recent call last)",
      "Cell \u001b[1;32mIn[24], line 1\u001b[0m\n\u001b[1;32m----> 1\u001b[0m \u001b[38;5;28;01mclass\u001b[39;00m \u001b[38;5;21;01mSolution\u001b[39;00m:\n\u001b[0;32m      2\u001b[0m     \u001b[38;5;28;01mdef\u001b[39;00m \u001b[38;5;21moddEvenList\u001b[39m(\u001b[38;5;28mself\u001b[39m, head: Optional[ListNode]) \u001b[38;5;241m-\u001b[39m\u001b[38;5;241m>\u001b[39m Optional[ListNode]:\n\u001b[0;32m      3\u001b[0m \u001b[38;5;250m        \u001b[39m\u001b[38;5;124;03m\"\"\"\u001b[39;00m\n\u001b[0;32m      4\u001b[0m \u001b[38;5;124;03m        Rearranges a linked list such that all odd-indexed nodes appear before even-indexed nodes.\u001b[39;00m\n\u001b[0;32m      5\u001b[0m \n\u001b[1;32m   (...)\u001b[0m\n\u001b[0;32m     14\u001b[0m \u001b[38;5;124;03m        - The head of the modified linked list.\u001b[39;00m\n\u001b[0;32m     15\u001b[0m \u001b[38;5;124;03m        \"\"\"\u001b[39;00m\n",
      "Cell \u001b[1;32mIn[24], line 2\u001b[0m, in \u001b[0;36mSolution\u001b[1;34m()\u001b[0m\n\u001b[0;32m      1\u001b[0m \u001b[38;5;28;01mclass\u001b[39;00m \u001b[38;5;21;01mSolution\u001b[39;00m:\n\u001b[1;32m----> 2\u001b[0m     \u001b[38;5;28;01mdef\u001b[39;00m \u001b[38;5;21moddEvenList\u001b[39m(\u001b[38;5;28mself\u001b[39m, head: Optional[\u001b[43mListNode\u001b[49m]) \u001b[38;5;241m-\u001b[39m\u001b[38;5;241m>\u001b[39m Optional[ListNode]:\n\u001b[0;32m      3\u001b[0m \u001b[38;5;250m        \u001b[39m\u001b[38;5;124;03m\"\"\"\u001b[39;00m\n\u001b[0;32m      4\u001b[0m \u001b[38;5;124;03m        Rearranges a linked list such that all odd-indexed nodes appear before even-indexed nodes.\u001b[39;00m\n\u001b[0;32m      5\u001b[0m \n\u001b[1;32m   (...)\u001b[0m\n\u001b[0;32m     14\u001b[0m \u001b[38;5;124;03m        - The head of the modified linked list.\u001b[39;00m\n\u001b[0;32m     15\u001b[0m \u001b[38;5;124;03m        \"\"\"\u001b[39;00m\n\u001b[0;32m     17\u001b[0m         \u001b[38;5;66;03m# Check if the linked list is empty\u001b[39;00m\n",
      "\u001b[1;31mNameError\u001b[0m: name 'ListNode' is not defined"
     ]
    }
   ],
   "source": [
    "class Solution:\n",
    "    def oddEvenList(self, head: Optional[ListNode]) -> Optional[ListNode]:\n",
    "        \"\"\"\n",
    "        Rearranges a linked list such that all odd-indexed nodes appear before even-indexed nodes.\n",
    "\n",
    "        Quick Summary:\n",
    "        - Use two pointers, `odd` and `even`, to traverse and rearrange the linked list.\n",
    "        - Adjust the next pointers of nodes to achieve the desired order.\n",
    "\n",
    "        Parameters:\n",
    "        - head: The head of the linked list.\n",
    "\n",
    "        Returns:\n",
    "        - The head of the modified linked list.\n",
    "        \"\"\"\n",
    "\n",
    "        # Check if the linked list is empty\n",
    "        if not head:\n",
    "            return None\n",
    "\n",
    "        # Initialize pointers for odd and even nodes\n",
    "        odd = head\n",
    "        even = evenHead = head.next\n",
    "\n",
    "        # Traverse and rearrange the linked list\n",
    "        while even and even.next:\n",
    "            # Update the next pointer of odd node\n",
    "            odd.next = odd.next.next\n",
    "            odd = odd.next\n",
    "\n",
    "            # Update the next pointer of even node\n",
    "            even.next = even.next.next\n",
    "            even = even.next\n",
    "\n",
    "        # Connect the last odd node to the head of even nodes\n",
    "        odd.next = evenHead\n",
    "\n",
    "        # Return the head of the modified linked list\n",
    "        return head"
   ]
  },
  {
   "cell_type": "markdown",
   "id": "05212008",
   "metadata": {},
   "source": [
    "## Delete Kth Node From End\n",
    "\n",
    "\n",
    "The provided code is for a method removeNthFromEnd in a class. It removes the n-th node from the end of a singly-linked list in one pass. It uses two pointers, curr and nodeB, to traverse the linked list efficiently and removes the desired node."
   ]
  },
  {
   "cell_type": "code",
   "execution_count": 26,
   "id": "e663ca81",
   "metadata": {
    "ExecuteTime": {
     "end_time": "2023-11-20T18:06:24.582780Z",
     "start_time": "2023-11-20T18:06:24.518360Z"
    }
   },
   "outputs": [
    {
     "ename": "NameError",
     "evalue": "name 'ListNode' is not defined",
     "output_type": "error",
     "traceback": [
      "\u001b[1;31m---------------------------------------------------------------------------\u001b[0m",
      "\u001b[1;31mNameError\u001b[0m                                 Traceback (most recent call last)",
      "Cell \u001b[1;32mIn[26], line 7\u001b[0m\n\u001b[0;32m      1\u001b[0m \u001b[38;5;66;03m# Definition for singly-linked list.\u001b[39;00m\n\u001b[0;32m      2\u001b[0m \u001b[38;5;66;03m# class ListNode:\u001b[39;00m\n\u001b[0;32m      3\u001b[0m \u001b[38;5;66;03m#     def __init__(self, val=0, next=None):\u001b[39;00m\n\u001b[0;32m      4\u001b[0m \u001b[38;5;66;03m#         self.val = val\u001b[39;00m\n\u001b[0;32m      5\u001b[0m \u001b[38;5;66;03m#         self.next = next\u001b[39;00m\n\u001b[1;32m----> 7\u001b[0m \u001b[38;5;28;01mclass\u001b[39;00m \u001b[38;5;21;01mSolution\u001b[39;00m:\n\u001b[0;32m      8\u001b[0m     \u001b[38;5;28;01mdef\u001b[39;00m \u001b[38;5;21mremoveNthFromEnd\u001b[39m(\u001b[38;5;28mself\u001b[39m, head: Optional[ListNode], n: \u001b[38;5;28mint\u001b[39m) \u001b[38;5;241m-\u001b[39m\u001b[38;5;241m>\u001b[39m Optional[ListNode]:\n\u001b[0;32m      9\u001b[0m \u001b[38;5;250m        \u001b[39m\u001b[38;5;124;03m\"\"\"\u001b[39;00m\n\u001b[0;32m     10\u001b[0m \u001b[38;5;124;03m        Removes the n-th node from the end of a singly-linked list in one pass.\u001b[39;00m\n\u001b[0;32m     11\u001b[0m \n\u001b[1;32m   (...)\u001b[0m\n\u001b[0;32m     23\u001b[0m \u001b[38;5;124;03m        - The head of the modified linked list.\u001b[39;00m\n\u001b[0;32m     24\u001b[0m \u001b[38;5;124;03m        \"\"\"\u001b[39;00m\n",
      "Cell \u001b[1;32mIn[26], line 8\u001b[0m, in \u001b[0;36mSolution\u001b[1;34m()\u001b[0m\n\u001b[0;32m      7\u001b[0m \u001b[38;5;28;01mclass\u001b[39;00m \u001b[38;5;21;01mSolution\u001b[39;00m:\n\u001b[1;32m----> 8\u001b[0m     \u001b[38;5;28;01mdef\u001b[39;00m \u001b[38;5;21mremoveNthFromEnd\u001b[39m(\u001b[38;5;28mself\u001b[39m, head: Optional[\u001b[43mListNode\u001b[49m], n: \u001b[38;5;28mint\u001b[39m) \u001b[38;5;241m-\u001b[39m\u001b[38;5;241m>\u001b[39m Optional[ListNode]:\n\u001b[0;32m      9\u001b[0m \u001b[38;5;250m        \u001b[39m\u001b[38;5;124;03m\"\"\"\u001b[39;00m\n\u001b[0;32m     10\u001b[0m \u001b[38;5;124;03m        Removes the n-th node from the end of a singly-linked list in one pass.\u001b[39;00m\n\u001b[0;32m     11\u001b[0m \n\u001b[1;32m   (...)\u001b[0m\n\u001b[0;32m     23\u001b[0m \u001b[38;5;124;03m        - The head of the modified linked list.\u001b[39;00m\n\u001b[0;32m     24\u001b[0m \u001b[38;5;124;03m        \"\"\"\u001b[39;00m\n\u001b[0;32m     26\u001b[0m         \u001b[38;5;66;03m# Initialize pointers for traversal\u001b[39;00m\n",
      "\u001b[1;31mNameError\u001b[0m: name 'ListNode' is not defined"
     ]
    }
   ],
   "source": [
    "# Definition for singly-linked list.\n",
    "# class ListNode:\n",
    "#     def __init__(self, val=0, next=None):\n",
    "#         self.val = val\n",
    "#         self.next = next\n",
    "\n",
    "class Solution:\n",
    "    def removeNthFromEnd(self, head: Optional[ListNode], n: int) -> Optional[ListNode]:\n",
    "        \"\"\"\n",
    "        Removes the n-th node from the end of a singly-linked list in one pass.\n",
    "\n",
    "        Quick Summary:\n",
    "        - Use two pointers, `curr` and `nodeB`, to traverse the linked list.\n",
    "        - Move `curr` n steps ahead to create a gap between `curr` and `nodeB`.\n",
    "        - Move both pointers until `curr` reaches the end.\n",
    "        - Remove the n-th node by updating the next pointer of the node before it.\n",
    "\n",
    "        Parameters:\n",
    "        - head: The head of the linked list.\n",
    "        - n: The position from the end of the linked list.\n",
    "\n",
    "        Returns:\n",
    "        - The head of the modified linked list.\n",
    "        \"\"\"\n",
    "\n",
    "        # Initialize pointers for traversal\n",
    "        curr, nodeB = head, head\n",
    "\n",
    "        # Move curr n steps ahead to create a gap\n",
    "        for _ in range(n): \n",
    "            curr = curr.next\n",
    "\n",
    "        # Handle edge case where n is equal to the length of the linked list\n",
    "        if curr is None:\n",
    "            return head.next\n",
    "\n",
    "        # Move both pointers until curr reaches the end\n",
    "        while curr.next:\n",
    "            curr = curr.next\n",
    "            nodeB = nodeB.next\n",
    "\n",
    "        # Remove the n-th node by updating the next pointer of the node before it\n",
    "        nodeB.next = nodeB.next.next\n",
    "\n",
    "        # Return the head of the modified linked list\n",
    "        return head"
   ]
  },
  {
   "cell_type": "markdown",
   "id": "a7ed2cb6",
   "metadata": {},
   "source": [
    "## Delete Middle Node\n",
    "\n",
    "    Quick Summary:\n",
    "    - Use the two-pointer technique (fast and slow pointers) to find the middle node.\n",
    "    - Traverse the linked list and update pointers until the fast pointer reaches the end.\n",
    "    - Delete the middle node by updating the next pointer of the node before it."
   ]
  },
  {
   "cell_type": "code",
   "execution_count": 2,
   "id": "28d0ecd9",
   "metadata": {
    "ExecuteTime": {
     "end_time": "2023-11-21T13:36:12.776910Z",
     "start_time": "2023-11-21T13:36:12.766073Z"
    }
   },
   "outputs": [],
   "source": [
    "def deleteMiddle(head):\n",
    "    \"\"\"\n",
    "    Deletes the middle node of a singly-linked list.\n",
    "\n",
    "    Quick Summary:\n",
    "    - Use the two-pointer technique (fast and slow pointers) to find the middle node.\n",
    "    - Traverse the linked list and update pointers until the fast pointer reaches the end.\n",
    "    - Delete the middle node by updating the next pointer of the node before it.\n",
    "\n",
    "    Parameters:\n",
    "    - head: The head of the linked list.\n",
    "\n",
    "    Returns:\n",
    "    - The head of the modified linked list.\n",
    "    \"\"\"\n",
    "\n",
    "    # Check if the linked list is empty or has only one node\n",
    "    if head == None or head.next == None:\n",
    "        return None\n",
    "\n",
    "    # Initialize pointers for traversal\n",
    "    curr = head\n",
    "    fast, slow = head, head\n",
    "\n",
    "    # Use the two-pointer technique to find the middle node\n",
    "    while fast and fast.next:\n",
    "        prev = slow\n",
    "        slow = slow.next\n",
    "        fast = fast.next.next\n",
    "\n",
    "    # Delete the middle node by updating the next pointer of the node before it\n",
    "    prev.next = prev.next.next\n",
    "\n",
    "    # Return the head of the modified linked list\n",
    "    return head"
   ]
  },
  {
   "cell_type": "markdown",
   "id": "60803fde",
   "metadata": {},
   "source": [
    "## Sort the List"
   ]
  },
  {
   "cell_type": "markdown",
   "id": "2095f71a",
   "metadata": {},
   "source": [
    "### By using arrays\n",
    "\n",
    "        Quick Summary:\n",
    "        - Convert the linked list values to a list.\n",
    "        - Sort the list.\n",
    "        - Reconstruct the linked list with the sorted values."
   ]
  },
  {
   "cell_type": "code",
   "execution_count": 3,
   "id": "fb4ea90d",
   "metadata": {
    "ExecuteTime": {
     "end_time": "2023-11-21T13:43:21.767433Z",
     "start_time": "2023-11-21T13:43:21.128016Z"
    }
   },
   "outputs": [
    {
     "ename": "NameError",
     "evalue": "name 'Optional' is not defined",
     "output_type": "error",
     "traceback": [
      "\u001b[1;31m---------------------------------------------------------------------------\u001b[0m",
      "\u001b[1;31mNameError\u001b[0m                                 Traceback (most recent call last)",
      "Cell \u001b[1;32mIn[3], line 1\u001b[0m\n\u001b[1;32m----> 1\u001b[0m \u001b[38;5;28;01mclass\u001b[39;00m \u001b[38;5;21;01mSolution\u001b[39;00m:\n\u001b[0;32m      2\u001b[0m     \u001b[38;5;28;01mdef\u001b[39;00m \u001b[38;5;21msortList\u001b[39m(\u001b[38;5;28mself\u001b[39m, head: Optional[ListNode]) \u001b[38;5;241m-\u001b[39m\u001b[38;5;241m>\u001b[39m Optional[ListNode]:\n\u001b[0;32m      3\u001b[0m \u001b[38;5;250m        \u001b[39m\u001b[38;5;124;03m\"\"\"\u001b[39;00m\n\u001b[0;32m      4\u001b[0m \u001b[38;5;124;03m        Sorts a linked list in ascending order.\u001b[39;00m\n\u001b[0;32m      5\u001b[0m \n\u001b[1;32m   (...)\u001b[0m\n\u001b[0;32m     15\u001b[0m \u001b[38;5;124;03m        - The head of the sorted linked list.\u001b[39;00m\n\u001b[0;32m     16\u001b[0m \u001b[38;5;124;03m        \"\"\"\u001b[39;00m\n",
      "Cell \u001b[1;32mIn[3], line 2\u001b[0m, in \u001b[0;36mSolution\u001b[1;34m()\u001b[0m\n\u001b[0;32m      1\u001b[0m \u001b[38;5;28;01mclass\u001b[39;00m \u001b[38;5;21;01mSolution\u001b[39;00m:\n\u001b[1;32m----> 2\u001b[0m     \u001b[38;5;28;01mdef\u001b[39;00m \u001b[38;5;21msortList\u001b[39m(\u001b[38;5;28mself\u001b[39m, head: \u001b[43mOptional\u001b[49m[ListNode]) \u001b[38;5;241m-\u001b[39m\u001b[38;5;241m>\u001b[39m Optional[ListNode]:\n\u001b[0;32m      3\u001b[0m \u001b[38;5;250m        \u001b[39m\u001b[38;5;124;03m\"\"\"\u001b[39;00m\n\u001b[0;32m      4\u001b[0m \u001b[38;5;124;03m        Sorts a linked list in ascending order.\u001b[39;00m\n\u001b[0;32m      5\u001b[0m \n\u001b[1;32m   (...)\u001b[0m\n\u001b[0;32m     15\u001b[0m \u001b[38;5;124;03m        - The head of the sorted linked list.\u001b[39;00m\n\u001b[0;32m     16\u001b[0m \u001b[38;5;124;03m        \"\"\"\u001b[39;00m\n\u001b[0;32m     18\u001b[0m         \u001b[38;5;66;03m# Convert linked list values to a list\u001b[39;00m\n",
      "\u001b[1;31mNameError\u001b[0m: name 'Optional' is not defined"
     ]
    }
   ],
   "source": [
    "class Solution:\n",
    "    def sortList(self, head: Optional[ListNode]) -> Optional[ListNode]:\n",
    "        \"\"\"\n",
    "        Sorts a linked list in ascending order.\n",
    "\n",
    "        Quick Summary:\n",
    "        - Convert the linked list values to a list.\n",
    "        - Sort the list.\n",
    "        - Reconstruct the linked list with the sorted values.\n",
    "\n",
    "        Parameters:\n",
    "        - head: The head of the linked list.\n",
    "\n",
    "        Returns:\n",
    "        - The head of the sorted linked list.\n",
    "        \"\"\"\n",
    "\n",
    "        # Convert linked list values to a list\n",
    "        arr = []\n",
    "        curr = head\n",
    "        while curr:\n",
    "            arr.append(curr.val)\n",
    "            curr = curr.next\n",
    "\n",
    "        # Sort the list\n",
    "        arr.sort()\n",
    "\n",
    "        # Create a new linked list with the sorted values\n",
    "        new_head = ListNode(0)\n",
    "        curr = new_head\n",
    "        for num in arr:\n",
    "            curr.next = ListNode(num)\n",
    "            curr = curr.next\n",
    "\n",
    "        # Return the head of the sorted linked list\n",
    "        return new_head.next"
   ]
  },
  {
   "cell_type": "markdown",
   "id": "63aceaff",
   "metadata": {},
   "source": [
    "### By using Merge Sort\n",
    "\n",
    "The provided code is for a class `Solution` with a method `sortList` that implements the merge sort algorithm to sort a linked list. It also includes helper methods `merge` and `findMiddleNode` to perform the merging step and find the middle node of the linked list, respectively.\n",
    "\n",
    "\n",
    "Explanation of key points:\n",
    "\n",
    "- **Divide and Conquer:** The `sortList` method uses the merge sort algorithm, recursively dividing the linked list into halves until single-node or empty lists, and then merging the sorted halves back together.\n",
    "\n",
    "- **Merge Method:** The `merge` method merges two sorted linked lists into a single sorted linked list.\n",
    "\n",
    "- **Find Middle Node:** The `findMiddleNode` method finds the middle node of a linked list using the two-pointer technique.\n",
    "\n",
    "- **Time Complexity:** The overall time complexity of this approach is O(n log n), where n is the length of the linked list.\n",
    "\n",
    "- **Space Complexity:** The space complexity is O(log n) due to the recursion stack.\n",
    "\n",
    "If you have any further questions or need additional clarification, feel free to ask!"
   ]
  },
  {
   "cell_type": "code",
   "execution_count": 5,
   "id": "02138831",
   "metadata": {
    "ExecuteTime": {
     "end_time": "2023-11-21T18:51:27.826804Z",
     "start_time": "2023-11-21T18:51:27.662251Z"
    }
   },
   "outputs": [
    {
     "ename": "NameError",
     "evalue": "name 'Optional' is not defined",
     "output_type": "error",
     "traceback": [
      "\u001b[1;31m---------------------------------------------------------------------------\u001b[0m",
      "\u001b[1;31mNameError\u001b[0m                                 Traceback (most recent call last)",
      "Cell \u001b[1;32mIn[5], line 1\u001b[0m\n\u001b[1;32m----> 1\u001b[0m \u001b[38;5;28;01mclass\u001b[39;00m \u001b[38;5;21;01mSolution\u001b[39;00m:\n\u001b[0;32m      2\u001b[0m     \u001b[38;5;28;01mdef\u001b[39;00m \u001b[38;5;21msortList\u001b[39m(\u001b[38;5;28mself\u001b[39m, head: Optional[ListNode]) \u001b[38;5;241m-\u001b[39m\u001b[38;5;241m>\u001b[39m Optional[ListNode]:\n\u001b[0;32m      3\u001b[0m \u001b[38;5;250m        \u001b[39m\u001b[38;5;124;03m\"\"\"\u001b[39;00m\n\u001b[0;32m      4\u001b[0m \u001b[38;5;124;03m        Sorts a linked list in ascending order using the merge sort algorithm.\u001b[39;00m\n\u001b[0;32m      5\u001b[0m \n\u001b[1;32m   (...)\u001b[0m\n\u001b[0;32m     14\u001b[0m \u001b[38;5;124;03m        - The head of the sorted linked list.\u001b[39;00m\n\u001b[0;32m     15\u001b[0m \u001b[38;5;124;03m        \"\"\"\u001b[39;00m\n",
      "Cell \u001b[1;32mIn[5], line 2\u001b[0m, in \u001b[0;36mSolution\u001b[1;34m()\u001b[0m\n\u001b[0;32m      1\u001b[0m \u001b[38;5;28;01mclass\u001b[39;00m \u001b[38;5;21;01mSolution\u001b[39;00m:\n\u001b[1;32m----> 2\u001b[0m     \u001b[38;5;28;01mdef\u001b[39;00m \u001b[38;5;21msortList\u001b[39m(\u001b[38;5;28mself\u001b[39m, head: \u001b[43mOptional\u001b[49m[ListNode]) \u001b[38;5;241m-\u001b[39m\u001b[38;5;241m>\u001b[39m Optional[ListNode]:\n\u001b[0;32m      3\u001b[0m \u001b[38;5;250m        \u001b[39m\u001b[38;5;124;03m\"\"\"\u001b[39;00m\n\u001b[0;32m      4\u001b[0m \u001b[38;5;124;03m        Sorts a linked list in ascending order using the merge sort algorithm.\u001b[39;00m\n\u001b[0;32m      5\u001b[0m \n\u001b[1;32m   (...)\u001b[0m\n\u001b[0;32m     14\u001b[0m \u001b[38;5;124;03m        - The head of the sorted linked list.\u001b[39;00m\n\u001b[0;32m     15\u001b[0m \u001b[38;5;124;03m        \"\"\"\u001b[39;00m\n\u001b[0;32m     17\u001b[0m         \u001b[38;5;66;03m# Base case: Empty list or single-node list is already sorted\u001b[39;00m\n",
      "\u001b[1;31mNameError\u001b[0m: name 'Optional' is not defined"
     ]
    }
   ],
   "source": [
    "class Solution:\n",
    "    def sortList(self, head: Optional[ListNode]) -> Optional[ListNode]:\n",
    "        \"\"\"\n",
    "        Sorts a linked list in ascending order using the merge sort algorithm.\n",
    "\n",
    "        Quick Summary:\n",
    "        - Recursively divide the linked list into halves until single-node or empty lists.\n",
    "        - Merge the sorted halves back together.\n",
    "\n",
    "        Parameters:\n",
    "        - head: The head of the linked list.\n",
    "\n",
    "        Returns:\n",
    "        - The head of the sorted linked list.\n",
    "        \"\"\"\n",
    "\n",
    "        # Base case: Empty list or single-node list is already sorted\n",
    "        if head == None or head.next == None: \n",
    "            return head\n",
    "\n",
    "        # Find the middle node of the linked list\n",
    "        mid = self.findMiddleNode(head)\n",
    "\n",
    "        # Divide the linked list into two halves\n",
    "        left = head\n",
    "        right = mid.next\n",
    "        mid.next = None\n",
    "\n",
    "        # Recursively sort the left and right halves\n",
    "        left_sorted = self.sortList(left)\n",
    "        right_sorted = self.sortList(right)\n",
    "\n",
    "        # Merge the sorted halves\n",
    "        return self.merge(left_sorted, right_sorted)\n",
    "\n",
    "    def merge(self, left, right):\n",
    "        \"\"\"\n",
    "        Merges two sorted linked lists.\n",
    "\n",
    "        Parameters:\n",
    "        - left: Head of the first sorted linked list.\n",
    "        - right: Head of the second sorted linked list.\n",
    "\n",
    "        Returns:\n",
    "        - Head of the merged sorted linked list.\n",
    "        \"\"\"\n",
    "        dummy = ListNode(0)\n",
    "        curr = dummy\n",
    "        while left and right:\n",
    "            if left.val < right.val:\n",
    "                curr.next = left\n",
    "                left = left.next\n",
    "            else:\n",
    "                curr.next = right\n",
    "                right = right.next\n",
    "            curr = curr.next\n",
    "#         curr.next = left or right\n",
    "        # OR\n",
    "        # -------\n",
    "        while left:\n",
    "            curr.next = left\n",
    "            curr = curr.next\n",
    "            left = left.next\n",
    "        while right:\n",
    "            curr.next = right\n",
    "            curr = curr.next\n",
    "            right = right.next\n",
    "        # --------\n",
    "        return dummy.next\n",
    "\n",
    "    def findMiddleNode(self, head):\n",
    "        \"\"\"\n",
    "        Finds the middle node of a linked list.\n",
    "\n",
    "        Parameters:\n",
    "        - head: The head of the linked list.\n",
    "\n",
    "        Returns:\n",
    "        - The middle node of the linked list.\n",
    "        \"\"\"\n",
    "        slow, fast = head, head\n",
    "        while fast.next and fast.next.next:\n",
    "            slow = slow.next\n",
    "            fast = fast.next.next\n",
    "        return slow"
   ]
  },
  {
   "cell_type": "markdown",
   "id": "3cb3d0d3",
   "metadata": {},
   "source": [
    "## Intersection of Two Linked Lists\n",
    "\n",
    "\n",
    "### By using Set\n",
    "\n",
    "        - Traverse the first linked list (headA) and store visited nodes in a set.\n",
    "        - Traverse the second linked list (headB) and check for intersection in the set.\n"
   ]
  },
  {
   "cell_type": "code",
   "execution_count": 6,
   "id": "b86bd6a7",
   "metadata": {
    "ExecuteTime": {
     "end_time": "2023-11-21T19:17:18.119270Z",
     "start_time": "2023-11-21T19:17:17.978134Z"
    }
   },
   "outputs": [
    {
     "ename": "NameError",
     "evalue": "name 'ListNode' is not defined",
     "output_type": "error",
     "traceback": [
      "\u001b[1;31m---------------------------------------------------------------------------\u001b[0m",
      "\u001b[1;31mNameError\u001b[0m                                 Traceback (most recent call last)",
      "Cell \u001b[1;32mIn[6], line 1\u001b[0m\n\u001b[1;32m----> 1\u001b[0m \u001b[38;5;28;01mclass\u001b[39;00m \u001b[38;5;21;01mSolution\u001b[39;00m:\n\u001b[0;32m      2\u001b[0m     \u001b[38;5;28;01mdef\u001b[39;00m \u001b[38;5;21mgetIntersectionNode\u001b[39m(\u001b[38;5;28mself\u001b[39m, headA: ListNode, headB: ListNode) \u001b[38;5;241m-\u001b[39m\u001b[38;5;241m>\u001b[39m Optional[ListNode]:\n\u001b[0;32m      3\u001b[0m \u001b[38;5;250m        \u001b[39m\u001b[38;5;124;03m\"\"\"\u001b[39;00m\n\u001b[0;32m      4\u001b[0m \u001b[38;5;124;03m        Finds the intersection node of two linked lists.\u001b[39;00m\n\u001b[0;32m      5\u001b[0m \n\u001b[1;32m   (...)\u001b[0m\n\u001b[0;32m     15\u001b[0m \u001b[38;5;124;03m        - The intersection node if found, otherwise None.\u001b[39;00m\n\u001b[0;32m     16\u001b[0m \u001b[38;5;124;03m        \"\"\"\u001b[39;00m\n",
      "Cell \u001b[1;32mIn[6], line 2\u001b[0m, in \u001b[0;36mSolution\u001b[1;34m()\u001b[0m\n\u001b[0;32m      1\u001b[0m \u001b[38;5;28;01mclass\u001b[39;00m \u001b[38;5;21;01mSolution\u001b[39;00m:\n\u001b[1;32m----> 2\u001b[0m     \u001b[38;5;28;01mdef\u001b[39;00m \u001b[38;5;21mgetIntersectionNode\u001b[39m(\u001b[38;5;28mself\u001b[39m, headA: \u001b[43mListNode\u001b[49m, headB: ListNode) \u001b[38;5;241m-\u001b[39m\u001b[38;5;241m>\u001b[39m Optional[ListNode]:\n\u001b[0;32m      3\u001b[0m \u001b[38;5;250m        \u001b[39m\u001b[38;5;124;03m\"\"\"\u001b[39;00m\n\u001b[0;32m      4\u001b[0m \u001b[38;5;124;03m        Finds the intersection node of two linked lists.\u001b[39;00m\n\u001b[0;32m      5\u001b[0m \n\u001b[1;32m   (...)\u001b[0m\n\u001b[0;32m     15\u001b[0m \u001b[38;5;124;03m        - The intersection node if found, otherwise None.\u001b[39;00m\n\u001b[0;32m     16\u001b[0m \u001b[38;5;124;03m        \"\"\"\u001b[39;00m\n\u001b[0;32m     18\u001b[0m         \u001b[38;5;66;03m# Initialize pointers for traversing linked lists\u001b[39;00m\n",
      "\u001b[1;31mNameError\u001b[0m: name 'ListNode' is not defined"
     ]
    }
   ],
   "source": [
    "class Solution:\n",
    "    def getIntersectionNode(self, headA: ListNode, headB: ListNode) -> Optional[ListNode]:\n",
    "        \"\"\"\n",
    "        Finds the intersection node of two linked lists.\n",
    "\n",
    "        Quick Summary:\n",
    "        - Traverse the first linked list (headA) and store visited nodes in a set.\n",
    "        - Traverse the second linked list (headB) and check for intersection in the set.\n",
    "\n",
    "        Parameters:\n",
    "        - headA: Head of the first linked list.\n",
    "        - headB: Head of the second linked list.\n",
    "\n",
    "        Returns:\n",
    "        - The intersection node if found, otherwise None.\n",
    "        \"\"\"\n",
    "\n",
    "        # Initialize pointers for traversing linked lists\n",
    "        currA = headA\n",
    "        currB = headB\n",
    "\n",
    "        # Set to store visited nodes in the first linked list\n",
    "        setV = set()\n",
    "\n",
    "        # Traverse the first linked list and store visited nodes in the set\n",
    "        while currA:\n",
    "            if currA not in setV:\n",
    "                setV.add(currA)\n",
    "                currA = currA.next\n",
    "\n",
    "        # Traverse the second linked list and check for intersection in the set\n",
    "        while currB:\n",
    "            if currB in setV:\n",
    "                return currB\n",
    "            currB = currB.next\n",
    "\n",
    "        # Return None if no intersection is found\n",
    "        return None\n"
   ]
  },
  {
   "cell_type": "markdown",
   "id": "92d177e8",
   "metadata": {},
   "source": [
    "### By using Two Pointers Method"
   ]
  },
  {
   "cell_type": "code",
   "execution_count": 1,
   "id": "a49986ed",
   "metadata": {
    "ExecuteTime": {
     "end_time": "2023-11-22T11:45:50.878445Z",
     "start_time": "2023-11-22T11:45:50.197556Z"
    }
   },
   "outputs": [
    {
     "ename": "NameError",
     "evalue": "name 'ListNode' is not defined",
     "output_type": "error",
     "traceback": [
      "\u001b[1;31m---------------------------------------------------------------------------\u001b[0m",
      "\u001b[1;31mNameError\u001b[0m                                 Traceback (most recent call last)",
      "Cell \u001b[1;32mIn[1], line 1\u001b[0m\n\u001b[1;32m----> 1\u001b[0m \u001b[38;5;28;01mclass\u001b[39;00m \u001b[38;5;21;01mSolution\u001b[39;00m:\n\u001b[0;32m      2\u001b[0m     \u001b[38;5;28;01mdef\u001b[39;00m \u001b[38;5;21mgetIntersectionNode\u001b[39m(\u001b[38;5;28mself\u001b[39m, headA: ListNode, headB: ListNode) \u001b[38;5;241m-\u001b[39m\u001b[38;5;241m>\u001b[39m Optional[ListNode]:\n\u001b[0;32m      3\u001b[0m \u001b[38;5;250m        \u001b[39m\u001b[38;5;124;03m\"\"\"\u001b[39;00m\n\u001b[0;32m      4\u001b[0m \u001b[38;5;124;03m        Finds the intersection node of two linked lists.\u001b[39;00m\n\u001b[0;32m      5\u001b[0m \n\u001b[1;32m   (...)\u001b[0m\n\u001b[0;32m     16\u001b[0m \u001b[38;5;124;03m        - The intersection node if found, otherwise None.\u001b[39;00m\n\u001b[0;32m     17\u001b[0m \u001b[38;5;124;03m        \"\"\"\u001b[39;00m\n",
      "Cell \u001b[1;32mIn[1], line 2\u001b[0m, in \u001b[0;36mSolution\u001b[1;34m()\u001b[0m\n\u001b[0;32m      1\u001b[0m \u001b[38;5;28;01mclass\u001b[39;00m \u001b[38;5;21;01mSolution\u001b[39;00m:\n\u001b[1;32m----> 2\u001b[0m     \u001b[38;5;28;01mdef\u001b[39;00m \u001b[38;5;21mgetIntersectionNode\u001b[39m(\u001b[38;5;28mself\u001b[39m, headA: \u001b[43mListNode\u001b[49m, headB: ListNode) \u001b[38;5;241m-\u001b[39m\u001b[38;5;241m>\u001b[39m Optional[ListNode]:\n\u001b[0;32m      3\u001b[0m \u001b[38;5;250m        \u001b[39m\u001b[38;5;124;03m\"\"\"\u001b[39;00m\n\u001b[0;32m      4\u001b[0m \u001b[38;5;124;03m        Finds the intersection node of two linked lists.\u001b[39;00m\n\u001b[0;32m      5\u001b[0m \n\u001b[1;32m   (...)\u001b[0m\n\u001b[0;32m     16\u001b[0m \u001b[38;5;124;03m        - The intersection node if found, otherwise None.\u001b[39;00m\n\u001b[0;32m     17\u001b[0m \u001b[38;5;124;03m        \"\"\"\u001b[39;00m\n\u001b[0;32m     19\u001b[0m         \u001b[38;5;66;03m# Find the lengths of both linked lists\u001b[39;00m\n",
      "\u001b[1;31mNameError\u001b[0m: name 'ListNode' is not defined"
     ]
    }
   ],
   "source": [
    "class Solution:\n",
    "    def getIntersectionNode(self, headA: ListNode, headB: ListNode) -> Optional[ListNode]:\n",
    "        \"\"\"\n",
    "        Finds the intersection node of two linked lists.\n",
    "\n",
    "        Quick Summary:\n",
    "        - Find the lengths of both linked lists.\n",
    "        - Adjust the pointers to ensure they start at the same relative position.\n",
    "        - Move both pointers until they meet at the intersection node.\n",
    "\n",
    "        Parameters:\n",
    "        - headA: Head of the first linked list.\n",
    "        - headB: Head of the second linked list.\n",
    "\n",
    "        Returns:\n",
    "        - The intersection node if found, otherwise None.\n",
    "        \"\"\"\n",
    "\n",
    "        # Find the lengths of both linked lists\n",
    "        m = self.length(headA)\n",
    "        n = self.length(headB)\n",
    "\n",
    "        # Adjust pointers to start at the same relative position\n",
    "        if m == n:\n",
    "            dummyA = headA\n",
    "            dummyB = headB\n",
    "        else:\n",
    "            diff = abs(n - m)\n",
    "            dummyB = headB\n",
    "            dummyA = headA\n",
    "            if n > m:\n",
    "                for _ in range(diff):\n",
    "                    dummyB = dummyB.next\n",
    "            else:\n",
    "                for _ in range(diff):\n",
    "                    dummyA = dummyA.next\n",
    "\n",
    "        # Move both pointers until they meet at the intersection node\n",
    "        while dummyA != dummyB:\n",
    "            dummyA = dummyA.next\n",
    "            dummyB = dummyB.next\n",
    "\n",
    "        # Return the intersection node if found, otherwise None\n",
    "        return dummyA\n",
    "\n",
    "    def length(self, head: ListNode) -> int:\n",
    "        \"\"\"\n",
    "        Finds the length of a linked list.\n",
    "\n",
    "        Parameters:\n",
    "        - head: Head of the linked list.\n",
    "\n",
    "        Returns:\n",
    "        - The length of the linked list.\n",
    "        \"\"\"\n",
    "        count = 0\n",
    "        curr = head\n",
    "        while curr:\n",
    "            count += 1\n",
    "            curr = curr.next\n",
    "        return count"
   ]
  },
  {
   "cell_type": "code",
   "execution_count": null,
   "id": "fe498165",
   "metadata": {},
   "outputs": [],
   "source": []
  },
  {
   "cell_type": "code",
   "execution_count": null,
   "id": "edb89e38",
   "metadata": {},
   "outputs": [],
   "source": []
  },
  {
   "cell_type": "code",
   "execution_count": null,
   "id": "db7e0d3f",
   "metadata": {},
   "outputs": [],
   "source": []
  },
  {
   "cell_type": "markdown",
   "id": "b1ec9d07",
   "metadata": {},
   "source": [
    "# 2D Linked List"
   ]
  },
  {
   "cell_type": "markdown",
   "id": "47385d30",
   "metadata": {},
   "source": [
    "## Array to Doubly Linked List"
   ]
  },
  {
   "cell_type": "code",
   "execution_count": 9,
   "id": "547fef81",
   "metadata": {
    "ExecuteTime": {
     "end_time": "2023-11-18T15:09:43.756359Z",
     "start_time": "2023-11-18T15:09:43.713142Z"
    }
   },
   "outputs": [],
   "source": [
    "class Node:\n",
    "    def __init__(self, data=None, prev=None, next=None):\n",
    "        self.data = data\n",
    "        self.prev = prev\n",
    "        self.next = next\n",
    "\n",
    "def constructDLL(arr: [int]) -> Node:\n",
    "    # Create a dummy head node to simplify handling of the first node\n",
    "    head = Node()\n",
    "    # Initialize current and previous pointers\n",
    "    curr = head\n",
    "    prev = None\n",
    "    \n",
    "    # Iterate through the array\n",
    "    for num in arr:\n",
    "        # Create a new node with the current number\n",
    "        curr.next = Node(num)\n",
    "        # Set the previous pointer of the current node\n",
    "        curr.next.prev = curr\n",
    "        # Move the current pointer to the newly created node\n",
    "        curr = curr.next\n",
    "    \n",
    "    # Return the next of the dummy head, which is the actual head of the doubly linked list\n",
    "    return head.next"
   ]
  },
  {
   "cell_type": "markdown",
   "id": "c1f62e79",
   "metadata": {},
   "source": [
    "## Insert at the end of DLL"
   ]
  },
  {
   "cell_type": "code",
   "execution_count": 10,
   "id": "b58ee3dd",
   "metadata": {
    "ExecuteTime": {
     "end_time": "2023-11-18T15:14:37.947009Z",
     "start_time": "2023-11-18T15:14:37.909058Z"
    }
   },
   "outputs": [],
   "source": [
    "class Node:\n",
    "    def __init__(self, data=None, prev=None, next=None):\n",
    "        self.data = data\n",
    "        self.prev = prev\n",
    "        self.next = next\n",
    "\n",
    "def insertAtTail(head: Node, k: int) -> Node:\n",
    "    # Check if the linked list is empty\n",
    "    if head is None:\n",
    "        return Node(k)  # If empty, create a new node as the head\n",
    "    \n",
    "    # Start at the head of the linked list\n",
    "    curr = head\n",
    "    \n",
    "    # Traverse the linked list until the end (i.e., until the current node's next is None)\n",
    "    while curr.next is not None:\n",
    "        curr = curr.next  # Move to the next node\n",
    "    \n",
    "    # Create a new node with the given value at the end of the linked list\n",
    "    curr.next = Node(k)\n",
    "    curr.next.prev = curr  # Set the previous pointer of the new node\n",
    "    return head  # Return the head of the linked list"
   ]
  },
  {
   "cell_type": "markdown",
   "id": "8511e106",
   "metadata": {},
   "source": [
    "## Delete Last Node of a DLL"
   ]
  },
  {
   "cell_type": "code",
   "execution_count": 11,
   "id": "40f7633a",
   "metadata": {
    "ExecuteTime": {
     "end_time": "2023-11-18T15:17:55.105686Z",
     "start_time": "2023-11-18T15:17:55.073355Z"
    }
   },
   "outputs": [],
   "source": [
    "class Node:\n",
    "    def __init__(self, data=None, prev=None, next=None):\n",
    "        self.data = data\n",
    "        self.prev = prev\n",
    "        self.next = next\n",
    "\n",
    "def deleteLastNode(head: Node) -> Node:\n",
    "    # Check if the linked list has only one node\n",
    "    if head.next is None:\n",
    "        return None  # If only one node, return None to indicate an empty list\n",
    "    \n",
    "    # Start at the head of the linked list\n",
    "    curr = head\n",
    "    \n",
    "    # Traverse the linked list until the second-to-last node\n",
    "    while curr.next.next is not None:\n",
    "        curr = curr.next  # Move to the next node\n",
    "    \n",
    "    # Set the previous pointer of the last node to None\n",
    "    curr.next.prev = None\n",
    "    \n",
    "    # Set the next pointer of the second-to-last node to None, effectively removing the last node\n",
    "    curr.next = None\n",
    "    \n",
    "    return head  # Return the head of the modified linked list"
   ]
  },
  {
   "cell_type": "markdown",
   "id": "393529c1",
   "metadata": {},
   "source": [
    "## Reverse DLL"
   ]
  },
  {
   "cell_type": "code",
   "execution_count": 12,
   "id": "6a835999",
   "metadata": {
    "ExecuteTime": {
     "end_time": "2023-11-18T15:35:15.950274Z",
     "start_time": "2023-11-18T15:35:15.920142Z"
    }
   },
   "outputs": [],
   "source": [
    "class Node:\n",
    "    def __init__(self, data=None, prev=None, next=None):\n",
    "        self.data = data\n",
    "        self.prev = prev\n",
    "        self.next = next\n",
    "\n",
    "def reverseDLL(head):\n",
    "    # Start at the head of the linked list\n",
    "    curr = head\n",
    "    prev = None\n",
    "    \n",
    "    # Traverse the linked list\n",
    "    while curr is not None:\n",
    "        temp = curr.next  # Save the next node\n",
    "        \n",
    "        # Reverse the pointers\n",
    "        curr.prev = curr.next\n",
    "        curr.next = prev\n",
    "        \n",
    "        # Move to the next node\n",
    "        prev = curr\n",
    "        curr = temp\n",
    "    \n",
    "    # Set the head to the new tail (prev)\n",
    "    head = prev\n",
    "    \n",
    "    return head"
   ]
  },
  {
   "cell_type": "code",
   "execution_count": null,
   "id": "f1f0a064",
   "metadata": {},
   "outputs": [],
   "source": []
  }
 ],
 "metadata": {
  "kernelspec": {
   "display_name": "Python 3 (ipykernel)",
   "language": "python",
   "name": "python3"
  },
  "language_info": {
   "codemirror_mode": {
    "name": "ipython",
    "version": 3
   },
   "file_extension": ".py",
   "mimetype": "text/x-python",
   "name": "python",
   "nbconvert_exporter": "python",
   "pygments_lexer": "ipython3",
   "version": "3.10.10"
  },
  "toc": {
   "base_numbering": 1,
   "nav_menu": {},
   "number_sections": true,
   "sideBar": true,
   "skip_h1_title": false,
   "title_cell": "Table of Contents",
   "title_sidebar": "Contents",
   "toc_cell": true,
   "toc_position": {},
   "toc_section_display": true,
   "toc_window_display": false
  }
 },
 "nbformat": 4,
 "nbformat_minor": 5
}
