{
 "cells": [
  {
   "cell_type": "markdown",
   "id": "b243f126",
   "metadata": {
    "toc": true
   },
   "source": [
    "<h1>Table of Contents<span class=\"tocSkip\"></span></h1>\n",
    "<div class=\"toc\"><ul class=\"toc-item\"><li><span><a href=\"#Array-to-LinkedList\" data-toc-modified-id=\"Array-to-LinkedList-1\"><span class=\"toc-item-num\">1&nbsp;&nbsp;</span>Array to LinkedList</a></span></li><li><span><a href=\"#Insert-Node-at-the-Beginning\" data-toc-modified-id=\"Insert-Node-at-the-Beginning-2\"><span class=\"toc-item-num\">2&nbsp;&nbsp;</span>Insert Node at the Beginning</a></span></li></ul></div>"
   ]
  },
  {
   "cell_type": "code",
   "execution_count": 1,
   "id": "97928328",
   "metadata": {
    "ExecuteTime": {
     "end_time": "2023-11-18T14:06:02.112291Z",
     "start_time": "2023-11-18T14:06:02.084678Z"
    }
   },
   "outputs": [],
   "source": [
    "class Node:\n",
    "    def __init__(self, val=0, next=None):\n",
    "        self.val = val\n",
    "        self.next = next"
   ]
  },
  {
   "cell_type": "markdown",
   "id": "dc903be1",
   "metadata": {},
   "source": [
    "## Array to LinkedList"
   ]
  },
  {
   "cell_type": "code",
   "execution_count": 2,
   "id": "dde1c1d1",
   "metadata": {
    "ExecuteTime": {
     "end_time": "2023-11-18T14:06:05.606739Z",
     "start_time": "2023-11-18T14:06:05.588189Z"
    }
   },
   "outputs": [],
   "source": [
    "def constructLL(arr: [int]) -> Node:\n",
    "    # Write your code here\n",
    "    head = Node(0)\n",
    "    curr = head\n",
    "    for i in arr:\n",
    "        curr.next = Node(i)\n",
    "        curr = curr.next\n",
    "    return head.next"
   ]
  },
  {
   "cell_type": "markdown",
   "id": "fd917c98",
   "metadata": {},
   "source": [
    "## Insert Node at the Beginning"
   ]
  },
  {
   "cell_type": "code",
   "execution_count": 3,
   "id": "23f1d3a4",
   "metadata": {
    "ExecuteTime": {
     "end_time": "2023-11-18T14:11:42.604011Z",
     "start_time": "2023-11-18T14:11:42.577988Z"
    }
   },
   "outputs": [],
   "source": [
    "class Node:\n",
    "    def __init__(self, data):\n",
    "        self.data = data\n",
    "        self.next = None\n",
    "\n",
    "def insertAtFirst(root: Node, newValue: int) -> Node:\n",
    "    # Create a new node with the given value\n",
    "    head = Node(newValue)\n",
    "    # Set current node to the newly created head\n",
    "    curr = head\n",
    "    \n",
    "    # Iterate through the existing linked list\n",
    "    while root is not None:\n",
    "        # Create a new node with the data from the existing linked list\n",
    "        curr.next = Node(root.data)\n",
    "        # Move the current node to the next node in the new linked list\n",
    "        curr = curr.next\n",
    "        # Move to the next node in the existing linked list\n",
    "        root = root.next\n",
    "    \n",
    "    # Return the head of the new linked list\n",
    "    return head"
   ]
  },
  {
   "cell_type": "code",
   "execution_count": null,
   "id": "4929b07e",
   "metadata": {},
   "outputs": [],
   "source": []
  }
 ],
 "metadata": {
  "kernelspec": {
   "display_name": "Python 3 (ipykernel)",
   "language": "python",
   "name": "python3"
  },
  "language_info": {
   "codemirror_mode": {
    "name": "ipython",
    "version": 3
   },
   "file_extension": ".py",
   "mimetype": "text/x-python",
   "name": "python",
   "nbconvert_exporter": "python",
   "pygments_lexer": "ipython3",
   "version": "3.10.10"
  },
  "toc": {
   "base_numbering": 1,
   "nav_menu": {},
   "number_sections": true,
   "sideBar": true,
   "skip_h1_title": false,
   "title_cell": "Table of Contents",
   "title_sidebar": "Contents",
   "toc_cell": true,
   "toc_position": {},
   "toc_section_display": true,
   "toc_window_display": false
  }
 },
 "nbformat": 4,
 "nbformat_minor": 5
}
