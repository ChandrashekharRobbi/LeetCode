{
 "cells": [
  {
   "cell_type": "markdown",
   "id": "475bfb29",
   "metadata": {
    "toc": true
   },
   "source": [
    "<h1>Table of Contents<span class=\"tocSkip\"></span></h1>\n",
    "<div class=\"toc\"><ul class=\"toc-item\"><li><span><a href=\"#1D-Linked-List\" data-toc-modified-id=\"1D-Linked-List-1\"><span class=\"toc-item-num\">1&nbsp;&nbsp;</span>1D Linked List</a></span><ul class=\"toc-item\"><li><span><a href=\"#Array-to-LinkedList\" data-toc-modified-id=\"Array-to-LinkedList-1.1\"><span class=\"toc-item-num\">1.1&nbsp;&nbsp;</span>Array to LinkedList</a></span></li><li><span><a href=\"#Insert-Node-at-the-Beginning\" data-toc-modified-id=\"Insert-Node-at-the-Beginning-1.2\"><span class=\"toc-item-num\">1.2&nbsp;&nbsp;</span>Insert Node at the Beginning</a></span></li><li><span><a href=\"#Delete-the-Last-Element\" data-toc-modified-id=\"Delete-the-Last-Element-1.3\"><span class=\"toc-item-num\">1.3&nbsp;&nbsp;</span>Delete the Last Element</a></span></li><li><span><a href=\"#Find-the-Length-Of-the-Linked-List\" data-toc-modified-id=\"Find-the-Length-Of-the-Linked-List-1.4\"><span class=\"toc-item-num\">1.4&nbsp;&nbsp;</span>Find the Length Of the Linked List</a></span></li><li><span><a href=\"#Search-in-a-Linked-List\" data-toc-modified-id=\"Search-in-a-Linked-List-1.5\"><span class=\"toc-item-num\">1.5&nbsp;&nbsp;</span>Search in a Linked List</a></span></li></ul></li><li><span><a href=\"#2D-Linked-List\" data-toc-modified-id=\"2D-Linked-List-2\"><span class=\"toc-item-num\">2&nbsp;&nbsp;</span>2D Linked List</a></span><ul class=\"toc-item\"><li><span><a href=\"#Array-to-Doubly-Linked-List\" data-toc-modified-id=\"Array-to-Doubly-Linked-List-2.1\"><span class=\"toc-item-num\">2.1&nbsp;&nbsp;</span>Array to Doubly Linked List</a></span></li><li><span><a href=\"#Insert-at-the-end-of-DLL\" data-toc-modified-id=\"Insert-at-the-end-of-DLL-2.2\"><span class=\"toc-item-num\">2.2&nbsp;&nbsp;</span>Insert at the end of DLL</a></span></li></ul></li></ul></div>"
   ]
  },
  {
   "cell_type": "markdown",
   "id": "014fc3f1",
   "metadata": {},
   "source": [
    "# 1D Linked List"
   ]
  },
  {
   "cell_type": "code",
   "execution_count": 1,
   "id": "9ac678e4",
   "metadata": {
    "ExecuteTime": {
     "end_time": "2023-11-18T14:06:02.112291Z",
     "start_time": "2023-11-18T14:06:02.084678Z"
    }
   },
   "outputs": [],
   "source": [
    "class Node:\n",
    "    def __init__(self, val=0, next=None):\n",
    "        self.val = val\n",
    "        self.next = next"
   ]
  },
  {
   "cell_type": "markdown",
   "id": "f32c792f",
   "metadata": {},
   "source": [
    "## Array to LinkedList"
   ]
  },
  {
   "cell_type": "code",
   "execution_count": 2,
   "id": "a4c22053",
   "metadata": {
    "ExecuteTime": {
     "end_time": "2023-11-18T14:06:05.606739Z",
     "start_time": "2023-11-18T14:06:05.588189Z"
    }
   },
   "outputs": [],
   "source": [
    "def constructLL(arr: [int]) -> Node:\n",
    "    # Write your code here\n",
    "    head = Node(0)\n",
    "    curr = head\n",
    "    for i in arr:\n",
    "        curr.next = Node(i)\n",
    "        curr = curr.next\n",
    "    return head.next"
   ]
  },
  {
   "cell_type": "markdown",
   "id": "7b3534e6",
   "metadata": {},
   "source": [
    "## Insert Node at the Beginning"
   ]
  },
  {
   "cell_type": "code",
   "execution_count": 3,
   "id": "8cb88e50",
   "metadata": {
    "ExecuteTime": {
     "end_time": "2023-11-18T14:11:42.604011Z",
     "start_time": "2023-11-18T14:11:42.577988Z"
    }
   },
   "outputs": [],
   "source": [
    "class Node:\n",
    "    def __init__(self, data):\n",
    "        self.data = data\n",
    "        self.next = None\n",
    "\n",
    "def insertAtFirst(root: Node, newValue: int) -> Node:\n",
    "    # Create a new node with the given value\n",
    "    head = Node(newValue)\n",
    "    # Set current node to the newly created head\n",
    "    curr = head\n",
    "    \n",
    "    # Iterate through the existing linked list\n",
    "    while root is not None:\n",
    "        # Create a new node with the data from the existing linked list\n",
    "        curr.next = Node(root.data)\n",
    "        # Move the current node to the next node in the new linked list\n",
    "        curr = curr.next\n",
    "        # Move to the next node in the existing linked list\n",
    "        root = root.next\n",
    "    \n",
    "    # Return the head of the new linked list\n",
    "    return head"
   ]
  },
  {
   "cell_type": "markdown",
   "id": "4a3be947",
   "metadata": {},
   "source": [
    "## Delete the Last Element"
   ]
  },
  {
   "cell_type": "code",
   "execution_count": 4,
   "id": "43131e46",
   "metadata": {
    "ExecuteTime": {
     "end_time": "2023-11-18T14:15:04.278079Z",
     "start_time": "2023-11-18T14:15:04.253067Z"
    }
   },
   "outputs": [],
   "source": [
    "class Node:\n",
    "    def __init__(self, val=0, next=None):\n",
    "        self.val = val\n",
    "        self.next = next\n",
    "\n",
    "\n",
    "# Please do not change code above.\n",
    "\n",
    "def deleteLast(root: Node) -> Node:\n",
    "    # If the linked list is empty or has only one node\n",
    "    if root is None or root.next is None:\n",
    "        return None\n",
    "\n",
    "    # Start from the head of the linked list\n",
    "    curr = root\n",
    "\n",
    "    # Traverse the linked list until the second-to-last node\n",
    "    while curr.next.next is not None:\n",
    "        curr = curr.next\n",
    "\n",
    "    # Set the next pointer of the second-to-last node to None, effectively removing the last node\n",
    "    curr.next = None\n",
    "\n",
    "    # Return the modified linked list\n",
    "    return root"
   ]
  },
  {
   "cell_type": "markdown",
   "id": "1ef5d3d9",
   "metadata": {},
   "source": [
    "## Find the Length Of the Linked List"
   ]
  },
  {
   "cell_type": "code",
   "execution_count": 5,
   "id": "1ab0e940",
   "metadata": {
    "ExecuteTime": {
     "end_time": "2023-11-18T14:28:45.445125Z",
     "start_time": "2023-11-18T14:28:45.424132Z"
    }
   },
   "outputs": [],
   "source": [
    "def length(head):\n",
    "    # Initialize a pointer to the head of the linked list\n",
    "    curr = head\n",
    "    # Initialize a variable to count the number of nodes\n",
    "    count = 0\n",
    "    \n",
    "    # Traverse the linked list until the end (i.e., until the current node is None)\n",
    "    while curr is not None:\n",
    "        # Increment the count for each node\n",
    "        count += 1\n",
    "        # Move to the next node\n",
    "        curr = curr.next\n",
    "    \n",
    "    # Return the count, which represents the length of the linked list\n",
    "    return count"
   ]
  },
  {
   "cell_type": "markdown",
   "id": "7379396c",
   "metadata": {},
   "source": [
    "## Search in a Linked List"
   ]
  },
  {
   "cell_type": "code",
   "execution_count": 6,
   "id": "b63eae9f",
   "metadata": {
    "ExecuteTime": {
     "end_time": "2023-11-18T14:31:32.429341Z",
     "start_time": "2023-11-18T14:31:32.403653Z"
    }
   },
   "outputs": [],
   "source": [
    "def searchInLinkedList(head, k):\n",
    "    # Start at the head of the linked list\n",
    "    curr = head\n",
    "    \n",
    "    # Traverse the linked list until the end (i.e., until the current node is None)\n",
    "    while curr is not None:\n",
    "        # Check if the data of the current node matches the target value, k\n",
    "        if curr.data == k:\n",
    "            return 1  # Return 1 if the value is found\n",
    "        \n",
    "        # Move to the next node\n",
    "        curr = curr.next\n",
    "    \n",
    "    # Return 0 if the value is not found in the linked list\n",
    "    return 0"
   ]
  },
  {
   "cell_type": "markdown",
   "id": "f2dd5615",
   "metadata": {},
   "source": [
    "# 2D Linked List"
   ]
  },
  {
   "cell_type": "markdown",
   "id": "579f5d19",
   "metadata": {},
   "source": [
    "## Array to Doubly Linked List"
   ]
  },
  {
   "cell_type": "code",
   "execution_count": 9,
   "id": "a2832bb4",
   "metadata": {
    "ExecuteTime": {
     "end_time": "2023-11-18T15:09:43.756359Z",
     "start_time": "2023-11-18T15:09:43.713142Z"
    }
   },
   "outputs": [],
   "source": [
    "class Node:\n",
    "    def __init__(self, data=None, prev=None, next=None):\n",
    "        self.data = data\n",
    "        self.prev = prev\n",
    "        self.next = next\n",
    "\n",
    "def constructDLL(arr: [int]) -> Node:\n",
    "    # Create a dummy head node to simplify handling of the first node\n",
    "    head = Node()\n",
    "    # Initialize current and previous pointers\n",
    "    curr = head\n",
    "    prev = None\n",
    "    \n",
    "    # Iterate through the array\n",
    "    for num in arr:\n",
    "        # Create a new node with the current number\n",
    "        curr.next = Node(num)\n",
    "        # Set the previous pointer of the current node\n",
    "        curr.next.prev = curr\n",
    "        # Move the current pointer to the newly created node\n",
    "        curr = curr.next\n",
    "    \n",
    "    # Return the next of the dummy head, which is the actual head of the doubly linked list\n",
    "    return head.next"
   ]
  },
  {
   "cell_type": "markdown",
   "id": "847ea9a9",
   "metadata": {},
   "source": [
    "## Insert at the end of DLL"
   ]
  },
  {
   "cell_type": "code",
   "execution_count": null,
   "id": "13c27a45",
   "metadata": {},
   "outputs": [],
   "source": [
    "class Node:\n",
    "    def __init__(self, data=None, prev=None, next=None):\n",
    "        self.data = data\n",
    "        self.prev = prev\n",
    "        self.next = next\n",
    "\n",
    "def insertAtTail(head: Node, k: int) -> Node:\n",
    "    # Check if the linked list is empty\n",
    "    if head is None:\n",
    "        return Node(k)  # If empty, create a new node as the head\n",
    "    \n",
    "    # Start at the head of the linked list\n",
    "    curr = head\n",
    "    \n",
    "    # Traverse the linked list until the end (i.e., until the current node's next is None)\n",
    "    while curr.next is not None:\n",
    "        curr = curr.next  # Move to the next node\n",
    "    \n",
    "    # Create a new node with the given value at the end of the linked list\n",
    "    curr.next = Node(k)\n",
    "    curr.next.prev = curr  # Set the previous pointer of the new node\n",
    "    return head  # Return the head of the linked list"
   ]
  }
 ],
 "metadata": {
  "kernelspec": {
   "display_name": "Python 3 (ipykernel)",
   "language": "python",
   "name": "python3"
  },
  "language_info": {
   "codemirror_mode": {
    "name": "ipython",
    "version": 3
   },
   "file_extension": ".py",
   "mimetype": "text/x-python",
   "name": "python",
   "nbconvert_exporter": "python",
   "pygments_lexer": "ipython3",
   "version": "3.10.10"
  },
  "toc": {
   "base_numbering": 1,
   "nav_menu": {},
   "number_sections": true,
   "sideBar": true,
   "skip_h1_title": false,
   "title_cell": "Table of Contents",
   "title_sidebar": "Contents",
   "toc_cell": true,
   "toc_position": {},
   "toc_section_display": true,
   "toc_window_display": false
  }
 },
 "nbformat": 4,
 "nbformat_minor": 5
}
