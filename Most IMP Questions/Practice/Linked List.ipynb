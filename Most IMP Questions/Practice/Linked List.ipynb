{
 "cells": [
  {
   "cell_type": "markdown",
   "id": "4e45f874",
   "metadata": {
    "toc": true
   },
   "source": [
    "<h1>Table of Contents<span class=\"tocSkip\"></span></h1>\n",
    "<div class=\"toc\"><ul class=\"toc-item\"><li><span><a href=\"#Array-to-LinkedList\" data-toc-modified-id=\"Array-to-LinkedList-1\"><span class=\"toc-item-num\">1&nbsp;&nbsp;</span>Array to LinkedList</a></span></li></ul></div>"
   ]
  },
  {
   "cell_type": "code",
   "execution_count": 1,
   "id": "d976651c",
   "metadata": {
    "ExecuteTime": {
     "end_time": "2023-11-18T14:06:02.112291Z",
     "start_time": "2023-11-18T14:06:02.084678Z"
    }
   },
   "outputs": [],
   "source": [
    "class Node:\n",
    "    def __init__(self, val=0, next=None):\n",
    "        self.val = val\n",
    "        self.next = next"
   ]
  },
  {
   "cell_type": "markdown",
   "id": "64c9c16a",
   "metadata": {},
   "source": [
    "## Array to LinkedList"
   ]
  },
  {
   "cell_type": "code",
   "execution_count": 2,
   "id": "f0bd9c42",
   "metadata": {
    "ExecuteTime": {
     "end_time": "2023-11-18T14:06:05.606739Z",
     "start_time": "2023-11-18T14:06:05.588189Z"
    }
   },
   "outputs": [],
   "source": [
    "def constructLL(arr: [int]) -> Node:\n",
    "    # Write your code here\n",
    "    head = Node(0)\n",
    "    curr = head\n",
    "    for i in arr:\n",
    "        curr.next = Node(i)\n",
    "        curr = curr.next\n",
    "    return head.next"
   ]
  },
  {
   "cell_type": "code",
   "execution_count": null,
   "id": "16ef9c86",
   "metadata": {},
   "outputs": [],
   "source": []
  }
 ],
 "metadata": {
  "kernelspec": {
   "display_name": "Python 3 (ipykernel)",
   "language": "python",
   "name": "python3"
  },
  "language_info": {
   "codemirror_mode": {
    "name": "ipython",
    "version": 3
   },
   "file_extension": ".py",
   "mimetype": "text/x-python",
   "name": "python",
   "nbconvert_exporter": "python",
   "pygments_lexer": "ipython3",
   "version": "3.10.10"
  },
  "toc": {
   "base_numbering": 1,
   "nav_menu": {},
   "number_sections": true,
   "sideBar": true,
   "skip_h1_title": false,
   "title_cell": "Table of Contents",
   "title_sidebar": "Contents",
   "toc_cell": true,
   "toc_position": {},
   "toc_section_display": true,
   "toc_window_display": false
  }
 },
 "nbformat": 4,
 "nbformat_minor": 5
}
